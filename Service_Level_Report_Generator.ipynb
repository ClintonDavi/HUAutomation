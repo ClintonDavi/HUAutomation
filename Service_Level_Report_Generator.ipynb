{
 "cells": [
  {
   "cell_type": "code",
   "execution_count": 1,
   "id": "5209c868",
   "metadata": {},
   "outputs": [],
   "source": [
    "import pandas as pd\n",
    "import os\n",
    "import datetime\n",
    "import numpy as np"
   ]
  },
  {
   "cell_type": "code",
   "execution_count": 4,
   "id": "1911a416",
   "metadata": {
    "scrolled": true
   },
   "outputs": [],
   "source": [
    "#MIN MAXES\n",
    "\n",
    "file_A = pd.read_excel(\"C:\\\\Users\\\\David.Wagura\\\\Desktop\\\\Automation Sandbox\\\\MIN MAX\\\\min max as at 26_02_2024.xlsx\")\n",
    "file_B = pd.read_excel(\"C:\\\\Users\\\\David.Wagura\\\\Desktop\\\\Automation Sandbox\\\\MIN MAX\\\\min max as at 04_03_2024.xlsx\")\n",
    "file_C = pd.read_excel(\"C:\\\\Users\\\\David.Wagura\\\\Desktop\\\\Automation Sandbox\\\\MIN MAX\\\\min max as at 11_03_2024.xlsx\")\n",
    "file_D = pd.read_excel(\"C:\\\\Users\\\\David.Wagura\\\\Desktop\\\\Automation Sandbox\\\\MIN MAX\\\\min max as at 18_03_2024.xlsx\")\n"
   ]
  },
  {
   "cell_type": "code",
   "execution_count": 6,
   "id": "d34f581f",
   "metadata": {},
   "outputs": [],
   "source": [
    "#INVETNORY\n",
    "file_X = pd.read_excel(\"C:\\\\Users\\\\David.Wagura\\\\Desktop\\\\David\\\\SKU TOP80 SALES TREND AND REPORTS\\\\Inventory Status By Date\\\\01_03_2024.xlsx\")\n",
    "file_Y = pd.read_excel(\"C:\\\\Users\\\\David.Wagura\\\\Desktop\\\\David\\\\SKU TOP80 SALES TREND AND REPORTS\\\\Inventory Status By Date\\\\08_03_2024.xlsx\")\n",
    "file_Z = pd.read_excel(\"C:\\\\Users\\\\David.Wagura\\\\Desktop\\\\David\\\\SKU TOP80 SALES TREND AND REPORTS\\\\Inventory Status By Date\\\\15_03_2024.xlsx\")\n",
    "file_ZZ =pd.read_excel(\"C:\\\\Users\\\\David.Wagura\\\\Desktop\\\\David\\\\SKU TOP80 SALES TREND AND REPORTS\\\\Inventory Status By Date\\\\22_03_2024.xlsx\")"
   ]
  },
  {
   "cell_type": "code",
   "execution_count": 8,
   "id": "8650dd47",
   "metadata": {},
   "outputs": [],
   "source": [
    "active_item_list= pd.read_excel(\"C:\\\\Users\\\\David.Wagura\\\\Desktop\\\\Automation Sandbox\\\\Active Item List 27_03.xlsx\")"
   ]
  },
  {
   "cell_type": "code",
   "execution_count": 9,
   "id": "c3eab98f",
   "metadata": {},
   "outputs": [],
   "source": [
    "active_item_list['Item No.'] = active_item_list['Item No.'].astype(str)"
   ]
  },
  {
   "cell_type": "code",
   "execution_count": 11,
   "id": "3170c5dd",
   "metadata": {},
   "outputs": [],
   "source": [
    "all_items=pd.read_excel(\"C:\\\\Users\\\\David.Wagura\\\\Desktop\\\\Automation Sandbox\\\\All Item Master Data.xlsx\")"
   ]
  },
  {
   "cell_type": "code",
   "execution_count": 12,
   "id": "1502911e",
   "metadata": {},
   "outputs": [],
   "source": [
    "nw = all_items[['Item No.', 'Item Description', 'Existing Item Code']].copy()"
   ]
  },
  {
   "cell_type": "code",
   "execution_count": 13,
   "id": "35816038",
   "metadata": {},
   "outputs": [],
   "source": [
    "nw['Old Codes']=nw['Existing Item Code'].astype(str).str.split('.', expand=True)[0]\n",
    "nw.drop ('Existing Item Code', inplace=True, axis=1)"
   ]
  },
  {
   "cell_type": "code",
   "execution_count": 14,
   "id": "d4e8d7a3",
   "metadata": {},
   "outputs": [],
   "source": [
    "nw.rename(columns={'Item No.': 'New Item No.', 'Old Codes': 'Item No.'}, inplace=True)"
   ]
  },
  {
   "cell_type": "code",
   "execution_count": 15,
   "id": "62792eb6",
   "metadata": {},
   "outputs": [],
   "source": [
    "nw2=nw[~nw.isin({'Item No.':['nan']})['Item No.']]"
   ]
  },
  {
   "cell_type": "code",
   "execution_count": 16,
   "id": "50cc10f6",
   "metadata": {},
   "outputs": [],
   "source": [
    "olditems_newitems_dict=dict (nw2[['Item No.', 'New Item No.']].values)"
   ]
  },
  {
   "cell_type": "code",
   "execution_count": 17,
   "id": "0f73d423",
   "metadata": {},
   "outputs": [
    {
     "data": {
      "text/plain": [
       "'159000395'"
      ]
     },
     "execution_count": 17,
     "metadata": {},
     "output_type": "execute_result"
    }
   ],
   "source": [
    "olditems_newitems_dict ['11606920003']"
   ]
  },
  {
   "cell_type": "code",
   "execution_count": 19,
   "id": "4f39f4f9",
   "metadata": {},
   "outputs": [],
   "source": [
    "file_A['Item No.'] = file_A ['Item No.'].astype(str)\n",
    "file_B['Item No.'] = file_B['Item No.'].astype(str)\n",
    "file_C['Item No.'] = file_C ['Item No.'].astype(str)"
   ]
  },
  {
   "cell_type": "code",
   "execution_count": 20,
   "id": "79bd5ac6",
   "metadata": {},
   "outputs": [],
   "source": [
    "file_X['Item No.'] = file_X ['Item No.'].astype(str)\n",
    "file_Y['Item No.'] = file_Y['Item No.'].astype(str)\n",
    "file_Z['Item No.'] = file_Z ['Item No.'].astype(str)"
   ]
  },
  {
   "cell_type": "code",
   "execution_count": 21,
   "id": "6a807e42",
   "metadata": {},
   "outputs": [],
   "source": [
    "# file_A['Item No.']= file_A['Item No.'].apply(lambda x: olditems_newitems_dict[x] if x in olditems_newitems_dict else x)\n",
    "# file_B['Item No.']= file_B['Item No.'].apply(lambda x: olditems_newitems_dict[x] if x in olditems_newitems_dict else x)\n",
    "# file_C['Item No.']= file_C['Item No.'].apply(lambda x: olditems_newitems_dict[x] if x in olditems_newitems_dict else x)"
   ]
  },
  {
   "cell_type": "code",
   "execution_count": 22,
   "id": "a496727c",
   "metadata": {},
   "outputs": [],
   "source": [
    "# file_X['Item No.']= file_X['Item No.'].apply(lambda x: olditems_newitems_dict[x] if x in olditems_newitems_dict else x)\n",
    "# file_Y['Item No.']= file_Y['Item No.'].apply(lambda x: olditems_newitems_dict[x] if x in olditems_newitems_dict else x)\n",
    "# file_Z['Item No.']= file_Z['Item No.'].apply(lambda x: olditems_newitems_dict[x] if x in olditems_newitems_dict else x)"
   ]
  },
  {
   "cell_type": "raw",
   "id": "3f5c3a15",
   "metadata": {},
   "source": [
    "Min Max Dates Change To Match Inventory Dates"
   ]
  },
  {
   "cell_type": "code",
   "execution_count": 24,
   "id": "eaa9dbdd",
   "metadata": {},
   "outputs": [],
   "source": [
    "file_A ['Date'] =datetime.date(2024, 3, 1)\n",
    "file_B ['Date'] =datetime.date(2024, 3, 8)\n",
    "file_C ['Date'] =datetime.date(2024, 3, 15)\n",
    "file_D ['Date'] =datetime.date(2024, 3, 22)"
   ]
  },
  {
   "cell_type": "code",
   "execution_count": 25,
   "id": "503bd103",
   "metadata": {},
   "outputs": [],
   "source": [
    "file_X ['Date'] =datetime.date(2024, 3, 1)\n",
    "file_Y ['Date'] =datetime.date(2024, 3, 8)\n",
    "file_Z ['Date'] =datetime.date(2024, 3, 15)\n",
    "file_ZZ ['Date'] =datetime.date(2024, 3,22 )"
   ]
  },
  {
   "cell_type": "code",
   "execution_count": 26,
   "id": "7f9db8d3",
   "metadata": {},
   "outputs": [],
   "source": [
    "min_maxes=pd.concat([file_A, file_B, file_C, file_D])"
   ]
  },
  {
   "cell_type": "code",
   "execution_count": 27,
   "id": "a63ca6a4",
   "metadata": {},
   "outputs": [],
   "source": [
    "inventory= pd.concat([file_X, file_Y, file_Z, file_ZZ])"
   ]
  },
  {
   "cell_type": "code",
   "execution_count": 28,
   "id": "01b3d412",
   "metadata": {},
   "outputs": [],
   "source": [
    "inventory['Item No.']=inventory['Item No.'].astype(str)\n",
    "min_maxes['Item No.']=min_maxes['Item No.'].astype(str)"
   ]
  },
  {
   "cell_type": "code",
   "execution_count": 29,
   "id": "b2633925",
   "metadata": {},
   "outputs": [],
   "source": [
    "inventory.rename(columns={'Warehouse Name': 'Branches'}, inplace=True)"
   ]
  },
  {
   "cell_type": "code",
   "execution_count": 30,
   "id": "48c24b2a",
   "metadata": {},
   "outputs": [],
   "source": [
    "# inventory[inventory['Branches'] =='RETAIL SARIT'].sort_values(by='Date', ascending=False)"
   ]
  },
  {
   "cell_type": "code",
   "execution_count": 31,
   "id": "dda5d1ba",
   "metadata": {
    "scrolled": true
   },
   "outputs": [],
   "source": [
    "# sart=merged[merged['Branches']=='RETAIL SARIT'].sort_values(by='Date', ascending=False)\n"
   ]
  },
  {
   "cell_type": "code",
   "execution_count": 32,
   "id": "f4fe1f74",
   "metadata": {},
   "outputs": [],
   "source": [
    "# merged[merged ['Item No.']=='162000175'].sort_values(by='Date', ascending =False)"
   ]
  },
  {
   "cell_type": "code",
   "execution_count": 33,
   "id": "359a0f7d",
   "metadata": {},
   "outputs": [],
   "source": [
    "merged = pd.merge(left=min_maxes, right = inventory [['Date', 'Item No.', 'Branches', 'Onhand/Availalble Qty']], how='left', on = ['Item No.', 'Branches', 'Date'])"
   ]
  },
  {
   "cell_type": "code",
   "execution_count": 34,
   "id": "287c0ffc",
   "metadata": {},
   "outputs": [],
   "source": [
    "merged[merged['selling_status'] == 'Top 30 Seller'].sort_values(by='Date', ascending =True).to_csv('Verfy.csv', index=False)"
   ]
  },
  {
   "cell_type": "code",
   "execution_count": 35,
   "id": "24a5affc",
   "metadata": {
    "scrolled": true
   },
   "outputs": [],
   "source": [
    "merged ['Item No.Date'] = merged ['Item No.'].astype(str) + merged ['Date'].astype(str)"
   ]
  },
  {
   "cell_type": "code",
   "execution_count": 36,
   "id": "d48469e8",
   "metadata": {},
   "outputs": [],
   "source": [
    "retail_warehouse_inventory=inventory [inventory ['Branches'] == 'RETAIL WAREHOUSE'].copy()"
   ]
  },
  {
   "cell_type": "code",
   "execution_count": 37,
   "id": "46a5c906",
   "metadata": {},
   "outputs": [],
   "source": [
    "retail_warehouse_inventory ['Item No.Date'] = retail_warehouse_inventory ['Item No.'].astype(str) + retail_warehouse_inventory['Date'].astype(str)"
   ]
  },
  {
   "cell_type": "code",
   "execution_count": 38,
   "id": "3efbcc5c",
   "metadata": {},
   "outputs": [],
   "source": [
    "retail_warehouse_inventory.rename(columns = {'Onhand/Availalble Qty': 'Retail Warehouse Stock'}, inplace=True)"
   ]
  },
  {
   "cell_type": "code",
   "execution_count": 39,
   "id": "b381c9b9",
   "metadata": {},
   "outputs": [],
   "source": [
    "merged= pd.merge(left = merged, right = retail_warehouse_inventory [['Item No.Date','Retail Warehouse Stock']], on =['Item No.Date'], how='left')"
   ]
  },
  {
   "cell_type": "code",
   "execution_count": 40,
   "id": "8a39dc9e",
   "metadata": {
    "scrolled": true
   },
   "outputs": [],
   "source": [
    "merged.drop('Item No.Date', axis=1, inplace=True)"
   ]
  },
  {
   "cell_type": "code",
   "execution_count": 41,
   "id": "1fa872df",
   "metadata": {},
   "outputs": [],
   "source": [
    "price_list_retail_price=active_item_list [['Item No.', 'Retail Price Inc VAT']].copy()"
   ]
  },
  {
   "cell_type": "code",
   "execution_count": 42,
   "id": "a7c39658",
   "metadata": {},
   "outputs": [],
   "source": [
    "price_list_retail_price ['Item No.'] = price_list_retail_price ['Item No.'].astype(str)"
   ]
  },
  {
   "cell_type": "code",
   "execution_count": 43,
   "id": "87b91631",
   "metadata": {},
   "outputs": [],
   "source": [
    "merged['Item No.'] = merged ['Item No.'].astype(str)"
   ]
  },
  {
   "cell_type": "code",
   "execution_count": 44,
   "id": "0740e586",
   "metadata": {
    "scrolled": true
   },
   "outputs": [],
   "source": [
    "merged_with_price=pd.merge(left=merged, right = price_list_retail_price, on = ['Item No.'])"
   ]
  },
  {
   "cell_type": "code",
   "execution_count": 45,
   "id": "611251b3",
   "metadata": {},
   "outputs": [],
   "source": [
    "merged_with_price.fillna({'Onhand/Availalble Qty': 0}, inplace=True)"
   ]
  },
  {
   "cell_type": "code",
   "execution_count": 46,
   "id": "4f530d9f",
   "metadata": {},
   "outputs": [],
   "source": [
    "item_brand=active_item_list[['Item No.', 'Brand']].drop_duplicates()"
   ]
  },
  {
   "cell_type": "code",
   "execution_count": 47,
   "id": "26de1445",
   "metadata": {},
   "outputs": [],
   "source": [
    "item_brand_dictionary=dict(item_brand.values)"
   ]
  },
  {
   "cell_type": "code",
   "execution_count": 48,
   "id": "5ec1d4d7",
   "metadata": {},
   "outputs": [],
   "source": [
    "brands=merged_with_price['Item No.'].apply(lambda x: item_brand_dictionary[x])"
   ]
  },
  {
   "cell_type": "code",
   "execution_count": 49,
   "id": "58d26165",
   "metadata": {},
   "outputs": [],
   "source": [
    "merged_with_price.insert(4, 'Brand', brands) "
   ]
  },
  {
   "cell_type": "code",
   "execution_count": 51,
   "id": "dbe3bdd9",
   "metadata": {},
   "outputs": [],
   "source": [
    "merged_with_price.drop(['Main Order/Top Up Mean', 'MAX 1.5 Months'], axis=1,inplace=True)\n",
    "merged_with_price.rename(columns={'Mean': 'MIN'}, inplace=True)\n",
    "merged_with_price.insert(8, 'MAX', merged_with_price.MIN * 1.5)"
   ]
  },
  {
   "cell_type": "code",
   "execution_count": 52,
   "id": "6be2d4eb",
   "metadata": {},
   "outputs": [
    {
     "data": {
      "text/html": [
       "<div>\n",
       "<style scoped>\n",
       "    .dataframe tbody tr th:only-of-type {\n",
       "        vertical-align: middle;\n",
       "    }\n",
       "\n",
       "    .dataframe tbody tr th {\n",
       "        vertical-align: top;\n",
       "    }\n",
       "\n",
       "    .dataframe thead th {\n",
       "        text-align: right;\n",
       "    }\n",
       "</style>\n",
       "<table border=\"1\" class=\"dataframe\">\n",
       "  <thead>\n",
       "    <tr style=\"text-align: right;\">\n",
       "      <th></th>\n",
       "      <th>Item No.</th>\n",
       "      <th>Item Description</th>\n",
       "      <th>Department</th>\n",
       "      <th>Branches</th>\n",
       "      <th>Brand</th>\n",
       "      <th>selling_status</th>\n",
       "      <th>Last Seen</th>\n",
       "      <th>MIN</th>\n",
       "      <th>MAX</th>\n",
       "      <th>Date</th>\n",
       "      <th>Onhand/Availalble Qty</th>\n",
       "      <th>Retail Warehouse Stock</th>\n",
       "      <th>Retail Price Inc VAT</th>\n",
       "    </tr>\n",
       "  </thead>\n",
       "  <tbody>\n",
       "    <tr>\n",
       "      <th>0</th>\n",
       "      <td>153000137</td>\n",
       "      <td>SALAMA WHITE OATS(JMBO/SFST) 1KG</td>\n",
       "      <td>Packed Cereals</td>\n",
       "      <td>MAIN WAREHOUSE</td>\n",
       "      <td>SALAMA</td>\n",
       "      <td>Top 30 Seller</td>\n",
       "      <td>2.0</td>\n",
       "      <td>31356.000</td>\n",
       "      <td>47034.0000</td>\n",
       "      <td>2024-03-01</td>\n",
       "      <td>0.0</td>\n",
       "      <td>NaN</td>\n",
       "      <td>250.0</td>\n",
       "    </tr>\n",
       "    <tr>\n",
       "      <th>1</th>\n",
       "      <td>153000137</td>\n",
       "      <td>SALAMA WHITE OATS(JMBO/SFST) 1KG</td>\n",
       "      <td>Packed Cereals</td>\n",
       "      <td>MAIN WAREHOUSE</td>\n",
       "      <td>SALAMA</td>\n",
       "      <td>Top 30 Seller</td>\n",
       "      <td>1.0</td>\n",
       "      <td>34506.000</td>\n",
       "      <td>51759.0000</td>\n",
       "      <td>2024-03-08</td>\n",
       "      <td>0.0</td>\n",
       "      <td>NaN</td>\n",
       "      <td>250.0</td>\n",
       "    </tr>\n",
       "    <tr>\n",
       "      <th>2</th>\n",
       "      <td>153000137</td>\n",
       "      <td>SALAMA WHITE OATS(JMBO/SFST) 1KG</td>\n",
       "      <td>Packed Cereals</td>\n",
       "      <td>MAIN WAREHOUSE</td>\n",
       "      <td>SALAMA</td>\n",
       "      <td>Top 30 Seller</td>\n",
       "      <td>0.0</td>\n",
       "      <td>37656.000</td>\n",
       "      <td>56484.0000</td>\n",
       "      <td>2024-03-15</td>\n",
       "      <td>0.0</td>\n",
       "      <td>NaN</td>\n",
       "      <td>250.0</td>\n",
       "    </tr>\n",
       "    <tr>\n",
       "      <th>3</th>\n",
       "      <td>153000137</td>\n",
       "      <td>SALAMA WHITE OATS(JMBO/SFST) 1KG</td>\n",
       "      <td>Packed Cereals</td>\n",
       "      <td>MAIN WAREHOUSE</td>\n",
       "      <td>SALAMA</td>\n",
       "      <td>Top 30 Seller</td>\n",
       "      <td>0.0</td>\n",
       "      <td>37656.000</td>\n",
       "      <td>56484.0000</td>\n",
       "      <td>2024-03-22</td>\n",
       "      <td>4500.0</td>\n",
       "      <td>NaN</td>\n",
       "      <td>250.0</td>\n",
       "    </tr>\n",
       "    <tr>\n",
       "      <th>4</th>\n",
       "      <td>164000019</td>\n",
       "      <td>M/HARVEST CORNFLAKES 500G (VPBAG)</td>\n",
       "      <td>M/harvest</td>\n",
       "      <td>MAIN WAREHOUSE</td>\n",
       "      <td>M/HARVEST CEREALS</td>\n",
       "      <td>Top 30 Seller</td>\n",
       "      <td>2.0</td>\n",
       "      <td>15677.875</td>\n",
       "      <td>23516.8125</td>\n",
       "      <td>2024-03-01</td>\n",
       "      <td>17578.0</td>\n",
       "      <td>NaN</td>\n",
       "      <td>399.0</td>\n",
       "    </tr>\n",
       "    <tr>\n",
       "      <th>...</th>\n",
       "      <td>...</td>\n",
       "      <td>...</td>\n",
       "      <td>...</td>\n",
       "      <td>...</td>\n",
       "      <td>...</td>\n",
       "      <td>...</td>\n",
       "      <td>...</td>\n",
       "      <td>...</td>\n",
       "      <td>...</td>\n",
       "      <td>...</td>\n",
       "      <td>...</td>\n",
       "      <td>...</td>\n",
       "      <td>...</td>\n",
       "    </tr>\n",
       "    <tr>\n",
       "      <th>561722</th>\n",
       "      <td>162000104</td>\n",
       "      <td>DOVES GF WHITE BREAD FLOUR BLEND 1KG #GFWB16</td>\n",
       "      <td>Bulk Foods</td>\n",
       "      <td>MAIN WAREHOUSE</td>\n",
       "      <td>DOVES FARM</td>\n",
       "      <td>Bottom Seller</td>\n",
       "      <td>18.0</td>\n",
       "      <td>-8.580</td>\n",
       "      <td>-12.8700</td>\n",
       "      <td>2024-03-22</td>\n",
       "      <td>0.0</td>\n",
       "      <td>NaN</td>\n",
       "      <td>990.0</td>\n",
       "    </tr>\n",
       "    <tr>\n",
       "      <th>561723</th>\n",
       "      <td>140000049</td>\n",
       "      <td>MALTESERS ORANGE CHOCOLATE BUNNY 29G #RT402248</td>\n",
       "      <td>Confectionery</td>\n",
       "      <td>MAIN WAREHOUSE</td>\n",
       "      <td>CONFECTIONERY</td>\n",
       "      <td>Bottom Seller</td>\n",
       "      <td>NaN</td>\n",
       "      <td>-9.000</td>\n",
       "      <td>-13.5000</td>\n",
       "      <td>2024-03-01</td>\n",
       "      <td>0.0</td>\n",
       "      <td>NaN</td>\n",
       "      <td>195.0</td>\n",
       "    </tr>\n",
       "    <tr>\n",
       "      <th>561724</th>\n",
       "      <td>140000049</td>\n",
       "      <td>MALTESERS ORANGE CHOCOLATE BUNNY 29G #RT402248</td>\n",
       "      <td>Confectionery</td>\n",
       "      <td>MAIN WAREHOUSE</td>\n",
       "      <td>CONFECTIONERY</td>\n",
       "      <td>Bottom Seller</td>\n",
       "      <td>NaN</td>\n",
       "      <td>-9.000</td>\n",
       "      <td>-13.5000</td>\n",
       "      <td>2024-03-08</td>\n",
       "      <td>0.0</td>\n",
       "      <td>NaN</td>\n",
       "      <td>195.0</td>\n",
       "    </tr>\n",
       "    <tr>\n",
       "      <th>561725</th>\n",
       "      <td>140000049</td>\n",
       "      <td>MALTESERS ORANGE CHOCOLATE BUNNY 29G #RT402248</td>\n",
       "      <td>Confectionery</td>\n",
       "      <td>MAIN WAREHOUSE</td>\n",
       "      <td>CONFECTIONERY</td>\n",
       "      <td>Bottom Seller</td>\n",
       "      <td>NaN</td>\n",
       "      <td>-9.000</td>\n",
       "      <td>-13.5000</td>\n",
       "      <td>2024-03-15</td>\n",
       "      <td>0.0</td>\n",
       "      <td>NaN</td>\n",
       "      <td>195.0</td>\n",
       "    </tr>\n",
       "    <tr>\n",
       "      <th>561726</th>\n",
       "      <td>140000049</td>\n",
       "      <td>MALTESERS ORANGE CHOCOLATE BUNNY 29G #RT402248</td>\n",
       "      <td>Confectionery</td>\n",
       "      <td>MAIN WAREHOUSE</td>\n",
       "      <td>CONFECTIONERY</td>\n",
       "      <td>Bottom Seller</td>\n",
       "      <td>NaN</td>\n",
       "      <td>-9.000</td>\n",
       "      <td>-13.5000</td>\n",
       "      <td>2024-03-22</td>\n",
       "      <td>0.0</td>\n",
       "      <td>NaN</td>\n",
       "      <td>195.0</td>\n",
       "    </tr>\n",
       "  </tbody>\n",
       "</table>\n",
       "<p>561727 rows × 13 columns</p>\n",
       "</div>"
      ],
      "text/plain": [
       "         Item No.                                Item Description  \\\n",
       "0       153000137                SALAMA WHITE OATS(JMBO/SFST) 1KG   \n",
       "1       153000137                SALAMA WHITE OATS(JMBO/SFST) 1KG   \n",
       "2       153000137                SALAMA WHITE OATS(JMBO/SFST) 1KG   \n",
       "3       153000137                SALAMA WHITE OATS(JMBO/SFST) 1KG   \n",
       "4       164000019               M/HARVEST CORNFLAKES 500G (VPBAG)   \n",
       "...           ...                                             ...   \n",
       "561722  162000104    DOVES GF WHITE BREAD FLOUR BLEND 1KG #GFWB16   \n",
       "561723  140000049  MALTESERS ORANGE CHOCOLATE BUNNY 29G #RT402248   \n",
       "561724  140000049  MALTESERS ORANGE CHOCOLATE BUNNY 29G #RT402248   \n",
       "561725  140000049  MALTESERS ORANGE CHOCOLATE BUNNY 29G #RT402248   \n",
       "561726  140000049  MALTESERS ORANGE CHOCOLATE BUNNY 29G #RT402248   \n",
       "\n",
       "            Department        Branches              Brand selling_status  \\\n",
       "0       Packed Cereals  MAIN WAREHOUSE             SALAMA  Top 30 Seller   \n",
       "1       Packed Cereals  MAIN WAREHOUSE             SALAMA  Top 30 Seller   \n",
       "2       Packed Cereals  MAIN WAREHOUSE             SALAMA  Top 30 Seller   \n",
       "3       Packed Cereals  MAIN WAREHOUSE             SALAMA  Top 30 Seller   \n",
       "4            M/harvest  MAIN WAREHOUSE  M/HARVEST CEREALS  Top 30 Seller   \n",
       "...                ...             ...                ...            ...   \n",
       "561722      Bulk Foods  MAIN WAREHOUSE         DOVES FARM  Bottom Seller   \n",
       "561723   Confectionery  MAIN WAREHOUSE      CONFECTIONERY  Bottom Seller   \n",
       "561724   Confectionery  MAIN WAREHOUSE      CONFECTIONERY  Bottom Seller   \n",
       "561725   Confectionery  MAIN WAREHOUSE      CONFECTIONERY  Bottom Seller   \n",
       "561726   Confectionery  MAIN WAREHOUSE      CONFECTIONERY  Bottom Seller   \n",
       "\n",
       "        Last Seen        MIN         MAX        Date  Onhand/Availalble Qty  \\\n",
       "0             2.0  31356.000  47034.0000  2024-03-01                    0.0   \n",
       "1             1.0  34506.000  51759.0000  2024-03-08                    0.0   \n",
       "2             0.0  37656.000  56484.0000  2024-03-15                    0.0   \n",
       "3             0.0  37656.000  56484.0000  2024-03-22                 4500.0   \n",
       "4             2.0  15677.875  23516.8125  2024-03-01                17578.0   \n",
       "...           ...        ...         ...         ...                    ...   \n",
       "561722       18.0     -8.580    -12.8700  2024-03-22                    0.0   \n",
       "561723        NaN     -9.000    -13.5000  2024-03-01                    0.0   \n",
       "561724        NaN     -9.000    -13.5000  2024-03-08                    0.0   \n",
       "561725        NaN     -9.000    -13.5000  2024-03-15                    0.0   \n",
       "561726        NaN     -9.000    -13.5000  2024-03-22                    0.0   \n",
       "\n",
       "        Retail Warehouse Stock  Retail Price Inc VAT  \n",
       "0                          NaN                 250.0  \n",
       "1                          NaN                 250.0  \n",
       "2                          NaN                 250.0  \n",
       "3                          NaN                 250.0  \n",
       "4                          NaN                 399.0  \n",
       "...                        ...                   ...  \n",
       "561722                     NaN                 990.0  \n",
       "561723                     NaN                 195.0  \n",
       "561724                     NaN                 195.0  \n",
       "561725                     NaN                 195.0  \n",
       "561726                     NaN                 195.0  \n",
       "\n",
       "[561727 rows x 13 columns]"
      ]
     },
     "execution_count": 52,
     "metadata": {},
     "output_type": "execute_result"
    }
   ],
   "source": [
    "merged_with_price"
   ]
  },
  {
   "cell_type": "code",
   "execution_count": 53,
   "id": "01b4b6e7",
   "metadata": {},
   "outputs": [],
   "source": [
    "def stock_status(x):\n",
    "    if x['Onhand/Availalble Qty']>x['MAX']:\n",
    "        return 'Overstock'\n",
    "    elif x['Onhand/Availalble Qty']<x['MIN']:\n",
    "        return 'Understock'\n",
    "    elif x['Onhand/Availalble Qty'] >=x['MIN'] and x['Onhand/Availalble Qty']<=x['MAX']:\n",
    "        return 'Well Stocked'\n",
    "    else:\n",
    "        return 'No Status'"
   ]
  },
  {
   "cell_type": "code",
   "execution_count": 54,
   "id": "e95c80db",
   "metadata": {},
   "outputs": [],
   "source": [
    "stock_status_column=merged_with_price.apply(stock_status, axis=1)"
   ]
  },
  {
   "cell_type": "code",
   "execution_count": 55,
   "id": "de3f6d7b",
   "metadata": {},
   "outputs": [],
   "source": [
    "merged_with_price ['Stock_Status']=stock_status_column"
   ]
  },
  {
   "cell_type": "code",
   "execution_count": 56,
   "id": "cb1f88dc",
   "metadata": {},
   "outputs": [],
   "source": [
    "final_table=merged_with_price [merged_with_price ['MIN']>0].copy()"
   ]
  },
  {
   "cell_type": "code",
   "execution_count": 57,
   "id": "a786b96f",
   "metadata": {},
   "outputs": [],
   "source": [
    "# brr[brr ['Item No.'] == '13506060009'] [brr[brr ['Item No.'] == '13506060009'] ['Date'] == datetime.date(2023, 12, 1)]"
   ]
  },
  {
   "cell_type": "code",
   "execution_count": 58,
   "id": "51f274f3",
   "metadata": {},
   "outputs": [
    {
     "data": {
      "text/plain": [
       "array([], dtype=object)"
      ]
     },
     "execution_count": 58,
     "metadata": {},
     "output_type": "execute_result"
    }
   ],
   "source": [
    "final_table[final_table['Item No.']=='13506060009'].Date.unique()"
   ]
  },
  {
   "cell_type": "code",
   "execution_count": 59,
   "id": "ba2f3904",
   "metadata": {},
   "outputs": [],
   "source": [
    "final_table=final_table [~final_table.isin({'Department': ['Services', 'Samples']})['Department']]"
   ]
  },
  {
   "cell_type": "code",
   "execution_count": 60,
   "id": "6a0b9baf",
   "metadata": {},
   "outputs": [],
   "source": [
    "final_table=final_table [~final_table.isin({'Branches': ['RETAIL ELDORET HIGHLANDS']})['Branches']]"
   ]
  },
  {
   "cell_type": "code",
   "execution_count": 61,
   "id": "57e24133",
   "metadata": {},
   "outputs": [],
   "source": [
    "final_table['Retail/Main'] = final_table.Branches.apply(lambda x: 'RETAIL' if 'RETAIL' in x else 'MAIN')"
   ]
  },
  {
   "cell_type": "code",
   "execution_count": 62,
   "id": "580bc050",
   "metadata": {},
   "outputs": [],
   "source": [
    "temp_col = final_table ['Retail Warehouse Stock']"
   ]
  },
  {
   "cell_type": "code",
   "execution_count": 63,
   "id": "41eff9b5",
   "metadata": {},
   "outputs": [],
   "source": [
    "final_table.drop('Retail Warehouse Stock', axis=1, inplace=True)"
   ]
  },
  {
   "cell_type": "code",
   "execution_count": 64,
   "id": "04ac21a7",
   "metadata": {},
   "outputs": [],
   "source": [
    "final_table ['Retail Warehouse Stock'] = temp_col"
   ]
  },
  {
   "cell_type": "code",
   "execution_count": 65,
   "id": "39db1565",
   "metadata": {},
   "outputs": [],
   "source": [
    "final_table.fillna({'Retail Warehouse Stock': 0}, inplace=True)"
   ]
  },
  {
   "cell_type": "code",
   "execution_count": 66,
   "id": "423c8836",
   "metadata": {},
   "outputs": [
    {
     "data": {
      "text/plain": [
       "array(['MAIN WAREHOUSE', 'RETAIL LIKONI', 'RETAIL NANYUKI',\n",
       "       'RETAIL GARDEN CITY', 'RETAIL IMAARA MALL', 'RETAIL MAIYAN MALL',\n",
       "       'RETAIL THE HUB', 'RETAIL SARIT', 'RETAIL EASTLEIGH BRANCH',\n",
       "       'RETAIL CAPITAL CENTRE', 'RETAIL HILTON', 'RETAIL NYALI',\n",
       "       'RETAIL YAYA', 'RETAIL THIKA ROAD MALL', 'RETAIL NAKURU',\n",
       "       'RETAIL REHANI', 'RETAIL JUNCTION', 'RETAIL VILLAGE MARKET',\n",
       "       'RETAIL LAVINGTON', 'RETAIL NYALI CENTRE', 'RETAIL WESTGATE',\n",
       "       'RETAIL TWO RIVERS', 'RETAIL GALLERIA', 'RETAIL KISUMU',\n",
       "       'RETAIL RIVERSIDE SQUARE', 'RETAIL ELDORET', 'RETAIL KISUMU MEGA',\n",
       "       'RETAIL WESTLANDS SQUARE', 'RETAIL THE PLACE 67',\n",
       "       'RETAIL RHAPTA ROAD', 'RETAIL ABC', 'RETAIL NAIVASHA',\n",
       "       'RETAIL T-MALL', 'CARREFOUR MEGA (EXPRESS)'], dtype=object)"
      ]
     },
     "execution_count": 66,
     "metadata": {},
     "output_type": "execute_result"
    }
   ],
   "source": [
    "final_table ['Branches'].unique()"
   ]
  },
  {
   "cell_type": "markdown",
   "id": "d169f334",
   "metadata": {},
   "source": [
    "### PLUGGING IN GIT"
   ]
  },
  {
   "cell_type": "code",
   "execution_count": 67,
   "id": "95b7fbd5",
   "metadata": {
    "scrolled": true
   },
   "outputs": [],
   "source": [
    "GIT=pd.read_excel(\"Z:\\\\Demand 2024\\\\GIT\\\\CombinedGIT2024.xlsx\")"
   ]
  },
  {
   "cell_type": "code",
   "execution_count": 68,
   "id": "ba8a62e5",
   "metadata": {},
   "outputs": [
    {
     "data": {
      "text/plain": [
       "array(['CPL 24-01', 'Euro 9-10', 'BOBS RED MILL', 'LA TOILETERIES 23.02',\n",
       "       'UK SEA HW TOLILETERIES', 'NYC SEA 23.06', 'NYC SEA 24.01'],\n",
       "      dtype=object)"
      ]
     },
     "execution_count": 68,
     "metadata": {},
     "output_type": "execute_result"
    }
   ],
   "source": [
    "GIT ['Shipment Name'].unique()"
   ]
  },
  {
   "cell_type": "code",
   "execution_count": 69,
   "id": "d9ee8243",
   "metadata": {},
   "outputs": [],
   "source": [
    "GIT['Item No.']=GIT['Item No.'].fillna(0).astype(int).astype(str)"
   ]
  },
  {
   "cell_type": "code",
   "execution_count": 70,
   "id": "3fdd3d85",
   "metadata": {},
   "outputs": [],
   "source": [
    "GIT ['Report_Date'] = datetime.date(2024, 3, 22)"
   ]
  },
  {
   "cell_type": "code",
   "execution_count": 72,
   "id": "1eba26d7",
   "metadata": {},
   "outputs": [],
   "source": [
    "GIT['Unique_Identifier'] = GIT ['Item No.'].astype(str)+GIT['Report_Date'].astype(str)"
   ]
  },
  {
   "cell_type": "code",
   "execution_count": 73,
   "id": "db2e2a9f",
   "metadata": {},
   "outputs": [],
   "source": [
    "final_table['Unique_Identifier'] = final_table ['Item No.'].astype(str)+ final_table ['Date'].astype(str)"
   ]
  },
  {
   "cell_type": "code",
   "execution_count": 74,
   "id": "99dfdb24",
   "metadata": {},
   "outputs": [],
   "source": [
    "brr=pd.merge(left = final_table, right = GIT[[ 'Quantity', 'Unique_Identifier']] , how='left', on = 'Unique_Identifier')"
   ]
  },
  {
   "cell_type": "code",
   "execution_count": 76,
   "id": "8cd960f2",
   "metadata": {},
   "outputs": [],
   "source": [
    "brr.fillna({'Quantity': 0}, inplace=True)"
   ]
  },
  {
   "cell_type": "code",
   "execution_count": 77,
   "id": "911fec18",
   "metadata": {},
   "outputs": [],
   "source": [
    "brr.rename({'Quantity': 'GIT'}, axis=1, inplace=True)"
   ]
  },
  {
   "cell_type": "code",
   "execution_count": 78,
   "id": "fe88300f",
   "metadata": {},
   "outputs": [],
   "source": [
    "brr['GIT'] = brr.apply(lambda x: x['MIN']-x['Onhand/Availalble Qty'] if x.GIT>0 else x.GIT, axis=1)"
   ]
  },
  {
   "cell_type": "code",
   "execution_count": 79,
   "id": "a1f22386",
   "metadata": {},
   "outputs": [],
   "source": [
    "brr['GIT'] = brr['GIT'].apply(lambda x: 0 if x <0 else x)"
   ]
  },
  {
   "cell_type": "code",
   "execution_count": 80,
   "id": "b4585978",
   "metadata": {},
   "outputs": [],
   "source": [
    "brr['Onhand_With_GIT'] = brr['Onhand/Availalble Qty'] + brr['GIT']"
   ]
  },
  {
   "cell_type": "code",
   "execution_count": 81,
   "id": "59450879",
   "metadata": {},
   "outputs": [],
   "source": [
    "def GIT_stock_status(x):\n",
    "    if x['Onhand_With_GIT']>x['MAX']:\n",
    "        return 'Overstock'\n",
    "    elif x['Onhand_With_GIT']<x['MIN']:\n",
    "        return 'Understock'\n",
    "    elif x['Onhand_With_GIT'] >=x['MIN'] and x['Onhand_With_GIT']<=x['MAX']:\n",
    "        return 'Well Stocked'\n",
    "    else:\n",
    "        return 'No Status'"
   ]
  },
  {
   "cell_type": "code",
   "execution_count": 82,
   "id": "0af6a45f",
   "metadata": {},
   "outputs": [],
   "source": [
    "brr['Stock_Status_With_GIT'] = brr.apply(GIT_stock_status, axis=1)"
   ]
  },
  {
   "cell_type": "code",
   "execution_count": 83,
   "id": "55714b26",
   "metadata": {},
   "outputs": [],
   "source": [
    "# brr.to_excel('ServiceLevelRaw_255_09_2023.xlsx', index=False)"
   ]
  },
  {
   "cell_type": "code",
   "execution_count": 84,
   "id": "6b9df216",
   "metadata": {},
   "outputs": [],
   "source": [
    "# brr"
   ]
  },
  {
   "cell_type": "code",
   "execution_count": 85,
   "id": "a28cc7d7",
   "metadata": {},
   "outputs": [],
   "source": [
    "# final_table.to_csv('ServiceLevelRaw_255_09_2023.csv', index=False)"
   ]
  },
  {
   "cell_type": "raw",
   "id": "fbc6914d",
   "metadata": {},
   "source": [
    "https://developers.google.com/sheets/api/quickstart/python"
   ]
  },
  {
   "cell_type": "markdown",
   "id": "57314eaa",
   "metadata": {},
   "source": [
    "## UPLOADING TO GSHEETS -- USING SERVICE ACCOUNT"
   ]
  },
  {
   "cell_type": "raw",
   "id": "7ba4b002",
   "metadata": {},
   "source": [
    "https://stackoverflow.com/questions/66123436/update-specific-tab-on-google-sheet-python"
   ]
  },
  {
   "cell_type": "code",
   "execution_count": 96,
   "id": "930dff58",
   "metadata": {},
   "outputs": [],
   "source": [
    "import gspread\n",
    "from oauth2client.service_account import ServiceAccountCredentials\n",
    "import pandas as pd\n",
    "from gspread_dataframe import get_as_dataframe, set_with_dataframe"
   ]
  },
  {
   "cell_type": "code",
   "execution_count": 97,
   "id": "85768951",
   "metadata": {},
   "outputs": [],
   "source": [
    "scope = [\"https://spreadsheets.google.com/feeds\", \"https://www.googleapis.com/auth/drive\",'https://www.googleapis.com/auth/spreadsheets']\n",
    "creds = ServiceAccountCredentials.from_json_keyfile_name('hu-cloud-data-storage-e81319c069ef.json', scope)\n",
    "client = gspread.authorize(creds)"
   ]
  },
  {
   "cell_type": "code",
   "execution_count": 98,
   "id": "90e78146",
   "metadata": {},
   "outputs": [],
   "source": [
    "zonal_leaders_copy=\"1qYSEBNhc31dISA_4sFoGCt9x2clRAPHRi9jO04XRIOY\"\n",
    "\n",
    "report_key = \"1onK4y0-zUoDCHa_fR8QxBtdZr9VxJK4sZFh061ZrTl4\"\n",
    "\n"
   ]
  },
  {
   "cell_type": "code",
   "execution_count": 99,
   "id": "1c584d84",
   "metadata": {},
   "outputs": [],
   "source": [
    "spreadsheet = client.open_by_key(report_key)\n",
    "worksheet = spreadsheet.get_worksheet(0)\n",
    "# sheet_name = 'Service Level Report 25_09_2023 [WIP]'"
   ]
  },
  {
   "cell_type": "code",
   "execution_count": 101,
   "id": "43be2df7",
   "metadata": {},
   "outputs": [
    {
     "data": {
      "text/plain": [
       "{'spreadsheetId': '1onK4y0-zUoDCHa_fR8QxBtdZr9VxJK4sZFh061ZrTl4',\n",
       " 'clearedRanges': ['Raw!A2:R477889']}"
      ]
     },
     "execution_count": 101,
     "metadata": {},
     "output_type": "execute_result"
    }
   ],
   "source": [
    "worksheet.batch_clear(['A2:R'])"
   ]
  },
  {
   "cell_type": "code",
   "execution_count": 102,
   "id": "a4cefd1d",
   "metadata": {},
   "outputs": [],
   "source": [
    "# worksheet.update(range_name='A2:05', values=final_table[:5].to_json())"
   ]
  },
  {
   "cell_type": "code",
   "execution_count": 103,
   "id": "5caaa4e2",
   "metadata": {},
   "outputs": [],
   "source": [
    "shikilia = brr ['Stock_Status_With_GIT']"
   ]
  },
  {
   "cell_type": "code",
   "execution_count": 104,
   "id": "5688613e",
   "metadata": {},
   "outputs": [],
   "source": [
    "brr.drop(['Unique_Identifier','GIT','Onhand_With_GIT', 'Stock_Status_With_GIT'], axis=1, inplace=True)"
   ]
  },
  {
   "cell_type": "code",
   "execution_count": 105,
   "id": "6e597022",
   "metadata": {},
   "outputs": [],
   "source": [
    "# final_table\n",
    "\n",
    "mask_final_table = brr.groupby(['Item No.', 'Date']).cumcount() == 0\n",
    "\n",
    "brr['Qty Per Status'] = brr['Retail Warehouse Stock'].where(mask_final_table)"
   ]
  },
  {
   "cell_type": "code",
   "execution_count": 106,
   "id": "4710aca4",
   "metadata": {},
   "outputs": [],
   "source": [
    "brr ['Stock_Status_With_GIT'] = shikilia.copy()"
   ]
  },
  {
   "cell_type": "code",
   "execution_count": 107,
   "id": "5d1ffb0b",
   "metadata": {},
   "outputs": [],
   "source": [
    "brr['MinSales'] = brr['MIN']* brr['Retail Price Inc VAT'] "
   ]
  },
  {
   "cell_type": "code",
   "execution_count": 108,
   "id": "1331b4ff",
   "metadata": {},
   "outputs": [
    {
     "data": {
      "text/html": [
       "<div>\n",
       "<style scoped>\n",
       "    .dataframe tbody tr th:only-of-type {\n",
       "        vertical-align: middle;\n",
       "    }\n",
       "\n",
       "    .dataframe tbody tr th {\n",
       "        vertical-align: top;\n",
       "    }\n",
       "\n",
       "    .dataframe thead th {\n",
       "        text-align: right;\n",
       "    }\n",
       "</style>\n",
       "<table border=\"1\" class=\"dataframe\">\n",
       "  <thead>\n",
       "    <tr style=\"text-align: right;\">\n",
       "      <th></th>\n",
       "      <th>Item No.</th>\n",
       "      <th>Item Description</th>\n",
       "      <th>Department</th>\n",
       "      <th>Branches</th>\n",
       "      <th>Brand</th>\n",
       "      <th>selling_status</th>\n",
       "      <th>Last Seen</th>\n",
       "      <th>MIN</th>\n",
       "      <th>MAX</th>\n",
       "      <th>Date</th>\n",
       "      <th>Onhand/Availalble Qty</th>\n",
       "      <th>Retail Price Inc VAT</th>\n",
       "      <th>Stock_Status</th>\n",
       "      <th>Retail/Main</th>\n",
       "      <th>Retail Warehouse Stock</th>\n",
       "      <th>Qty Per Status</th>\n",
       "      <th>Stock_Status_With_GIT</th>\n",
       "      <th>MinSales</th>\n",
       "    </tr>\n",
       "  </thead>\n",
       "  <tbody>\n",
       "    <tr>\n",
       "      <th>1351</th>\n",
       "      <td>144000164</td>\n",
       "      <td>VERONI ACTIVE ISOTONIC ORANGE DRINK 700ML#ZBYE16</td>\n",
       "      <td>Drinks &amp; Beverages</td>\n",
       "      <td>MAIN WAREHOUSE</td>\n",
       "      <td>VERONI</td>\n",
       "      <td>Top 31-60 Seller</td>\n",
       "      <td>0.0</td>\n",
       "      <td>2287.0000</td>\n",
       "      <td>3430.50000</td>\n",
       "      <td>2024-03-22</td>\n",
       "      <td>1132.0</td>\n",
       "      <td>279.0</td>\n",
       "      <td>Understock</td>\n",
       "      <td>MAIN</td>\n",
       "      <td>36.0</td>\n",
       "      <td>36.0</td>\n",
       "      <td>Well Stocked</td>\n",
       "      <td>638073.0000</td>\n",
       "    </tr>\n",
       "    <tr>\n",
       "      <th>1359</th>\n",
       "      <td>144000164</td>\n",
       "      <td>VERONI ACTIVE ISOTONIC ORANGE DRINK 700ML#ZBYE16</td>\n",
       "      <td>Drinks &amp; Beverages</td>\n",
       "      <td>RETAIL NYALI CENTRE</td>\n",
       "      <td>VERONI</td>\n",
       "      <td>Top 61-80 Seller</td>\n",
       "      <td>0.0</td>\n",
       "      <td>4.4000</td>\n",
       "      <td>6.60000</td>\n",
       "      <td>2024-03-22</td>\n",
       "      <td>2.0</td>\n",
       "      <td>279.0</td>\n",
       "      <td>Understock</td>\n",
       "      <td>RETAIL</td>\n",
       "      <td>36.0</td>\n",
       "      <td>NaN</td>\n",
       "      <td>Well Stocked</td>\n",
       "      <td>1227.6000</td>\n",
       "    </tr>\n",
       "    <tr>\n",
       "      <th>1361</th>\n",
       "      <td>144000164</td>\n",
       "      <td>VERONI ACTIVE ISOTONIC ORANGE DRINK 700ML#ZBYE16</td>\n",
       "      <td>Drinks &amp; Beverages</td>\n",
       "      <td>RETAIL IMAARA MALL</td>\n",
       "      <td>VERONI</td>\n",
       "      <td>Bottom Seller</td>\n",
       "      <td>0.0</td>\n",
       "      <td>3.6000</td>\n",
       "      <td>5.40000</td>\n",
       "      <td>2024-03-22</td>\n",
       "      <td>2.0</td>\n",
       "      <td>279.0</td>\n",
       "      <td>Understock</td>\n",
       "      <td>RETAIL</td>\n",
       "      <td>36.0</td>\n",
       "      <td>NaN</td>\n",
       "      <td>Well Stocked</td>\n",
       "      <td>1004.4000</td>\n",
       "    </tr>\n",
       "    <tr>\n",
       "      <th>1381</th>\n",
       "      <td>144000164</td>\n",
       "      <td>VERONI ACTIVE ISOTONIC ORANGE DRINK 700ML#ZBYE16</td>\n",
       "      <td>Drinks &amp; Beverages</td>\n",
       "      <td>RETAIL NANYUKI</td>\n",
       "      <td>VERONI</td>\n",
       "      <td>Bottom Seller</td>\n",
       "      <td>1.0</td>\n",
       "      <td>0.1875</td>\n",
       "      <td>0.28125</td>\n",
       "      <td>2024-03-22</td>\n",
       "      <td>0.0</td>\n",
       "      <td>279.0</td>\n",
       "      <td>Understock</td>\n",
       "      <td>RETAIL</td>\n",
       "      <td>36.0</td>\n",
       "      <td>NaN</td>\n",
       "      <td>Well Stocked</td>\n",
       "      <td>52.3125</td>\n",
       "    </tr>\n",
       "    <tr>\n",
       "      <th>1754</th>\n",
       "      <td>144000162</td>\n",
       "      <td>VERONI ACTIVE ISOTONIC LEMON DRINK 700ML#ZBYE15</td>\n",
       "      <td>Drinks &amp; Beverages</td>\n",
       "      <td>RETAIL NYALI CENTRE</td>\n",
       "      <td>VERONI</td>\n",
       "      <td>Bottom Seller</td>\n",
       "      <td>0.0</td>\n",
       "      <td>4.4000</td>\n",
       "      <td>6.60000</td>\n",
       "      <td>2024-03-22</td>\n",
       "      <td>3.0</td>\n",
       "      <td>279.0</td>\n",
       "      <td>Understock</td>\n",
       "      <td>RETAIL</td>\n",
       "      <td>97.0</td>\n",
       "      <td>NaN</td>\n",
       "      <td>Well Stocked</td>\n",
       "      <td>1227.6000</td>\n",
       "    </tr>\n",
       "    <tr>\n",
       "      <th>...</th>\n",
       "      <td>...</td>\n",
       "      <td>...</td>\n",
       "      <td>...</td>\n",
       "      <td>...</td>\n",
       "      <td>...</td>\n",
       "      <td>...</td>\n",
       "      <td>...</td>\n",
       "      <td>...</td>\n",
       "      <td>...</td>\n",
       "      <td>...</td>\n",
       "      <td>...</td>\n",
       "      <td>...</td>\n",
       "      <td>...</td>\n",
       "      <td>...</td>\n",
       "      <td>...</td>\n",
       "      <td>...</td>\n",
       "      <td>...</td>\n",
       "      <td>...</td>\n",
       "    </tr>\n",
       "    <tr>\n",
       "      <th>466254</th>\n",
       "      <td>151001523</td>\n",
       "      <td>SOMERSET CASHMEE MUSK NOIR SOAP BAR 150G #5130...</td>\n",
       "      <td>Natural Cosmetics</td>\n",
       "      <td>RETAIL SARIT</td>\n",
       "      <td>SOMERSET</td>\n",
       "      <td>Bottom Seller</td>\n",
       "      <td>24.0</td>\n",
       "      <td>0.0150</td>\n",
       "      <td>0.02250</td>\n",
       "      <td>2024-03-22</td>\n",
       "      <td>0.0</td>\n",
       "      <td>899.0</td>\n",
       "      <td>Understock</td>\n",
       "      <td>RETAIL</td>\n",
       "      <td>0.0</td>\n",
       "      <td>NaN</td>\n",
       "      <td>Well Stocked</td>\n",
       "      <td>13.4850</td>\n",
       "    </tr>\n",
       "    <tr>\n",
       "      <th>466255</th>\n",
       "      <td>151001523</td>\n",
       "      <td>SOMERSET CASHMEE MUSK NOIR SOAP BAR 150G #5130...</td>\n",
       "      <td>Natural Cosmetics</td>\n",
       "      <td>RETAIL YAYA</td>\n",
       "      <td>SOMERSET</td>\n",
       "      <td>Bottom Seller</td>\n",
       "      <td>25.0</td>\n",
       "      <td>0.0050</td>\n",
       "      <td>0.00750</td>\n",
       "      <td>2024-03-22</td>\n",
       "      <td>0.0</td>\n",
       "      <td>899.0</td>\n",
       "      <td>Understock</td>\n",
       "      <td>RETAIL</td>\n",
       "      <td>0.0</td>\n",
       "      <td>NaN</td>\n",
       "      <td>Well Stocked</td>\n",
       "      <td>4.4950</td>\n",
       "    </tr>\n",
       "    <tr>\n",
       "      <th>466439</th>\n",
       "      <td>152000034</td>\n",
       "      <td>ECOVER WASH UP LIQUID ZERO SENSITIVE 1LTR#4004319</td>\n",
       "      <td>Natural Detergents</td>\n",
       "      <td>RETAIL YAYA</td>\n",
       "      <td>ECOVER</td>\n",
       "      <td>Bottom Seller</td>\n",
       "      <td>22.0</td>\n",
       "      <td>0.0075</td>\n",
       "      <td>0.01125</td>\n",
       "      <td>2024-03-22</td>\n",
       "      <td>0.0</td>\n",
       "      <td>799.0</td>\n",
       "      <td>Understock</td>\n",
       "      <td>RETAIL</td>\n",
       "      <td>0.0</td>\n",
       "      <td>0.0</td>\n",
       "      <td>Well Stocked</td>\n",
       "      <td>5.9925</td>\n",
       "    </tr>\n",
       "    <tr>\n",
       "      <th>466507</th>\n",
       "      <td>137000683</td>\n",
       "      <td>UN ANIMAL WHEY ISOLATE LOADED CHOCOLATE (4LBS)...</td>\n",
       "      <td>Body Building</td>\n",
       "      <td>RETAIL WESTGATE</td>\n",
       "      <td>UNIVERSAL NUTRITION</td>\n",
       "      <td>Top 61-80 Seller</td>\n",
       "      <td>23.0</td>\n",
       "      <td>0.0050</td>\n",
       "      <td>0.00750</td>\n",
       "      <td>2024-03-22</td>\n",
       "      <td>0.0</td>\n",
       "      <td>9999.0</td>\n",
       "      <td>Understock</td>\n",
       "      <td>RETAIL</td>\n",
       "      <td>0.0</td>\n",
       "      <td>0.0</td>\n",
       "      <td>Well Stocked</td>\n",
       "      <td>49.9950</td>\n",
       "    </tr>\n",
       "    <tr>\n",
       "      <th>466551</th>\n",
       "      <td>151000315</td>\n",
       "      <td>D/E COCONUT SHINE/REFINE HAIR LOTION 190ML 378...</td>\n",
       "      <td>Natural Cosmetics</td>\n",
       "      <td>RETAIL SARIT</td>\n",
       "      <td>DESSERT ESSENCE</td>\n",
       "      <td>Bottom Seller</td>\n",
       "      <td>26.0</td>\n",
       "      <td>0.0050</td>\n",
       "      <td>0.00750</td>\n",
       "      <td>2024-03-22</td>\n",
       "      <td>0.0</td>\n",
       "      <td>1499.0</td>\n",
       "      <td>Understock</td>\n",
       "      <td>RETAIL</td>\n",
       "      <td>0.0</td>\n",
       "      <td>0.0</td>\n",
       "      <td>Well Stocked</td>\n",
       "      <td>7.4950</td>\n",
       "    </tr>\n",
       "  </tbody>\n",
       "</table>\n",
       "<p>20097 rows × 18 columns</p>\n",
       "</div>"
      ],
      "text/plain": [
       "         Item No.                                   Item Description  \\\n",
       "1351    144000164   VERONI ACTIVE ISOTONIC ORANGE DRINK 700ML#ZBYE16   \n",
       "1359    144000164   VERONI ACTIVE ISOTONIC ORANGE DRINK 700ML#ZBYE16   \n",
       "1361    144000164   VERONI ACTIVE ISOTONIC ORANGE DRINK 700ML#ZBYE16   \n",
       "1381    144000164   VERONI ACTIVE ISOTONIC ORANGE DRINK 700ML#ZBYE16   \n",
       "1754    144000162    VERONI ACTIVE ISOTONIC LEMON DRINK 700ML#ZBYE15   \n",
       "...           ...                                                ...   \n",
       "466254  151001523  SOMERSET CASHMEE MUSK NOIR SOAP BAR 150G #5130...   \n",
       "466255  151001523  SOMERSET CASHMEE MUSK NOIR SOAP BAR 150G #5130...   \n",
       "466439  152000034  ECOVER WASH UP LIQUID ZERO SENSITIVE 1LTR#4004319   \n",
       "466507  137000683  UN ANIMAL WHEY ISOLATE LOADED CHOCOLATE (4LBS)...   \n",
       "466551  151000315  D/E COCONUT SHINE/REFINE HAIR LOTION 190ML 378...   \n",
       "\n",
       "                Department             Branches                Brand  \\\n",
       "1351    Drinks & Beverages       MAIN WAREHOUSE               VERONI   \n",
       "1359    Drinks & Beverages  RETAIL NYALI CENTRE               VERONI   \n",
       "1361    Drinks & Beverages   RETAIL IMAARA MALL               VERONI   \n",
       "1381    Drinks & Beverages       RETAIL NANYUKI               VERONI   \n",
       "1754    Drinks & Beverages  RETAIL NYALI CENTRE               VERONI   \n",
       "...                    ...                  ...                  ...   \n",
       "466254   Natural Cosmetics         RETAIL SARIT             SOMERSET   \n",
       "466255   Natural Cosmetics          RETAIL YAYA             SOMERSET   \n",
       "466439  Natural Detergents          RETAIL YAYA               ECOVER   \n",
       "466507       Body Building      RETAIL WESTGATE  UNIVERSAL NUTRITION   \n",
       "466551   Natural Cosmetics         RETAIL SARIT      DESSERT ESSENCE   \n",
       "\n",
       "          selling_status  Last Seen        MIN         MAX        Date  \\\n",
       "1351    Top 31-60 Seller        0.0  2287.0000  3430.50000  2024-03-22   \n",
       "1359    Top 61-80 Seller        0.0     4.4000     6.60000  2024-03-22   \n",
       "1361       Bottom Seller        0.0     3.6000     5.40000  2024-03-22   \n",
       "1381       Bottom Seller        1.0     0.1875     0.28125  2024-03-22   \n",
       "1754       Bottom Seller        0.0     4.4000     6.60000  2024-03-22   \n",
       "...                  ...        ...        ...         ...         ...   \n",
       "466254     Bottom Seller       24.0     0.0150     0.02250  2024-03-22   \n",
       "466255     Bottom Seller       25.0     0.0050     0.00750  2024-03-22   \n",
       "466439     Bottom Seller       22.0     0.0075     0.01125  2024-03-22   \n",
       "466507  Top 61-80 Seller       23.0     0.0050     0.00750  2024-03-22   \n",
       "466551     Bottom Seller       26.0     0.0050     0.00750  2024-03-22   \n",
       "\n",
       "        Onhand/Availalble Qty  Retail Price Inc VAT Stock_Status Retail/Main  \\\n",
       "1351                   1132.0                 279.0   Understock        MAIN   \n",
       "1359                      2.0                 279.0   Understock      RETAIL   \n",
       "1361                      2.0                 279.0   Understock      RETAIL   \n",
       "1381                      0.0                 279.0   Understock      RETAIL   \n",
       "1754                      3.0                 279.0   Understock      RETAIL   \n",
       "...                       ...                   ...          ...         ...   \n",
       "466254                    0.0                 899.0   Understock      RETAIL   \n",
       "466255                    0.0                 899.0   Understock      RETAIL   \n",
       "466439                    0.0                 799.0   Understock      RETAIL   \n",
       "466507                    0.0                9999.0   Understock      RETAIL   \n",
       "466551                    0.0                1499.0   Understock      RETAIL   \n",
       "\n",
       "        Retail Warehouse Stock  Qty Per Status Stock_Status_With_GIT  \\\n",
       "1351                      36.0            36.0          Well Stocked   \n",
       "1359                      36.0             NaN          Well Stocked   \n",
       "1361                      36.0             NaN          Well Stocked   \n",
       "1381                      36.0             NaN          Well Stocked   \n",
       "1754                      97.0             NaN          Well Stocked   \n",
       "...                        ...             ...                   ...   \n",
       "466254                     0.0             NaN          Well Stocked   \n",
       "466255                     0.0             NaN          Well Stocked   \n",
       "466439                     0.0             0.0          Well Stocked   \n",
       "466507                     0.0             0.0          Well Stocked   \n",
       "466551                     0.0             0.0          Well Stocked   \n",
       "\n",
       "           MinSales  \n",
       "1351    638073.0000  \n",
       "1359      1227.6000  \n",
       "1361      1004.4000  \n",
       "1381        52.3125  \n",
       "1754      1227.6000  \n",
       "...             ...  \n",
       "466254      13.4850  \n",
       "466255       4.4950  \n",
       "466439       5.9925  \n",
       "466507      49.9950  \n",
       "466551       7.4950  \n",
       "\n",
       "[20097 rows x 18 columns]"
      ]
     },
     "execution_count": 108,
     "metadata": {},
     "output_type": "execute_result"
    }
   ],
   "source": [
    "brr[brr ['Stock_Status'] != brr['Stock_Status_With_GIT']]"
   ]
  },
  {
   "cell_type": "code",
   "execution_count": 109,
   "id": "ac8e8c4a",
   "metadata": {},
   "outputs": [],
   "source": [
    "# final_table.to_csv('sdf.csv', index=False)"
   ]
  },
  {
   "cell_type": "code",
   "execution_count": 110,
   "id": "34d4c214",
   "metadata": {},
   "outputs": [],
   "source": [
    "set_with_dataframe(worksheet, brr)"
   ]
  },
  {
   "cell_type": "code",
   "execution_count": null,
   "id": "26841137",
   "metadata": {},
   "outputs": [],
   "source": [
    "brr.Date.unique()"
   ]
  },
  {
   "cell_type": "raw",
   "id": "9c4e4f44",
   "metadata": {},
   "source": [
    "# Sample data\n",
    "data = {'Item': ['SKU1', 'SKU2', 'SKU3'],\n",
    "        'Brand': ['BrandX', 'BrandX', 'BrandX'],\n",
    "        'Selling Status': ['Top Seller', 'Top Seller', 'Top Seller'],\n",
    "        'Quantity': [5, 5, 5]}\n",
    "\n",
    "df = pd.DataFrame(data)\n",
    "\n",
    "# Create a mask for the first item in each group\n",
    "mask = df.groupby(['Brand', 'Selling Status']).cumcount() == 0\n",
    "\n",
    "# Create the 'New Quantity' column with the quantity value for the first item in each group\n",
    "df['New Quantity'] = df['Quantity'].where(mask)\n",
    "\n",
    "# Fill NaN values with a default value if needed\n",
    "# df['New Quantity'].fillna(default_value, inplace=True)\n",
    "\n",
    "# Display the DataFrame\n",
    "print(df)\n"
   ]
  },
  {
   "cell_type": "raw",
   "id": "d8362161",
   "metadata": {},
   "source": [
    "df.groupby('Item')['Quantity'].transform('first')"
   ]
  },
  {
   "cell_type": "raw",
   "id": "a16f2612",
   "metadata": {},
   "source": [
    "data = {\n",
    "    'Item': ['SKU1', 'SKU1', 'SKU1', 'SKU3', 'SKU3', 'SKU3'],\n",
    "    'Shop': ['A', 'B', 'C', 'D', 'E', 'F'],\n",
    "    'Brand': ['BrandX', 'BrandX', 'BrandX', 'BrandY', 'BrandY', 'BrandY'],\n",
    "    'Selling Status': ['Top Seller', 'Top Seller', 'Top Seller', 'Bottom Seller', 'Bottom Seller', 'Bottom Seller'],\n",
    "    'Quantity': [5, 5, 5, 2, 2, 2]\n",
    "}\n",
    "\n",
    "df = pd.DataFrame(data)\n",
    "\n",
    "# Create a boolean mask for the first occurrence of each item\n",
    "mask = df.groupby(['Item', 'Selling Status']).cumcount() == 0\n",
    "\n",
    "# Use the mask to set the quantity to blank for subsequent occurrences\n",
    "df['New Quantity'] = df['Quantity'].where(mask)\n",
    "# Display the modified DataFrame\n",
    "print(df)"
   ]
  },
  {
   "cell_type": "code",
   "execution_count": null,
   "id": "86cc3ad2",
   "metadata": {},
   "outputs": [],
   "source": [
    "np.unique(GIT[['Brand', 'Shipment Name']].values)"
   ]
  },
  {
   "cell_type": "code",
   "execution_count": null,
   "id": "7da60717",
   "metadata": {},
   "outputs": [],
   "source": [
    "# GIT [['Shipment Name', 'Brand']].to_excel('SHI.xlsx', index=False)"
   ]
  },
  {
   "cell_type": "code",
   "execution_count": null,
   "id": "914df1fd",
   "metadata": {},
   "outputs": [],
   "source": [
    "GIT['Shipment Name'].unique()"
   ]
  },
  {
   "cell_type": "code",
   "execution_count": null,
   "id": "39e97aa3",
   "metadata": {},
   "outputs": [],
   "source": [
    "dictem = {}"
   ]
  },
  {
   "cell_type": "code",
   "execution_count": null,
   "id": "dc38aed1",
   "metadata": {},
   "outputs": [],
   "source": [
    "for i in GIT['Shipment Name'].unique():\n",
    "    dictem.update({i:GIT[GIT['Shipment Name'] ==i]['Brand'].unique() })"
   ]
  },
  {
   "cell_type": "code",
   "execution_count": null,
   "id": "ac849096",
   "metadata": {},
   "outputs": [],
   "source": [
    "dictem.update({'E':['g']})"
   ]
  },
  {
   "cell_type": "code",
   "execution_count": null,
   "id": "6b322889",
   "metadata": {},
   "outputs": [],
   "source": [
    "GIT[GIT['Shipment Name'] == 'CPL]['Brand'].unique()"
   ]
  },
  {
   "cell_type": "code",
   "execution_count": null,
   "id": "94fc3cb6",
   "metadata": {},
   "outputs": [],
   "source": [
    "pd.DataFrame(dictem['CPL 24-01'])"
   ]
  },
  {
   "cell_type": "code",
   "execution_count": null,
   "id": "454949f2",
   "metadata": {},
   "outputs": [],
   "source": []
  }
 ],
 "metadata": {
  "kernelspec": {
   "display_name": "Python 3 (ipykernel)",
   "language": "python",
   "name": "python3"
  },
  "language_info": {
   "codemirror_mode": {
    "name": "ipython",
    "version": 3
   },
   "file_extension": ".py",
   "mimetype": "text/x-python",
   "name": "python",
   "nbconvert_exporter": "python",
   "pygments_lexer": "ipython3",
   "version": "3.11.7"
  }
 },
 "nbformat": 4,
 "nbformat_minor": 5
}
