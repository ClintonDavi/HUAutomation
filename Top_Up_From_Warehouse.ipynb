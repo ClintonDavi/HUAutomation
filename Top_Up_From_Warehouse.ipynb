{
 "cells": [
  {
   "cell_type": "markdown",
   "id": "266076f7",
   "metadata": {},
   "source": []
  },
  {
   "cell_type": "code",
   "execution_count": 1,
   "id": "69dfe12f",
   "metadata": {},
   "outputs": [],
   "source": [
    "import pandas as pd\n",
    "import numpy as np\n",
    "import os\n",
    "import re\n",
    "from collections import Counter\n",
    "import math"
   ]
  },
  {
   "cell_type": "code",
   "execution_count": 2,
   "id": "d587748a",
   "metadata": {},
   "outputs": [],
   "source": [
    "# new_item_codes=pd.read_excel(\"C:\\\\Users\\\\Geoffrey.Oute\\\\Desktop\\\\Automation Sandbox\\\\SAP Old_New Item Codes.xlsx\")"
   ]
  },
  {
   "cell_type": "code",
   "execution_count": 3,
   "id": "32af6ab4",
   "metadata": {},
   "outputs": [],
   "source": [
    "selling_price=pd.read_excel(\"C:\\\\Users\\\\Geoffrey.Oute\\\\Desktop\\\\Automation Sandbox\\\\Retail Label Printing Inc. VAT_04_05.xlsx\")"
   ]
  },
  {
   "cell_type": "code",
   "execution_count": 4,
   "id": "7efe6748",
   "metadata": {},
   "outputs": [],
   "source": [
    "Tier1Shops=pd.DataFrame({'Store/Location Name': ['RETAIL SARIT', 'RETAIL YAYA', 'RETAIL HILTON', 'RETAIL VILLAGE MARKET'], 'Tier': ['Tier1', 'Tier1', 'Tier1', 'Tier1']})"
   ]
  },
  {
   "cell_type": "code",
   "execution_count": 215,
   "id": "058a15fd",
   "metadata": {},
   "outputs": [],
   "source": [
    "blocked_items = pd.read_excel(\"C:\\\\Users\\\\Geoffrey.Oute\\\\Desktop\\\\Automation Sandbox\\\\Item Block.xlsx\")"
   ]
  },
  {
   "cell_type": "code",
   "execution_count": 216,
   "id": "32b60504",
   "metadata": {},
   "outputs": [
    {
     "data": {
      "text/html": [
       "<div>\n",
       "<style scoped>\n",
       "    .dataframe tbody tr th:only-of-type {\n",
       "        vertical-align: middle;\n",
       "    }\n",
       "\n",
       "    .dataframe tbody tr th {\n",
       "        vertical-align: top;\n",
       "    }\n",
       "\n",
       "    .dataframe thead th {\n",
       "        text-align: right;\n",
       "    }\n",
       "</style>\n",
       "<table border=\"1\" class=\"dataframe\">\n",
       "  <thead>\n",
       "    <tr style=\"text-align: right;\">\n",
       "      <th></th>\n",
       "      <th>Item No.</th>\n",
       "      <th>Retail Shop</th>\n",
       "    </tr>\n",
       "  </thead>\n",
       "  <tbody>\n",
       "    <tr>\n",
       "      <th>0</th>\n",
       "      <td>101000098</td>\n",
       "      <td>RETAIL REHANI</td>\n",
       "    </tr>\n",
       "    <tr>\n",
       "      <th>1</th>\n",
       "      <td>137000148</td>\n",
       "      <td>RETAIL REHANI</td>\n",
       "    </tr>\n",
       "  </tbody>\n",
       "</table>\n",
       "</div>"
      ],
      "text/plain": [
       "    Item No.    Retail Shop\n",
       "0  101000098  RETAIL REHANI\n",
       "1  137000148  RETAIL REHANI"
      ]
     },
     "execution_count": 216,
     "metadata": {},
     "output_type": "execute_result"
    }
   ],
   "source": [
    "blocked_items.head(2)"
   ]
  },
  {
   "cell_type": "code",
   "execution_count": 7,
   "id": "dd6df8db",
   "metadata": {},
   "outputs": [
    {
     "data": {
      "text/html": [
       "<div>\n",
       "<style scoped>\n",
       "    .dataframe tbody tr th:only-of-type {\n",
       "        vertical-align: middle;\n",
       "    }\n",
       "\n",
       "    .dataframe tbody tr th {\n",
       "        vertical-align: top;\n",
       "    }\n",
       "\n",
       "    .dataframe thead th {\n",
       "        text-align: right;\n",
       "    }\n",
       "</style>\n",
       "<table border=\"1\" class=\"dataframe\">\n",
       "  <thead>\n",
       "    <tr style=\"text-align: right;\">\n",
       "      <th></th>\n",
       "      <th>Store/Location Name</th>\n",
       "      <th>Tier</th>\n",
       "    </tr>\n",
       "  </thead>\n",
       "  <tbody>\n",
       "    <tr>\n",
       "      <th>0</th>\n",
       "      <td>RETAIL SARIT</td>\n",
       "      <td>Tier1</td>\n",
       "    </tr>\n",
       "    <tr>\n",
       "      <th>1</th>\n",
       "      <td>RETAIL YAYA</td>\n",
       "      <td>Tier1</td>\n",
       "    </tr>\n",
       "    <tr>\n",
       "      <th>2</th>\n",
       "      <td>RETAIL HILTON</td>\n",
       "      <td>Tier1</td>\n",
       "    </tr>\n",
       "    <tr>\n",
       "      <th>3</th>\n",
       "      <td>RETAIL VILLAGE MARKET</td>\n",
       "      <td>Tier1</td>\n",
       "    </tr>\n",
       "  </tbody>\n",
       "</table>\n",
       "</div>"
      ],
      "text/plain": [
       "     Store/Location Name   Tier\n",
       "0           RETAIL SARIT  Tier1\n",
       "1            RETAIL YAYA  Tier1\n",
       "2          RETAIL HILTON  Tier1\n",
       "3  RETAIL VILLAGE MARKET  Tier1"
      ]
     },
     "execution_count": 7,
     "metadata": {},
     "output_type": "execute_result"
    }
   ],
   "source": [
    "Tier1Shops"
   ]
  },
  {
   "cell_type": "code",
   "execution_count": 8,
   "id": "46c22c2c",
   "metadata": {},
   "outputs": [
    {
     "name": "stderr",
     "output_type": "stream",
     "text": [
      "C:\\Users\\Geoffrey.Oute\\AppData\\Local\\Temp\\ipykernel_17320\\2198782836.py:1: DtypeWarning: Columns (1) have mixed types. Specify dtype option on import or set low_memory=False.\n",
      "  stock_and_sales=pd.read_csv(\"C:\\\\Users\\\\Geoffrey.Oute\\\\Desktop\\\\Automation Sandbox\\\\Stock&Monthwise_2022TD_Stock+Sales.csv\")\n"
     ]
    }
   ],
   "source": [
    "stock_and_sales=pd.read_csv(\"C:\\\\Users\\\\Geoffrey.Oute\\\\Desktop\\\\Automation Sandbox\\\\Stock&Monthwise_2022TD_Stock+Sales.csv\")"
   ]
  },
  {
   "cell_type": "code",
   "execution_count": 9,
   "id": "cb705934",
   "metadata": {},
   "outputs": [
    {
     "name": "stderr",
     "output_type": "stream",
     "text": [
      "C:\\Users\\Geoffrey.Oute\\AppData\\Local\\Temp\\ipykernel_17320\\1838810347.py:1: DtypeWarning: Columns (2) have mixed types. Specify dtype option on import or set low_memory=False.\n",
      "  GP_table=pd.read_csv(\"C:\\\\Users\\\\Geoffrey.Oute\\\\Desktop\\\\Automation Sandbox\\\\GPs.csv\")\n"
     ]
    }
   ],
   "source": [
    "GP_table=pd.read_csv(\"C:\\\\Users\\\\Geoffrey.Oute\\\\Desktop\\\\Automation Sandbox\\\\GPs.csv\")"
   ]
  },
  {
   "cell_type": "code",
   "execution_count": 10,
   "id": "042a0982",
   "metadata": {},
   "outputs": [],
   "source": [
    "stock_and_salesB=stock_and_sales.copy()"
   ]
  },
  {
   "cell_type": "code",
   "execution_count": 11,
   "id": "3839a7d0",
   "metadata": {},
   "outputs": [
    {
     "data": {
      "text/html": [
       "<div>\n",
       "<style scoped>\n",
       "    .dataframe tbody tr th:only-of-type {\n",
       "        vertical-align: middle;\n",
       "    }\n",
       "\n",
       "    .dataframe tbody tr th {\n",
       "        vertical-align: top;\n",
       "    }\n",
       "\n",
       "    .dataframe thead th {\n",
       "        text-align: right;\n",
       "    }\n",
       "</style>\n",
       "<table border=\"1\" class=\"dataframe\">\n",
       "  <thead>\n",
       "    <tr style=\"text-align: right;\">\n",
       "      <th></th>\n",
       "      <th>index</th>\n",
       "      <th>Item No.</th>\n",
       "      <th>Item Description</th>\n",
       "      <th>Brand</th>\n",
       "      <th>Department</th>\n",
       "      <th>Location Type</th>\n",
       "      <th>Store/Location Name</th>\n",
       "      <th>Month_selling_frequency</th>\n",
       "      <th>Monthly_selling_frequency_last6months</th>\n",
       "      <th>Monthly_selling_frequency_last3months</th>\n",
       "      <th>...</th>\n",
       "      <th>Jan Qty Sold2024</th>\n",
       "      <th>Jan Stock2024</th>\n",
       "      <th>month12024sales</th>\n",
       "      <th>month12024COGS</th>\n",
       "      <th>Jan2024SellRate</th>\n",
       "      <th>Feb Qty Sold2024</th>\n",
       "      <th>Feb Stock2024</th>\n",
       "      <th>month22024sales</th>\n",
       "      <th>month22024COGS</th>\n",
       "      <th>Feb2024SellRate</th>\n",
       "    </tr>\n",
       "  </thead>\n",
       "  <tbody>\n",
       "    <tr>\n",
       "      <th>0</th>\n",
       "      <td>0</td>\n",
       "      <td>167003170</td>\n",
       "      <td>\"\"CANDLELIGHT 5X7\"\" RESIN PHOTO FRAME LOOPS GO...</td>\n",
       "      <td>CANDLELIGHT</td>\n",
       "      <td>Giftware</td>\n",
       "      <td>Retail</td>\n",
       "      <td>RETAIL THE FIVE ELEMENTS</td>\n",
       "      <td>0</td>\n",
       "      <td>0</td>\n",
       "      <td>0</td>\n",
       "      <td>...</td>\n",
       "      <td>0.0</td>\n",
       "      <td>0.0</td>\n",
       "      <td>0.0</td>\n",
       "      <td>0.0</td>\n",
       "      <td>0.0</td>\n",
       "      <td>0.0</td>\n",
       "      <td>0.0</td>\n",
       "      <td>0.0</td>\n",
       "      <td>0.0</td>\n",
       "      <td>0.0</td>\n",
       "    </tr>\n",
       "    <tr>\n",
       "      <th>1</th>\n",
       "      <td>1</td>\n",
       "      <td>31429000005</td>\n",
       "      <td>\"\"CWS CREATE YOUR OWN DINOSAUR TIMELINE &amp; WORL...</td>\n",
       "      <td>CWS</td>\n",
       "      <td>Giftware</td>\n",
       "      <td>Warehouse</td>\n",
       "      <td>MAIN WAREHOUSE</td>\n",
       "      <td>1</td>\n",
       "      <td>1</td>\n",
       "      <td>1</td>\n",
       "      <td>...</td>\n",
       "      <td>0.0</td>\n",
       "      <td>0.0</td>\n",
       "      <td>0.0</td>\n",
       "      <td>0.0</td>\n",
       "      <td>0.0</td>\n",
       "      <td>0.0</td>\n",
       "      <td>0.0</td>\n",
       "      <td>0.0</td>\n",
       "      <td>0.0</td>\n",
       "      <td>0.0</td>\n",
       "    </tr>\n",
       "  </tbody>\n",
       "</table>\n",
       "<p>2 rows × 80 columns</p>\n",
       "</div>"
      ],
      "text/plain": [
       "   index     Item No.                                   Item Description  \\\n",
       "0      0    167003170  \"\"CANDLELIGHT 5X7\"\" RESIN PHOTO FRAME LOOPS GO...   \n",
       "1      1  31429000005  \"\"CWS CREATE YOUR OWN DINOSAUR TIMELINE & WORL...   \n",
       "\n",
       "         Brand Department Location Type       Store/Location Name  \\\n",
       "0  CANDLELIGHT   Giftware        Retail  RETAIL THE FIVE ELEMENTS   \n",
       "1          CWS   Giftware     Warehouse            MAIN WAREHOUSE   \n",
       "\n",
       "   Month_selling_frequency  Monthly_selling_frequency_last6months  \\\n",
       "0                        0                                      0   \n",
       "1                        1                                      1   \n",
       "\n",
       "   Monthly_selling_frequency_last3months  ...  Jan Qty Sold2024  \\\n",
       "0                                      0  ...               0.0   \n",
       "1                                      1  ...               0.0   \n",
       "\n",
       "   Jan Stock2024  month12024sales  month12024COGS  Jan2024SellRate  \\\n",
       "0            0.0              0.0             0.0              0.0   \n",
       "1            0.0              0.0             0.0              0.0   \n",
       "\n",
       "   Feb Qty Sold2024  Feb Stock2024  month22024sales  month22024COGS  \\\n",
       "0               0.0            0.0              0.0             0.0   \n",
       "1               0.0            0.0              0.0             0.0   \n",
       "\n",
       "   Feb2024SellRate  \n",
       "0              0.0  \n",
       "1              0.0  \n",
       "\n",
       "[2 rows x 80 columns]"
      ]
     },
     "execution_count": 11,
     "metadata": {},
     "output_type": "execute_result"
    }
   ],
   "source": [
    "stock_and_sales.head(2)"
   ]
  },
  {
   "cell_type": "code",
   "execution_count": 12,
   "id": "292d2962",
   "metadata": {},
   "outputs": [],
   "source": [
    "x=12\n",
    "y=13\n",
    "z=14\n",
    "for i in [i for i in stock_and_salesB if 'Sold' in i]:\n",
    "    GP=(stock_and_salesB.iloc[:,x]-stock_and_salesB.iloc[:,y])/stock_and_salesB.iloc[:,x]\n",
    "    colname=stock_and_salesB.iloc[:, y].name.replace('COGS', 'GP')\n",
    "    stock_and_salesB.insert(z, colname, GP)\n",
    "    x+=6\n",
    "    y+=6\n",
    "    z+=6"
   ]
  },
  {
   "cell_type": "code",
   "execution_count": 13,
   "id": "916fd5d3",
   "metadata": {},
   "outputs": [
    {
     "data": {
      "text/plain": [
       "Index(['index', 'Item No.', 'Item Description', 'Brand', 'Department',\n",
       "       'Location Type', 'Store/Location Name', 'Month_selling_frequency',\n",
       "       'Monthly_selling_frequency_last6months',\n",
       "       'Monthly_selling_frequency_last3months', 'Jan Qty Sold2023',\n",
       "       'Jan Stock2023', 'month12023sales', 'month12023COGS', 'month12023GP',\n",
       "       'Jan2023SellRate', 'Feb Qty Sold2023', 'Feb Stock2023',\n",
       "       'month22023sales', 'month22023COGS', 'month22023GP', 'Feb2023SellRate',\n",
       "       'Mar Qty Sold', 'Mar Stock', 'month32023sales', 'month32023COGS',\n",
       "       'month32023GP', 'Mar2023SellRate', 'Apr Qty Sold', 'Apr Stock',\n",
       "       'month42023sales', 'month42023COGS', 'month42023GP', 'Apr2023SellRate',\n",
       "       'May Qty Sold', 'May Stock', 'month52023sales', 'month52023COGS',\n",
       "       'month52023GP', 'May2023SellRate', 'Jun Qty Sold', 'Jun Stock',\n",
       "       'month62023sales', 'month62023COGS', 'month62023GP', 'Jun2023SellRate',\n",
       "       'Jul Qty Sold', 'Jul Stock', 'month72023sales', 'month72023COGS',\n",
       "       'month72023GP', 'Jul2022SellRate', 'Aug Qty Sold', 'Aug Stock',\n",
       "       'month82023sales', 'month82023COGS', 'month82023GP', 'Aug2023SellRate',\n",
       "       'Sep Qty Sold', 'Sep Stock', 'month92023sales', 'month92023COGS',\n",
       "       'month92023GP', 'Sep2023SellRate', 'Oct Qty Sold', 'Oct Stock',\n",
       "       'month102023sales', 'month102023COGS', 'month102023GP',\n",
       "       'Oct2023SellRate', 'Nov Qty Sold', 'Nov Stock', 'month112023sales',\n",
       "       'month112023COGS', 'month112023GP', 'Nov2023SellRate', 'Dec Qty Sold',\n",
       "       'Dec Stock', 'month122023sales', 'month122023COGS', 'month122023GP',\n",
       "       'Dec2023SellRate', 'Jan Qty Sold2024', 'Jan Stock2024',\n",
       "       'month12024sales', 'month12024COGS', 'month12024GP', 'Jan2024SellRate',\n",
       "       'Feb Qty Sold2024', 'Feb Stock2024', 'month22024sales',\n",
       "       'month22024COGS', 'month22024GP', 'Feb2024SellRate'],\n",
       "      dtype='object')"
      ]
     },
     "execution_count": 13,
     "metadata": {},
     "output_type": "execute_result"
    }
   ],
   "source": [
    "stock_and_salesB.columns"
   ]
  },
  {
   "cell_type": "code",
   "execution_count": 14,
   "id": "a00d9603",
   "metadata": {},
   "outputs": [],
   "source": [
    "gps_array=stock_and_salesB [[i for i in stock_and_salesB.columns if 'GP' in i]].values"
   ]
  },
  {
   "cell_type": "code",
   "execution_count": 15,
   "id": "0996d27c",
   "metadata": {},
   "outputs": [],
   "source": [
    "sorted_gps_array=-np.sort(-gps_array)"
   ]
  },
  {
   "cell_type": "code",
   "execution_count": 16,
   "id": "fe50c268",
   "metadata": {},
   "outputs": [],
   "source": [
    "largest_gps=sorted_gps_array[:, :4]"
   ]
  },
  {
   "cell_type": "code",
   "execution_count": 17,
   "id": "de0403c2",
   "metadata": {},
   "outputs": [
    {
     "name": "stderr",
     "output_type": "stream",
     "text": [
      "C:\\Users\\Geoffrey.Oute\\AppData\\Local\\Temp\\ipykernel_17320\\3354881009.py:1: RuntimeWarning: All-NaN slice encountered\n",
      "  maxGP=np.nanmedian(largest_gps, axis=1)\n"
     ]
    }
   ],
   "source": [
    "maxGP=np.nanmedian(largest_gps, axis=1)"
   ]
  },
  {
   "cell_type": "code",
   "execution_count": 18,
   "id": "13358a0f",
   "metadata": {},
   "outputs": [],
   "source": [
    "final=pd.concat([stock_and_salesB, pd.DataFrame(maxGP)], axis=1)"
   ]
  },
  {
   "cell_type": "code",
   "execution_count": 19,
   "id": "1388f604",
   "metadata": {},
   "outputs": [],
   "source": [
    "final.rename(columns={0:'OptimumGP'}, inplace=True)"
   ]
  },
  {
   "cell_type": "code",
   "execution_count": 20,
   "id": "63529749",
   "metadata": {},
   "outputs": [],
   "source": [
    "gp_db=final[['Item Description', 'Item No.', 'Store/Location Name', 'OptimumGP']]"
   ]
  },
  {
   "cell_type": "code",
   "execution_count": 21,
   "id": "4e6d2cf6",
   "metadata": {},
   "outputs": [],
   "source": [
    "a=12\n",
    "b=10\n",
    "c=14\n",
    "for i in [i for i in stock_and_salesB if 'Sold' in i]: # change here to final instead of stock and sales\n",
    "    unit_cost=final.iloc[:,a]/final.iloc[:,b]\n",
    "    col_name=final.iloc[:, a].name.replace('sales', 'unit_cost')\n",
    "    final.insert(c, col_name, unit_cost)\n",
    "    a+=7\n",
    "    b+=7\n",
    "    c+=7"
   ]
  },
  {
   "cell_type": "code",
   "execution_count": 22,
   "id": "a190679e",
   "metadata": {},
   "outputs": [],
   "source": [
    "price_brackets_table = pd.DataFrame(columns=['0-200', '200-400', '400-600', '600-800', '800-1000', \n",
    "                                             '1000-1500', '1500-2500', '2500+'])"
   ]
  },
  {
   "cell_type": "code",
   "execution_count": 23,
   "id": "7e09f6e7",
   "metadata": {},
   "outputs": [
    {
     "data": {
      "text/html": [
       "<div>\n",
       "<style scoped>\n",
       "    .dataframe tbody tr th:only-of-type {\n",
       "        vertical-align: middle;\n",
       "    }\n",
       "\n",
       "    .dataframe tbody tr th {\n",
       "        vertical-align: top;\n",
       "    }\n",
       "\n",
       "    .dataframe thead th {\n",
       "        text-align: right;\n",
       "    }\n",
       "</style>\n",
       "<table border=\"1\" class=\"dataframe\">\n",
       "  <thead>\n",
       "    <tr style=\"text-align: right;\">\n",
       "      <th></th>\n",
       "      <th>0-200</th>\n",
       "      <th>200-400</th>\n",
       "      <th>400-600</th>\n",
       "      <th>600-800</th>\n",
       "      <th>800-1000</th>\n",
       "      <th>1000-1500</th>\n",
       "      <th>1500-2500</th>\n",
       "      <th>2500+</th>\n",
       "    </tr>\n",
       "  </thead>\n",
       "  <tbody>\n",
       "  </tbody>\n",
       "</table>\n",
       "</div>"
      ],
      "text/plain": [
       "Empty DataFrame\n",
       "Columns: [0-200, 200-400, 400-600, 600-800, 800-1000, 1000-1500, 1500-2500, 2500+]\n",
       "Index: []"
      ]
     },
     "execution_count": 23,
     "metadata": {},
     "output_type": "execute_result"
    }
   ],
   "source": [
    "price_brackets_table"
   ]
  },
  {
   "cell_type": "code",
   "execution_count": 24,
   "id": "ffb3a95a",
   "metadata": {},
   "outputs": [],
   "source": [
    "final_final=pd.concat([final, price_brackets_table], axis=1)"
   ]
  },
  {
   "cell_type": "code",
   "execution_count": 25,
   "id": "588e4079",
   "metadata": {},
   "outputs": [],
   "source": [
    "filled_0=final_final.loc[:, '0-200':].fillna(0)"
   ]
  },
  {
   "cell_type": "code",
   "execution_count": 26,
   "id": "311ea23a",
   "metadata": {},
   "outputs": [],
   "source": [
    "final_final.drop([i for i in final_final.columns if '00' in i], inplace=True, axis=1)"
   ]
  },
  {
   "cell_type": "code",
   "execution_count": 27,
   "id": "ecfa8c8b",
   "metadata": {},
   "outputs": [],
   "source": [
    "final_final_final=pd.concat([final, filled_0], axis=1)"
   ]
  },
  {
   "cell_type": "code",
   "execution_count": 28,
   "id": "c5d9371e",
   "metadata": {},
   "outputs": [
    {
     "ename": "KeyError",
     "evalue": "'Dec Qty Sold2022'",
     "output_type": "error",
     "traceback": [
      "\u001b[1;31m---------------------------------------------------------------------------\u001b[0m",
      "\u001b[1;31mKeyError\u001b[0m                                  Traceback (most recent call last)",
      "\u001b[1;32m~\\Anaconda3\\lib\\site-packages\\pandas\\core\\indexes\\base.py\u001b[0m in \u001b[0;36mget_loc\u001b[1;34m(self, key, method, tolerance)\u001b[0m\n\u001b[0;32m   3628\u001b[0m             \u001b[1;32mtry\u001b[0m\u001b[1;33m:\u001b[0m\u001b[1;33m\u001b[0m\u001b[1;33m\u001b[0m\u001b[0m\n\u001b[1;32m-> 3629\u001b[1;33m                 \u001b[1;32mreturn\u001b[0m \u001b[0mself\u001b[0m\u001b[1;33m.\u001b[0m\u001b[0m_engine\u001b[0m\u001b[1;33m.\u001b[0m\u001b[0mget_loc\u001b[0m\u001b[1;33m(\u001b[0m\u001b[0mcasted_key\u001b[0m\u001b[1;33m)\u001b[0m\u001b[1;33m\u001b[0m\u001b[1;33m\u001b[0m\u001b[0m\n\u001b[0m\u001b[0;32m   3630\u001b[0m             \u001b[1;32mexcept\u001b[0m \u001b[0mKeyError\u001b[0m \u001b[1;32mas\u001b[0m \u001b[0merr\u001b[0m\u001b[1;33m:\u001b[0m\u001b[1;33m\u001b[0m\u001b[1;33m\u001b[0m\u001b[0m\n",
      "\u001b[1;32m~\\Anaconda3\\lib\\site-packages\\pandas\\_libs\\index.pyx\u001b[0m in \u001b[0;36mpandas._libs.index.IndexEngine.get_loc\u001b[1;34m()\u001b[0m\n",
      "\u001b[1;32m~\\Anaconda3\\lib\\site-packages\\pandas\\_libs\\index.pyx\u001b[0m in \u001b[0;36mpandas._libs.index.IndexEngine.get_loc\u001b[1;34m()\u001b[0m\n",
      "\u001b[1;32mpandas\\_libs\\hashtable_class_helper.pxi\u001b[0m in \u001b[0;36mpandas._libs.hashtable.PyObjectHashTable.get_item\u001b[1;34m()\u001b[0m\n",
      "\u001b[1;32mpandas\\_libs\\hashtable_class_helper.pxi\u001b[0m in \u001b[0;36mpandas._libs.hashtable.PyObjectHashTable.get_item\u001b[1;34m()\u001b[0m\n",
      "\u001b[1;31mKeyError\u001b[0m: 'Dec Qty Sold2022'",
      "\nThe above exception was the direct cause of the following exception:\n",
      "\u001b[1;31mKeyError\u001b[0m                                  Traceback (most recent call last)",
      "\u001b[1;32m~\\AppData\\Local\\Temp\\ipykernel_17320\\2812232096.py\u001b[0m in \u001b[0;36m<module>\u001b[1;34m\u001b[0m\n\u001b[1;32m----> 1\u001b[1;33m \u001b[0mfinal_final_final\u001b[0m\u001b[1;33m=\u001b[0m\u001b[0mpd\u001b[0m\u001b[1;33m.\u001b[0m\u001b[0mconcat\u001b[0m\u001b[1;33m(\u001b[0m\u001b[1;33m[\u001b[0m\u001b[0mfinal_final_final\u001b[0m\u001b[1;33m.\u001b[0m\u001b[0mloc\u001b[0m\u001b[1;33m[\u001b[0m\u001b[1;33m:\u001b[0m\u001b[1;33m,\u001b[0m \u001b[1;34m'index'\u001b[0m\u001b[1;33m:\u001b[0m \u001b[1;34m'Store/Location Name'\u001b[0m\u001b[1;33m]\u001b[0m\u001b[1;33m,\u001b[0m \u001b[0mfinal_final_final\u001b[0m\u001b[1;33m.\u001b[0m\u001b[0mloc\u001b[0m\u001b[1;33m[\u001b[0m\u001b[1;33m:\u001b[0m\u001b[1;33m,\u001b[0m \u001b[1;34m'Dec Qty Sold2022'\u001b[0m\u001b[1;33m:\u001b[0m\u001b[1;33m]\u001b[0m\u001b[1;33m]\u001b[0m\u001b[1;33m,\u001b[0m \u001b[0maxis\u001b[0m\u001b[1;33m=\u001b[0m\u001b[1;36m1\u001b[0m\u001b[1;33m)\u001b[0m\u001b[1;33m\u001b[0m\u001b[1;33m\u001b[0m\u001b[0m\n\u001b[0m",
      "\u001b[1;32m~\\Anaconda3\\lib\\site-packages\\pandas\\core\\indexing.py\u001b[0m in \u001b[0;36m__getitem__\u001b[1;34m(self, key)\u001b[0m\n\u001b[0;32m    959\u001b[0m             \u001b[1;32mif\u001b[0m \u001b[0mself\u001b[0m\u001b[1;33m.\u001b[0m\u001b[0m_is_scalar_access\u001b[0m\u001b[1;33m(\u001b[0m\u001b[0mkey\u001b[0m\u001b[1;33m)\u001b[0m\u001b[1;33m:\u001b[0m\u001b[1;33m\u001b[0m\u001b[1;33m\u001b[0m\u001b[0m\n\u001b[0;32m    960\u001b[0m                 \u001b[1;32mreturn\u001b[0m \u001b[0mself\u001b[0m\u001b[1;33m.\u001b[0m\u001b[0mobj\u001b[0m\u001b[1;33m.\u001b[0m\u001b[0m_get_value\u001b[0m\u001b[1;33m(\u001b[0m\u001b[1;33m*\u001b[0m\u001b[0mkey\u001b[0m\u001b[1;33m,\u001b[0m \u001b[0mtakeable\u001b[0m\u001b[1;33m=\u001b[0m\u001b[0mself\u001b[0m\u001b[1;33m.\u001b[0m\u001b[0m_takeable\u001b[0m\u001b[1;33m)\u001b[0m\u001b[1;33m\u001b[0m\u001b[1;33m\u001b[0m\u001b[0m\n\u001b[1;32m--> 961\u001b[1;33m             \u001b[1;32mreturn\u001b[0m \u001b[0mself\u001b[0m\u001b[1;33m.\u001b[0m\u001b[0m_getitem_tuple\u001b[0m\u001b[1;33m(\u001b[0m\u001b[0mkey\u001b[0m\u001b[1;33m)\u001b[0m\u001b[1;33m\u001b[0m\u001b[1;33m\u001b[0m\u001b[0m\n\u001b[0m\u001b[0;32m    962\u001b[0m         \u001b[1;32melse\u001b[0m\u001b[1;33m:\u001b[0m\u001b[1;33m\u001b[0m\u001b[1;33m\u001b[0m\u001b[0m\n\u001b[0;32m    963\u001b[0m             \u001b[1;31m# we by definition only have the 0th axis\u001b[0m\u001b[1;33m\u001b[0m\u001b[1;33m\u001b[0m\u001b[0m\n",
      "\u001b[1;32m~\\Anaconda3\\lib\\site-packages\\pandas\\core\\indexing.py\u001b[0m in \u001b[0;36m_getitem_tuple\u001b[1;34m(self, tup)\u001b[0m\n\u001b[0;32m   1147\u001b[0m             \u001b[1;32mreturn\u001b[0m \u001b[0mself\u001b[0m\u001b[1;33m.\u001b[0m\u001b[0m_multi_take\u001b[0m\u001b[1;33m(\u001b[0m\u001b[0mtup\u001b[0m\u001b[1;33m)\u001b[0m\u001b[1;33m\u001b[0m\u001b[1;33m\u001b[0m\u001b[0m\n\u001b[0;32m   1148\u001b[0m \u001b[1;33m\u001b[0m\u001b[0m\n\u001b[1;32m-> 1149\u001b[1;33m         \u001b[1;32mreturn\u001b[0m \u001b[0mself\u001b[0m\u001b[1;33m.\u001b[0m\u001b[0m_getitem_tuple_same_dim\u001b[0m\u001b[1;33m(\u001b[0m\u001b[0mtup\u001b[0m\u001b[1;33m)\u001b[0m\u001b[1;33m\u001b[0m\u001b[1;33m\u001b[0m\u001b[0m\n\u001b[0m\u001b[0;32m   1150\u001b[0m \u001b[1;33m\u001b[0m\u001b[0m\n\u001b[0;32m   1151\u001b[0m     \u001b[1;32mdef\u001b[0m \u001b[0m_get_label\u001b[0m\u001b[1;33m(\u001b[0m\u001b[0mself\u001b[0m\u001b[1;33m,\u001b[0m \u001b[0mlabel\u001b[0m\u001b[1;33m,\u001b[0m \u001b[0maxis\u001b[0m\u001b[1;33m:\u001b[0m \u001b[0mint\u001b[0m\u001b[1;33m)\u001b[0m\u001b[1;33m:\u001b[0m\u001b[1;33m\u001b[0m\u001b[1;33m\u001b[0m\u001b[0m\n",
      "\u001b[1;32m~\\Anaconda3\\lib\\site-packages\\pandas\\core\\indexing.py\u001b[0m in \u001b[0;36m_getitem_tuple_same_dim\u001b[1;34m(self, tup)\u001b[0m\n\u001b[0;32m    825\u001b[0m                 \u001b[1;32mcontinue\u001b[0m\u001b[1;33m\u001b[0m\u001b[1;33m\u001b[0m\u001b[0m\n\u001b[0;32m    826\u001b[0m \u001b[1;33m\u001b[0m\u001b[0m\n\u001b[1;32m--> 827\u001b[1;33m             \u001b[0mretval\u001b[0m \u001b[1;33m=\u001b[0m \u001b[0mgetattr\u001b[0m\u001b[1;33m(\u001b[0m\u001b[0mretval\u001b[0m\u001b[1;33m,\u001b[0m \u001b[0mself\u001b[0m\u001b[1;33m.\u001b[0m\u001b[0mname\u001b[0m\u001b[1;33m)\u001b[0m\u001b[1;33m.\u001b[0m\u001b[0m_getitem_axis\u001b[0m\u001b[1;33m(\u001b[0m\u001b[0mkey\u001b[0m\u001b[1;33m,\u001b[0m \u001b[0maxis\u001b[0m\u001b[1;33m=\u001b[0m\u001b[0mi\u001b[0m\u001b[1;33m)\u001b[0m\u001b[1;33m\u001b[0m\u001b[1;33m\u001b[0m\u001b[0m\n\u001b[0m\u001b[0;32m    828\u001b[0m             \u001b[1;31m# We should never have retval.ndim < self.ndim, as that should\u001b[0m\u001b[1;33m\u001b[0m\u001b[1;33m\u001b[0m\u001b[0m\n\u001b[0;32m    829\u001b[0m             \u001b[1;31m#  be handled by the _getitem_lowerdim call above.\u001b[0m\u001b[1;33m\u001b[0m\u001b[1;33m\u001b[0m\u001b[0m\n",
      "\u001b[1;32m~\\Anaconda3\\lib\\site-packages\\pandas\\core\\indexing.py\u001b[0m in \u001b[0;36m_getitem_axis\u001b[1;34m(self, key, axis)\u001b[0m\n\u001b[0;32m   1181\u001b[0m         \u001b[1;32mif\u001b[0m \u001b[0misinstance\u001b[0m\u001b[1;33m(\u001b[0m\u001b[0mkey\u001b[0m\u001b[1;33m,\u001b[0m \u001b[0mslice\u001b[0m\u001b[1;33m)\u001b[0m\u001b[1;33m:\u001b[0m\u001b[1;33m\u001b[0m\u001b[1;33m\u001b[0m\u001b[0m\n\u001b[0;32m   1182\u001b[0m             \u001b[0mself\u001b[0m\u001b[1;33m.\u001b[0m\u001b[0m_validate_key\u001b[0m\u001b[1;33m(\u001b[0m\u001b[0mkey\u001b[0m\u001b[1;33m,\u001b[0m \u001b[0maxis\u001b[0m\u001b[1;33m)\u001b[0m\u001b[1;33m\u001b[0m\u001b[1;33m\u001b[0m\u001b[0m\n\u001b[1;32m-> 1183\u001b[1;33m             \u001b[1;32mreturn\u001b[0m \u001b[0mself\u001b[0m\u001b[1;33m.\u001b[0m\u001b[0m_get_slice_axis\u001b[0m\u001b[1;33m(\u001b[0m\u001b[0mkey\u001b[0m\u001b[1;33m,\u001b[0m \u001b[0maxis\u001b[0m\u001b[1;33m=\u001b[0m\u001b[0maxis\u001b[0m\u001b[1;33m)\u001b[0m\u001b[1;33m\u001b[0m\u001b[1;33m\u001b[0m\u001b[0m\n\u001b[0m\u001b[0;32m   1184\u001b[0m         \u001b[1;32melif\u001b[0m \u001b[0mcom\u001b[0m\u001b[1;33m.\u001b[0m\u001b[0mis_bool_indexer\u001b[0m\u001b[1;33m(\u001b[0m\u001b[0mkey\u001b[0m\u001b[1;33m)\u001b[0m\u001b[1;33m:\u001b[0m\u001b[1;33m\u001b[0m\u001b[1;33m\u001b[0m\u001b[0m\n\u001b[0;32m   1185\u001b[0m             \u001b[1;32mreturn\u001b[0m \u001b[0mself\u001b[0m\u001b[1;33m.\u001b[0m\u001b[0m_getbool_axis\u001b[0m\u001b[1;33m(\u001b[0m\u001b[0mkey\u001b[0m\u001b[1;33m,\u001b[0m \u001b[0maxis\u001b[0m\u001b[1;33m=\u001b[0m\u001b[0maxis\u001b[0m\u001b[1;33m)\u001b[0m\u001b[1;33m\u001b[0m\u001b[1;33m\u001b[0m\u001b[0m\n",
      "\u001b[1;32m~\\Anaconda3\\lib\\site-packages\\pandas\\core\\indexing.py\u001b[0m in \u001b[0;36m_get_slice_axis\u001b[1;34m(self, slice_obj, axis)\u001b[0m\n\u001b[0;32m   1215\u001b[0m \u001b[1;33m\u001b[0m\u001b[0m\n\u001b[0;32m   1216\u001b[0m         \u001b[0mlabels\u001b[0m \u001b[1;33m=\u001b[0m \u001b[0mobj\u001b[0m\u001b[1;33m.\u001b[0m\u001b[0m_get_axis\u001b[0m\u001b[1;33m(\u001b[0m\u001b[0maxis\u001b[0m\u001b[1;33m)\u001b[0m\u001b[1;33m\u001b[0m\u001b[1;33m\u001b[0m\u001b[0m\n\u001b[1;32m-> 1217\u001b[1;33m         \u001b[0mindexer\u001b[0m \u001b[1;33m=\u001b[0m \u001b[0mlabels\u001b[0m\u001b[1;33m.\u001b[0m\u001b[0mslice_indexer\u001b[0m\u001b[1;33m(\u001b[0m\u001b[0mslice_obj\u001b[0m\u001b[1;33m.\u001b[0m\u001b[0mstart\u001b[0m\u001b[1;33m,\u001b[0m \u001b[0mslice_obj\u001b[0m\u001b[1;33m.\u001b[0m\u001b[0mstop\u001b[0m\u001b[1;33m,\u001b[0m \u001b[0mslice_obj\u001b[0m\u001b[1;33m.\u001b[0m\u001b[0mstep\u001b[0m\u001b[1;33m)\u001b[0m\u001b[1;33m\u001b[0m\u001b[1;33m\u001b[0m\u001b[0m\n\u001b[0m\u001b[0;32m   1218\u001b[0m \u001b[1;33m\u001b[0m\u001b[0m\n\u001b[0;32m   1219\u001b[0m         \u001b[1;32mif\u001b[0m \u001b[0misinstance\u001b[0m\u001b[1;33m(\u001b[0m\u001b[0mindexer\u001b[0m\u001b[1;33m,\u001b[0m \u001b[0mslice\u001b[0m\u001b[1;33m)\u001b[0m\u001b[1;33m:\u001b[0m\u001b[1;33m\u001b[0m\u001b[1;33m\u001b[0m\u001b[0m\n",
      "\u001b[1;32m~\\Anaconda3\\lib\\site-packages\\pandas\\core\\indexes\\base.py\u001b[0m in \u001b[0;36mslice_indexer\u001b[1;34m(self, start, end, step, kind)\u001b[0m\n\u001b[0;32m   6286\u001b[0m         \u001b[0mself\u001b[0m\u001b[1;33m.\u001b[0m\u001b[0m_deprecated_arg\u001b[0m\u001b[1;33m(\u001b[0m\u001b[0mkind\u001b[0m\u001b[1;33m,\u001b[0m \u001b[1;34m\"kind\"\u001b[0m\u001b[1;33m,\u001b[0m \u001b[1;34m\"slice_indexer\"\u001b[0m\u001b[1;33m)\u001b[0m\u001b[1;33m\u001b[0m\u001b[1;33m\u001b[0m\u001b[0m\n\u001b[0;32m   6287\u001b[0m \u001b[1;33m\u001b[0m\u001b[0m\n\u001b[1;32m-> 6288\u001b[1;33m         \u001b[0mstart_slice\u001b[0m\u001b[1;33m,\u001b[0m \u001b[0mend_slice\u001b[0m \u001b[1;33m=\u001b[0m \u001b[0mself\u001b[0m\u001b[1;33m.\u001b[0m\u001b[0mslice_locs\u001b[0m\u001b[1;33m(\u001b[0m\u001b[0mstart\u001b[0m\u001b[1;33m,\u001b[0m \u001b[0mend\u001b[0m\u001b[1;33m,\u001b[0m \u001b[0mstep\u001b[0m\u001b[1;33m=\u001b[0m\u001b[0mstep\u001b[0m\u001b[1;33m)\u001b[0m\u001b[1;33m\u001b[0m\u001b[1;33m\u001b[0m\u001b[0m\n\u001b[0m\u001b[0;32m   6289\u001b[0m \u001b[1;33m\u001b[0m\u001b[0m\n\u001b[0;32m   6290\u001b[0m         \u001b[1;31m# return a slice\u001b[0m\u001b[1;33m\u001b[0m\u001b[1;33m\u001b[0m\u001b[0m\n",
      "\u001b[1;32m~\\Anaconda3\\lib\\site-packages\\pandas\\core\\indexes\\base.py\u001b[0m in \u001b[0;36mslice_locs\u001b[1;34m(self, start, end, step, kind)\u001b[0m\n\u001b[0;32m   6496\u001b[0m         \u001b[0mstart_slice\u001b[0m \u001b[1;33m=\u001b[0m \u001b[1;32mNone\u001b[0m\u001b[1;33m\u001b[0m\u001b[1;33m\u001b[0m\u001b[0m\n\u001b[0;32m   6497\u001b[0m         \u001b[1;32mif\u001b[0m \u001b[0mstart\u001b[0m \u001b[1;32mis\u001b[0m \u001b[1;32mnot\u001b[0m \u001b[1;32mNone\u001b[0m\u001b[1;33m:\u001b[0m\u001b[1;33m\u001b[0m\u001b[1;33m\u001b[0m\u001b[0m\n\u001b[1;32m-> 6498\u001b[1;33m             \u001b[0mstart_slice\u001b[0m \u001b[1;33m=\u001b[0m \u001b[0mself\u001b[0m\u001b[1;33m.\u001b[0m\u001b[0mget_slice_bound\u001b[0m\u001b[1;33m(\u001b[0m\u001b[0mstart\u001b[0m\u001b[1;33m,\u001b[0m \u001b[1;34m\"left\"\u001b[0m\u001b[1;33m)\u001b[0m\u001b[1;33m\u001b[0m\u001b[1;33m\u001b[0m\u001b[0m\n\u001b[0m\u001b[0;32m   6499\u001b[0m         \u001b[1;32mif\u001b[0m \u001b[0mstart_slice\u001b[0m \u001b[1;32mis\u001b[0m \u001b[1;32mNone\u001b[0m\u001b[1;33m:\u001b[0m\u001b[1;33m\u001b[0m\u001b[1;33m\u001b[0m\u001b[0m\n\u001b[0;32m   6500\u001b[0m             \u001b[0mstart_slice\u001b[0m \u001b[1;33m=\u001b[0m \u001b[1;36m0\u001b[0m\u001b[1;33m\u001b[0m\u001b[1;33m\u001b[0m\u001b[0m\n",
      "\u001b[1;32m~\\Anaconda3\\lib\\site-packages\\pandas\\core\\indexes\\base.py\u001b[0m in \u001b[0;36mget_slice_bound\u001b[1;34m(self, label, side, kind)\u001b[0m\n\u001b[0;32m   6415\u001b[0m             \u001b[1;32mexcept\u001b[0m \u001b[0mValueError\u001b[0m\u001b[1;33m:\u001b[0m\u001b[1;33m\u001b[0m\u001b[1;33m\u001b[0m\u001b[0m\n\u001b[0;32m   6416\u001b[0m                 \u001b[1;31m# raise the original KeyError\u001b[0m\u001b[1;33m\u001b[0m\u001b[1;33m\u001b[0m\u001b[0m\n\u001b[1;32m-> 6417\u001b[1;33m                 \u001b[1;32mraise\u001b[0m \u001b[0merr\u001b[0m\u001b[1;33m\u001b[0m\u001b[1;33m\u001b[0m\u001b[0m\n\u001b[0m\u001b[0;32m   6418\u001b[0m \u001b[1;33m\u001b[0m\u001b[0m\n\u001b[0;32m   6419\u001b[0m         \u001b[1;32mif\u001b[0m \u001b[0misinstance\u001b[0m\u001b[1;33m(\u001b[0m\u001b[0mslc\u001b[0m\u001b[1;33m,\u001b[0m \u001b[0mnp\u001b[0m\u001b[1;33m.\u001b[0m\u001b[0mndarray\u001b[0m\u001b[1;33m)\u001b[0m\u001b[1;33m:\u001b[0m\u001b[1;33m\u001b[0m\u001b[1;33m\u001b[0m\u001b[0m\n",
      "\u001b[1;32m~\\Anaconda3\\lib\\site-packages\\pandas\\core\\indexes\\base.py\u001b[0m in \u001b[0;36mget_slice_bound\u001b[1;34m(self, label, side, kind)\u001b[0m\n\u001b[0;32m   6409\u001b[0m         \u001b[1;31m# we need to look up the label\u001b[0m\u001b[1;33m\u001b[0m\u001b[1;33m\u001b[0m\u001b[0m\n\u001b[0;32m   6410\u001b[0m         \u001b[1;32mtry\u001b[0m\u001b[1;33m:\u001b[0m\u001b[1;33m\u001b[0m\u001b[1;33m\u001b[0m\u001b[0m\n\u001b[1;32m-> 6411\u001b[1;33m             \u001b[0mslc\u001b[0m \u001b[1;33m=\u001b[0m \u001b[0mself\u001b[0m\u001b[1;33m.\u001b[0m\u001b[0mget_loc\u001b[0m\u001b[1;33m(\u001b[0m\u001b[0mlabel\u001b[0m\u001b[1;33m)\u001b[0m\u001b[1;33m\u001b[0m\u001b[1;33m\u001b[0m\u001b[0m\n\u001b[0m\u001b[0;32m   6412\u001b[0m         \u001b[1;32mexcept\u001b[0m \u001b[0mKeyError\u001b[0m \u001b[1;32mas\u001b[0m \u001b[0merr\u001b[0m\u001b[1;33m:\u001b[0m\u001b[1;33m\u001b[0m\u001b[1;33m\u001b[0m\u001b[0m\n\u001b[0;32m   6413\u001b[0m             \u001b[1;32mtry\u001b[0m\u001b[1;33m:\u001b[0m\u001b[1;33m\u001b[0m\u001b[1;33m\u001b[0m\u001b[0m\n",
      "\u001b[1;32m~\\Anaconda3\\lib\\site-packages\\pandas\\core\\indexes\\base.py\u001b[0m in \u001b[0;36mget_loc\u001b[1;34m(self, key, method, tolerance)\u001b[0m\n\u001b[0;32m   3629\u001b[0m                 \u001b[1;32mreturn\u001b[0m \u001b[0mself\u001b[0m\u001b[1;33m.\u001b[0m\u001b[0m_engine\u001b[0m\u001b[1;33m.\u001b[0m\u001b[0mget_loc\u001b[0m\u001b[1;33m(\u001b[0m\u001b[0mcasted_key\u001b[0m\u001b[1;33m)\u001b[0m\u001b[1;33m\u001b[0m\u001b[1;33m\u001b[0m\u001b[0m\n\u001b[0;32m   3630\u001b[0m             \u001b[1;32mexcept\u001b[0m \u001b[0mKeyError\u001b[0m \u001b[1;32mas\u001b[0m \u001b[0merr\u001b[0m\u001b[1;33m:\u001b[0m\u001b[1;33m\u001b[0m\u001b[1;33m\u001b[0m\u001b[0m\n\u001b[1;32m-> 3631\u001b[1;33m                 \u001b[1;32mraise\u001b[0m \u001b[0mKeyError\u001b[0m\u001b[1;33m(\u001b[0m\u001b[0mkey\u001b[0m\u001b[1;33m)\u001b[0m \u001b[1;32mfrom\u001b[0m \u001b[0merr\u001b[0m\u001b[1;33m\u001b[0m\u001b[1;33m\u001b[0m\u001b[0m\n\u001b[0m\u001b[0;32m   3632\u001b[0m             \u001b[1;32mexcept\u001b[0m \u001b[0mTypeError\u001b[0m\u001b[1;33m:\u001b[0m\u001b[1;33m\u001b[0m\u001b[1;33m\u001b[0m\u001b[0m\n\u001b[0;32m   3633\u001b[0m                 \u001b[1;31m# If we have a listlike key, _check_indexing_error will raise\u001b[0m\u001b[1;33m\u001b[0m\u001b[1;33m\u001b[0m\u001b[0m\n",
      "\u001b[1;31mKeyError\u001b[0m: 'Dec Qty Sold2022'"
     ]
    }
   ],
   "source": [
    "final_final_final=pd.concat([final_final_final.loc[:, 'index': 'Store/Location Name'], final_final_final.loc[:, 'Dec Qty Sold2022':]], axis=1)"
   ]
  },
  {
   "cell_type": "code",
   "execution_count": null,
   "id": "2df199a5",
   "metadata": {
    "scrolled": true
   },
   "outputs": [],
   "source": [
    "final_final_final.iloc[:, 7:]"
   ]
  },
  {
   "cell_type": "code",
   "execution_count": null,
   "id": "5c044313",
   "metadata": {},
   "outputs": [],
   "source": [
    "s=12\n",
    "e=13\n",
    "q=8\n",
    "\n",
    "#mask if unit_price>0 but less than 200 and gp was above 0.23\n",
    "#q is column for quantity sold. .iloc.name so that we can get the name of the column. mask doesnt work iloc; only loc.\n",
    "for i in [i for i in final_final_final if 'Sold' in i]:\n",
    "    mask1=(final_final_final.iloc[:, s] > 0) & (final_final_final.iloc[:, s]<200) & (final_final_final.iloc[:, e]>0.23)\n",
    "    final_final_final.loc[mask1, '0-200']+=final_final_final.loc[mask1, final_final_final.iloc[:, q].name]\n",
    "    \n",
    "    mask2=(final_final_final.iloc[:, s] >= 200) & (final_final_final.iloc[:, s]<400) & (final_final_final.iloc[:, e]>0.23)\n",
    "    final_final_final.loc[mask2, '200-400']+=final_final_final.loc[mask2, final_final_final.iloc[:, q].name]\n",
    "    \n",
    "    mask3=(final_final_final.iloc[:, s] >= 400) & (final_final_final.iloc[:, s]<600) & (final_final_final.iloc[:, e]>0.23)\n",
    "    final_final_final.loc[mask3, '400-600']+=final_final_final.loc[mask3, final_final_final.iloc[:, q].name]\n",
    "\n",
    "    mask4=(final_final_final.iloc[:, s] >= 600) & (final_final_final.iloc[:, s]<800) & (final_final_final.iloc[:, e]>0.23)\n",
    "    final_final_final.loc[mask4, '600-800']+=final_final_final.loc[mask4, final_final_final.iloc[:, q].name]\n",
    "    \n",
    "    mask5=(final_final_final.iloc[:, s] >= 800) & (final_final_final.iloc[:, s]<1000) & (final_final_final.iloc[:, e]>0.23)\n",
    "    final_final_final.loc[mask5, '800-1000']+=final_final_final.loc[mask5, final_final_final.iloc[:, q].name]\n",
    "    \n",
    "    mask6=(final_final_final.iloc[:, s] >= 1000) & (final_final_final.iloc[:, s]<1500) & (final_final_final.iloc[:, e]>0.23)\n",
    "    final_final_final.loc[mask6, '1000-1500']+=final_final_final.loc[mask6, final_final_final.iloc[:, q].name]\n",
    "    \n",
    "    mask7=(final_final_final.iloc[:, s] >= 1500) & (final_final_final.iloc[:, s]<2500) & (final_final_final.iloc[:, e]>0.23)\n",
    "    final_final_final.loc[mask7, '1500-2500']+=final_final_final.loc[mask7, final_final_final.iloc[:, q].name]\n",
    "    \n",
    "    mask8=(final_final_final.iloc[:, s] >= 2500) & (final_final_final.iloc[:, e]>0.23)\n",
    "    final_final_final.loc[mask8, '2500+']+=final_final_final.loc[mask8, final_final_final.iloc[:, q].name]\n",
    "    \n",
    "        \n",
    "    \n",
    "    s+=7\n",
    "    e+=7\n",
    "    q+=7\n",
    "    "
   ]
  },
  {
   "cell_type": "code",
   "execution_count": 29,
   "id": "da62b8f9",
   "metadata": {},
   "outputs": [],
   "source": [
    "# pd.concat([final_final_final.iloc[:, :8], final_final_final.loc[:, '0-200':]], axis=1).to_csv('price_analysis_table_Dec2022tonow.csv')\n",
    " # table to analyze   "
   ]
  },
  {
   "cell_type": "code",
   "execution_count": 30,
   "id": "aeb547e0",
   "metadata": {},
   "outputs": [],
   "source": [
    "#final_final_final.iloc[:, :8]"
   ]
  },
  {
   "cell_type": "raw",
   "id": "cd241f53",
   "metadata": {},
   "source": [
    "MASKING IDEA\n",
    "df = pd.DataFrame({'col1': [100, 150, 250, 50], 'col2': [50, 0, 100, 0], 'col3': [0, 0, 0, 0], 'colX': [5, 10, 15, 20]})\n",
    "\n",
    "mask = (df.iloc[:, 0] >= 0) & (df.iloc[:, 0] <= 200) & (df.iloc[:, 1] > 0) & (~df.iloc[:, 3].isna())\n",
    "\n",
    "df.loc[mask, 'col3'] += df.loc[mask, 'colX']\n",
    "\n",
    "df.loc[mask & df.iloc[:, 3].isna(), 'col2'] += df.loc[mask & df.iloc[:, 3].isna(), 'col1']"
   ]
  },
  {
   "cell_type": "code",
   "execution_count": 31,
   "id": "5a54e073",
   "metadata": {},
   "outputs": [
    {
     "data": {
      "text/html": [
       "<div>\n",
       "<style scoped>\n",
       "    .dataframe tbody tr th:only-of-type {\n",
       "        vertical-align: middle;\n",
       "    }\n",
       "\n",
       "    .dataframe tbody tr th {\n",
       "        vertical-align: top;\n",
       "    }\n",
       "\n",
       "    .dataframe thead th {\n",
       "        text-align: right;\n",
       "    }\n",
       "</style>\n",
       "<table border=\"1\" class=\"dataframe\">\n",
       "  <thead>\n",
       "    <tr style=\"text-align: right;\">\n",
       "      <th></th>\n",
       "      <th>index</th>\n",
       "      <th>Item No.</th>\n",
       "      <th>Item Description</th>\n",
       "      <th>Brand</th>\n",
       "      <th>Department</th>\n",
       "      <th>Location Type</th>\n",
       "      <th>Store/Location Name</th>\n",
       "      <th>Month_selling_frequency</th>\n",
       "      <th>Monthly_selling_frequency_last6months</th>\n",
       "      <th>Monthly_selling_frequency_last3months</th>\n",
       "      <th>...</th>\n",
       "      <th>Feb2024SellRate</th>\n",
       "      <th>OptimumGP</th>\n",
       "      <th>0-200</th>\n",
       "      <th>200-400</th>\n",
       "      <th>400-600</th>\n",
       "      <th>600-800</th>\n",
       "      <th>800-1000</th>\n",
       "      <th>1000-1500</th>\n",
       "      <th>1500-2500</th>\n",
       "      <th>2500+</th>\n",
       "    </tr>\n",
       "  </thead>\n",
       "  <tbody>\n",
       "    <tr>\n",
       "      <th>0</th>\n",
       "      <td>0</td>\n",
       "      <td>167003170</td>\n",
       "      <td>\"\"CANDLELIGHT 5X7\"\" RESIN PHOTO FRAME LOOPS GO...</td>\n",
       "      <td>CANDLELIGHT</td>\n",
       "      <td>Giftware</td>\n",
       "      <td>Retail</td>\n",
       "      <td>RETAIL THE FIVE ELEMENTS</td>\n",
       "      <td>0</td>\n",
       "      <td>0</td>\n",
       "      <td>0</td>\n",
       "      <td>...</td>\n",
       "      <td>0.0</td>\n",
       "      <td>NaN</td>\n",
       "      <td>0</td>\n",
       "      <td>0</td>\n",
       "      <td>0</td>\n",
       "      <td>0</td>\n",
       "      <td>0</td>\n",
       "      <td>0</td>\n",
       "      <td>0</td>\n",
       "      <td>0</td>\n",
       "    </tr>\n",
       "    <tr>\n",
       "      <th>1</th>\n",
       "      <td>1</td>\n",
       "      <td>31429000005</td>\n",
       "      <td>\"\"CWS CREATE YOUR OWN DINOSAUR TIMELINE &amp; WORL...</td>\n",
       "      <td>CWS</td>\n",
       "      <td>Giftware</td>\n",
       "      <td>Warehouse</td>\n",
       "      <td>MAIN WAREHOUSE</td>\n",
       "      <td>1</td>\n",
       "      <td>1</td>\n",
       "      <td>1</td>\n",
       "      <td>...</td>\n",
       "      <td>0.0</td>\n",
       "      <td>0.102615</td>\n",
       "      <td>0</td>\n",
       "      <td>0</td>\n",
       "      <td>0</td>\n",
       "      <td>0</td>\n",
       "      <td>0</td>\n",
       "      <td>0</td>\n",
       "      <td>0</td>\n",
       "      <td>0</td>\n",
       "    </tr>\n",
       "    <tr>\n",
       "      <th>2</th>\n",
       "      <td>2</td>\n",
       "      <td>167002159</td>\n",
       "      <td>\"\"ELYSIUM AVOCADO, LIME AND SEA SALT SCRUB 200...</td>\n",
       "      <td>STRAITS</td>\n",
       "      <td>Giftware</td>\n",
       "      <td>Warehouse</td>\n",
       "      <td>GIFTWARE WAREHOUSE</td>\n",
       "      <td>0</td>\n",
       "      <td>0</td>\n",
       "      <td>0</td>\n",
       "      <td>...</td>\n",
       "      <td>0.0</td>\n",
       "      <td>NaN</td>\n",
       "      <td>0</td>\n",
       "      <td>0</td>\n",
       "      <td>0</td>\n",
       "      <td>0</td>\n",
       "      <td>0</td>\n",
       "      <td>0</td>\n",
       "      <td>0</td>\n",
       "      <td>0</td>\n",
       "    </tr>\n",
       "    <tr>\n",
       "      <th>3</th>\n",
       "      <td>3</td>\n",
       "      <td>167002160</td>\n",
       "      <td>\"\"ELYSIUM TEA TREE, LEMON AND SEA SALT SCRUB 2...</td>\n",
       "      <td>STRAITS</td>\n",
       "      <td>Giftware</td>\n",
       "      <td>Warehouse</td>\n",
       "      <td>GIFTWARE WAREHOUSE</td>\n",
       "      <td>0</td>\n",
       "      <td>0</td>\n",
       "      <td>0</td>\n",
       "      <td>...</td>\n",
       "      <td>0.0</td>\n",
       "      <td>NaN</td>\n",
       "      <td>0</td>\n",
       "      <td>0</td>\n",
       "      <td>0</td>\n",
       "      <td>0</td>\n",
       "      <td>0</td>\n",
       "      <td>0</td>\n",
       "      <td>0</td>\n",
       "      <td>0</td>\n",
       "    </tr>\n",
       "    <tr>\n",
       "      <th>4</th>\n",
       "      <td>4</td>\n",
       "      <td>31429450011</td>\n",
       "      <td>\"\"EUROWRAP 18\"\" GONK CUTE FOIL BALLOON 48S #X-...</td>\n",
       "      <td>EUROWRAP</td>\n",
       "      <td>Giftware</td>\n",
       "      <td>Warehouse</td>\n",
       "      <td>GIFTWARE WAREHOUSE</td>\n",
       "      <td>0</td>\n",
       "      <td>0</td>\n",
       "      <td>0</td>\n",
       "      <td>...</td>\n",
       "      <td>0.0</td>\n",
       "      <td>NaN</td>\n",
       "      <td>0</td>\n",
       "      <td>0</td>\n",
       "      <td>0</td>\n",
       "      <td>0</td>\n",
       "      <td>0</td>\n",
       "      <td>0</td>\n",
       "      <td>0</td>\n",
       "      <td>0</td>\n",
       "    </tr>\n",
       "  </tbody>\n",
       "</table>\n",
       "<p>5 rows × 117 columns</p>\n",
       "</div>"
      ],
      "text/plain": [
       "   index     Item No.                                   Item Description  \\\n",
       "0      0    167003170  \"\"CANDLELIGHT 5X7\"\" RESIN PHOTO FRAME LOOPS GO...   \n",
       "1      1  31429000005  \"\"CWS CREATE YOUR OWN DINOSAUR TIMELINE & WORL...   \n",
       "2      2    167002159  \"\"ELYSIUM AVOCADO, LIME AND SEA SALT SCRUB 200...   \n",
       "3      3    167002160  \"\"ELYSIUM TEA TREE, LEMON AND SEA SALT SCRUB 2...   \n",
       "4      4  31429450011  \"\"EUROWRAP 18\"\" GONK CUTE FOIL BALLOON 48S #X-...   \n",
       "\n",
       "         Brand Department Location Type       Store/Location Name  \\\n",
       "0  CANDLELIGHT   Giftware        Retail  RETAIL THE FIVE ELEMENTS   \n",
       "1          CWS   Giftware     Warehouse            MAIN WAREHOUSE   \n",
       "2      STRAITS   Giftware     Warehouse        GIFTWARE WAREHOUSE   \n",
       "3      STRAITS   Giftware     Warehouse        GIFTWARE WAREHOUSE   \n",
       "4     EUROWRAP   Giftware     Warehouse        GIFTWARE WAREHOUSE   \n",
       "\n",
       "   Month_selling_frequency  Monthly_selling_frequency_last6months  \\\n",
       "0                        0                                      0   \n",
       "1                        1                                      1   \n",
       "2                        0                                      0   \n",
       "3                        0                                      0   \n",
       "4                        0                                      0   \n",
       "\n",
       "   Monthly_selling_frequency_last3months  ...  Feb2024SellRate  OptimumGP  \\\n",
       "0                                      0  ...              0.0        NaN   \n",
       "1                                      1  ...              0.0   0.102615   \n",
       "2                                      0  ...              0.0        NaN   \n",
       "3                                      0  ...              0.0        NaN   \n",
       "4                                      0  ...              0.0        NaN   \n",
       "\n",
       "   0-200  200-400  400-600  600-800  800-1000  1000-1500  1500-2500  2500+  \n",
       "0      0        0        0        0         0          0          0      0  \n",
       "1      0        0        0        0         0          0          0      0  \n",
       "2      0        0        0        0         0          0          0      0  \n",
       "3      0        0        0        0         0          0          0      0  \n",
       "4      0        0        0        0         0          0          0      0  \n",
       "\n",
       "[5 rows x 117 columns]"
      ]
     },
     "execution_count": 31,
     "metadata": {},
     "output_type": "execute_result"
    }
   ],
   "source": [
    "final_final_final.head()"
   ]
  },
  {
   "cell_type": "markdown",
   "id": "feb67248",
   "metadata": {},
   "source": [
    "OKAY. NOW WE START THE ROTATION PROCESS. PRICES ANALYSIS WILL PROVE USEFUL WHEN IT COMES TO PRODUCTS THAT CAN ROTATE BASED ON HISTORICAL SALES. WE'LL HAVE TO LOOK AT IT FROM A DEPARTMENTAL POV"
   ]
  },
  {
   "cell_type": "code",
   "execution_count": 32,
   "id": "e8b26ef0",
   "metadata": {},
   "outputs": [],
   "source": [
    "#stock_and_sales [stock_and_sales ['Item Description'] == \"MARIGOLD VEGAN GF ENGEVITA YEAST FLAKES 100G#MG15689\"]"
   ]
  },
  {
   "cell_type": "code",
   "execution_count": 33,
   "id": "ad0dc4c3",
   "metadata": {},
   "outputs": [],
   "source": [
    "stock_and_sales_C=stock_and_sales.copy()"
   ]
  },
  {
   "cell_type": "code",
   "execution_count": 34,
   "id": "b8c84205",
   "metadata": {},
   "outputs": [],
   "source": [
    "stock_and_sales_C['Item No.']=stock_and_sales_C ['Item No.'].astype(str)"
   ]
  },
  {
   "cell_type": "code",
   "execution_count": 35,
   "id": "e7973181",
   "metadata": {},
   "outputs": [],
   "source": [
    "#Omitting Carrefour"
   ]
  },
  {
   "cell_type": "code",
   "execution_count": 36,
   "id": "64343da9",
   "metadata": {},
   "outputs": [],
   "source": [
    "stock_and_sales_C=stock_and_sales_C[~stock_and_sales_C.isin({'Store/Location Name': ['CARREFOUR MEGA (EXPRESS)']})['Store/Location Name']]"
   ]
  },
  {
   "cell_type": "code",
   "execution_count": 37,
   "id": "4a3c4a9b",
   "metadata": {},
   "outputs": [],
   "source": [
    "stock_and_sales_C=stock_and_sales_C[~stock_and_sales_C.isin({'Department': ['Giftware', 'Gftware', 'Packaging Materials', 'Assets & Consumables']})['Department']]"
   ]
  },
  {
   "cell_type": "markdown",
   "id": "414e18e3",
   "metadata": {},
   "source": [
    "We need to create a move to table, based on sales and GP\n",
    "If GP is above 0.23 and sell rate is 0.25 and shop can hold the incoming stock for the next two months. Shop transferring the item should be left with two months of sales stock.\n",
    "\n",
    "Rotate to shops first, then to warehouse if item is shared. How will we know shared items? Anyhting that has sold in both retail and main can be considered as shared. However, if it hasn't sold in main for the last 3 months, we can assume it has switched to retail only and vice versa."
   ]
  },
  {
   "cell_type": "code",
   "execution_count": 38,
   "id": "ae86d188",
   "metadata": {},
   "outputs": [],
   "source": [
    "stock_shops=stock_and_sales_C[['Item Description', 'Store/Location Name']].groupby('Item Description')['Store/Location Name'].agg(set)"
   ]
  },
  {
   "cell_type": "code",
   "execution_count": 39,
   "id": "7ad32044",
   "metadata": {},
   "outputs": [],
   "source": [
    "stock_shop_dict=stock_shops.to_dict()"
   ]
  },
  {
   "cell_type": "code",
   "execution_count": 40,
   "id": "7d2e7b7b",
   "metadata": {},
   "outputs": [],
   "source": [
    "shared=[]\n",
    "for i in stock_shop_dict:\n",
    "    if 'MAIN WAREHOUSE' in stock_shop_dict[i]:\n",
    "        shared.append(i)"
   ]
  },
  {
   "cell_type": "markdown",
   "id": "aca84dc2",
   "metadata": {},
   "source": [
    "shared has a list of all shared items"
   ]
  },
  {
   "cell_type": "code",
   "execution_count": 41,
   "id": "5feaa3e3",
   "metadata": {
    "scrolled": true
   },
   "outputs": [],
   "source": [
    "Instock_import = pd.read_excel(\"C:\\\\Users\\\\Geoffrey.Oute\\\\Desktop\\\\David\\\\Stock & Monthwise Current Month\\\\03_2024.xlsx\")"
   ]
  },
  {
   "cell_type": "code",
   "execution_count": 42,
   "id": "045fce7e",
   "metadata": {},
   "outputs": [],
   "source": [
    "Instock_import ['Item No.']= Instock_import ['Item No.'].astype(str)"
   ]
  },
  {
   "cell_type": "code",
   "execution_count": 43,
   "id": "a30733ee",
   "metadata": {},
   "outputs": [],
   "source": [
    "path_current_month=\"C:\\\\Users\\\\Geoffrey.Oute\\\\Desktop\\\\David\\\\Stock & Monthwise Current Month\"\n",
    "file_names_current_month=[]\n",
    "for i in os.listdir(path_current_month):\n",
    "    file_names_current_month.append(i.replace('.xlsx', \"\"))\n"
   ]
  },
  {
   "cell_type": "code",
   "execution_count": 44,
   "id": "3dc90e1d",
   "metadata": {},
   "outputs": [
    {
     "data": {
      "text/plain": [
       "['03_2024']"
      ]
     },
     "execution_count": 44,
     "metadata": {},
     "output_type": "execute_result"
    }
   ],
   "source": [
    "file_names_current_month"
   ]
  },
  {
   "cell_type": "code",
   "execution_count": 45,
   "id": "0c4e7ffa",
   "metadata": {},
   "outputs": [],
   "source": [
    "#DYMATIZE ISO-100 GOURMET VANILLA 2.3KG #D35321A"
   ]
  },
  {
   "cell_type": "code",
   "execution_count": 46,
   "id": "dda2700f",
   "metadata": {},
   "outputs": [],
   "source": [
    "#Lets calculate current month rate of sale. Will help to check if the sale is picking up. If it is picking up, then we don't\n",
    "# move the item. If it is constant or dropping, then transfer.\n",
    "\n",
    "index_start=0\n",
    "\n",
    "index_trace=[]\n",
    "holding_list=[]\n",
    "for i in file_names_current_month:\n",
    "    month = re.search('[0-9]+', i).group()\n",
    "    year=re.search('[^_]*$', i).group()\n",
    "    \n",
    "    file_name=\"C:\\\\Users\\\\Geoffrey.Oute\\\\Desktop\\\\David\\\\Stock & Monthwise Current Month\\\\{x}_{y}.xlsx\"\n",
    "    temp_table=pd.read_excel(file_name.format(x=month, y=year))\n",
    "    temp_table['Month']= int(month)\n",
    "    temp_table['Year']=int(year)\n",
    "    index_trace.append(len(temp_table))\n",
    "    temp_table.set_axis(range(index_start, sum(index_trace)), inplace=True)\n",
    "    temp_table['monthlystock'+month]= temp_table['Total Quantity Sold']+temp_table['Closing Stock']\n",
    "    temp_table['month'+month+year+'sales']=temp_table['Total Sales Amount']\n",
    "    #temp_table['month'+month+year+'GP']=temp_table['Gross Profit %']\n",
    "    temp_table ['month'+month+year+'COGS']=temp_table['COGS']\n",
    "    holding_list.append(temp_table)\n",
    "    #print (index_start, index_trace )\n",
    "    index_start=sum(index_trace)\n",
    "    \n",
    "table_current_month=pd.concat(holding_list)"
   ]
  },
  {
   "cell_type": "code",
   "execution_count": 48,
   "id": "b7edfc1a",
   "metadata": {},
   "outputs": [],
   "source": [
    "QtySold=table_current_month[[ i for i in table_current_month.columns if 'Qty' in i ]].sum(axis=1)\n",
    "table_current_month['Current_Month_QtySold']=QtySold\n",
    "table_current_month ['Sell_Rate_Current_Month']=table_current_month.Current_Month_QtySold/table_current_month.monthlystock03\n",
    "#The line above is changeable. monthlystock should change to current month\n",
    "current_stock=Instock_import[['Item Description', 'Item No.', 'Store/Location Name', 'InStock']]"
   ]
  },
  {
   "cell_type": "code",
   "execution_count": 49,
   "id": "88bea4f9",
   "metadata": {},
   "outputs": [],
   "source": [
    "sell_rate_table_current_month=table_current_month[['Item Description', 'Item No.', 'Store/Location Name', 'Sell_Rate_Current_Month']].copy()"
   ]
  },
  {
   "cell_type": "code",
   "execution_count": 50,
   "id": "8db21bc8",
   "metadata": {},
   "outputs": [],
   "source": [
    "array=stock_and_sales_C[[i for i in stock_and_sales_C.columns if 'Sold' in i]].values"
   ]
  },
  {
   "cell_type": "code",
   "execution_count": 51,
   "id": "28f91610",
   "metadata": {},
   "outputs": [],
   "source": [
    "medianlast6months=np.median(array[:,-6:], axis=1)\n",
    "medianlast3months=np.median(array[:,-3:], axis=1)\n",
    "medianbeforelast6months = np.median (array[:,-6::-1])"
   ]
  },
  {
   "cell_type": "code",
   "execution_count": 52,
   "id": "6b012c05",
   "metadata": {},
   "outputs": [],
   "source": [
    "stock_and_sales_D=stock_and_sales_C.copy()"
   ]
  },
  {
   "cell_type": "code",
   "execution_count": 53,
   "id": "298a1fdb",
   "metadata": {},
   "outputs": [],
   "source": [
    "stock_and_sales_D['units_sold_median_last6']=medianlast6months\n",
    "stock_and_sales_D['units_sold_median_last3']=medianlast3months\n",
    "stock_and_sales_D['units_sold_before_the_last6']=medianbeforelast6months"
   ]
  },
  {
   "cell_type": "markdown",
   "id": "be77239c",
   "metadata": {},
   "source": [
    "NOW THAT WE HAVE THE MIN MAX...WE CAN USE THE MEAN FROM MIN MAX AS HARMNONIZED MEAN"
   ]
  },
  {
   "cell_type": "code",
   "execution_count": 54,
   "id": "0306e239",
   "metadata": {},
   "outputs": [],
   "source": [
    "read_min_max= pd.read_excel(\"C:\\\\Users\\\\Geoffrey.Oute\\\\Desktop\\\\Automation Sandbox\\\\MIN MAX\\\\min max as at 04_03_2024.xlsx\")"
   ]
  },
  {
   "cell_type": "code",
   "execution_count": 55,
   "id": "7a7ba862",
   "metadata": {},
   "outputs": [],
   "source": [
    "read_min_max['Mean'] = read_min_max.Mean.apply(lambda x: 1 if x < 1 else x)"
   ]
  },
  {
   "cell_type": "code",
   "execution_count": 56,
   "id": "62fdb55d",
   "metadata": {},
   "outputs": [],
   "source": [
    "read_min_max['Item No.'] = read_min_max['Item No.'].astype(str)"
   ]
  },
  {
   "cell_type": "code",
   "execution_count": 57,
   "id": "3347bbf7",
   "metadata": {},
   "outputs": [],
   "source": [
    "# read_min_max [read_min_max ['Item No.']==40225010242]"
   ]
  },
  {
   "cell_type": "code",
   "execution_count": 58,
   "id": "de581262",
   "metadata": {
    "scrolled": false
   },
   "outputs": [],
   "source": [
    "read_min_max.drop_duplicates(inplace=True) "
   ]
  },
  {
   "cell_type": "code",
   "execution_count": 59,
   "id": "c3c21f11",
   "metadata": {},
   "outputs": [],
   "source": [
    "# nw=new_item_codes [['New Item No.', 'Existing Old Item Code']]\n",
    "# nw=nw.copy()"
   ]
  },
  {
   "cell_type": "code",
   "execution_count": 60,
   "id": "dec4e7d7",
   "metadata": {},
   "outputs": [],
   "source": [
    "# nw ['New Item No.'] = nw ['New Item No.'].astype(str) \n",
    "# nw ['Existing Old Item Code']  = nw ['Existing Old Item Code'].astype(str) "
   ]
  },
  {
   "cell_type": "code",
   "execution_count": 61,
   "id": "0ac7ce70",
   "metadata": {},
   "outputs": [],
   "source": [
    "def harmonizedmean(x):\n",
    "    if x.units_sold_median_last6 <= x.units_sold_median_last3:\n",
    "        return x.units_sold_median_last3\n",
    "    \n",
    "    elif x.units_sold_median_last6 <=0 and x.units_sold_median_last3 <=0:\n",
    "        return medianbeforelast6months\n",
    "        # in case we don't have last 6 months data, go back to before the last 6 months\n",
    "    \n",
    "    else:\n",
    "        return x.units_sold_median_last6\n",
    "    \n",
    "harmonized_mean=stock_and_sales_D.apply(harmonizedmean, axis=1)"
   ]
  },
  {
   "cell_type": "code",
   "execution_count": 62,
   "id": "922ff2c8",
   "metadata": {},
   "outputs": [],
   "source": [
    "stock_and_sales_D['harmonized_mean'] = harmonized_mean"
   ]
  },
  {
   "cell_type": "code",
   "execution_count": 63,
   "id": "9d0f0aea",
   "metadata": {},
   "outputs": [],
   "source": [
    "# stock_and_sales_D[stock_and_sales_D ['Item No.']=='30128680001'] [['Item No.', 'Store/Location Name', 'harmonized_mean']]"
   ]
  },
  {
   "cell_type": "code",
   "execution_count": 64,
   "id": "c7fb2f4c",
   "metadata": {},
   "outputs": [],
   "source": [
    "read_min_max.rename(columns= {'Branches': 'Store/Location Name'}, inplace=True)"
   ]
  },
  {
   "cell_type": "code",
   "execution_count": 65,
   "id": "657fb09f",
   "metadata": {
    "scrolled": true
   },
   "outputs": [
    {
     "data": {
      "text/html": [
       "<div>\n",
       "<style scoped>\n",
       "    .dataframe tbody tr th:only-of-type {\n",
       "        vertical-align: middle;\n",
       "    }\n",
       "\n",
       "    .dataframe tbody tr th {\n",
       "        vertical-align: top;\n",
       "    }\n",
       "\n",
       "    .dataframe thead th {\n",
       "        text-align: right;\n",
       "    }\n",
       "</style>\n",
       "<table border=\"1\" class=\"dataframe\">\n",
       "  <thead>\n",
       "    <tr style=\"text-align: right;\">\n",
       "      <th></th>\n",
       "      <th>Item No.</th>\n",
       "      <th>Item Description</th>\n",
       "      <th>Department</th>\n",
       "      <th>Store/Location Name</th>\n",
       "      <th>selling_status</th>\n",
       "      <th>Last Seen</th>\n",
       "      <th>Mean</th>\n",
       "      <th>Main Order/Top Up Mean</th>\n",
       "      <th>MAX 1.5 Months</th>\n",
       "    </tr>\n",
       "  </thead>\n",
       "  <tbody>\n",
       "  </tbody>\n",
       "</table>\n",
       "</div>"
      ],
      "text/plain": [
       "Empty DataFrame\n",
       "Columns: [Item No., Item Description, Department, Store/Location Name, selling_status, Last Seen, Mean, Main Order/Top Up Mean, MAX 1.5 Months]\n",
       "Index: []"
      ]
     },
     "execution_count": 65,
     "metadata": {},
     "output_type": "execute_result"
    }
   ],
   "source": [
    "read_min_max[read_min_max ['Item No.']==101000136]"
   ]
  },
  {
   "cell_type": "code",
   "execution_count": 66,
   "id": "5655bf87",
   "metadata": {
    "scrolled": false
   },
   "outputs": [],
   "source": [
    "stock_and_sales_D=pd.merge(left=stock_and_sales_D, right = read_min_max[['Item No.', 'Store/Location Name', 'Mean']], on = ['Item No.','Store/Location Name'], how='left')"
   ]
  },
  {
   "cell_type": "code",
   "execution_count": 67,
   "id": "0b973b0e",
   "metadata": {},
   "outputs": [],
   "source": [
    "stock_and_sales_D ['Item No.'] = stock_and_sales_D ['Item No.'].astype(str)"
   ]
  },
  {
   "cell_type": "code",
   "execution_count": 68,
   "id": "ba8bc0ef",
   "metadata": {},
   "outputs": [],
   "source": [
    "# stock_and_sales_D [stock_and_sales_D ['Item No.']==18200910012].to_csv('sfdf.csv')"
   ]
  },
  {
   "cell_type": "code",
   "execution_count": 69,
   "id": "0a5cd310",
   "metadata": {},
   "outputs": [],
   "source": [
    "stock_and_sales_D.rename(columns={'harmonized_mean': 'old_harmonized_mean', 'Mean': 'harmonized_mean'}, inplace=True)"
   ]
  },
  {
   "cell_type": "code",
   "execution_count": 70,
   "id": "cd826dc0",
   "metadata": {},
   "outputs": [],
   "source": [
    "stock_and_sales_D['MaxStock']=stock_and_sales_D.harmonized_mean * 1.5\n",
    "stock_and_sales_D['MinStock']=stock_and_sales_D.harmonized_mean * 0.9"
   ]
  },
  {
   "cell_type": "raw",
   "id": "05fbe3f1",
   "metadata": {},
   "source": [
    "stock_and_sales_D ['Item No.'] = stock_and_sales_D ['Item No.'].astype(str)\n",
    "\n",
    "current_stock['Item No.'] = current_stock ['Item No.'].astype(str)"
   ]
  },
  {
   "cell_type": "raw",
   "id": "7e631678",
   "metadata": {},
   "source": [
    "nw.rename(columns={\"Existing Old Item Code\": \"Item No.\"}, inplace=True)"
   ]
  },
  {
   "cell_type": "raw",
   "id": "c6354ba5",
   "metadata": {},
   "source": [
    "stock_temp1= pd.merge(left=stock_and_sales_D, right = nw, how='left', on = 'Item No.')"
   ]
  },
  {
   "cell_type": "raw",
   "id": "599b7197",
   "metadata": {},
   "source": [
    "stock_temp1 ['Item No.'] = stock_temp1 ['New Item No.']"
   ]
  },
  {
   "cell_type": "raw",
   "id": "d1b98ab9",
   "metadata": {},
   "source": [
    "stock_temp1.drop('New Item No.', inplace=True, axis=1)"
   ]
  },
  {
   "cell_type": "code",
   "execution_count": 71,
   "id": "833c931e",
   "metadata": {},
   "outputs": [
    {
     "name": "stdout",
     "output_type": "stream",
     "text": [
      "<class 'pandas.core.series.Series'>\n",
      "Int64Index: 161740 entries, 0 to 161739\n",
      "Series name: Item No.\n",
      "Non-Null Count   Dtype \n",
      "--------------   ----- \n",
      "161740 non-null  object\n",
      "dtypes: object(1)\n",
      "memory usage: 2.5+ MB\n"
     ]
    }
   ],
   "source": [
    "stock_and_sales_D['Item No.'].info()"
   ]
  },
  {
   "cell_type": "code",
   "execution_count": 72,
   "id": "090126cc",
   "metadata": {},
   "outputs": [
    {
     "name": "stdout",
     "output_type": "stream",
     "text": [
      "<class 'pandas.core.frame.DataFrame'>\n",
      "RangeIndex: 102239 entries, 0 to 102238\n",
      "Data columns (total 4 columns):\n",
      " #   Column               Non-Null Count   Dtype  \n",
      "---  ------               --------------   -----  \n",
      " 0   Item Description     102239 non-null  object \n",
      " 1   Item No.             102239 non-null  object \n",
      " 2   Store/Location Name  102239 non-null  object \n",
      " 3   InStock              102239 non-null  float64\n",
      "dtypes: float64(1), object(3)\n",
      "memory usage: 3.1+ MB\n"
     ]
    }
   ],
   "source": [
    "current_stock.info()"
   ]
  },
  {
   "cell_type": "code",
   "execution_count": 73,
   "id": "2ed84f98",
   "metadata": {},
   "outputs": [
    {
     "name": "stderr",
     "output_type": "stream",
     "text": [
      "C:\\Users\\Geoffrey.Oute\\AppData\\Local\\Temp\\ipykernel_17320\\2614597672.py:1: SettingWithCopyWarning: \n",
      "A value is trying to be set on a copy of a slice from a DataFrame.\n",
      "Try using .loc[row_indexer,col_indexer] = value instead\n",
      "\n",
      "See the caveats in the documentation: https://pandas.pydata.org/pandas-docs/stable/user_guide/indexing.html#returning-a-view-versus-a-copy\n",
      "  current_stock ['Item No.'] = current_stock ['Item No.'].astype(str)\n"
     ]
    }
   ],
   "source": [
    "current_stock ['Item No.'] = current_stock ['Item No.'].astype(str)"
   ]
  },
  {
   "cell_type": "code",
   "execution_count": 74,
   "id": "1181f05b",
   "metadata": {},
   "outputs": [],
   "source": [
    "stock_and_sales_E=pd.merge(left=stock_and_sales_D, right=current_stock, on=['Item No.','Store/Location Name'], how='left')"
   ]
  },
  {
   "cell_type": "code",
   "execution_count": 75,
   "id": "64efac6e",
   "metadata": {},
   "outputs": [
    {
     "name": "stdout",
     "output_type": "stream",
     "text": [
      "<class 'pandas.core.frame.DataFrame'>\n",
      "Int64Index: 161740 entries, 0 to 161739\n",
      "Data columns (total 89 columns):\n",
      " #   Column                                 Non-Null Count   Dtype  \n",
      "---  ------                                 --------------   -----  \n",
      " 0   index                                  161740 non-null  int64  \n",
      " 1   Item No.                               161740 non-null  object \n",
      " 2   Item Description_x                     161740 non-null  object \n",
      " 3   Brand                                  161740 non-null  object \n",
      " 4   Department                             161740 non-null  object \n",
      " 5   Location Type                          161740 non-null  object \n",
      " 6   Store/Location Name                    161740 non-null  object \n",
      " 7   Month_selling_frequency                161740 non-null  int64  \n",
      " 8   Monthly_selling_frequency_last6months  161740 non-null  int64  \n",
      " 9   Monthly_selling_frequency_last3months  161740 non-null  int64  \n",
      " 10  Jan Qty Sold2023                       161740 non-null  float64\n",
      " 11  Jan Stock2023                          161740 non-null  float64\n",
      " 12  month12023sales                        161740 non-null  float64\n",
      " 13  month12023COGS                         161740 non-null  float64\n",
      " 14  Jan2023SellRate                        161740 non-null  float64\n",
      " 15  Feb Qty Sold2023                       161740 non-null  float64\n",
      " 16  Feb Stock2023                          161740 non-null  float64\n",
      " 17  month22023sales                        161740 non-null  float64\n",
      " 18  month22023COGS                         161740 non-null  float64\n",
      " 19  Feb2023SellRate                        161740 non-null  float64\n",
      " 20  Mar Qty Sold                           161740 non-null  float64\n",
      " 21  Mar Stock                              161740 non-null  float64\n",
      " 22  month32023sales                        161740 non-null  float64\n",
      " 23  month32023COGS                         161740 non-null  float64\n",
      " 24  Mar2023SellRate                        161740 non-null  float64\n",
      " 25  Apr Qty Sold                           161740 non-null  float64\n",
      " 26  Apr Stock                              161740 non-null  float64\n",
      " 27  month42023sales                        161740 non-null  float64\n",
      " 28  month42023COGS                         161740 non-null  float64\n",
      " 29  Apr2023SellRate                        161740 non-null  float64\n",
      " 30  May Qty Sold                           161740 non-null  float64\n",
      " 31  May Stock                              161740 non-null  float64\n",
      " 32  month52023sales                        161740 non-null  float64\n",
      " 33  month52023COGS                         161740 non-null  float64\n",
      " 34  May2023SellRate                        161740 non-null  float64\n",
      " 35  Jun Qty Sold                           161740 non-null  float64\n",
      " 36  Jun Stock                              161740 non-null  float64\n",
      " 37  month62023sales                        161740 non-null  float64\n",
      " 38  month62023COGS                         161740 non-null  float64\n",
      " 39  Jun2023SellRate                        161740 non-null  float64\n",
      " 40  Jul Qty Sold                           161740 non-null  float64\n",
      " 41  Jul Stock                              161740 non-null  float64\n",
      " 42  month72023sales                        161740 non-null  float64\n",
      " 43  month72023COGS                         161740 non-null  float64\n",
      " 44  Jul2022SellRate                        161740 non-null  float64\n",
      " 45  Aug Qty Sold                           161740 non-null  float64\n",
      " 46  Aug Stock                              161740 non-null  float64\n",
      " 47  month82023sales                        161740 non-null  float64\n",
      " 48  month82023COGS                         161740 non-null  float64\n",
      " 49  Aug2023SellRate                        161740 non-null  float64\n",
      " 50  Sep Qty Sold                           161740 non-null  float64\n",
      " 51  Sep Stock                              161740 non-null  float64\n",
      " 52  month92023sales                        161740 non-null  float64\n",
      " 53  month92023COGS                         161740 non-null  float64\n",
      " 54  Sep2023SellRate                        161740 non-null  float64\n",
      " 55  Oct Qty Sold                           161740 non-null  float64\n",
      " 56  Oct Stock                              161740 non-null  float64\n",
      " 57  month102023sales                       161740 non-null  float64\n",
      " 58  month102023COGS                        161740 non-null  float64\n",
      " 59  Oct2023SellRate                        161740 non-null  float64\n",
      " 60  Nov Qty Sold                           161740 non-null  float64\n",
      " 61  Nov Stock                              161740 non-null  float64\n",
      " 62  month112023sales                       161740 non-null  float64\n",
      " 63  month112023COGS                        161740 non-null  float64\n",
      " 64  Nov2023SellRate                        161740 non-null  float64\n",
      " 65  Dec Qty Sold                           161740 non-null  float64\n",
      " 66  Dec Stock                              161740 non-null  float64\n",
      " 67  month122023sales                       161740 non-null  float64\n",
      " 68  month122023COGS                        161740 non-null  float64\n",
      " 69  Dec2023SellRate                        161740 non-null  float64\n",
      " 70  Jan Qty Sold2024                       161740 non-null  float64\n",
      " 71  Jan Stock2024                          161740 non-null  float64\n",
      " 72  month12024sales                        161740 non-null  float64\n",
      " 73  month12024COGS                         161740 non-null  float64\n",
      " 74  Jan2024SellRate                        161740 non-null  float64\n",
      " 75  Feb Qty Sold2024                       161740 non-null  float64\n",
      " 76  Feb Stock2024                          161740 non-null  float64\n",
      " 77  month22024sales                        161740 non-null  float64\n",
      " 78  month22024COGS                         161740 non-null  float64\n",
      " 79  Feb2024SellRate                        161740 non-null  float64\n",
      " 80  units_sold_median_last6                161740 non-null  float64\n",
      " 81  units_sold_median_last3                161740 non-null  float64\n",
      " 82  units_sold_before_the_last6            161740 non-null  float64\n",
      " 83  old_harmonized_mean                    161740 non-null  float64\n",
      " 84  harmonized_mean                        140682 non-null  float64\n",
      " 85  MaxStock                               140682 non-null  float64\n",
      " 86  MinStock                               140682 non-null  float64\n",
      " 87  Item Description_y                     91474 non-null   object \n",
      " 88  InStock                                91474 non-null   float64\n",
      "dtypes: float64(78), int64(4), object(7)\n",
      "memory usage: 111.1+ MB\n"
     ]
    }
   ],
   "source": [
    "stock_and_sales_E.info()"
   ]
  },
  {
   "cell_type": "code",
   "execution_count": 76,
   "id": "e5b9a494",
   "metadata": {},
   "outputs": [],
   "source": [
    "# nw['Item No.'].info()"
   ]
  },
  {
   "cell_type": "markdown",
   "id": "2e4d77bc",
   "metadata": {},
   "source": [
    "### Sometimes, we have stock pushed to shops from upcountry warehouse. Lets add the stock to the instock of the shops so that we avoid overstocking.\n",
    "This part of the code should be muted if there are no items being transferred from the upcountry warehouse at the time"
   ]
  },
  {
   "cell_type": "raw",
   "id": "1b27195b",
   "metadata": {},
   "source": [
    "orders_from_upcountry = pd.read_excel(\"C:\\\\Users\\\\Geoffrey.Oute\\\\Desktop\\\\Recent Shipments\\\\NYC AIR 2302 FIN DIVISION 150823.xlsx\")\n",
    "\n",
    "upcountry=orders_from_upcountry [['Item Code', 'Units_', 'TransferTo']].copy()\n",
    "\n",
    "upcountry['Item Code'] = upcountry ['Item Code'].astype(float)\n",
    "\n",
    "upcountry_grouped=upcountry.groupby(['Item Code', 'TransferTo']).sum()\n",
    "\n",
    "upcountry_grouped.reset_index(inplace=True)\n",
    "\n",
    "stock_and_sales_E['Item No.'] = stock_and_sales_E['Item No.'].astype(float)\n",
    "\n",
    "upcountry_grouped.columns = ['Item No.', 'Store/Location Name', 'Units_']\n",
    "\n",
    "stock_and_sales_temp=pd.merge(left=stock_and_sales_E, right=upcountry_grouped, on = ['Item No.', 'Store/Location Name'], how='left' )\n",
    "\n",
    "stock_and_sales_temp.fillna({'Units_': 0}, inplace=True)\n",
    "stock_and_sales_E.fillna({'InStock': 0}, inplace=True)\n",
    "\n",
    "stock_and_sales_temp ['InStock']=stock_and_sales_temp ['Units_'] + stock_and_sales_temp ['InStock']\n",
    "\n",
    "stock_and_sales_temp.drop('Units_', inplace=True, axis=1)\n",
    "stock_and_sales_E=stock_and_sales_temp.copy()\n",
    "stock_and_sales_E['Item No.']=stock_and_sales_E ['Item No.'].astype('int64')"
   ]
  },
  {
   "cell_type": "markdown",
   "id": "5097e106",
   "metadata": {},
   "source": [
    "### The code above should be deleted/muted if there is no item being transferred from upcountry warehouse"
   ]
  },
  {
   "cell_type": "code",
   "execution_count": 77,
   "id": "fe5eafac",
   "metadata": {},
   "outputs": [],
   "source": [
    "stock_and_sales_E=pd.merge(left=stock_and_sales_E, right=Tier1Shops, on=['Store/Location Name'], how='left')"
   ]
  },
  {
   "cell_type": "code",
   "execution_count": 78,
   "id": "c36b177a",
   "metadata": {},
   "outputs": [],
   "source": [
    "stock_and_sales_E.InStock = stock_and_sales_E.InStock.fillna(0)"
   ]
  },
  {
   "cell_type": "code",
   "execution_count": 79,
   "id": "96692a7c",
   "metadata": {},
   "outputs": [],
   "source": [
    "median_sell_rate=np.median(stock_and_sales_E[[i for i in stock_and_sales_E.columns if 'Sell' in i][-3:]],axis=1)"
   ]
  },
  {
   "cell_type": "code",
   "execution_count": 80,
   "id": "4063f1ed",
   "metadata": {},
   "outputs": [],
   "source": [
    "stock_and_sales_E['median_sell_rate']=median_sell_rate"
   ]
  },
  {
   "cell_type": "code",
   "execution_count": 81,
   "id": "dac68f46",
   "metadata": {},
   "outputs": [],
   "source": [
    "sell_rate_table_current_month['Item No.'] = sell_rate_table_current_month['Item No.'].astype(str)\n",
    "stock_and_sales_E['Item No.'] = stock_and_sales_E['Item No.'].astype(str)"
   ]
  },
  {
   "cell_type": "code",
   "execution_count": 82,
   "id": "1e7c025e",
   "metadata": {},
   "outputs": [],
   "source": [
    "sell_rate_table_current_month ['Item No.'] = sell_rate_table_current_month ['Item No.'].astype(str)"
   ]
  },
  {
   "cell_type": "code",
   "execution_count": 83,
   "id": "58c8c3c6",
   "metadata": {},
   "outputs": [],
   "source": [
    "stock_and_sales_E=pd.merge(left=stock_and_sales_E, right=sell_rate_table_current_month, on=['Item No.', 'Store/Location Name'], how='left')"
   ]
  },
  {
   "cell_type": "code",
   "execution_count": 84,
   "id": "e287eb09",
   "metadata": {},
   "outputs": [],
   "source": [
    "median_sell_rate_arrays=stock_and_sales_E.median_sell_rate.values\n",
    "median_sell_rate_arrays[median_sell_rate_arrays==0]=0.01\n",
    "#changing all median sell rates that are at 0 to 0.01 so that we can be able to calculate the months it will take to clear\n",
    "#the stock"
   ]
  },
  {
   "cell_type": "code",
   "execution_count": 85,
   "id": "fa0332a1",
   "metadata": {},
   "outputs": [],
   "source": [
    "five_elements=stock_and_sales_E[stock_and_sales_E.isin({'Store/Location Name': ['RETAIL THE FIVE ELEMENTS', 'RETAIL FIVE ELEMENTS NYALI']})['Store/Location Name']]\n",
    "\n",
    "#lets remove giftware shops from suggestion list\n",
    "\n",
    "stock_and_sales_E.drop(five_elements.index, inplace=True)"
   ]
  },
  {
   "cell_type": "code",
   "execution_count": 86,
   "id": "5a7e1c34",
   "metadata": {},
   "outputs": [],
   "source": [
    "def excess_stock_func(x):\n",
    "    try:\n",
    "        if x.Tier=='Tier1':\n",
    "#             one_month_cover=x.InStock/(x.median_sell_rate*x.InStock)\n",
    "            three_months_cover=x.harmonized_mean*3\n",
    "            excess_stock=x.InStock-three_months_cover\n",
    "        else:\n",
    "#             one_month_cover=x.InStock/(x.median_sell_rate*x.InStock)\n",
    "            two_months_cover=x.harmonized_mean*2\n",
    "            excess_stock=x.InStock-two_months_cover\n",
    "            \n",
    "    except ZeroDivisionError:\n",
    "        excess_stock = None\n",
    "        \n",
    "        \n",
    "    return excess_stock    \n",
    "        \n",
    "        \n",
    "        \n",
    "        "
   ]
  },
  {
   "cell_type": "code",
   "execution_count": 87,
   "id": "41f18d9c",
   "metadata": {},
   "outputs": [],
   "source": [
    "def months_cover(x):\n",
    "    try:\n",
    "        if x.Tier=='Tier1':\n",
    "#             one_month_cover=x.InStock/(x.median_sell_rate*x.InStock)\n",
    "#lets use median qty sold only [harmonized]\n",
    "            months_cover_2_3=x.harmonized_mean*3\n",
    "           \n",
    "        else:\n",
    "#             one_month_cover=x.InStock/(x.median_sell_rate*x.InStock)\n",
    "            months_cover_2_3=x.harmonized_mean*2\n",
    "            \n",
    "            \n",
    "    except ZeroDivisionError:\n",
    "        months_cover_2_3 = None\n",
    "        \n",
    "    return months_cover_2_3"
   ]
  },
  {
   "cell_type": "code",
   "execution_count": 88,
   "id": "4e63b89f",
   "metadata": {},
   "outputs": [],
   "source": [
    "excess_stock2=stock_and_sales_E.apply(excess_stock_func, axis=1)\n",
    "months_cover=stock_and_sales_E.apply(months_cover, axis=1)"
   ]
  },
  {
   "cell_type": "code",
   "execution_count": 89,
   "id": "c827cd50",
   "metadata": {},
   "outputs": [],
   "source": [
    "stock_and_sales_E['Months_Cover_2_3']=months_cover\n",
    "stock_and_sales_E['Excess_stock']=excess_stock2"
   ]
  },
  {
   "cell_type": "code",
   "execution_count": 90,
   "id": "c2e8b70b",
   "metadata": {},
   "outputs": [
    {
     "data": {
      "text/plain": [
       "array([nan])"
      ]
     },
     "execution_count": 90,
     "metadata": {},
     "output_type": "execute_result"
    }
   ],
   "source": [
    "stock_and_sales_E[stock_and_sales_E ['Store/Location Name']=='RETAIL WAREHOUSE'].Excess_stock.unique()"
   ]
  },
  {
   "cell_type": "markdown",
   "id": "8e6276c9",
   "metadata": {},
   "source": [
    "CREATING THE MOVE TO TABLE\n",
    "There are products in main warehouse that sell with a rate of below 0.25. e.g 11/100 a month. So for main warehouse, we pull it from the list and join it later so that we don't limit options that can move into main warehouse"
   ]
  },
  {
   "cell_type": "code",
   "execution_count": 91,
   "id": "ec506fc2",
   "metadata": {},
   "outputs": [],
   "source": [
    "stock_and_sales_F=stock_and_sales_E.copy()"
   ]
  },
  {
   "cell_type": "code",
   "execution_count": 92,
   "id": "3a379b82",
   "metadata": {},
   "outputs": [],
   "source": [
    "main_warehouse_move_to=stock_and_sales_F[stock_and_sales_F['Store/Location Name'] == 'MAIN WAREHOUSE']"
   ]
  },
  {
   "cell_type": "code",
   "execution_count": 93,
   "id": "90480595",
   "metadata": {},
   "outputs": [],
   "source": [
    "stock_and_sales_F.drop(main_warehouse_move_to.index, inplace=True)"
   ]
  },
  {
   "cell_type": "code",
   "execution_count": 94,
   "id": "ad2b39c8",
   "metadata": {
    "scrolled": true
   },
   "outputs": [],
   "source": [
    "# stock_and_sales_F[stock_and_sales_F['Item No.']=='162000018'][stock_and_sales_F[stock_and_sales_F['Item No.']=='162000018']['Store/Location Name']=='RETAIL SARIT']"
   ]
  },
  {
   "cell_type": "code",
   "execution_count": 217,
   "id": "d5e8b2c8",
   "metadata": {},
   "outputs": [],
   "source": [
    "move_to_table=stock_and_sales_F.copy()"
   ]
  },
  {
   "cell_type": "code",
   "execution_count": 218,
   "id": "56605bd4",
   "metadata": {},
   "outputs": [
    {
     "data": {
      "text/html": [
       "<div>\n",
       "<style scoped>\n",
       "    .dataframe tbody tr th:only-of-type {\n",
       "        vertical-align: middle;\n",
       "    }\n",
       "\n",
       "    .dataframe tbody tr th {\n",
       "        vertical-align: top;\n",
       "    }\n",
       "\n",
       "    .dataframe thead th {\n",
       "        text-align: right;\n",
       "    }\n",
       "</style>\n",
       "<table border=\"1\" class=\"dataframe\">\n",
       "  <thead>\n",
       "    <tr style=\"text-align: right;\">\n",
       "      <th></th>\n",
       "      <th>index</th>\n",
       "      <th>Item No.</th>\n",
       "      <th>Item Description_x</th>\n",
       "      <th>Brand</th>\n",
       "      <th>Department</th>\n",
       "      <th>Location Type</th>\n",
       "      <th>Store/Location Name</th>\n",
       "      <th>Month_selling_frequency</th>\n",
       "      <th>Monthly_selling_frequency_last6months</th>\n",
       "      <th>Monthly_selling_frequency_last3months</th>\n",
       "      <th>...</th>\n",
       "      <th>MaxStock</th>\n",
       "      <th>MinStock</th>\n",
       "      <th>Item Description_y</th>\n",
       "      <th>InStock</th>\n",
       "      <th>Tier</th>\n",
       "      <th>median_sell_rate</th>\n",
       "      <th>Item Description</th>\n",
       "      <th>Sell_Rate_Current_Month</th>\n",
       "      <th>Months_Cover_2_3</th>\n",
       "      <th>Excess_stock</th>\n",
       "    </tr>\n",
       "  </thead>\n",
       "  <tbody>\n",
       "  </tbody>\n",
       "</table>\n",
       "<p>0 rows × 95 columns</p>\n",
       "</div>"
      ],
      "text/plain": [
       "Empty DataFrame\n",
       "Columns: [index, Item No., Item Description_x, Brand, Department, Location Type, Store/Location Name, Month_selling_frequency, Monthly_selling_frequency_last6months, Monthly_selling_frequency_last3months, Jan Qty Sold2023, Jan Stock2023, month12023sales, month12023COGS, Jan2023SellRate, Feb Qty Sold2023, Feb Stock2023, month22023sales, month22023COGS, Feb2023SellRate, Mar Qty Sold, Mar Stock, month32023sales, month32023COGS, Mar2023SellRate, Apr Qty Sold, Apr Stock, month42023sales, month42023COGS, Apr2023SellRate, May Qty Sold, May Stock, month52023sales, month52023COGS, May2023SellRate, Jun Qty Sold, Jun Stock, month62023sales, month62023COGS, Jun2023SellRate, Jul Qty Sold, Jul Stock, month72023sales, month72023COGS, Jul2022SellRate, Aug Qty Sold, Aug Stock, month82023sales, month82023COGS, Aug2023SellRate, Sep Qty Sold, Sep Stock, month92023sales, month92023COGS, Sep2023SellRate, Oct Qty Sold, Oct Stock, month102023sales, month102023COGS, Oct2023SellRate, Nov Qty Sold, Nov Stock, month112023sales, month112023COGS, Nov2023SellRate, Dec Qty Sold, Dec Stock, month122023sales, month122023COGS, Dec2023SellRate, Jan Qty Sold2024, Jan Stock2024, month12024sales, month12024COGS, Jan2024SellRate, Feb Qty Sold2024, Feb Stock2024, month22024sales, month22024COGS, Feb2024SellRate, units_sold_median_last6, units_sold_median_last3, units_sold_before_the_last6, old_harmonized_mean, harmonized_mean, MaxStock, MinStock, Item Description_y, InStock, Tier, median_sell_rate, Item Description, Sell_Rate_Current_Month, Months_Cover_2_3, Excess_stock]\n",
       "Index: []\n",
       "\n",
       "[0 rows x 95 columns]"
      ]
     },
     "execution_count": 218,
     "metadata": {},
     "output_type": "execute_result"
    }
   ],
   "source": [
    "move_to_table [move_to_table ['Item No.'] == '18200910012']"
   ]
  },
  {
   "cell_type": "code",
   "execution_count": 219,
   "id": "e7915f91",
   "metadata": {},
   "outputs": [],
   "source": [
    "#On a second thought, lets not concatenate main. This will be taken care of by rebalancing  "
   ]
  },
  {
   "cell_type": "code",
   "execution_count": 220,
   "id": "0803de4c",
   "metadata": {},
   "outputs": [],
   "source": [
    "move_to_table=pd.concat([move_to_table, \n",
    "#                          main_warehouse_move_to\n",
    "                        ], \n",
    "                        ignore_index=True)"
   ]
  },
  {
   "cell_type": "code",
   "execution_count": 221,
   "id": "1a6a04d1",
   "metadata": {},
   "outputs": [],
   "source": [
    "Golden_Life=move_to_table[move_to_table ['Store/Location Name'] ==  'RETAIL NAKURU GOLDENLIFE']"
   ]
  },
  {
   "cell_type": "code",
   "execution_count": 222,
   "id": "117f6165",
   "metadata": {},
   "outputs": [],
   "source": [
    "Elodret_Highlands = move_to_table[move_to_table ['Store/Location Name'] ==  'RETAIL ELDORET HIGHLANDS']"
   ]
  },
  {
   "cell_type": "code",
   "execution_count": 223,
   "id": "c63a4fa8",
   "metadata": {},
   "outputs": [],
   "source": [
    "move_to_table.drop(Golden_Life.index, inplace=True)"
   ]
  },
  {
   "cell_type": "code",
   "execution_count": 224,
   "id": "eff42403",
   "metadata": {},
   "outputs": [],
   "source": [
    "move_to_table.drop(Elodret_Highlands.index, inplace=True)"
   ]
  },
  {
   "cell_type": "code",
   "execution_count": 225,
   "id": "da44ea78",
   "metadata": {},
   "outputs": [],
   "source": [
    "move_to_table.loc[:, 'Capacity']=move_to_table.loc[:, 'MaxStock']-move_to_table.loc[:, 'InStock']"
   ]
  },
  {
   "cell_type": "code",
   "execution_count": 226,
   "id": "2ba0fa18",
   "metadata": {},
   "outputs": [],
   "source": [
    "def check_improvement(x):\n",
    "    if x.median_sell_rate <= 0.10 and x.Sell_Rate_Current_Month>=0.17:\n",
    "        return 'Increased_Velocity'\n",
    "    else:\n",
    "        return 'Constant_Velocity'\n",
    "    "
   ]
  },
  {
   "cell_type": "code",
   "execution_count": 227,
   "id": "b42c1047",
   "metadata": {},
   "outputs": [],
   "source": [
    "# we have to omit receiving and production warehouse first. We'll rotate/send to of these categories later. First we deal with \n",
    "#what is in the shops. Order is shops, retail warehouse, main, then receiving and production"
   ]
  },
  {
   "cell_type": "code",
   "execution_count": 228,
   "id": "3ff6c81f",
   "metadata": {},
   "outputs": [
    {
     "data": {
      "text/plain": [
       "567332.41"
      ]
     },
     "execution_count": 228,
     "metadata": {},
     "output_type": "execute_result"
    }
   ],
   "source": [
    "stock_and_sales_E.InStock.sum()"
   ]
  },
  {
   "cell_type": "code",
   "execution_count": 229,
   "id": "a3ea0406",
   "metadata": {
    "scrolled": true
   },
   "outputs": [],
   "source": [
    "pull_from_table=stock_and_sales_E[stock_and_sales_E['median_sell_rate']<0.25].copy()\n",
    "\n",
    "#remember that table F does not have main warehouse. We dropped. But we can use table E\n",
    "pull_from_table.sort_values(by='Excess_stock', ascending=False, inplace=True)\n",
    "pull_from_table=pull_from_table[~pull_from_table.isin({'Store/Location Name': ['MAIN WAREHOUSE', 'PACKAGING MATERIALS WAREHOUSE','QUALITY CONTROL WAREHOUSE',\n",
    "                                                              'RECEIVING WAREHOUSE', 'DAMAGES & EXPIRY WAREHOUSE','IVEND INTRANSIT WAREHOUSE',\n",
    "                                                              'PRODUCTION WAREHOUSE', 'MAJID RETURNS WAREHOUSE', 'RETAIL OVERSTOCK WAREHOUSE',\n",
    "                                                              'FIXED ASSETS & CONSUMMABLES','VARIANCE MAIN WAREHOUSE', 'RETAIL WAREHOUSE',\n",
    "                                                             ]})['Store/Location Name']]\n",
    "\n",
    "# pull_from_table= pull_from_table[pull_from_table.InStock>0]\n",
    "# velocity_pl=pull_from_table.apply(check_improvement, axis=1)\n",
    "# pull_from_table['Velocity']=velocity_pl\n",
    "# pull_from_table=pull_from_table[pull_from_table ['Velocity'] == 'Constant_Velocity']\n",
    "# pull_from_table['Unique_Index']=pull_from_table['Item Description_x']+pull_from_table['Store/Location Name']"
   ]
  },
  {
   "cell_type": "code",
   "execution_count": 230,
   "id": "cfb3f3f5",
   "metadata": {},
   "outputs": [],
   "source": [
    "pull_from_table_retail_warehouse=stock_and_sales_E[stock_and_sales_E['median_sell_rate']<0.25].copy()\n",
    "#cant give retail warehouse median sell rate condition because it is not a selling warehouse\n",
    "pull_from_table_retail_warehouse.sort_values(by='Excess_stock', ascending=False, inplace=True)\n",
    "pull_from_table_retail_warehouse = pull_from_table_retail_warehouse[pull_from_table_retail_warehouse.isin({'Store/Location Name': ['RETAIL WAREHOUSE']})['Store/Location Name']]\n",
    "pull_from_table_retail_warehouse= pull_from_table_retail_warehouse[pull_from_table_retail_warehouse.InStock>0]\n",
    "velocity_pl_retail_warehouse=pull_from_table_retail_warehouse.apply(check_improvement, axis=1)\n",
    "pull_from_table_retail_warehouse['Velocity']=velocity_pl_retail_warehouse\n",
    "pull_from_table_retail_warehouse['Unique_Index'] = pull_from_table_retail_warehouse ['Item Description_x']+pull_from_table_retail_warehouse['Store/Location Name']"
   ]
  },
  {
   "cell_type": "code",
   "execution_count": 231,
   "id": "58bfa17e",
   "metadata": {},
   "outputs": [],
   "source": [
    "# pull_from_table_receiving_warehouse.Excess_stock.unique()"
   ]
  },
  {
   "cell_type": "code",
   "execution_count": 232,
   "id": "9bcf4e08",
   "metadata": {},
   "outputs": [],
   "source": [
    "# #========================================================================================================================================================================================\n",
    "pull_from_table_main_warehouse=stock_and_sales_E[stock_and_sales_E['median_sell_rate']<0.25].copy()\n",
    "pull_from_table_main_warehouse.sort_values(by='Excess_stock', ascending=False, inplace=True)\n",
    "pull_from_table_main_warehouse = pull_from_table_main_warehouse[pull_from_table_main_warehouse.isin({'Store/Location Name': ['MAIN WAREHOUSE']})['Store/Location Name']]\n",
    "pull_from_table_main_warehouse= pull_from_table_main_warehouse[pull_from_table_main_warehouse.InStock>0]\n",
    "velocity_pl_main_warehouse=pull_from_table_main_warehouse.apply(check_improvement, axis=1)\n",
    "pull_from_table_main_warehouse['Velocity']=velocity_pl_main_warehouse\n",
    "pull_from_table_main_warehouse ['Unique_Index'] = pull_from_table_main_warehouse ['Item Description_x']+ pull_from_table_main_warehouse ['Store/Location Name']\n",
    "# #========================================================================================================================================================================================\n",
    "pull_from_table_receiving_warehouse=stock_and_sales_E[stock_and_sales_E['median_sell_rate']<0.25].copy()\n",
    "pull_from_table_receiving_warehouse.sort_values(by='Excess_stock', ascending=False, inplace=True)\n",
    "pull_from_table_receiving_warehouse = pull_from_table_receiving_warehouse[pull_from_table_receiving_warehouse.isin({'Store/Location Name': ['RECEIVING WAREHOUSE']})['Store/Location Name']]\n",
    "pull_from_table_receiving_warehouse= pull_from_table_receiving_warehouse[pull_from_table_receiving_warehouse.InStock>0]\n",
    "velocity_pl_receiving_warehouse=pull_from_table_receiving_warehouse.apply(check_improvement, axis=1)\n",
    "pull_from_table_receiving_warehouse['Velocity']=velocity_pl_receiving_warehouse\n",
    "pull_from_table_receiving_warehouse ['Unique_Index'] = pull_from_table_receiving_warehouse ['Item Description_x'] + pull_from_table_receiving_warehouse ['Store/Location Name']\n",
    "# #========================================================================================================================================================================================\n",
    "\n",
    "pull_from_table_production_warehouse=stock_and_sales_E[stock_and_sales_E['median_sell_rate']<0.25].copy()\n",
    "pull_from_table_production_warehouse.sort_values(by='Excess_stock', ascending=False, inplace=True)\n",
    "pull_from_table_production_warehouse = pull_from_table_production_warehouse[pull_from_table_production_warehouse.isin({'Store/Location Name': ['PRODUCTION WAREHOUSE']})['Store/Location Name']]\n",
    "pull_from_table_production_warehouse= pull_from_table_production_warehouse[pull_from_table_production_warehouse.InStock>0]\n",
    "velocity_pl_production_warehouse=pull_from_table_production_warehouse.apply(check_improvement, axis=1)\n",
    "pull_from_table_production_warehouse['Velocity']=velocity_pl_production_warehouse\n",
    "pull_from_table_production_warehouse ['Unique_Index'] = pull_from_table_production_warehouse ['Item Description_x']+ pull_from_table_production_warehouse ['Store/Location Name']                                                  \n",
    "                                        "
   ]
  },
  {
   "cell_type": "code",
   "execution_count": 233,
   "id": "2f26da82",
   "metadata": {},
   "outputs": [],
   "source": [
    "#Ignore pull_from_table cos this will pull from other shops\n",
    "#Lets not pull production whse\n",
    "# We'll remove the two above from concat"
   ]
  },
  {
   "cell_type": "code",
   "execution_count": 234,
   "id": "52d40f29",
   "metadata": {},
   "outputs": [],
   "source": [
    "combined_table=pd.concat([pull_from_table_retail_warehouse, pull_from_table_main_warehouse, pull_from_table_receiving_warehouse])"
   ]
  },
  {
   "cell_type": "code",
   "execution_count": 235,
   "id": "dc48afbc",
   "metadata": {},
   "outputs": [],
   "source": [
    "def Capactiy2(x):\n",
    "    if x.Capacity > 0 and x.Capacity<1:\n",
    "        return 1\n",
    "    elif x.Capacity >= 1:\n",
    "        return round(x.Capacity)\n",
    "    else:\n",
    "        return x.Capacity"
   ]
  },
  {
   "cell_type": "code",
   "execution_count": 236,
   "id": "84eabec0",
   "metadata": {},
   "outputs": [
    {
     "data": {
      "text/html": [
       "<div>\n",
       "<style scoped>\n",
       "    .dataframe tbody tr th:only-of-type {\n",
       "        vertical-align: middle;\n",
       "    }\n",
       "\n",
       "    .dataframe tbody tr th {\n",
       "        vertical-align: top;\n",
       "    }\n",
       "\n",
       "    .dataframe thead th {\n",
       "        text-align: right;\n",
       "    }\n",
       "</style>\n",
       "<table border=\"1\" class=\"dataframe\">\n",
       "  <thead>\n",
       "    <tr style=\"text-align: right;\">\n",
       "      <th></th>\n",
       "      <th>index</th>\n",
       "      <th>Item No.</th>\n",
       "      <th>Item Description_x</th>\n",
       "      <th>Brand</th>\n",
       "      <th>Department</th>\n",
       "      <th>Location Type</th>\n",
       "      <th>Store/Location Name</th>\n",
       "      <th>Month_selling_frequency</th>\n",
       "      <th>Monthly_selling_frequency_last6months</th>\n",
       "      <th>Monthly_selling_frequency_last3months</th>\n",
       "      <th>...</th>\n",
       "      <th>MaxStock</th>\n",
       "      <th>MinStock</th>\n",
       "      <th>Item Description_y</th>\n",
       "      <th>InStock</th>\n",
       "      <th>Tier</th>\n",
       "      <th>median_sell_rate</th>\n",
       "      <th>Item Description</th>\n",
       "      <th>Sell_Rate_Current_Month</th>\n",
       "      <th>Months_Cover_2_3</th>\n",
       "      <th>Excess_stock</th>\n",
       "    </tr>\n",
       "  </thead>\n",
       "  <tbody>\n",
       "    <tr>\n",
       "      <th>90881</th>\n",
       "      <td>96579</td>\n",
       "      <td>149000057</td>\n",
       "      <td>NATURALLI CAJUN SPICE 100G</td>\n",
       "      <td>NATURALLI</td>\n",
       "      <td>Herbs &amp; Spices</td>\n",
       "      <td>Warehouse</td>\n",
       "      <td>DAMAGES &amp; EXPIRY WAREHOUSE</td>\n",
       "      <td>0</td>\n",
       "      <td>0</td>\n",
       "      <td>0</td>\n",
       "      <td>...</td>\n",
       "      <td>NaN</td>\n",
       "      <td>NaN</td>\n",
       "      <td>NaN</td>\n",
       "      <td>0.0</td>\n",
       "      <td>NaN</td>\n",
       "      <td>0.01</td>\n",
       "      <td>NaN</td>\n",
       "      <td>NaN</td>\n",
       "      <td>NaN</td>\n",
       "      <td>NaN</td>\n",
       "    </tr>\n",
       "    <tr>\n",
       "      <th>90882</th>\n",
       "      <td>96580</td>\n",
       "      <td>149000057</td>\n",
       "      <td>NATURALLI CAJUN SPICE 100G</td>\n",
       "      <td>NATURALLI</td>\n",
       "      <td>Herbs &amp; Spices</td>\n",
       "      <td>Warehouse</td>\n",
       "      <td>IVEND INTRANSIT WAREHOUSE</td>\n",
       "      <td>0</td>\n",
       "      <td>0</td>\n",
       "      <td>0</td>\n",
       "      <td>...</td>\n",
       "      <td>NaN</td>\n",
       "      <td>NaN</td>\n",
       "      <td>NaN</td>\n",
       "      <td>0.0</td>\n",
       "      <td>NaN</td>\n",
       "      <td>0.01</td>\n",
       "      <td>NaN</td>\n",
       "      <td>NaN</td>\n",
       "      <td>NaN</td>\n",
       "      <td>NaN</td>\n",
       "    </tr>\n",
       "    <tr>\n",
       "      <th>90883</th>\n",
       "      <td>96581</td>\n",
       "      <td>149000057</td>\n",
       "      <td>NATURALLI CAJUN SPICE 100G</td>\n",
       "      <td>NATURALLI</td>\n",
       "      <td>Herbs &amp; Spices</td>\n",
       "      <td>Warehouse</td>\n",
       "      <td>MAIN WAREHOUSE</td>\n",
       "      <td>0</td>\n",
       "      <td>0</td>\n",
       "      <td>0</td>\n",
       "      <td>...</td>\n",
       "      <td>1.5000</td>\n",
       "      <td>0.9000</td>\n",
       "      <td>NATURALLI CAJUN SPICE 100G</td>\n",
       "      <td>1.0</td>\n",
       "      <td>NaN</td>\n",
       "      <td>0.01</td>\n",
       "      <td>NATURALLI CAJUN SPICE 100G</td>\n",
       "      <td>0.0</td>\n",
       "      <td>2.000</td>\n",
       "      <td>-1.000</td>\n",
       "    </tr>\n",
       "    <tr>\n",
       "      <th>90884</th>\n",
       "      <td>96582</td>\n",
       "      <td>149000057</td>\n",
       "      <td>NATURALLI CAJUN SPICE 100G</td>\n",
       "      <td>NATURALLI</td>\n",
       "      <td>Herbs &amp; Spices</td>\n",
       "      <td>Retail</td>\n",
       "      <td>RETAIL ABC</td>\n",
       "      <td>1</td>\n",
       "      <td>1</td>\n",
       "      <td>1</td>\n",
       "      <td>...</td>\n",
       "      <td>1.5000</td>\n",
       "      <td>0.9000</td>\n",
       "      <td>NaN</td>\n",
       "      <td>0.0</td>\n",
       "      <td>NaN</td>\n",
       "      <td>0.01</td>\n",
       "      <td>NaN</td>\n",
       "      <td>NaN</td>\n",
       "      <td>2.000</td>\n",
       "      <td>-2.000</td>\n",
       "    </tr>\n",
       "    <tr>\n",
       "      <th>90885</th>\n",
       "      <td>96583</td>\n",
       "      <td>149000057</td>\n",
       "      <td>NATURALLI CAJUN SPICE 100G</td>\n",
       "      <td>NATURALLI</td>\n",
       "      <td>Herbs &amp; Spices</td>\n",
       "      <td>Retail</td>\n",
       "      <td>RETAIL CAPITAL CENTRE</td>\n",
       "      <td>2</td>\n",
       "      <td>2</td>\n",
       "      <td>2</td>\n",
       "      <td>...</td>\n",
       "      <td>1.5000</td>\n",
       "      <td>0.9000</td>\n",
       "      <td>NaN</td>\n",
       "      <td>0.0</td>\n",
       "      <td>NaN</td>\n",
       "      <td>0.01</td>\n",
       "      <td>NaN</td>\n",
       "      <td>NaN</td>\n",
       "      <td>2.000</td>\n",
       "      <td>-2.000</td>\n",
       "    </tr>\n",
       "    <tr>\n",
       "      <th>90886</th>\n",
       "      <td>96584</td>\n",
       "      <td>149000057</td>\n",
       "      <td>NATURALLI CAJUN SPICE 100G</td>\n",
       "      <td>NATURALLI</td>\n",
       "      <td>Herbs &amp; Spices</td>\n",
       "      <td>Retail</td>\n",
       "      <td>RETAIL ELDORET</td>\n",
       "      <td>0</td>\n",
       "      <td>0</td>\n",
       "      <td>0</td>\n",
       "      <td>...</td>\n",
       "      <td>1.5000</td>\n",
       "      <td>0.9000</td>\n",
       "      <td>NaN</td>\n",
       "      <td>0.0</td>\n",
       "      <td>NaN</td>\n",
       "      <td>0.01</td>\n",
       "      <td>NaN</td>\n",
       "      <td>NaN</td>\n",
       "      <td>2.000</td>\n",
       "      <td>-2.000</td>\n",
       "    </tr>\n",
       "    <tr>\n",
       "      <th>90887</th>\n",
       "      <td>96585</td>\n",
       "      <td>149000057</td>\n",
       "      <td>NATURALLI CAJUN SPICE 100G</td>\n",
       "      <td>NATURALLI</td>\n",
       "      <td>Herbs &amp; Spices</td>\n",
       "      <td>Retail</td>\n",
       "      <td>RETAIL GALLERIA</td>\n",
       "      <td>3</td>\n",
       "      <td>3</td>\n",
       "      <td>3</td>\n",
       "      <td>...</td>\n",
       "      <td>1.5000</td>\n",
       "      <td>0.9000</td>\n",
       "      <td>NaN</td>\n",
       "      <td>0.0</td>\n",
       "      <td>NaN</td>\n",
       "      <td>0.01</td>\n",
       "      <td>NaN</td>\n",
       "      <td>NaN</td>\n",
       "      <td>2.000</td>\n",
       "      <td>-2.000</td>\n",
       "    </tr>\n",
       "    <tr>\n",
       "      <th>90888</th>\n",
       "      <td>96586</td>\n",
       "      <td>149000057</td>\n",
       "      <td>NATURALLI CAJUN SPICE 100G</td>\n",
       "      <td>NATURALLI</td>\n",
       "      <td>Herbs &amp; Spices</td>\n",
       "      <td>Retail</td>\n",
       "      <td>RETAIL GARDEN CITY</td>\n",
       "      <td>1</td>\n",
       "      <td>1</td>\n",
       "      <td>0</td>\n",
       "      <td>...</td>\n",
       "      <td>1.5000</td>\n",
       "      <td>0.9000</td>\n",
       "      <td>NaN</td>\n",
       "      <td>0.0</td>\n",
       "      <td>NaN</td>\n",
       "      <td>0.01</td>\n",
       "      <td>NaN</td>\n",
       "      <td>NaN</td>\n",
       "      <td>2.000</td>\n",
       "      <td>-2.000</td>\n",
       "    </tr>\n",
       "    <tr>\n",
       "      <th>90889</th>\n",
       "      <td>96587</td>\n",
       "      <td>149000057</td>\n",
       "      <td>NATURALLI CAJUN SPICE 100G</td>\n",
       "      <td>NATURALLI</td>\n",
       "      <td>Herbs &amp; Spices</td>\n",
       "      <td>Retail</td>\n",
       "      <td>RETAIL HILTON</td>\n",
       "      <td>2</td>\n",
       "      <td>2</td>\n",
       "      <td>2</td>\n",
       "      <td>...</td>\n",
       "      <td>1.5000</td>\n",
       "      <td>0.9000</td>\n",
       "      <td>NATURALLI CAJUN SPICE 100G</td>\n",
       "      <td>2.0</td>\n",
       "      <td>Tier1</td>\n",
       "      <td>0.01</td>\n",
       "      <td>NATURALLI CAJUN SPICE 100G</td>\n",
       "      <td>0.0</td>\n",
       "      <td>3.000</td>\n",
       "      <td>-1.000</td>\n",
       "    </tr>\n",
       "    <tr>\n",
       "      <th>90890</th>\n",
       "      <td>96588</td>\n",
       "      <td>149000057</td>\n",
       "      <td>NATURALLI CAJUN SPICE 100G</td>\n",
       "      <td>NATURALLI</td>\n",
       "      <td>Herbs &amp; Spices</td>\n",
       "      <td>Retail</td>\n",
       "      <td>RETAIL IMAARA MALL</td>\n",
       "      <td>0</td>\n",
       "      <td>0</td>\n",
       "      <td>0</td>\n",
       "      <td>...</td>\n",
       "      <td>1.5000</td>\n",
       "      <td>0.9000</td>\n",
       "      <td>NaN</td>\n",
       "      <td>0.0</td>\n",
       "      <td>NaN</td>\n",
       "      <td>0.01</td>\n",
       "      <td>NaN</td>\n",
       "      <td>NaN</td>\n",
       "      <td>2.000</td>\n",
       "      <td>-2.000</td>\n",
       "    </tr>\n",
       "    <tr>\n",
       "      <th>90891</th>\n",
       "      <td>96589</td>\n",
       "      <td>149000057</td>\n",
       "      <td>NATURALLI CAJUN SPICE 100G</td>\n",
       "      <td>NATURALLI</td>\n",
       "      <td>Herbs &amp; Spices</td>\n",
       "      <td>Retail</td>\n",
       "      <td>RETAIL JUNCTION</td>\n",
       "      <td>2</td>\n",
       "      <td>1</td>\n",
       "      <td>0</td>\n",
       "      <td>...</td>\n",
       "      <td>1.5000</td>\n",
       "      <td>0.9000</td>\n",
       "      <td>NaN</td>\n",
       "      <td>0.0</td>\n",
       "      <td>NaN</td>\n",
       "      <td>0.01</td>\n",
       "      <td>NaN</td>\n",
       "      <td>NaN</td>\n",
       "      <td>2.000</td>\n",
       "      <td>-2.000</td>\n",
       "    </tr>\n",
       "    <tr>\n",
       "      <th>90892</th>\n",
       "      <td>96590</td>\n",
       "      <td>149000057</td>\n",
       "      <td>NATURALLI CAJUN SPICE 100G</td>\n",
       "      <td>NATURALLI</td>\n",
       "      <td>Herbs &amp; Spices</td>\n",
       "      <td>Retail</td>\n",
       "      <td>RETAIL KISUMU</td>\n",
       "      <td>0</td>\n",
       "      <td>0</td>\n",
       "      <td>0</td>\n",
       "      <td>...</td>\n",
       "      <td>1.5000</td>\n",
       "      <td>0.9000</td>\n",
       "      <td>NaN</td>\n",
       "      <td>0.0</td>\n",
       "      <td>NaN</td>\n",
       "      <td>0.01</td>\n",
       "      <td>NaN</td>\n",
       "      <td>NaN</td>\n",
       "      <td>2.000</td>\n",
       "      <td>-2.000</td>\n",
       "    </tr>\n",
       "    <tr>\n",
       "      <th>90893</th>\n",
       "      <td>96591</td>\n",
       "      <td>149000057</td>\n",
       "      <td>NATURALLI CAJUN SPICE 100G</td>\n",
       "      <td>NATURALLI</td>\n",
       "      <td>Herbs &amp; Spices</td>\n",
       "      <td>Retail</td>\n",
       "      <td>RETAIL KISUMU MEGA</td>\n",
       "      <td>0</td>\n",
       "      <td>0</td>\n",
       "      <td>0</td>\n",
       "      <td>...</td>\n",
       "      <td>1.5000</td>\n",
       "      <td>0.9000</td>\n",
       "      <td>NaN</td>\n",
       "      <td>0.0</td>\n",
       "      <td>NaN</td>\n",
       "      <td>0.01</td>\n",
       "      <td>NaN</td>\n",
       "      <td>NaN</td>\n",
       "      <td>2.000</td>\n",
       "      <td>-2.000</td>\n",
       "    </tr>\n",
       "    <tr>\n",
       "      <th>90894</th>\n",
       "      <td>96592</td>\n",
       "      <td>149000057</td>\n",
       "      <td>NATURALLI CAJUN SPICE 100G</td>\n",
       "      <td>NATURALLI</td>\n",
       "      <td>Herbs &amp; Spices</td>\n",
       "      <td>Retail</td>\n",
       "      <td>RETAIL LAVINGTON</td>\n",
       "      <td>4</td>\n",
       "      <td>3</td>\n",
       "      <td>2</td>\n",
       "      <td>...</td>\n",
       "      <td>1.5000</td>\n",
       "      <td>0.9000</td>\n",
       "      <td>NaN</td>\n",
       "      <td>0.0</td>\n",
       "      <td>NaN</td>\n",
       "      <td>0.01</td>\n",
       "      <td>NaN</td>\n",
       "      <td>NaN</td>\n",
       "      <td>2.000</td>\n",
       "      <td>-2.000</td>\n",
       "    </tr>\n",
       "    <tr>\n",
       "      <th>90895</th>\n",
       "      <td>96593</td>\n",
       "      <td>149000057</td>\n",
       "      <td>NATURALLI CAJUN SPICE 100G</td>\n",
       "      <td>NATURALLI</td>\n",
       "      <td>Herbs &amp; Spices</td>\n",
       "      <td>Retail</td>\n",
       "      <td>RETAIL LIKONI</td>\n",
       "      <td>0</td>\n",
       "      <td>0</td>\n",
       "      <td>0</td>\n",
       "      <td>...</td>\n",
       "      <td>1.5000</td>\n",
       "      <td>0.9000</td>\n",
       "      <td>NaN</td>\n",
       "      <td>0.0</td>\n",
       "      <td>NaN</td>\n",
       "      <td>0.01</td>\n",
       "      <td>NaN</td>\n",
       "      <td>NaN</td>\n",
       "      <td>2.000</td>\n",
       "      <td>-2.000</td>\n",
       "    </tr>\n",
       "    <tr>\n",
       "      <th>90896</th>\n",
       "      <td>96594</td>\n",
       "      <td>149000057</td>\n",
       "      <td>NATURALLI CAJUN SPICE 100G</td>\n",
       "      <td>NATURALLI</td>\n",
       "      <td>Herbs &amp; Spices</td>\n",
       "      <td>Retail</td>\n",
       "      <td>RETAIL NAIVASHA</td>\n",
       "      <td>1</td>\n",
       "      <td>1</td>\n",
       "      <td>1</td>\n",
       "      <td>...</td>\n",
       "      <td>1.5000</td>\n",
       "      <td>0.9000</td>\n",
       "      <td>NaN</td>\n",
       "      <td>0.0</td>\n",
       "      <td>NaN</td>\n",
       "      <td>0.01</td>\n",
       "      <td>NaN</td>\n",
       "      <td>NaN</td>\n",
       "      <td>2.000</td>\n",
       "      <td>-2.000</td>\n",
       "    </tr>\n",
       "    <tr>\n",
       "      <th>90897</th>\n",
       "      <td>96595</td>\n",
       "      <td>149000057</td>\n",
       "      <td>NATURALLI CAJUN SPICE 100G</td>\n",
       "      <td>NATURALLI</td>\n",
       "      <td>Herbs &amp; Spices</td>\n",
       "      <td>Retail</td>\n",
       "      <td>RETAIL NAKURU</td>\n",
       "      <td>0</td>\n",
       "      <td>0</td>\n",
       "      <td>0</td>\n",
       "      <td>...</td>\n",
       "      <td>1.5000</td>\n",
       "      <td>0.9000</td>\n",
       "      <td>NaN</td>\n",
       "      <td>0.0</td>\n",
       "      <td>NaN</td>\n",
       "      <td>0.01</td>\n",
       "      <td>NaN</td>\n",
       "      <td>NaN</td>\n",
       "      <td>2.000</td>\n",
       "      <td>-2.000</td>\n",
       "    </tr>\n",
       "    <tr>\n",
       "      <th>90898</th>\n",
       "      <td>96596</td>\n",
       "      <td>149000057</td>\n",
       "      <td>NATURALLI CAJUN SPICE 100G</td>\n",
       "      <td>NATURALLI</td>\n",
       "      <td>Herbs &amp; Spices</td>\n",
       "      <td>Retail</td>\n",
       "      <td>RETAIL NAKURU GOLDENLIFE</td>\n",
       "      <td>0</td>\n",
       "      <td>0</td>\n",
       "      <td>0</td>\n",
       "      <td>...</td>\n",
       "      <td>NaN</td>\n",
       "      <td>NaN</td>\n",
       "      <td>NaN</td>\n",
       "      <td>0.0</td>\n",
       "      <td>NaN</td>\n",
       "      <td>0.01</td>\n",
       "      <td>NaN</td>\n",
       "      <td>NaN</td>\n",
       "      <td>NaN</td>\n",
       "      <td>NaN</td>\n",
       "    </tr>\n",
       "    <tr>\n",
       "      <th>90899</th>\n",
       "      <td>96597</td>\n",
       "      <td>149000057</td>\n",
       "      <td>NATURALLI CAJUN SPICE 100G</td>\n",
       "      <td>NATURALLI</td>\n",
       "      <td>Herbs &amp; Spices</td>\n",
       "      <td>Retail</td>\n",
       "      <td>RETAIL NANYUKI</td>\n",
       "      <td>1</td>\n",
       "      <td>1</td>\n",
       "      <td>0</td>\n",
       "      <td>...</td>\n",
       "      <td>3.0000</td>\n",
       "      <td>1.8000</td>\n",
       "      <td>NaN</td>\n",
       "      <td>0.0</td>\n",
       "      <td>NaN</td>\n",
       "      <td>0.01</td>\n",
       "      <td>NaN</td>\n",
       "      <td>NaN</td>\n",
       "      <td>4.000</td>\n",
       "      <td>-4.000</td>\n",
       "    </tr>\n",
       "    <tr>\n",
       "      <th>90900</th>\n",
       "      <td>96598</td>\n",
       "      <td>149000057</td>\n",
       "      <td>NATURALLI CAJUN SPICE 100G</td>\n",
       "      <td>NATURALLI</td>\n",
       "      <td>Herbs &amp; Spices</td>\n",
       "      <td>Retail</td>\n",
       "      <td>RETAIL NYALI</td>\n",
       "      <td>2</td>\n",
       "      <td>2</td>\n",
       "      <td>1</td>\n",
       "      <td>...</td>\n",
       "      <td>1.5000</td>\n",
       "      <td>0.9000</td>\n",
       "      <td>NaN</td>\n",
       "      <td>0.0</td>\n",
       "      <td>NaN</td>\n",
       "      <td>0.01</td>\n",
       "      <td>NaN</td>\n",
       "      <td>NaN</td>\n",
       "      <td>2.000</td>\n",
       "      <td>-2.000</td>\n",
       "    </tr>\n",
       "    <tr>\n",
       "      <th>90901</th>\n",
       "      <td>96599</td>\n",
       "      <td>149000057</td>\n",
       "      <td>NATURALLI CAJUN SPICE 100G</td>\n",
       "      <td>NATURALLI</td>\n",
       "      <td>Herbs &amp; Spices</td>\n",
       "      <td>Retail</td>\n",
       "      <td>RETAIL NYALI CENTRE</td>\n",
       "      <td>1</td>\n",
       "      <td>1</td>\n",
       "      <td>0</td>\n",
       "      <td>...</td>\n",
       "      <td>1.5000</td>\n",
       "      <td>0.9000</td>\n",
       "      <td>NATURALLI CAJUN SPICE 100G</td>\n",
       "      <td>1.0</td>\n",
       "      <td>NaN</td>\n",
       "      <td>0.01</td>\n",
       "      <td>NATURALLI CAJUN SPICE 100G</td>\n",
       "      <td>0.0</td>\n",
       "      <td>2.000</td>\n",
       "      <td>-1.000</td>\n",
       "    </tr>\n",
       "    <tr>\n",
       "      <th>90902</th>\n",
       "      <td>96600</td>\n",
       "      <td>149000057</td>\n",
       "      <td>NATURALLI CAJUN SPICE 100G</td>\n",
       "      <td>NATURALLI</td>\n",
       "      <td>Herbs &amp; Spices</td>\n",
       "      <td>Warehouse</td>\n",
       "      <td>RETAIL OVERSTOCK WAREHOUSE</td>\n",
       "      <td>0</td>\n",
       "      <td>0</td>\n",
       "      <td>0</td>\n",
       "      <td>...</td>\n",
       "      <td>NaN</td>\n",
       "      <td>NaN</td>\n",
       "      <td>NaN</td>\n",
       "      <td>0.0</td>\n",
       "      <td>NaN</td>\n",
       "      <td>0.01</td>\n",
       "      <td>NaN</td>\n",
       "      <td>NaN</td>\n",
       "      <td>NaN</td>\n",
       "      <td>NaN</td>\n",
       "    </tr>\n",
       "    <tr>\n",
       "      <th>90903</th>\n",
       "      <td>96601</td>\n",
       "      <td>149000057</td>\n",
       "      <td>NATURALLI CAJUN SPICE 100G</td>\n",
       "      <td>NATURALLI</td>\n",
       "      <td>Herbs &amp; Spices</td>\n",
       "      <td>Retail</td>\n",
       "      <td>RETAIL REHANI</td>\n",
       "      <td>2</td>\n",
       "      <td>2</td>\n",
       "      <td>0</td>\n",
       "      <td>...</td>\n",
       "      <td>1.5000</td>\n",
       "      <td>0.9000</td>\n",
       "      <td>NATURALLI CAJUN SPICE 100G</td>\n",
       "      <td>1.0</td>\n",
       "      <td>NaN</td>\n",
       "      <td>0.01</td>\n",
       "      <td>NATURALLI CAJUN SPICE 100G</td>\n",
       "      <td>0.0</td>\n",
       "      <td>2.000</td>\n",
       "      <td>-1.000</td>\n",
       "    </tr>\n",
       "    <tr>\n",
       "      <th>90904</th>\n",
       "      <td>96602</td>\n",
       "      <td>149000057</td>\n",
       "      <td>NATURALLI CAJUN SPICE 100G</td>\n",
       "      <td>NATURALLI</td>\n",
       "      <td>Herbs &amp; Spices</td>\n",
       "      <td>Retail</td>\n",
       "      <td>RETAIL RHAPTA ROAD</td>\n",
       "      <td>1</td>\n",
       "      <td>0</td>\n",
       "      <td>0</td>\n",
       "      <td>...</td>\n",
       "      <td>1.5000</td>\n",
       "      <td>0.9000</td>\n",
       "      <td>NaN</td>\n",
       "      <td>0.0</td>\n",
       "      <td>NaN</td>\n",
       "      <td>0.01</td>\n",
       "      <td>NaN</td>\n",
       "      <td>NaN</td>\n",
       "      <td>2.000</td>\n",
       "      <td>-2.000</td>\n",
       "    </tr>\n",
       "    <tr>\n",
       "      <th>90905</th>\n",
       "      <td>96603</td>\n",
       "      <td>149000057</td>\n",
       "      <td>NATURALLI CAJUN SPICE 100G</td>\n",
       "      <td>NATURALLI</td>\n",
       "      <td>Herbs &amp; Spices</td>\n",
       "      <td>Retail</td>\n",
       "      <td>RETAIL RIVERSIDE SQUARE</td>\n",
       "      <td>0</td>\n",
       "      <td>0</td>\n",
       "      <td>0</td>\n",
       "      <td>...</td>\n",
       "      <td>1.5000</td>\n",
       "      <td>0.9000</td>\n",
       "      <td>NaN</td>\n",
       "      <td>0.0</td>\n",
       "      <td>NaN</td>\n",
       "      <td>0.01</td>\n",
       "      <td>NaN</td>\n",
       "      <td>NaN</td>\n",
       "      <td>2.000</td>\n",
       "      <td>-2.000</td>\n",
       "    </tr>\n",
       "    <tr>\n",
       "      <th>90906</th>\n",
       "      <td>96604</td>\n",
       "      <td>149000057</td>\n",
       "      <td>NATURALLI CAJUN SPICE 100G</td>\n",
       "      <td>NATURALLI</td>\n",
       "      <td>Herbs &amp; Spices</td>\n",
       "      <td>Retail</td>\n",
       "      <td>RETAIL SARIT</td>\n",
       "      <td>7</td>\n",
       "      <td>6</td>\n",
       "      <td>3</td>\n",
       "      <td>...</td>\n",
       "      <td>2.4375</td>\n",
       "      <td>1.4625</td>\n",
       "      <td>NaN</td>\n",
       "      <td>0.0</td>\n",
       "      <td>Tier1</td>\n",
       "      <td>0.01</td>\n",
       "      <td>NaN</td>\n",
       "      <td>NaN</td>\n",
       "      <td>4.875</td>\n",
       "      <td>-4.875</td>\n",
       "    </tr>\n",
       "    <tr>\n",
       "      <th>90907</th>\n",
       "      <td>96605</td>\n",
       "      <td>149000057</td>\n",
       "      <td>NATURALLI CAJUN SPICE 100G</td>\n",
       "      <td>NATURALLI</td>\n",
       "      <td>Herbs &amp; Spices</td>\n",
       "      <td>Retail</td>\n",
       "      <td>RETAIL THE HUB</td>\n",
       "      <td>2</td>\n",
       "      <td>2</td>\n",
       "      <td>2</td>\n",
       "      <td>...</td>\n",
       "      <td>1.5000</td>\n",
       "      <td>0.9000</td>\n",
       "      <td>NaN</td>\n",
       "      <td>0.0</td>\n",
       "      <td>NaN</td>\n",
       "      <td>0.01</td>\n",
       "      <td>NaN</td>\n",
       "      <td>NaN</td>\n",
       "      <td>2.000</td>\n",
       "      <td>-2.000</td>\n",
       "    </tr>\n",
       "    <tr>\n",
       "      <th>90908</th>\n",
       "      <td>96606</td>\n",
       "      <td>149000057</td>\n",
       "      <td>NATURALLI CAJUN SPICE 100G</td>\n",
       "      <td>NATURALLI</td>\n",
       "      <td>Herbs &amp; Spices</td>\n",
       "      <td>Retail</td>\n",
       "      <td>RETAIL THIKA ROAD MALL</td>\n",
       "      <td>2</td>\n",
       "      <td>1</td>\n",
       "      <td>1</td>\n",
       "      <td>...</td>\n",
       "      <td>1.5000</td>\n",
       "      <td>0.9000</td>\n",
       "      <td>NaN</td>\n",
       "      <td>0.0</td>\n",
       "      <td>NaN</td>\n",
       "      <td>0.01</td>\n",
       "      <td>NaN</td>\n",
       "      <td>NaN</td>\n",
       "      <td>2.000</td>\n",
       "      <td>-2.000</td>\n",
       "    </tr>\n",
       "    <tr>\n",
       "      <th>90909</th>\n",
       "      <td>96607</td>\n",
       "      <td>149000057</td>\n",
       "      <td>NATURALLI CAJUN SPICE 100G</td>\n",
       "      <td>NATURALLI</td>\n",
       "      <td>Herbs &amp; Spices</td>\n",
       "      <td>Retail</td>\n",
       "      <td>RETAIL TWO RIVERS</td>\n",
       "      <td>0</td>\n",
       "      <td>0</td>\n",
       "      <td>0</td>\n",
       "      <td>...</td>\n",
       "      <td>1.5000</td>\n",
       "      <td>0.9000</td>\n",
       "      <td>NaN</td>\n",
       "      <td>0.0</td>\n",
       "      <td>NaN</td>\n",
       "      <td>0.01</td>\n",
       "      <td>NaN</td>\n",
       "      <td>NaN</td>\n",
       "      <td>2.000</td>\n",
       "      <td>-2.000</td>\n",
       "    </tr>\n",
       "    <tr>\n",
       "      <th>90910</th>\n",
       "      <td>96608</td>\n",
       "      <td>149000057</td>\n",
       "      <td>NATURALLI CAJUN SPICE 100G</td>\n",
       "      <td>NATURALLI</td>\n",
       "      <td>Herbs &amp; Spices</td>\n",
       "      <td>Retail</td>\n",
       "      <td>RETAIL VILLAGE MARKET</td>\n",
       "      <td>4</td>\n",
       "      <td>3</td>\n",
       "      <td>2</td>\n",
       "      <td>...</td>\n",
       "      <td>1.5000</td>\n",
       "      <td>0.9000</td>\n",
       "      <td>NaN</td>\n",
       "      <td>0.0</td>\n",
       "      <td>Tier1</td>\n",
       "      <td>0.01</td>\n",
       "      <td>NaN</td>\n",
       "      <td>NaN</td>\n",
       "      <td>3.000</td>\n",
       "      <td>-3.000</td>\n",
       "    </tr>\n",
       "    <tr>\n",
       "      <th>90911</th>\n",
       "      <td>96609</td>\n",
       "      <td>149000057</td>\n",
       "      <td>NATURALLI CAJUN SPICE 100G</td>\n",
       "      <td>NATURALLI</td>\n",
       "      <td>Herbs &amp; Spices</td>\n",
       "      <td>Retail</td>\n",
       "      <td>RETAIL WESTGATE</td>\n",
       "      <td>3</td>\n",
       "      <td>2</td>\n",
       "      <td>0</td>\n",
       "      <td>...</td>\n",
       "      <td>1.5000</td>\n",
       "      <td>0.9000</td>\n",
       "      <td>NaN</td>\n",
       "      <td>0.0</td>\n",
       "      <td>NaN</td>\n",
       "      <td>0.01</td>\n",
       "      <td>NaN</td>\n",
       "      <td>NaN</td>\n",
       "      <td>2.000</td>\n",
       "      <td>-2.000</td>\n",
       "    </tr>\n",
       "    <tr>\n",
       "      <th>90912</th>\n",
       "      <td>96610</td>\n",
       "      <td>149000057</td>\n",
       "      <td>NATURALLI CAJUN SPICE 100G</td>\n",
       "      <td>NATURALLI</td>\n",
       "      <td>Herbs &amp; Spices</td>\n",
       "      <td>Retail</td>\n",
       "      <td>RETAIL YAYA</td>\n",
       "      <td>3</td>\n",
       "      <td>3</td>\n",
       "      <td>1</td>\n",
       "      <td>...</td>\n",
       "      <td>1.5000</td>\n",
       "      <td>0.9000</td>\n",
       "      <td>NATURALLI CAJUN SPICE 100G</td>\n",
       "      <td>1.0</td>\n",
       "      <td>Tier1</td>\n",
       "      <td>0.01</td>\n",
       "      <td>NATURALLI CAJUN SPICE 100G</td>\n",
       "      <td>3.0</td>\n",
       "      <td>3.000</td>\n",
       "      <td>-2.000</td>\n",
       "    </tr>\n",
       "    <tr>\n",
       "      <th>90913</th>\n",
       "      <td>96611</td>\n",
       "      <td>149000057</td>\n",
       "      <td>NATURALLI CAJUN SPICE 100G</td>\n",
       "      <td>NATURALLI</td>\n",
       "      <td>Herbs &amp; Spices</td>\n",
       "      <td>Retail</td>\n",
       "      <td>UPCOUNTRY WAREHOUSE</td>\n",
       "      <td>0</td>\n",
       "      <td>0</td>\n",
       "      <td>0</td>\n",
       "      <td>...</td>\n",
       "      <td>NaN</td>\n",
       "      <td>NaN</td>\n",
       "      <td>NaN</td>\n",
       "      <td>0.0</td>\n",
       "      <td>NaN</td>\n",
       "      <td>0.01</td>\n",
       "      <td>NaN</td>\n",
       "      <td>NaN</td>\n",
       "      <td>NaN</td>\n",
       "      <td>NaN</td>\n",
       "    </tr>\n",
       "  </tbody>\n",
       "</table>\n",
       "<p>33 rows × 95 columns</p>\n",
       "</div>"
      ],
      "text/plain": [
       "       index   Item No.          Item Description_x      Brand  \\\n",
       "90881  96579  149000057  NATURALLI CAJUN SPICE 100G  NATURALLI   \n",
       "90882  96580  149000057  NATURALLI CAJUN SPICE 100G  NATURALLI   \n",
       "90883  96581  149000057  NATURALLI CAJUN SPICE 100G  NATURALLI   \n",
       "90884  96582  149000057  NATURALLI CAJUN SPICE 100G  NATURALLI   \n",
       "90885  96583  149000057  NATURALLI CAJUN SPICE 100G  NATURALLI   \n",
       "90886  96584  149000057  NATURALLI CAJUN SPICE 100G  NATURALLI   \n",
       "90887  96585  149000057  NATURALLI CAJUN SPICE 100G  NATURALLI   \n",
       "90888  96586  149000057  NATURALLI CAJUN SPICE 100G  NATURALLI   \n",
       "90889  96587  149000057  NATURALLI CAJUN SPICE 100G  NATURALLI   \n",
       "90890  96588  149000057  NATURALLI CAJUN SPICE 100G  NATURALLI   \n",
       "90891  96589  149000057  NATURALLI CAJUN SPICE 100G  NATURALLI   \n",
       "90892  96590  149000057  NATURALLI CAJUN SPICE 100G  NATURALLI   \n",
       "90893  96591  149000057  NATURALLI CAJUN SPICE 100G  NATURALLI   \n",
       "90894  96592  149000057  NATURALLI CAJUN SPICE 100G  NATURALLI   \n",
       "90895  96593  149000057  NATURALLI CAJUN SPICE 100G  NATURALLI   \n",
       "90896  96594  149000057  NATURALLI CAJUN SPICE 100G  NATURALLI   \n",
       "90897  96595  149000057  NATURALLI CAJUN SPICE 100G  NATURALLI   \n",
       "90898  96596  149000057  NATURALLI CAJUN SPICE 100G  NATURALLI   \n",
       "90899  96597  149000057  NATURALLI CAJUN SPICE 100G  NATURALLI   \n",
       "90900  96598  149000057  NATURALLI CAJUN SPICE 100G  NATURALLI   \n",
       "90901  96599  149000057  NATURALLI CAJUN SPICE 100G  NATURALLI   \n",
       "90902  96600  149000057  NATURALLI CAJUN SPICE 100G  NATURALLI   \n",
       "90903  96601  149000057  NATURALLI CAJUN SPICE 100G  NATURALLI   \n",
       "90904  96602  149000057  NATURALLI CAJUN SPICE 100G  NATURALLI   \n",
       "90905  96603  149000057  NATURALLI CAJUN SPICE 100G  NATURALLI   \n",
       "90906  96604  149000057  NATURALLI CAJUN SPICE 100G  NATURALLI   \n",
       "90907  96605  149000057  NATURALLI CAJUN SPICE 100G  NATURALLI   \n",
       "90908  96606  149000057  NATURALLI CAJUN SPICE 100G  NATURALLI   \n",
       "90909  96607  149000057  NATURALLI CAJUN SPICE 100G  NATURALLI   \n",
       "90910  96608  149000057  NATURALLI CAJUN SPICE 100G  NATURALLI   \n",
       "90911  96609  149000057  NATURALLI CAJUN SPICE 100G  NATURALLI   \n",
       "90912  96610  149000057  NATURALLI CAJUN SPICE 100G  NATURALLI   \n",
       "90913  96611  149000057  NATURALLI CAJUN SPICE 100G  NATURALLI   \n",
       "\n",
       "           Department Location Type         Store/Location Name  \\\n",
       "90881  Herbs & Spices     Warehouse  DAMAGES & EXPIRY WAREHOUSE   \n",
       "90882  Herbs & Spices     Warehouse   IVEND INTRANSIT WAREHOUSE   \n",
       "90883  Herbs & Spices     Warehouse              MAIN WAREHOUSE   \n",
       "90884  Herbs & Spices        Retail                  RETAIL ABC   \n",
       "90885  Herbs & Spices        Retail       RETAIL CAPITAL CENTRE   \n",
       "90886  Herbs & Spices        Retail              RETAIL ELDORET   \n",
       "90887  Herbs & Spices        Retail             RETAIL GALLERIA   \n",
       "90888  Herbs & Spices        Retail          RETAIL GARDEN CITY   \n",
       "90889  Herbs & Spices        Retail               RETAIL HILTON   \n",
       "90890  Herbs & Spices        Retail          RETAIL IMAARA MALL   \n",
       "90891  Herbs & Spices        Retail             RETAIL JUNCTION   \n",
       "90892  Herbs & Spices        Retail               RETAIL KISUMU   \n",
       "90893  Herbs & Spices        Retail          RETAIL KISUMU MEGA   \n",
       "90894  Herbs & Spices        Retail            RETAIL LAVINGTON   \n",
       "90895  Herbs & Spices        Retail               RETAIL LIKONI   \n",
       "90896  Herbs & Spices        Retail             RETAIL NAIVASHA   \n",
       "90897  Herbs & Spices        Retail               RETAIL NAKURU   \n",
       "90898  Herbs & Spices        Retail    RETAIL NAKURU GOLDENLIFE   \n",
       "90899  Herbs & Spices        Retail              RETAIL NANYUKI   \n",
       "90900  Herbs & Spices        Retail                RETAIL NYALI   \n",
       "90901  Herbs & Spices        Retail         RETAIL NYALI CENTRE   \n",
       "90902  Herbs & Spices     Warehouse  RETAIL OVERSTOCK WAREHOUSE   \n",
       "90903  Herbs & Spices        Retail               RETAIL REHANI   \n",
       "90904  Herbs & Spices        Retail          RETAIL RHAPTA ROAD   \n",
       "90905  Herbs & Spices        Retail     RETAIL RIVERSIDE SQUARE   \n",
       "90906  Herbs & Spices        Retail                RETAIL SARIT   \n",
       "90907  Herbs & Spices        Retail              RETAIL THE HUB   \n",
       "90908  Herbs & Spices        Retail      RETAIL THIKA ROAD MALL   \n",
       "90909  Herbs & Spices        Retail           RETAIL TWO RIVERS   \n",
       "90910  Herbs & Spices        Retail       RETAIL VILLAGE MARKET   \n",
       "90911  Herbs & Spices        Retail             RETAIL WESTGATE   \n",
       "90912  Herbs & Spices        Retail                 RETAIL YAYA   \n",
       "90913  Herbs & Spices        Retail         UPCOUNTRY WAREHOUSE   \n",
       "\n",
       "       Month_selling_frequency  Monthly_selling_frequency_last6months  \\\n",
       "90881                        0                                      0   \n",
       "90882                        0                                      0   \n",
       "90883                        0                                      0   \n",
       "90884                        1                                      1   \n",
       "90885                        2                                      2   \n",
       "90886                        0                                      0   \n",
       "90887                        3                                      3   \n",
       "90888                        1                                      1   \n",
       "90889                        2                                      2   \n",
       "90890                        0                                      0   \n",
       "90891                        2                                      1   \n",
       "90892                        0                                      0   \n",
       "90893                        0                                      0   \n",
       "90894                        4                                      3   \n",
       "90895                        0                                      0   \n",
       "90896                        1                                      1   \n",
       "90897                        0                                      0   \n",
       "90898                        0                                      0   \n",
       "90899                        1                                      1   \n",
       "90900                        2                                      2   \n",
       "90901                        1                                      1   \n",
       "90902                        0                                      0   \n",
       "90903                        2                                      2   \n",
       "90904                        1                                      0   \n",
       "90905                        0                                      0   \n",
       "90906                        7                                      6   \n",
       "90907                        2                                      2   \n",
       "90908                        2                                      1   \n",
       "90909                        0                                      0   \n",
       "90910                        4                                      3   \n",
       "90911                        3                                      2   \n",
       "90912                        3                                      3   \n",
       "90913                        0                                      0   \n",
       "\n",
       "       Monthly_selling_frequency_last3months  ...  MaxStock  MinStock  \\\n",
       "90881                                      0  ...       NaN       NaN   \n",
       "90882                                      0  ...       NaN       NaN   \n",
       "90883                                      0  ...    1.5000    0.9000   \n",
       "90884                                      1  ...    1.5000    0.9000   \n",
       "90885                                      2  ...    1.5000    0.9000   \n",
       "90886                                      0  ...    1.5000    0.9000   \n",
       "90887                                      3  ...    1.5000    0.9000   \n",
       "90888                                      0  ...    1.5000    0.9000   \n",
       "90889                                      2  ...    1.5000    0.9000   \n",
       "90890                                      0  ...    1.5000    0.9000   \n",
       "90891                                      0  ...    1.5000    0.9000   \n",
       "90892                                      0  ...    1.5000    0.9000   \n",
       "90893                                      0  ...    1.5000    0.9000   \n",
       "90894                                      2  ...    1.5000    0.9000   \n",
       "90895                                      0  ...    1.5000    0.9000   \n",
       "90896                                      1  ...    1.5000    0.9000   \n",
       "90897                                      0  ...    1.5000    0.9000   \n",
       "90898                                      0  ...       NaN       NaN   \n",
       "90899                                      0  ...    3.0000    1.8000   \n",
       "90900                                      1  ...    1.5000    0.9000   \n",
       "90901                                      0  ...    1.5000    0.9000   \n",
       "90902                                      0  ...       NaN       NaN   \n",
       "90903                                      0  ...    1.5000    0.9000   \n",
       "90904                                      0  ...    1.5000    0.9000   \n",
       "90905                                      0  ...    1.5000    0.9000   \n",
       "90906                                      3  ...    2.4375    1.4625   \n",
       "90907                                      2  ...    1.5000    0.9000   \n",
       "90908                                      1  ...    1.5000    0.9000   \n",
       "90909                                      0  ...    1.5000    0.9000   \n",
       "90910                                      2  ...    1.5000    0.9000   \n",
       "90911                                      0  ...    1.5000    0.9000   \n",
       "90912                                      1  ...    1.5000    0.9000   \n",
       "90913                                      0  ...       NaN       NaN   \n",
       "\n",
       "               Item Description_y  InStock   Tier  median_sell_rate  \\\n",
       "90881                         NaN      0.0    NaN              0.01   \n",
       "90882                         NaN      0.0    NaN              0.01   \n",
       "90883  NATURALLI CAJUN SPICE 100G      1.0    NaN              0.01   \n",
       "90884                         NaN      0.0    NaN              0.01   \n",
       "90885                         NaN      0.0    NaN              0.01   \n",
       "90886                         NaN      0.0    NaN              0.01   \n",
       "90887                         NaN      0.0    NaN              0.01   \n",
       "90888                         NaN      0.0    NaN              0.01   \n",
       "90889  NATURALLI CAJUN SPICE 100G      2.0  Tier1              0.01   \n",
       "90890                         NaN      0.0    NaN              0.01   \n",
       "90891                         NaN      0.0    NaN              0.01   \n",
       "90892                         NaN      0.0    NaN              0.01   \n",
       "90893                         NaN      0.0    NaN              0.01   \n",
       "90894                         NaN      0.0    NaN              0.01   \n",
       "90895                         NaN      0.0    NaN              0.01   \n",
       "90896                         NaN      0.0    NaN              0.01   \n",
       "90897                         NaN      0.0    NaN              0.01   \n",
       "90898                         NaN      0.0    NaN              0.01   \n",
       "90899                         NaN      0.0    NaN              0.01   \n",
       "90900                         NaN      0.0    NaN              0.01   \n",
       "90901  NATURALLI CAJUN SPICE 100G      1.0    NaN              0.01   \n",
       "90902                         NaN      0.0    NaN              0.01   \n",
       "90903  NATURALLI CAJUN SPICE 100G      1.0    NaN              0.01   \n",
       "90904                         NaN      0.0    NaN              0.01   \n",
       "90905                         NaN      0.0    NaN              0.01   \n",
       "90906                         NaN      0.0  Tier1              0.01   \n",
       "90907                         NaN      0.0    NaN              0.01   \n",
       "90908                         NaN      0.0    NaN              0.01   \n",
       "90909                         NaN      0.0    NaN              0.01   \n",
       "90910                         NaN      0.0  Tier1              0.01   \n",
       "90911                         NaN      0.0    NaN              0.01   \n",
       "90912  NATURALLI CAJUN SPICE 100G      1.0  Tier1              0.01   \n",
       "90913                         NaN      0.0    NaN              0.01   \n",
       "\n",
       "                 Item Description  Sell_Rate_Current_Month  Months_Cover_2_3  \\\n",
       "90881                         NaN                      NaN               NaN   \n",
       "90882                         NaN                      NaN               NaN   \n",
       "90883  NATURALLI CAJUN SPICE 100G                      0.0             2.000   \n",
       "90884                         NaN                      NaN             2.000   \n",
       "90885                         NaN                      NaN             2.000   \n",
       "90886                         NaN                      NaN             2.000   \n",
       "90887                         NaN                      NaN             2.000   \n",
       "90888                         NaN                      NaN             2.000   \n",
       "90889  NATURALLI CAJUN SPICE 100G                      0.0             3.000   \n",
       "90890                         NaN                      NaN             2.000   \n",
       "90891                         NaN                      NaN             2.000   \n",
       "90892                         NaN                      NaN             2.000   \n",
       "90893                         NaN                      NaN             2.000   \n",
       "90894                         NaN                      NaN             2.000   \n",
       "90895                         NaN                      NaN             2.000   \n",
       "90896                         NaN                      NaN             2.000   \n",
       "90897                         NaN                      NaN             2.000   \n",
       "90898                         NaN                      NaN               NaN   \n",
       "90899                         NaN                      NaN             4.000   \n",
       "90900                         NaN                      NaN             2.000   \n",
       "90901  NATURALLI CAJUN SPICE 100G                      0.0             2.000   \n",
       "90902                         NaN                      NaN               NaN   \n",
       "90903  NATURALLI CAJUN SPICE 100G                      0.0             2.000   \n",
       "90904                         NaN                      NaN             2.000   \n",
       "90905                         NaN                      NaN             2.000   \n",
       "90906                         NaN                      NaN             4.875   \n",
       "90907                         NaN                      NaN             2.000   \n",
       "90908                         NaN                      NaN             2.000   \n",
       "90909                         NaN                      NaN             2.000   \n",
       "90910                         NaN                      NaN             3.000   \n",
       "90911                         NaN                      NaN             2.000   \n",
       "90912  NATURALLI CAJUN SPICE 100G                      3.0             3.000   \n",
       "90913                         NaN                      NaN               NaN   \n",
       "\n",
       "       Excess_stock  \n",
       "90881           NaN  \n",
       "90882           NaN  \n",
       "90883        -1.000  \n",
       "90884        -2.000  \n",
       "90885        -2.000  \n",
       "90886        -2.000  \n",
       "90887        -2.000  \n",
       "90888        -2.000  \n",
       "90889        -1.000  \n",
       "90890        -2.000  \n",
       "90891        -2.000  \n",
       "90892        -2.000  \n",
       "90893        -2.000  \n",
       "90894        -2.000  \n",
       "90895        -2.000  \n",
       "90896        -2.000  \n",
       "90897        -2.000  \n",
       "90898           NaN  \n",
       "90899        -4.000  \n",
       "90900        -2.000  \n",
       "90901        -1.000  \n",
       "90902           NaN  \n",
       "90903        -1.000  \n",
       "90904        -2.000  \n",
       "90905        -2.000  \n",
       "90906        -4.875  \n",
       "90907        -2.000  \n",
       "90908        -2.000  \n",
       "90909        -2.000  \n",
       "90910        -3.000  \n",
       "90911        -2.000  \n",
       "90912        -2.000  \n",
       "90913           NaN  \n",
       "\n",
       "[33 rows x 95 columns]"
      ]
     },
     "execution_count": 236,
     "metadata": {},
     "output_type": "execute_result"
    }
   ],
   "source": [
    "stock_and_sales_E [stock_and_sales_E['Item No.']=='149000057']"
   ]
  },
  {
   "cell_type": "code",
   "execution_count": 237,
   "id": "7eff42b2",
   "metadata": {},
   "outputs": [],
   "source": [
    "move_to_table.insert(6, 'Vendor Name', 'N/A')"
   ]
  },
  {
   "cell_type": "code",
   "execution_count": 238,
   "id": "647862e7",
   "metadata": {},
   "outputs": [],
   "source": [
    "move_to_table_B=move_to_table[[ 'Item No.','Item Description_x','Brand', 'Store/Location Name', 'Location Type',\n",
    "                                                     'Vendor Name', 'median_sell_rate','MaxStock', 'MinStock','Capacity','InStock'\n",
    "              \n",
    "                                                     ]].copy()\n",
    "\n",
    "\n",
    "\n",
    "move_to_table_B['CapacityRounded']=move_to_table_B.apply(Capactiy2, axis=1)"
   ]
  },
  {
   "cell_type": "code",
   "execution_count": 239,
   "id": "6ac840fc",
   "metadata": {},
   "outputs": [],
   "source": [
    "giftware=move_to_table_B[move_to_table_B.isin({'Store/Location Name': ['RETAIL THE FIVE ELEMENTS', 'RETAIL FIVE ELEMENTS NYALI']})['Store/Location Name']]\n",
    "\n",
    "#lets remove giftware shops from suggestion list\n",
    "\n",
    "move_to_table_B.drop(giftware.index, inplace=True)"
   ]
  },
  {
   "cell_type": "code",
   "execution_count": 240,
   "id": "b55c0fc3",
   "metadata": {},
   "outputs": [],
   "source": [
    "combined_table2=pd.concat([Instock_import[Instock_import ['Store/Location Name'] =='RETAIL WAREHOUSE'].copy(),\n",
    "                           Instock_import[Instock_import ['Store/Location Name'] =='MAIN WAREHOUSE'].copy(),\n",
    "                           \n",
    "                          ])"
   ]
  },
  {
   "cell_type": "code",
   "execution_count": 241,
   "id": "00ed079d",
   "metadata": {},
   "outputs": [],
   "source": [
    "combined_table2 ['Unique_Index'] = combined_table2 ['Item Description'] + combined_table2 ['Store/Location Name']"
   ]
  },
  {
   "cell_type": "code",
   "execution_count": 242,
   "id": "38a48102",
   "metadata": {},
   "outputs": [],
   "source": [
    "combined_table2.rename(columns={'InStock': 'Excess_stock', 'Item Description': 'Item Description_x'}, inplace=True)"
   ]
  },
  {
   "cell_type": "code",
   "execution_count": 243,
   "id": "2a02a595",
   "metadata": {},
   "outputs": [],
   "source": [
    "# move_to_table[move_to_table ['Item No.']=='155000324'].to_csv('sdsf.csv')"
   ]
  },
  {
   "cell_type": "code",
   "execution_count": 244,
   "id": "d96f24a4",
   "metadata": {},
   "outputs": [],
   "source": [
    "read_min_max ['Item No.'] = read_min_max ['Item No.'].astype(str)\n",
    "\n",
    "combined_table2 ['Item No.'] = combined_table2 ['Item No.'].astype(str)"
   ]
  },
  {
   "cell_type": "code",
   "execution_count": 245,
   "id": "895bb419",
   "metadata": {
    "scrolled": false
   },
   "outputs": [],
   "source": [
    "combined_table3=pd.merge(left=combined_table2, right = read_min_max [['Item No.', 'Store/Location Name', 'Mean']], on =['Item No.', 'Store/Location Name'], how='left')"
   ]
  },
  {
   "cell_type": "raw",
   "id": "d467a27f",
   "metadata": {},
   "source": [
    "def excess_in_main(x):\n",
    "    if x['Store/Location Name'] == 'MAIN WAREHOUSE' and x.Excess_stock < (x.Mean * 2):\n",
    "        return 0\n",
    "    else:\n",
    "        return x.Excess_stock - (x.Mean * 2)\n",
    "    \n",
    "  # excess stock is just instock. We'll change this later. The renaming was done a few blocks above  "
   ]
  },
  {
   "cell_type": "raw",
   "id": "648dec0d",
   "metadata": {},
   "source": [
    "excess_2=combined_table3.apply(excess_in_main, axis=1)"
   ]
  },
  {
   "cell_type": "raw",
   "id": "ab18cdd9",
   "metadata": {},
   "source": [
    "combined_table3 ['Excess_stock2'] = excess_2"
   ]
  },
  {
   "cell_type": "raw",
   "id": "abda1152",
   "metadata": {},
   "source": [
    "combined_table3.Excess_stock2.fillna(0, inplace=True)"
   ]
  },
  {
   "cell_type": "raw",
   "id": "00fe0208",
   "metadata": {},
   "source": [
    "def excess_stock_retail(x):\n",
    "    if x.Excess_stock2 == 0 and x.Excess_stock>0 and x ['Store/Location Name'] == 'RETAIL WAREHOUSE':\n",
    "        return x.Excess_stock\n",
    "    else:\n",
    "        return x.Excess_stock2"
   ]
  },
  {
   "cell_type": "raw",
   "id": "f60ff50b",
   "metadata": {},
   "source": [
    "excess_3=combined_table3.apply(excess_stock_retail, axis=1)"
   ]
  },
  {
   "cell_type": "raw",
   "id": "a8c14949",
   "metadata": {},
   "source": [
    "combined_table3 ['Excess_stock3'] = excess_3"
   ]
  },
  {
   "cell_type": "markdown",
   "id": "7886b286",
   "metadata": {},
   "source": [
    "if Item has recently picked sales, above or equal to 0.2, leave the stock as is. Else remove excess."
   ]
  },
  {
   "cell_type": "code",
   "execution_count": 246,
   "id": "20246215",
   "metadata": {},
   "outputs": [
    {
     "data": {
      "text/plain": [
       "Index(['#', 'Mode of Business', 'Core Type', 'Location Type', 'Item No.',\n",
       "       'Bar Code', 'Item Description_x', 'Department', 'Brand', 'Vendor Code',\n",
       "       'Vendor Name', 'Store/Location Code', 'Store/Location Name',\n",
       "       'Excess_stock', 'Opening Stock', 'Purchased Quantity',\n",
       "       'Purchase Return Quantity', 'Open PO Qty', 'Order Quantity',\n",
       "       'Jan Qty Sold', 'Feb Qty Sold', 'Mar Qty Sold', 'Apr Qty Sold',\n",
       "       'May Qty Sold', 'Jun Qty Sold', 'Jul Qty Sold', 'Aug Qty Sold',\n",
       "       'Sep Qty Sold', 'Oct Qty Sold', 'Nov Qty Sold', 'Dec Qty Sold',\n",
       "       'Total Quantity Sold', 'Closing Stock', 'Retail Price Ex. VAT',\n",
       "       'Retail Price Inc VAT', 'COGS', 'Total Sales Amount', 'Gross Profit',\n",
       "       'Gross Profit %', 'Unique_Index', 'Mean'],\n",
       "      dtype='object')"
      ]
     },
     "execution_count": 246,
     "metadata": {},
     "output_type": "execute_result"
    }
   ],
   "source": [
    "combined_table3.columns"
   ]
  },
  {
   "cell_type": "markdown",
   "id": "125cc05b",
   "metadata": {},
   "source": [
    "RECENT SHIPMENTS"
   ]
  },
  {
   "cell_type": "code",
   "execution_count": 247,
   "id": "8e391544",
   "metadata": {},
   "outputs": [],
   "source": [
    "# HW1= pd.read_excel(\"C:\\\\Users\\\\Geoffrey.Oute\\\\Desktop\\\\Recent Shipments\\\\HW1.xlsx\")"
   ]
  },
  {
   "cell_type": "code",
   "execution_count": 248,
   "id": "522971f4",
   "metadata": {},
   "outputs": [],
   "source": [
    "# HW2= pd.read_excel(\"C:\\\\Users\\\\Geoffrey.Oute\\\\Desktop\\\\Recent Shipments\\\\HW2.xlsx\")"
   ]
  },
  {
   "cell_type": "code",
   "execution_count": 249,
   "id": "38b972e4",
   "metadata": {},
   "outputs": [],
   "source": [
    "# all_items_HW=list(HW1 ['Item Num'].unique())+ list(HW2 ['Item Num'].unique())"
   ]
  },
  {
   "cell_type": "code",
   "execution_count": 250,
   "id": "f0226549",
   "metadata": {},
   "outputs": [],
   "source": [
    "# combined_table4=combined_table3 [~combined_table3.isin ({'Item No.': all_items_HW}) ['Item No.']]"
   ]
  },
  {
   "cell_type": "code",
   "execution_count": 251,
   "id": "23f529d1",
   "metadata": {},
   "outputs": [],
   "source": [
    "combined_table4 = combined_table3.copy()"
   ]
  },
  {
   "cell_type": "code",
   "execution_count": 252,
   "id": "4bc10e3b",
   "metadata": {},
   "outputs": [],
   "source": [
    "def Brand_Block(x):\n",
    "    if (x['Brand'] == 'ECOVER' or x ['Brand'] == 'METHOD') and (x ['Store/Location Name'] in ['RETAIL HILTON', 'RETAIL T-MALL', 'RETAIL CAPITAL CENTRE', 'RETAIL EASTLEIGH BRANCH', 'RETAIL MAIYAN MALL']):\n",
    "        return 'Block'\n",
    "    else:\n",
    "        return 'Proceed'"
   ]
  },
  {
   "cell_type": "code",
   "execution_count": 253,
   "id": "28be791a",
   "metadata": {},
   "outputs": [],
   "source": [
    "def Brand_Block2(x):\n",
    "    if (x['Brand'] == \"DR BRONNER'S\" or x ['Brand'] == 'HEMANI') and (x ['Store/Location Name'] in [\"CARREFOUR MEGA (EXPRESS)\"]):\n",
    "        return 'Block'\n",
    "    else:\n",
    "        return 'Proceed'"
   ]
  },
  {
   "cell_type": "code",
   "execution_count": 254,
   "id": "5d310cfc",
   "metadata": {},
   "outputs": [],
   "source": [
    "move_to_table_B ['Block_Status'] = move_to_table_B.apply(Brand_Block2, axis=1)"
   ]
  },
  {
   "cell_type": "code",
   "execution_count": 255,
   "id": "0cce2e80",
   "metadata": {
    "scrolled": true
   },
   "outputs": [],
   "source": [
    "move_to_table_B ['Block_Status'] = move_to_table_B.apply(Brand_Block, axis=1)"
   ]
  },
  {
   "cell_type": "code",
   "execution_count": 256,
   "id": "c4ad2d70",
   "metadata": {},
   "outputs": [],
   "source": [
    "department_dictionary=dict(read_min_max[['Item No.', 'Department']].values)"
   ]
  },
  {
   "cell_type": "code",
   "execution_count": 257,
   "id": "ef5575de",
   "metadata": {},
   "outputs": [],
   "source": [
    "move_to_table_B ['Department'] = move_to_table_B['Item No.'].apply(lambda x: department_dictionary[x] if x in department_dictionary else 'No Dep')"
   ]
  },
  {
   "cell_type": "code",
   "execution_count": 258,
   "id": "3ee3fa79",
   "metadata": {},
   "outputs": [],
   "source": [
    "def Department_Block(x):\n",
    "    if (x['Department'] == 'Baby foods') and (x ['Store/Location Name'] in ['RETAIL HILTON']):\n",
    "        return 'Block'\n",
    "    else:\n",
    "        return 'Proceed'\n",
    "    "
   ]
  },
  {
   "cell_type": "code",
   "execution_count": 259,
   "id": "bea9949c",
   "metadata": {},
   "outputs": [],
   "source": [
    "move_to_table_B ['Department_Block'] = move_to_table_B.apply(Department_Block, axis=1)"
   ]
  },
  {
   "cell_type": "code",
   "execution_count": 260,
   "id": "e672259f",
   "metadata": {},
   "outputs": [],
   "source": [
    "indices_omit=list(set(list(move_to_table_B [move_to_table_B ['Block_Status'] == 'Block'].index)+list(move_to_table_B [move_to_table_B ['Department_Block'] == 'Block'].index)))"
   ]
  },
  {
   "cell_type": "code",
   "execution_count": 261,
   "id": "801ed2ce",
   "metadata": {},
   "outputs": [],
   "source": [
    "move_to_table_B.drop(indices_omit, inplace=True)"
   ]
  },
  {
   "cell_type": "code",
   "execution_count": 262,
   "id": "39b1f092",
   "metadata": {},
   "outputs": [],
   "source": [
    "move_to_table_B.set_axis(range(0, len(move_to_table_B)), inplace=True)"
   ]
  },
  {
   "cell_type": "code",
   "execution_count": 263,
   "id": "6d8b898f",
   "metadata": {},
   "outputs": [],
   "source": [
    "move_to_table_B.drop(['Block_Status', 'Department', 'Department_Block'], axis=1, inplace=True)"
   ]
  },
  {
   "cell_type": "code",
   "execution_count": 264,
   "id": "f9918db2",
   "metadata": {},
   "outputs": [
    {
     "data": {
      "text/plain": [
       "array(['IVEND INTRANSIT WAREHOUSE', 'RETAIL ABC', 'RETAIL CAPITAL CENTRE',\n",
       "       'RETAIL EASTLEIGH BRANCH', 'RETAIL ELDORET', 'RETAIL GALLERIA',\n",
       "       'RETAIL GARDEN CITY', 'RETAIL HILTON', 'RETAIL IMAARA MALL',\n",
       "       'RETAIL JUNCTION', 'RETAIL KISUMU', 'RETAIL KISUMU MEGA',\n",
       "       'RETAIL LAVINGTON', 'RETAIL LIKONI', 'RETAIL MAIYAN MALL',\n",
       "       'RETAIL NAKURU', 'RETAIL NANYUKI', 'RETAIL NYALI',\n",
       "       'RETAIL NYALI CENTRE', 'RETAIL REHANI', 'RETAIL RHAPTA ROAD',\n",
       "       'RETAIL RIVERSIDE SQUARE', 'RETAIL SARIT', 'RETAIL T-MALL',\n",
       "       'RETAIL THE HUB', 'RETAIL THIKA ROAD MALL', 'RETAIL TWO RIVERS',\n",
       "       'RETAIL VILLAGE MARKET', 'RETAIL WESTGATE',\n",
       "       'RETAIL WESTLANDS SQUARE', 'RETAIL YAYA', 'UPCOUNTRY WAREHOUSE',\n",
       "       'RETAIL NAIVASHA', 'RETAIL THE PLACE 67', 'RETAIL WAREHOUSE',\n",
       "       'DAMAGES & EXPIRY WAREHOUSE', 'RECEIVING WAREHOUSE',\n",
       "       'PRODUCTION WAREHOUSE', 'QUALITY CONTROL WAREHOUSE',\n",
       "       'RETAIL OVERSTOCK WAREHOUSE', 'X WAREHOUSE',\n",
       "       'MAJID RETURNS WAREHOUSE', 'GIFTWARE WAREHOUSE',\n",
       "       'VARIANCE MAIN WAREHOUSE', 'FIXED ASSETS & CONSUMMABLES',\n",
       "       'PACKAGING MATERIALS WAREHOUSE',\n",
       "       'IVEND INTRANSIT RIVERSIDE SQUARE', 'IVEND INTRANSIT IMAARA MALL',\n",
       "       'IVEND INTRANSIT KISUMU MEGA', 'IVEND INTRANSIT NANYUKI',\n",
       "       'IVEND INTRANSIT SARIT', 'IVEND INTRANSIT NAIVASHA',\n",
       "       'IVEND INTRANSIT WESTLANDS SQUARE', 'IVEND INTRANSIT MAIYAN MALL',\n",
       "       'IVEND INTRANSIT THE PLACE 67', 'IVEND INTRANSIT NYALI CENTRE',\n",
       "       'IVEND INTRANSIT THIKA ROAD MALL', 'IVEND INTRANSIT LIKONI',\n",
       "       'IVEND INTRANSIT T-MALL', 'IVEND INTRANSIT KISUMU',\n",
       "       'IVEND INTRANSIT NYALI', 'IVEND INTRANSIT GARDEN CITY',\n",
       "       'IVEND INTRANSIT YAYA', 'RETAIL THE FIVE ELEMENTS SARIT',\n",
       "       'IVEND INTRANSIT ABC', 'IVEND INTRANSIT ELDORET',\n",
       "       'IVEND INTRANSIT GALLERIA', 'IVEND INTRANSIT VILLAGE MARKET',\n",
       "       'IVEND INTRANSIT LAVINGTON', 'IVEND INTRANSIT THE HUB',\n",
       "       'IVEND INTRANSIT JUNCTION', 'IVEND INTRANSIT HILTON',\n",
       "       'IVEND INTRANSIT RHAPTA ROAD', 'IVEND INTRANSIT WESTGATE',\n",
       "       'IVEND INTRANSIT NAKURU',\n",
       "       'IVEND INTRANSIT THE FIVE ELEMENTS SARIT',\n",
       "       'IVEND INTRANSIT TWO RIVERS', 'IVEND INTRANSIT REHANI',\n",
       "       'IVEND INTRANSIT CAPITAL CENTRE',\n",
       "       'IVEND INTRANSIT EASTLEIGH BRANCH'], dtype=object)"
      ]
     },
     "execution_count": 264,
     "metadata": {},
     "output_type": "execute_result"
    }
   ],
   "source": [
    "move_to_table_B['Store/Location Name'].unique()"
   ]
  },
  {
   "cell_type": "code",
   "execution_count": 265,
   "id": "058a4ade",
   "metadata": {},
   "outputs": [],
   "source": [
    "move_to_table_B = move_to_table_B [move_to_table_B .isin({'Store/Location Name': ['RETAIL SARIT']})['Store/Location Name']]"
   ]
  },
  {
   "cell_type": "code",
   "execution_count": 266,
   "id": "23107ffd",
   "metadata": {},
   "outputs": [],
   "source": [
    "# move_to_table_B = move_to_table_B [~move_to_table_B .isin({'Store/Location Name': ['RETAIL SARIT','RETAIL YAYA', 'RETAIL VILLAGE MARKET', 'RETAIL WESTGATE', 'RETAIL JUNCTION', 'RETAIL NYALI', 'RETAIL NAKURU', 'RETAIL HILTON']})['Store/Location Name']]"
   ]
  },
  {
   "cell_type": "code",
   "execution_count": 267,
   "id": "a58085e2",
   "metadata": {},
   "outputs": [
    {
     "data": {
      "text/plain": [
       "array(['RETAIL SARIT'], dtype=object)"
      ]
     },
     "execution_count": 267,
     "metadata": {},
     "output_type": "execute_result"
    }
   ],
   "source": [
    "move_to_table_B ['Store/Location Name'].unique()"
   ]
  },
  {
   "cell_type": "code",
   "execution_count": 268,
   "id": "9a5c92cf",
   "metadata": {},
   "outputs": [
    {
     "data": {
      "text/html": [
       "<div>\n",
       "<style scoped>\n",
       "    .dataframe tbody tr th:only-of-type {\n",
       "        vertical-align: middle;\n",
       "    }\n",
       "\n",
       "    .dataframe tbody tr th {\n",
       "        vertical-align: top;\n",
       "    }\n",
       "\n",
       "    .dataframe thead th {\n",
       "        text-align: right;\n",
       "    }\n",
       "</style>\n",
       "<table border=\"1\" class=\"dataframe\">\n",
       "  <thead>\n",
       "    <tr style=\"text-align: right;\">\n",
       "      <th></th>\n",
       "      <th>Item No.</th>\n",
       "      <th>Item Description_x</th>\n",
       "      <th>Brand</th>\n",
       "      <th>Store/Location Name</th>\n",
       "      <th>Location Type</th>\n",
       "      <th>Vendor Name</th>\n",
       "      <th>median_sell_rate</th>\n",
       "      <th>MaxStock</th>\n",
       "      <th>MinStock</th>\n",
       "      <th>Capacity</th>\n",
       "      <th>InStock</th>\n",
       "      <th>CapacityRounded</th>\n",
       "    </tr>\n",
       "  </thead>\n",
       "  <tbody>\n",
       "    <tr>\n",
       "      <th>22</th>\n",
       "      <td>159000001</td>\n",
       "      <td>A.VOGEL AGNUS CASTUS 50ML</td>\n",
       "      <td>A.VOGEL</td>\n",
       "      <td>RETAIL SARIT</td>\n",
       "      <td>Retail</td>\n",
       "      <td>N/A</td>\n",
       "      <td>0.01</td>\n",
       "      <td>1.5</td>\n",
       "      <td>0.9</td>\n",
       "      <td>-4.5</td>\n",
       "      <td>6.0</td>\n",
       "      <td>-4.5</td>\n",
       "    </tr>\n",
       "    <tr>\n",
       "      <th>54</th>\n",
       "      <td>159000002</td>\n",
       "      <td>A.VOGEL ECHINAFORCE 120TABS</td>\n",
       "      <td>A.VOGEL</td>\n",
       "      <td>RETAIL SARIT</td>\n",
       "      <td>Retail</td>\n",
       "      <td>N/A</td>\n",
       "      <td>0.01</td>\n",
       "      <td>1.5</td>\n",
       "      <td>0.9</td>\n",
       "      <td>1.5</td>\n",
       "      <td>0.0</td>\n",
       "      <td>2.0</td>\n",
       "    </tr>\n",
       "  </tbody>\n",
       "</table>\n",
       "</div>"
      ],
      "text/plain": [
       "     Item No.           Item Description_x    Brand Store/Location Name  \\\n",
       "22  159000001    A.VOGEL AGNUS CASTUS 50ML  A.VOGEL        RETAIL SARIT   \n",
       "54  159000002  A.VOGEL ECHINAFORCE 120TABS  A.VOGEL        RETAIL SARIT   \n",
       "\n",
       "   Location Type Vendor Name  median_sell_rate  MaxStock  MinStock  Capacity  \\\n",
       "22        Retail         N/A              0.01       1.5       0.9      -4.5   \n",
       "54        Retail         N/A              0.01       1.5       0.9       1.5   \n",
       "\n",
       "    InStock  CapacityRounded  \n",
       "22      6.0             -4.5  \n",
       "54      0.0              2.0  "
      ]
     },
     "execution_count": 268,
     "metadata": {},
     "output_type": "execute_result"
    }
   ],
   "source": [
    "move_to_table_B.head(2)"
   ]
  },
  {
   "cell_type": "code",
   "execution_count": 269,
   "id": "1511aa76",
   "metadata": {},
   "outputs": [],
   "source": [
    "blocked_items ['Status'] = 'Block'"
   ]
  },
  {
   "cell_type": "code",
   "execution_count": 270,
   "id": "1fcc3275",
   "metadata": {
    "scrolled": true
   },
   "outputs": [],
   "source": [
    "blocked_items['Item No.'] = blocked_items['Item No.'].astype(str)"
   ]
  },
  {
   "cell_type": "code",
   "execution_count": 271,
   "id": "cffa5207",
   "metadata": {},
   "outputs": [],
   "source": [
    "move_to_table_B ['Item_Shop'] = move_to_table_B ['Item No.']+ move_to_table_B ['Store/Location Name']"
   ]
  },
  {
   "cell_type": "code",
   "execution_count": 272,
   "id": "43aee558",
   "metadata": {},
   "outputs": [],
   "source": [
    "blocked_items ['Item_Shop'] =blocked_items ['Item No.']+ blocked_items ['Retail Shop']"
   ]
  },
  {
   "cell_type": "code",
   "execution_count": 273,
   "id": "491b67e1",
   "metadata": {},
   "outputs": [],
   "source": [
    "blocked_items.rename(columns={'Item No.': 'Item Code'}, inplace=True)"
   ]
  },
  {
   "cell_type": "code",
   "execution_count": 274,
   "id": "b4e2dec2",
   "metadata": {},
   "outputs": [],
   "source": [
    "move_to_table_BBB = pd.merge(left = move_to_table_B, right = blocked_items, on=['Item_Shop'], how='left')"
   ]
  },
  {
   "cell_type": "code",
   "execution_count": 275,
   "id": "8117d3d1",
   "metadata": {},
   "outputs": [],
   "source": [
    "move_to_table_B = move_to_table_BBB [~move_to_table_BBB.isin({'Status': ['Block']})['Status']].copy()"
   ]
  },
  {
   "cell_type": "code",
   "execution_count": 276,
   "id": "11de3495",
   "metadata": {},
   "outputs": [],
   "source": [
    "# move_to_table_B.drop(['Item_Shop', 'Item '])"
   ]
  },
  {
   "cell_type": "code",
   "execution_count": 277,
   "id": "570208b5",
   "metadata": {},
   "outputs": [],
   "source": [
    "move_to_table_B.drop(move_to_table_B.iloc[:, 12:].columns, axis=1, inplace=True)"
   ]
  },
  {
   "cell_type": "code",
   "execution_count": 278,
   "id": "e040e3e1",
   "metadata": {},
   "outputs": [],
   "source": [
    "rotation =[]\n",
    "rotation2 =[]"
   ]
  },
  {
   "cell_type": "code",
   "execution_count": 279,
   "id": "dde2dede",
   "metadata": {},
   "outputs": [
    {
     "data": {
      "text/plain": [
       "0       101.0\n",
       "1        26.0\n",
       "2         8.0\n",
       "3        32.0\n",
       "4        30.0\n",
       "        ...  \n",
       "2106      0.0\n",
       "2107      1.0\n",
       "2108      0.0\n",
       "2109      0.0\n",
       "2110      0.0\n",
       "Name: Excess_stock, Length: 2111, dtype: float64"
      ]
     },
     "execution_count": 279,
     "metadata": {},
     "output_type": "execute_result"
    }
   ],
   "source": [
    "combined_table4.Excess_stock"
   ]
  },
  {
   "cell_type": "code",
   "execution_count": 280,
   "id": "83715c6e",
   "metadata": {},
   "outputs": [],
   "source": [
    "def FilterTable():\n",
    "    for i in combined_table4.Unique_Index.values:\n",
    "        temp_table=combined_table4[combined_table4 ['Unique_Index'] == i]\n",
    "        brand=temp_table.Brand.values[0]\n",
    "        department = temp_table.Department.values[0]\n",
    "        \n",
    "        units_aged=temp_table.Excess_stock.values[0] #change this part..units_aged should be excess_stock. code is from ageing stock rotation\n",
    "        item_code = temp_table['Item No.'].values[0]\n",
    "        item_desc=temp_table['Item Description_x'].values[0]\n",
    "        from_shop=temp_table['Store/Location Name'].values[0]\n",
    "        \n",
    "        temp_table_move_to=move_to_table_B[move_to_table_B['Item No.']==item_code].sort_values(by='Capacity', \n",
    "                                                                                         ascending=False).sort_values(by='InStock',\n",
    "                                                                                                                      ascending=True)\n",
    "        #let go of item description. It changes. Use Item No.\n",
    "        try:\n",
    "            if temp_table_move_to.iloc[:1]['Store/Location Name'].values[0]=='MAIN WAREHOUSE':\n",
    "                delete=temp_table_move_to[:1]\n",
    "                temp_table_move_to.drop(delete.index, inplace=True)\n",
    "                temp_table_move_to=pd.concat([temp_table_move_to, delete])\n",
    "        except:\n",
    "            IndexError\n",
    " \n",
    "        \n",
    "        for i in temp_table_move_to.itertuples(name=None):\n",
    "            if i[12]>0 and units_aged>=i[12]:\n",
    "                can_take=i[12]\n",
    "                to_store=i[4]\n",
    "                in_stock_to = i[11]\n",
    "                max_stock_to=i[8]\n",
    "                \n",
    "                rotation.append([item_code,item_desc,from_shop,to_store,in_stock_to,max_stock_to,can_take,brand, department])\n",
    "                units_aged=units_aged - can_take\n",
    "            \n",
    "                move_to_table_B.loc[i[0]:i[0], 'CapacityRounded']=move_to_table_B.loc[i[0]:i[0], 'CapacityRounded'] - can_take\n",
    "            \n",
    "                if units_aged<=0:\n",
    "                    break;\n",
    "            elif i[12]>0 and units_aged<i[12]:\n",
    "                can_take=units_aged\n",
    "                to_store=i[4]\n",
    "                in_stock_to = i[11]\n",
    "                max_stock_to=i[8]\n",
    "                \n",
    "                rotation.append([item_code,item_desc,from_shop,to_store,in_stock_to,max_stock_to,can_take, brand, department])\n",
    "                \n",
    "                units_aged=units_aged - can_take\n",
    "                \n",
    "                move_to_table_B.loc[i[0]:i[0], 'CapacityRounded']=move_to_table_B.loc[i[0]:i[0], 'CapacityRounded'] - can_take\n",
    "                if units_aged<=0:\n",
    "                    break;\n",
    "                    \n",
    "        if units_aged>0:\n",
    "            other_options = 'other_options'\n",
    "            to_storeB=from_shop\n",
    "            rotation2.append([item_code,item_desc ,from_shop, to_storeB,units_aged,'N/A',other_options, brand, department])\n",
    "                \n",
    "    table1= pd.DataFrame(rotation+rotation2, columns=['Item Code','ItemDescription' ,'MoveFrom', 'MoveTo', 'Instock', 'MaxStock', 'Movable_Units', 'Brand', 'Department'])\n",
    "    return table1\n",
    "    "
   ]
  },
  {
   "cell_type": "code",
   "execution_count": 281,
   "id": "784e7727",
   "metadata": {},
   "outputs": [],
   "source": [
    "tableP=FilterTable()"
   ]
  },
  {
   "cell_type": "code",
   "execution_count": 282,
   "id": "efa7fde8",
   "metadata": {},
   "outputs": [],
   "source": [
    "tableQ=tableP.copy()\n",
    "other_options=tableQ[tableQ.Movable_Units=='other_options']\n",
    "tableQ.drop(other_options.index, inplace=True)\n",
    "tableQ=tableQ[tableQ.Movable_Units>0]"
   ]
  },
  {
   "cell_type": "code",
   "execution_count": 283,
   "id": "d28a4131",
   "metadata": {},
   "outputs": [],
   "source": [
    "less_than_30 = tableQ[tableQ ['Instock'] < 200]"
   ]
  },
  {
   "cell_type": "code",
   "execution_count": 284,
   "id": "ed87427e",
   "metadata": {},
   "outputs": [],
   "source": [
    "less_than_30=less_than_30.sort_values(by='Instock')"
   ]
  },
  {
   "cell_type": "code",
   "execution_count": 285,
   "id": "03893cae",
   "metadata": {},
   "outputs": [],
   "source": [
    "# move_to_table_B [move_to_table_B ['Item No.']=='14200720001']"
   ]
  },
  {
   "cell_type": "code",
   "execution_count": 286,
   "id": "c5d5bc16",
   "metadata": {},
   "outputs": [],
   "source": [
    "# less_than_30 [less_than_30 ['Item Code']=='14200720001']"
   ]
  },
  {
   "cell_type": "code",
   "execution_count": 288,
   "id": "171c699a",
   "metadata": {},
   "outputs": [],
   "source": [
    "ivend2 = pd.read_excel(\"C:\\\\Users\\\\Geoffrey.Oute\\\\Desktop\\\\Automation Sandbox\\\\Positive Inventory\\\\Positive Inventory (Retail) 07.03.2024.xlsx\")\n",
    "ivend_comb=pd.concat([ivend2['Item No.'], ivend2[[i for i in ivend2.columns if 'IVEND' in i]]], axis=1)\n",
    "cols_extracted = ['RETAIL' + \" \" + i.replace('IVEND INTRANSIT', \"\").strip() for i in ivend_comb.columns if 'IVEND' in i]\n",
    "ivend_comb.columns = ['Item No.'] + cols_extracted\n",
    "ivend_temp1=ivend_comb [ivend_comb.iloc[:, 1:].sum(axis=1)>0].copy()"
   ]
  },
  {
   "cell_type": "code",
   "execution_count": 289,
   "id": "9c1eca9d",
   "metadata": {},
   "outputs": [],
   "source": [
    "holding_list=[]"
   ]
  },
  {
   "cell_type": "code",
   "execution_count": 290,
   "id": "ec5ee8e7",
   "metadata": {},
   "outputs": [],
   "source": [
    "for i in ivend_temp1.columns[1:]:\n",
    "    \n",
    "    inner_temp = ivend_temp1[['Item No.',i]][ivend_temp1[['Item No.',i]][i]>0]\n",
    "\n",
    "    inner_temp ['To Warehouse'] = inner_temp.columns[1]\n",
    "\n",
    "    inner_temp.groupby(['Item No.', 'To Warehouse']).sum().reset_index(inplace=True)\n",
    "\n",
    "    holding_list.append(inner_temp.values)"
   ]
  },
  {
   "cell_type": "code",
   "execution_count": 291,
   "id": "cc3f9931",
   "metadata": {},
   "outputs": [],
   "source": [
    "ivend_final = pd.concat([pd.DataFrame(i) for i in holding_list], ignore_index=True)\n",
    "\n",
    "ivend_final.columns = ['Product Code', 'UOM Quantity Open', 'To Warehouse']"
   ]
  },
  {
   "cell_type": "code",
   "execution_count": 292,
   "id": "80ffac23",
   "metadata": {},
   "outputs": [],
   "source": [
    "ivend_final['Product Code'] = ivend_final['Product Code'].astype(int)"
   ]
  },
  {
   "cell_type": "code",
   "execution_count": 293,
   "id": "a968256a",
   "metadata": {},
   "outputs": [],
   "source": [
    "ivend_final.columns = ['Item Code', 'Ivend_Open', 'MoveTo']"
   ]
  },
  {
   "cell_type": "code",
   "execution_count": 294,
   "id": "e16cffad",
   "metadata": {},
   "outputs": [],
   "source": [
    "ivend_current = ivend_final[['Item Code', 'MoveTo', 'Ivend_Open']].copy()"
   ]
  },
  {
   "cell_type": "code",
   "execution_count": 295,
   "id": "8b50c95f",
   "metadata": {},
   "outputs": [],
   "source": [
    "ivend_current['Item Code'] = ivend_current['Item Code'].astype(str)"
   ]
  },
  {
   "cell_type": "code",
   "execution_count": 296,
   "id": "77f2feb3",
   "metadata": {},
   "outputs": [
    {
     "name": "stdout",
     "output_type": "stream",
     "text": [
      "<class 'pandas.core.frame.DataFrame'>\n",
      "Int64Index: 378 entries, 519 to 132\n",
      "Data columns (total 9 columns):\n",
      " #   Column           Non-Null Count  Dtype  \n",
      "---  ------           --------------  -----  \n",
      " 0   Item Code        378 non-null    object \n",
      " 1   ItemDescription  378 non-null    object \n",
      " 2   MoveFrom         378 non-null    object \n",
      " 3   MoveTo           378 non-null    object \n",
      " 4   Instock          378 non-null    float64\n",
      " 5   MaxStock         378 non-null    object \n",
      " 6   Movable_Units    378 non-null    object \n",
      " 7   Brand            378 non-null    object \n",
      " 8   Department       378 non-null    object \n",
      "dtypes: float64(1), object(8)\n",
      "memory usage: 29.5+ KB\n"
     ]
    }
   ],
   "source": [
    "less_than_30.info()"
   ]
  },
  {
   "cell_type": "raw",
   "id": "9a9b31b3",
   "metadata": {},
   "source": [
    "ivend= pd.read_excel(\"C:\\\\Users\\\\Geoffrey.Oute\\\\Desktop\\\\Automation Sandbox\\\\Open Transfers\\\\22_01.xlsx\")\n",
    "ivend['Product Code'] = ivend['Product Code'].astype(str)\n",
    "\n",
    "ivend_current=ivend [['Product Code','To Warehouse', 'UOM Quantity Open']].copy()\n",
    "\n",
    "ivend_current.rename(columns= {'Product Code': 'Item Code','To Warehouse': 'MoveTo', 'UOM Quantity Open': 'Ivend_Open'}, inplace=True)\n",
    "\n",
    "ivend_current = ivend_current.groupby(['Item Code', 'MoveTo']).sum()\n",
    "\n",
    "ivend_current.reset_index(inplace=True)"
   ]
  },
  {
   "cell_type": "code",
   "execution_count": 297,
   "id": "ddce2168",
   "metadata": {},
   "outputs": [],
   "source": [
    "merged=pd.merge(left=less_than_30, right=ivend_current, on = ['Item Code', 'MoveTo'], how='left')\n",
    "\n",
    "merged.Ivend_Open.fillna(0, inplace=True)"
   ]
  },
  {
   "cell_type": "code",
   "execution_count": 298,
   "id": "67d0188a",
   "metadata": {},
   "outputs": [],
   "source": [
    "def subtract_ivend(x):\n",
    "    if x.Ivend_Open == 0:\n",
    "        return x.Movable_Units\n",
    "    \n",
    "    elif (x.Ivend_Open + x.Instock) > x.MaxStock:\n",
    "    \n",
    "        return 'Max Stock Exceeded'\n",
    "    \n",
    "    elif (x.Ivend_Open + x.Instock) < x.MaxStock:\n",
    "        \n",
    "        return x.MaxStock - (x.Ivend_Open + x.Instock)\n",
    "        \n",
    "    else:\n",
    "        return x.Movable_Units"
   ]
  },
  {
   "cell_type": "raw",
   "id": "72934cb9",
   "metadata": {},
   "source": [
    "iven_subtracted=merged.apply(subtract_ivend, axis=1)"
   ]
  },
  {
   "cell_type": "code",
   "execution_count": 299,
   "id": "e480ce7a",
   "metadata": {
    "scrolled": true
   },
   "outputs": [],
   "source": [
    "merged=less_than_30.copy()"
   ]
  },
  {
   "cell_type": "code",
   "execution_count": 300,
   "id": "4431d44a",
   "metadata": {
    "scrolled": true
   },
   "outputs": [],
   "source": [
    "merged.rename(columns={'Movable_Units': 'Units'}, inplace=True)"
   ]
  },
  {
   "cell_type": "code",
   "execution_count": 301,
   "id": "0b8e85a7",
   "metadata": {},
   "outputs": [],
   "source": [
    "# merged ['Units'] = iven_subtracted"
   ]
  },
  {
   "cell_type": "code",
   "execution_count": 302,
   "id": "75c5b09c",
   "metadata": {
    "scrolled": true
   },
   "outputs": [],
   "source": [
    "# merged[merged ['Item Code']==14304380005]"
   ]
  },
  {
   "cell_type": "raw",
   "id": "23dcc96c",
   "metadata": {},
   "source": [
    "rotations = pd.read_excel(\"C:\\\\Users\\\\Geoffrey.Oute\\\\Desktop\\\\Automation Sandbox\\\\Rotations\\\\Rotations 04_09_2023.xlsx\")\n",
    "\n",
    "rotations_grouped=rotations.groupby(['Item Code', 'TransferTo']).agg({'Units': np.sum})\n",
    "\n",
    "rotations_final=rotations_grouped.reset_index().copy()\n",
    "\n",
    "rotations_final.rename(columns={'TransferTo': 'MoveTo'}, inplace=True)\n",
    "\n",
    "finalXXX = pd.merge(left=less_than_30, right = rotations_final, how ='left', on = ['Item Code', 'MoveTo'])\n",
    "\n",
    "finalXXX.Units.fillna(0, inplace=True)\n",
    "\n",
    "finalXXX['Units_']=finalXXX ['Movable_Units']-finalXXX['Units']\n",
    "\n",
    "finalXXX.drop('Units', axis=1, inplace=True)"
   ]
  },
  {
   "cell_type": "raw",
   "id": "aa2c11a7",
   "metadata": {},
   "source": [
    "finalXXX=merged[['Item Code', 'ItemDescription', 'MoveFrom', 'MoveTo', 'Units', 'Instock',\n",
    "       'MaxStock', 'Brand', 'Department', 'Ivend_Open']].copy()"
   ]
  },
  {
   "cell_type": "code",
   "execution_count": 303,
   "id": "f0a7fa1f",
   "metadata": {},
   "outputs": [],
   "source": [
    "finalXXX=merged[['Item Code', 'ItemDescription', 'MoveFrom', 'MoveTo', 'Units', 'Instock',\n",
    "       'MaxStock', 'Brand', 'Department']].copy()"
   ]
  },
  {
   "cell_type": "code",
   "execution_count": 304,
   "id": "2dc96b47",
   "metadata": {},
   "outputs": [],
   "source": [
    "finalXXX.rename(columns= {'MoveFrom': 'TransferFrom', 'MoveTo': 'TransferTo'}, inplace=True)"
   ]
  },
  {
   "cell_type": "raw",
   "id": "841e2626",
   "metadata": {},
   "source": [
    "finalXXX.drop('Movable_Units', axis=1, inplace=True)\n",
    "finalXXX.rename(columns={'Units_': 'Units'}, inplace=True)"
   ]
  },
  {
   "cell_type": "code",
   "execution_count": 305,
   "id": "30f45a59",
   "metadata": {},
   "outputs": [
    {
     "data": {
      "text/html": [
       "<div>\n",
       "<style scoped>\n",
       "    .dataframe tbody tr th:only-of-type {\n",
       "        vertical-align: middle;\n",
       "    }\n",
       "\n",
       "    .dataframe tbody tr th {\n",
       "        vertical-align: top;\n",
       "    }\n",
       "\n",
       "    .dataframe thead th {\n",
       "        text-align: right;\n",
       "    }\n",
       "</style>\n",
       "<table border=\"1\" class=\"dataframe\">\n",
       "  <thead>\n",
       "    <tr style=\"text-align: right;\">\n",
       "      <th></th>\n",
       "      <th>Item Code</th>\n",
       "      <th>ItemDescription</th>\n",
       "      <th>TransferFrom</th>\n",
       "      <th>TransferTo</th>\n",
       "      <th>Units</th>\n",
       "      <th>Instock</th>\n",
       "      <th>MaxStock</th>\n",
       "      <th>Brand</th>\n",
       "      <th>Department</th>\n",
       "    </tr>\n",
       "  </thead>\n",
       "  <tbody>\n",
       "    <tr>\n",
       "      <th>519</th>\n",
       "      <td>165000116</td>\n",
       "      <td>NATURALLI JAPAN RICE CRACKER MIX 100G</td>\n",
       "      <td>MAIN WAREHOUSE</td>\n",
       "      <td>RETAIL SARIT</td>\n",
       "      <td>4.0</td>\n",
       "      <td>0.0</td>\n",
       "      <td>10.10625</td>\n",
       "      <td>NATURALLI</td>\n",
       "      <td>Naturalli</td>\n",
       "    </tr>\n",
       "    <tr>\n",
       "      <th>323</th>\n",
       "      <td>143000017</td>\n",
       "      <td>ALPRO OAT DRINK UNSWEETENED 1LTR#80006233</td>\n",
       "      <td>MAIN WAREHOUSE</td>\n",
       "      <td>RETAIL SARIT</td>\n",
       "      <td>12.0</td>\n",
       "      <td>0.0</td>\n",
       "      <td>73.40625</td>\n",
       "      <td>ALPRO</td>\n",
       "      <td>Dairy Alternatives</td>\n",
       "    </tr>\n",
       "  </tbody>\n",
       "</table>\n",
       "</div>"
      ],
      "text/plain": [
       "     Item Code                            ItemDescription    TransferFrom  \\\n",
       "519  165000116      NATURALLI JAPAN RICE CRACKER MIX 100G  MAIN WAREHOUSE   \n",
       "323  143000017  ALPRO OAT DRINK UNSWEETENED 1LTR#80006233  MAIN WAREHOUSE   \n",
       "\n",
       "       TransferTo Units  Instock  MaxStock      Brand          Department  \n",
       "519  RETAIL SARIT   4.0      0.0  10.10625  NATURALLI           Naturalli  \n",
       "323  RETAIL SARIT  12.0      0.0  73.40625      ALPRO  Dairy Alternatives  "
      ]
     },
     "execution_count": 305,
     "metadata": {},
     "output_type": "execute_result"
    }
   ],
   "source": [
    "finalXXX.head(2)"
   ]
  },
  {
   "cell_type": "code",
   "execution_count": 306,
   "id": "155e7182",
   "metadata": {},
   "outputs": [],
   "source": [
    "# def units_adj(x):\n",
    "#     if x.Units < 4:\n",
    "#         return 4\n",
    "#     else:\n",
    "#         return math.ceil(x.Units)"
   ]
  },
  {
   "cell_type": "code",
   "execution_count": 307,
   "id": "22cc8fe8",
   "metadata": {},
   "outputs": [],
   "source": [
    "#  dont_supply[dont_supply ['Item Code']==14304380001]"
   ]
  },
  {
   "cell_type": "code",
   "execution_count": 308,
   "id": "6e2abaac",
   "metadata": {},
   "outputs": [],
   "source": [
    "dont_supply=finalXXX[finalXXX.Units == 'Max Stock Exceeded'] "
   ]
  },
  {
   "cell_type": "code",
   "execution_count": 309,
   "id": "b3fd7a8c",
   "metadata": {},
   "outputs": [],
   "source": [
    "finalXXX.drop(dont_supply.index, inplace=True)"
   ]
  },
  {
   "cell_type": "code",
   "execution_count": 310,
   "id": "11d6bf6d",
   "metadata": {},
   "outputs": [
    {
     "data": {
      "text/html": [
       "<div>\n",
       "<style scoped>\n",
       "    .dataframe tbody tr th:only-of-type {\n",
       "        vertical-align: middle;\n",
       "    }\n",
       "\n",
       "    .dataframe tbody tr th {\n",
       "        vertical-align: top;\n",
       "    }\n",
       "\n",
       "    .dataframe thead th {\n",
       "        text-align: right;\n",
       "    }\n",
       "</style>\n",
       "<table border=\"1\" class=\"dataframe\">\n",
       "  <thead>\n",
       "    <tr style=\"text-align: right;\">\n",
       "      <th></th>\n",
       "      <th>Item Code</th>\n",
       "      <th>ItemDescription</th>\n",
       "      <th>TransferFrom</th>\n",
       "      <th>TransferTo</th>\n",
       "      <th>Units</th>\n",
       "      <th>Instock</th>\n",
       "      <th>MaxStock</th>\n",
       "      <th>Brand</th>\n",
       "      <th>Department</th>\n",
       "    </tr>\n",
       "  </thead>\n",
       "  <tbody>\n",
       "  </tbody>\n",
       "</table>\n",
       "</div>"
      ],
      "text/plain": [
       "Empty DataFrame\n",
       "Columns: [Item Code, ItemDescription, TransferFrom, TransferTo, Units, Instock, MaxStock, Brand, Department]\n",
       "Index: []"
      ]
     },
     "execution_count": 310,
     "metadata": {},
     "output_type": "execute_result"
    }
   ],
   "source": [
    "finalXXX[finalXXX ['Item Code']=='14304380005'].head(3)"
   ]
  },
  {
   "cell_type": "code",
   "execution_count": 311,
   "id": "d36c2016",
   "metadata": {},
   "outputs": [],
   "source": [
    "# finalXXX['Units_'] = finalXXX.apply(units_adj, axis=1)"
   ]
  },
  {
   "cell_type": "code",
   "execution_count": 312,
   "id": "7b5f971a",
   "metadata": {},
   "outputs": [],
   "source": [
    "finalXXX.rename(columns={'Units': 'Units_'}, inplace=True)"
   ]
  },
  {
   "cell_type": "code",
   "execution_count": 313,
   "id": "90c4839f",
   "metadata": {},
   "outputs": [],
   "source": [
    "finalXXX = finalXXX [['Item Code', 'ItemDescription', 'TransferFrom', 'TransferTo', 'Units_',\n",
    "       'Instock', 'MaxStock', 'Brand', 'Department']]"
   ]
  },
  {
   "cell_type": "raw",
   "id": "a24692c8",
   "metadata": {},
   "source": [
    "finalXXX = finalXXX [['Item Code', 'ItemDescription', 'TransferFrom', 'TransferTo', 'Units_',\n",
    "       'Instock', 'MaxStock', 'Brand', 'Department', 'Ivend_Open']]"
   ]
  },
  {
   "cell_type": "code",
   "execution_count": 314,
   "id": "0c4e591c",
   "metadata": {},
   "outputs": [],
   "source": [
    "finalXXX = finalXXX [['Item Code', 'ItemDescription', 'TransferFrom', 'TransferTo', 'Units_',\n",
    "       'Instock', 'MaxStock', 'Brand', 'Department']]"
   ]
  },
  {
   "cell_type": "code",
   "execution_count": 315,
   "id": "c033cc40",
   "metadata": {},
   "outputs": [],
   "source": [
    "finalXXX [\"Manager's Feedback\"] = \" \""
   ]
  },
  {
   "cell_type": "code",
   "execution_count": 316,
   "id": "7e9dc779",
   "metadata": {
    "scrolled": true
   },
   "outputs": [],
   "source": [
    "finalXXX = finalXXX[finalXXX ['Units_']>0]"
   ]
  },
  {
   "cell_type": "code",
   "execution_count": 317,
   "id": "ec86da65",
   "metadata": {},
   "outputs": [
    {
     "data": {
      "text/plain": [
       "519    165000116\n",
       "323    143000017\n",
       "84     159000926\n",
       "330    159001205\n",
       "339    157000201\n",
       "         ...    \n",
       "30     159000824\n",
       "223    162000257\n",
       "317    143000008\n",
       "20     143000008\n",
       "132    162000175\n",
       "Name: Item Code, Length: 378, dtype: object"
      ]
     },
     "execution_count": 317,
     "metadata": {},
     "output_type": "execute_result"
    }
   ],
   "source": [
    "finalXXX['Item Code'].astype(str)"
   ]
  },
  {
   "cell_type": "markdown",
   "id": "2e14f8e0",
   "metadata": {},
   "source": [
    "#### Excluding recent shipments!!!\n",
    "\n",
    "Activate To Code When There is New Shipment\n"
   ]
  },
  {
   "cell_type": "raw",
   "id": "983c6545",
   "metadata": {},
   "source": [
    "Bobs = pd.read_excel(\"C:\\\\Users\\\\Geoffrey.Oute\\\\Desktop\\\\Recent Shipments\\\\CPL10_EURO7_NYCAIR.xlsx\")\n",
    "Bobs.rename(columns= {'Item No.': 'Item No'}, inplace=True)\n",
    "\n",
    "\n",
    "Bobs['Item No'] = Bobs ['Item No'].astype(str)\n",
    "\n",
    "finalXXX['Item Code']= finalXXX['Item Code'].astype(str)\n",
    "\n",
    "finalXXX['Item Code'] = finalXXX['Item Code'].astype(str)\n",
    "\n",
    "combined_list = list(Bobs ['Item No'])\n",
    "\n",
    "to_omit=finalXXX [finalXXX['Item Code'].apply(lambda x: x in combined_list)]\n",
    "\n",
    "push_final=finalXXX.drop(to_omit.index)\n",
    "\n",
    "finalYYY=push_final.copy()\n",
    "\n",
    "finalZZZ=finalYYY.copy()\n",
    "\n",
    "bulk = finalZZZ [finalZZZ.Department.str.contains('Bulk', re.IGNORECASE== True)]\n",
    "\n",
    "non_bulk=finalZZZ [~finalZZZ.Department.str.contains('Bulk', re.IGNORECASE== True)]\n",
    "\n",
    "finalAAA=finalZZZ[~finalZZZ.isin({'Department': ['Frozen Foods']}) ['Department']].copy()"
   ]
  },
  {
   "cell_type": "code",
   "execution_count": 318,
   "id": "379a36d0",
   "metadata": {},
   "outputs": [],
   "source": [
    "# bulk.to_csv('bulk.csv')"
   ]
  },
  {
   "cell_type": "code",
   "execution_count": 319,
   "id": "9bacb404",
   "metadata": {},
   "outputs": [],
   "source": [
    "# non_bulk.to_csv('non_bulk_10_07.csv')"
   ]
  },
  {
   "cell_type": "markdown",
   "id": "c2c92ab3",
   "metadata": {},
   "source": [
    "Mute the line below if there is shipment. If there are no shipments, activate the line."
   ]
  },
  {
   "cell_type": "code",
   "execution_count": 320,
   "id": "5f50d10d",
   "metadata": {},
   "outputs": [],
   "source": [
    "finalAAA=finalXXX[~finalXXX.isin({'Department': ['Frozen Foods']}) ['Department']].copy()"
   ]
  },
  {
   "cell_type": "code",
   "execution_count": 321,
   "id": "4b4d5a7a",
   "metadata": {},
   "outputs": [],
   "source": [
    "finalAAA.rename(columns={'Units': 'Units_'}, inplace=True)"
   ]
  },
  {
   "cell_type": "markdown",
   "id": "ef8d1223",
   "metadata": {},
   "source": [
    "THIS PART OF THE CODE SHOULD ALWAYS BE THERE!!!!"
   ]
  },
  {
   "cell_type": "code",
   "execution_count": 322,
   "id": "40477f68",
   "metadata": {},
   "outputs": [],
   "source": [
    "def reduction_large_containers(x):\n",
    "    if (x.Brand == 'MUSCLETECH' or x.Brand == 'OPTIMUM NUTRITION' or x.Brand == 'RULE 1') and x.Instock>=2:\n",
    "        return 0\n",
    "\n",
    "    elif (x.Brand == 'MUSCLETECH' or x.Brand == 'OPTIMUM NUTRITION' or x.Brand == 'RULE 1') and ('LB' in x.ItemDescription or 'KG' in x.ItemDescription) and x.Units_>5 and (x.TransferTo == 'RETAIL HILTON' or x.TransferTo == 'RETAIL SARIT' or x.TransferTo == 'RETAIL YAYA' or x.TransferTo == 'RETAIL WESTGATE' ):\n",
    "        return 2\n",
    "    \n",
    "    elif (x.Brand == 'MUSCLETECH' or x.Brand == 'OPTIMUM NUTRITION' or x.Brand == 'RULE 1') and ('LB' in x.ItemDescription or 'KG' in x.ItemDescription) and x.Units_>=3:\n",
    "        return 1\n",
    "    \n",
    "    elif (x.Brand == 'MUSCLETECH' or x.Brand == 'OPTIMUM NUTRITION' or x.Brand == 'RULE 1') and x.Units_>=3:\n",
    "        return 2\n",
    "    else:\n",
    "        return x.Units_"
   ]
  },
  {
   "cell_type": "code",
   "execution_count": 323,
   "id": "8be75e4e",
   "metadata": {},
   "outputs": [],
   "source": [
    "units_AAA=finalAAA.apply(reduction_large_containers, axis=1)"
   ]
  },
  {
   "cell_type": "code",
   "execution_count": 324,
   "id": "2814c58d",
   "metadata": {},
   "outputs": [],
   "source": [
    "finalAAA ['Units_']=units_AAA"
   ]
  },
  {
   "cell_type": "code",
   "execution_count": 325,
   "id": "628ae94c",
   "metadata": {},
   "outputs": [],
   "source": [
    "finalAAA.drop_duplicates(inplace=True)"
   ]
  },
  {
   "cell_type": "code",
   "execution_count": 339,
   "id": "d4f812f7",
   "metadata": {},
   "outputs": [],
   "source": [
    "finalCCC=finalAAA[finalAAA.isin({'Department': ['Bulk Foods', 'Live Life Well', 'Naturalli', 'Herbs & Spices']})['Department']].copy()"
   ]
  },
  {
   "cell_type": "code",
   "execution_count": 340,
   "id": "718b252b",
   "metadata": {},
   "outputs": [],
   "source": [
    "finalCCC = finalCCC[~finalCCC.isin({'Brand': [\"THOMPSON\", 'LURON MASSAGE OILS', 'JANI', 'PIKSTERS','ESSENZA', 'HYPODEA','BUKE', 'CINNABAR', 'NIMBLE', 'CLEO NATURE','HELIOCARE 360*', 'BIOFREEZE', 'DIETERS', \"O'BAO\", 'YVES ROCHER', 'FUSHI', 'ORGANIC SURGE', 'BOOCH', 'GROUNDED','CHIA ORGANIC', 'HGC', 'KAREMBOU SPA', 'KEOLA', 'COTONEVE', 'FAMACOTONE', 'KOKO COSMETICS', 'COTTONS', 'SEVEN SEAS','BIO BALANCE', 'SHEA MOISTURE', 'LULU', 'BREATH OF AFRICA', 'MARINI NATURALS', 'MUSK CARE', 'FLINTSHINE', 'NANO','NATURES WAY', 'UNWIND', 'OPES', 'BOOKS/CARDS', 'WHEY2GO', 'K2U', 'RCI', 'ENSURE', 'BIW', 'IGNITE', 'ANTHEM','BIO-OIL', 'USN', 'PENTA SURE', 'DUNGA SPIRULINA', 'TIWANI', 'UNCOVER', 'VAAJI', 'DIATOMACEOUS', 'SOYBIO', 'KAYA NUTS','ROYAL UMRELLA', 'BAKULI FOODS', 'CHOCODATE', 'BARAKA ISRAEL', 'BIO FOODS', 'BLACK JUICE', 'BERNARD', 'SWEETUNDA', 'BUTTYBOX', 'CAROLINE CUPCAKES', 'BORGES', 'SASANI', 'ELI ORGANIC', 'GABBY & KASS','GRACE CHOCOLATERIE', 'KAJUJU', 'AKAGI', 'IWAI', 'KIKKOMAN', 'NIPPN', 'KEVAN', 'APTMAIL', 'HUGGIES','MAYERS', 'MTOFU', 'MTINDI', 'NUTRI DELIGHTS', 'OFELOS', 'PLANTA', 'PURE & SURE', 'CADBURY', 'MOHAWK', 'SEVEN DAY', 'ZAWADI', 'SPRING VALLEY COFFEE', 'ASILI AFRICA', 'SUNLAM', 'OSTERBERG','MENTOS', 'MCVITIES', 'TAGO', 'MORE THAN']})['Brand']]"
   ]
  },
  {
   "cell_type": "code",
   "execution_count": 341,
   "id": "a7598d67",
   "metadata": {},
   "outputs": [],
   "source": [
    "finalDDD=finalCCC[finalCCC.Units_>0].copy()"
   ]
  },
  {
   "cell_type": "code",
   "execution_count": 342,
   "id": "23ee8fe8",
   "metadata": {},
   "outputs": [],
   "source": [
    "finalDDD = finalDDD[~finalDDD.isin({'Department': ['M/harvest']})['Department']]"
   ]
  },
  {
   "cell_type": "code",
   "execution_count": 343,
   "id": "6403434d",
   "metadata": {},
   "outputs": [],
   "source": [
    "finalDDD ['Units_']= round(finalDDD ['Units_'])"
   ]
  },
  {
   "cell_type": "code",
   "execution_count": 348,
   "id": "4854c968",
   "metadata": {},
   "outputs": [],
   "source": [
    "destination_path = \"C:\\\\Users\\\\Geoffrey.Oute\\\\Desktop\\\\Automation Sandbox\\\\Top Ups_1\\\\07_03_2024 Groups A SARIT Bulk\\\\\""
   ]
  },
  {
   "cell_type": "code",
   "execution_count": 349,
   "id": "2067852d",
   "metadata": {},
   "outputs": [],
   "source": [
    "# finalDDD.drop('MaxStock', axis=1, inplace=True)"
   ]
  },
  {
   "cell_type": "code",
   "execution_count": 350,
   "id": "827558f2",
   "metadata": {},
   "outputs": [],
   "source": [
    "todaysdate= '07_03_24'"
   ]
  },
  {
   "cell_type": "code",
   "execution_count": 351,
   "id": "4b0b9c9a",
   "metadata": {},
   "outputs": [],
   "source": [
    "# final"
   ]
  },
  {
   "cell_type": "code",
   "execution_count": 352,
   "id": "35f99089",
   "metadata": {},
   "outputs": [],
   "source": [
    "# finalDDD.drop('MaxStock', axis=1,inplace=True)"
   ]
  },
  {
   "cell_type": "code",
   "execution_count": 353,
   "id": "f8eae080",
   "metadata": {},
   "outputs": [],
   "source": [
    "finalEEE =finalDDD[~finalDDD.isin({'ItemDescription': ['GARDEN OF LIFE GRASS FED COLLAGEN PEPTIDES (SACHET) 20G#103535']})['ItemDescription']].copy()"
   ]
  },
  {
   "cell_type": "code",
   "execution_count": 354,
   "id": "bb2487ad",
   "metadata": {},
   "outputs": [],
   "source": [
    "finalFFF = finalEEE[finalEEE.Units_ > 0].copy()\n",
    "\n",
    "#This line gets rid of items in ivend. They will be reading 0"
   ]
  },
  {
   "cell_type": "code",
   "execution_count": 355,
   "id": "ecc2fa1b",
   "metadata": {
    "scrolled": true
   },
   "outputs": [],
   "source": [
    "for i in finalFFF.TransferTo.unique():\n",
    "    temp=finalFFF[finalFFF.loc[:, 'TransferTo'] == i]\n",
    "# #     temp.reindex()\n",
    "#     temp2_bulk = bulk_movable[bulk_movable.loc[:, 'MoveFrom']==i]\n",
    "# #     temp2_bulk.reindex()\n",
    "    \n",
    "    with pd.ExcelWriter (destination_path+i+' '+todaysdate+'.xlsx') as writer:\n",
    "        temp.to_excel(writer, sheet_name='Top Up_Main Order', index=False)\n",
    "#         temp2_bulk.to_excel(writer, sheet_name = 'Bulk_Items' ,index=False)\n",
    "        \n",
    "        \n",
    "#     temp.to_excel(path+i+'.csv' ,index=False)|\n",
    "    \n",
    "#      with pd.ExcelWriter('output.xlsx') as writer:  # doctest: +SKIP\n",
    "# ...     df1.to_excel(writer, sheet_name='Sheet_name_1')\n",
    "# ...     df2.to_excel(writer, sheet_name='Sheet_name_2')\n",
    "    "
   ]
  },
  {
   "cell_type": "code",
   "execution_count": null,
   "id": "3f4af7ac",
   "metadata": {},
   "outputs": [],
   "source": [
    "finalFFF.to_csv(\"C:\\\\Users\\\\Geoffrey.Oute\\\\Desktop\\\\Automation Sandbox\\\\Top Ups_1\\\\12_02_2024 Groups B_C\\\\Groups B_C 12_02_2024.csv\", index=False)"
   ]
  },
  {
   "cell_type": "code",
   "execution_count": null,
   "id": "eadfbe93",
   "metadata": {},
   "outputs": [],
   "source": [
    "destination_path_bulk = \"C:\\\\Users\\\\Geoffrey.Oute\\\\Desktop\\\\Automation Sandbox\\\\Top Ups_1\\\\12_02_2024 Groups B_C Bulk, Live Life, Naturalli, Herbs_Spices\\\\\""
   ]
  },
  {
   "cell_type": "raw",
   "id": "31419441",
   "metadata": {},
   "source": [
    "Activate below when processing bulk"
   ]
  },
  {
   "cell_type": "code",
   "execution_count": null,
   "id": "9838120a",
   "metadata": {},
   "outputs": [],
   "source": [
    "# finalDDD.drop('MaxStock', axis=1, inplace=True)"
   ]
  },
  {
   "cell_type": "code",
   "execution_count": null,
   "id": "283ffb81",
   "metadata": {},
   "outputs": [],
   "source": [
    "# finalDDD.TransferTo.unique()"
   ]
  },
  {
   "cell_type": "code",
   "execution_count": null,
   "id": "110112f3",
   "metadata": {},
   "outputs": [],
   "source": [
    "for i in finalFFF.TransferTo.unique():\n",
    "    temp=finalFFF[finalFFF.loc[:, 'TransferTo'] == i]\n",
    "# #     temp.reindex()\n",
    "#     temp2_bulk = bulk_movable[bulk_movable.loc[:, 'MoveFrom']==i]\n",
    "# #     temp2_bulk.reindex()\n",
    "    \n",
    "    with pd.ExcelWriter (destination_path_bulk+i+' '+'BULK'+ ' ' +todaysdate+'.xlsx') as writer:\n",
    "        temp.to_excel(writer, sheet_name='Bulk Top Up_Main Order', index=False)\n",
    "#         temp2_bulk.to_excel(writer, sheet_name = 'Bulk_Items' ,index=False)\n",
    "        \n",
    "        \n",
    "#     temp.to_excel(path+i+'.csv' ,index=False)\n",
    "    \n",
    "#      with pd.ExcelWriter('output.xlsx') as writer:  # doctest: +SKIP\n",
    "# ...     df1.to_excel(writer, sheet_name='Sheet_name_1')\n",
    "# ...     df2.to_excel(writer, sheet_name='Sheet_name_2')"
   ]
  },
  {
   "cell_type": "code",
   "execution_count": null,
   "id": "e5448886",
   "metadata": {},
   "outputs": [],
   "source": [
    "finalFFF.to_csv(\"C:\\\\Users\\\\Geoffrey.Oute\\\\Desktop\\\\Automation Sandbox\\\\Top Ups_1\\\\12_02_2024 Groups B_C Bulk, Live Life, Naturalli, Herbs_Spices\\\\bulkmainorderGroupsB_C12_02_2024.csv\", index=False)"
   ]
  },
  {
   "cell_type": "code",
   "execution_count": null,
   "id": "b41eaabe",
   "metadata": {},
   "outputs": [],
   "source": [
    "combined_table4 [combined_table4 ['Item No.']==31823300006]"
   ]
  },
  {
   "cell_type": "raw",
   "id": "34013868",
   "metadata": {},
   "source": [
    "import datetime\n",
    "import pandas as pd\n",
    "\n",
    "T1=pd.read_excel(\"C:\\\\Users\\\\Geoffrey.Oute\\\\Downloads\\\\T1.xlsx\")"
   ]
  },
  {
   "cell_type": "raw",
   "id": "4c7c5336",
   "metadata": {},
   "source": [
    "T1['Date']=T1.Date.apply(lambda x: datetime.datetime.strptime(x, '%b %d, %Y, %I:%M:%S %p %Z').date().strftime('%d/%m/%Y'))\n",
    "\n",
    "T1.to_excel(\"C:\\\\Users\\\\Geoffrey.Oute\\\\Desktop\\\\T1.xlsx\", index=False)"
   ]
  },
  {
   "cell_type": "raw",
   "id": "859f2364",
   "metadata": {},
   "source": [
    "T2=pd.read_csv(\"C:\\\\Users\\\\Geoffrey.Oute\\\\Downloads\\\\Gift Cards - Remaining Balance to 2023-08-08-timezone_UTC for Healthy U.csv\")\n",
    "\n",
    "T2['Expiry Date']=T2 ['Expiry Date'].drop(167).apply(lambda x: datetime.datetime.strptime(x, '%b %d, %Y').strftime('%d/%m/%Y'))\n",
    "\n",
    "T2.to_csv(\"C:\\\\Users\\\\Geoffrey.Oute\\\\Desktop\\\\Gift Cards - Remaining Balance to 2023-08-08-timezone_UTC for Healthy U.csv\", index=False)"
   ]
  },
  {
   "cell_type": "raw",
   "id": "dd91beeb",
   "metadata": {},
   "source": [
    "Healthy U is a company that deals with a wide range of products for retail and wholesale clients. The company mainly focuses on supplements, organic foods, and body-building products in its journey to become healthy living champions in Africa."
   ]
  },
  {
   "cell_type": "code",
   "execution_count": null,
   "id": "29d79833",
   "metadata": {},
   "outputs": [],
   "source": []
  }
 ],
 "metadata": {
  "kernelspec": {
   "display_name": "Python 3 (ipykernel)",
   "language": "python",
   "name": "python3"
  },
  "language_info": {
   "codemirror_mode": {
    "name": "ipython",
    "version": 3
   },
   "file_extension": ".py",
   "mimetype": "text/x-python",
   "name": "python",
   "nbconvert_exporter": "python",
   "pygments_lexer": "ipython3",
   "version": "3.9.13"
  }
 },
 "nbformat": 4,
 "nbformat_minor": 5
}
