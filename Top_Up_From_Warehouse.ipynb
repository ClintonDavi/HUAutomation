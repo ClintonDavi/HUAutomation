{
 "cells": [
  {
   "cell_type": "markdown",
   "id": "266076f7",
   "metadata": {},
   "source": []
  },
  {
   "cell_type": "code",
   "execution_count": 1,
   "id": "69dfe12f",
   "metadata": {},
   "outputs": [],
   "source": [
    "import pandas as pd\n",
    "import numpy as np\n",
    "import os\n",
    "import re\n",
    "from collections import Counter\n",
    "import math"
   ]
  },
  {
   "cell_type": "code",
   "execution_count": 3,
   "id": "7efe6748",
   "metadata": {},
   "outputs": [],
   "source": [
    "Tier1Shops=pd.DataFrame({'Store/Location Name': ['RETAIL SARIT', 'RETAIL YAYA', 'RETAIL HILTON', 'RETAIL VILLAGE MARKET'], 'Tier': ['Tier1', 'Tier1', 'Tier1', 'Tier1']})"
   ]
  },
  {
   "cell_type": "code",
   "execution_count": 2,
   "id": "32af6ab4",
   "metadata": {},
   "outputs": [],
   "source": [
    "selling_price=pd.read_excel(\"C:\\\\Users\\\\David.Clinton\\\\Desktop\\\\Automation Sandbox\\\\Retail Label Printing Inc. VAT_04_05.xlsx\")\n",
    "\n",
    "blocked_items = pd.read_excel(\"C:\\\\Users\\\\David.Clinton\\\\Desktop\\\\Automation Sandbox\\\\Item Block.xlsx\")\n",
    "\n",
    "stock_and_sales=pd.read_csv(\"C:\\\\Users\\\\David.Clinton\\\\Desktop\\\\Automation Sandbox\\\\Stock&Monthwise_2022TD_Stock+Sales.csv\")\n",
    "\n",
    "GP_table=pd.read_csv(\"C:\\\\Users\\\\David.Clinton\\\\Desktop\\\\Automation Sandbox\\\\GPs.csv\")\n",
    "\n",
    "Instock_import = pd.read_excel(\"C:\\\\Users\\\\David.Clinton\\\\Desktop\\\\David\\\\Stock & Monthwise Current Month\\\\03_2024.xlsx\")\n",
    "\n",
    "read_min_max= pd.read_excel(\"C:\\\\Users\\\\David.Clinton\\\\Desktop\\\\Automation Sandbox\\\\MIN MAX\\\\min max as at 04_03_2024.xlsx\")"
   ]
  },
  {
   "cell_type": "code",
   "execution_count": 7,
   "id": "042a0982",
   "metadata": {},
   "outputs": [],
   "source": [
    "stock_and_salesB=stock_and_sales.copy()"
   ]
  },
  {
   "cell_type": "markdown",
   "id": "feb67248",
   "metadata": {},
   "source": [
    "OKAY. NOW WE START THE ROTATION PROCESS. PRICES ANALYSIS WILL PROVE USEFUL WHEN IT COMES TO PRODUCTS THAT CAN ROTATE BASED ON HISTORICAL SALES. WE'LL HAVE TO LOOK AT IT FROM A DEPARTMENTAL POV"
   ]
  },
  {
   "cell_type": "code",
   "execution_count": 8,
   "id": "e8b26ef0",
   "metadata": {},
   "outputs": [],
   "source": [
    "#stock_and_sales [stock_and_sales ['Item Description'] == \"MARIGOLD VEGAN GF ENGEVITA YEAST FLAKES 100G#MG15689\"]"
   ]
  },
  {
   "cell_type": "code",
   "execution_count": 9,
   "id": "ad0dc4c3",
   "metadata": {},
   "outputs": [],
   "source": [
    "stock_and_sales_C=stock_and_sales.copy()"
   ]
  },
  {
   "cell_type": "code",
   "execution_count": 10,
   "id": "b8c84205",
   "metadata": {},
   "outputs": [],
   "source": [
    "stock_and_sales_C['Item No.']=stock_and_sales_C ['Item No.'].astype(str)"
   ]
  },
  {
   "cell_type": "code",
   "execution_count": 11,
   "id": "e7973181",
   "metadata": {},
   "outputs": [],
   "source": [
    "#Omitting Carrefour"
   ]
  },
  {
   "cell_type": "code",
   "execution_count": 12,
   "id": "64343da9",
   "metadata": {},
   "outputs": [],
   "source": [
    "stock_and_sales_C=stock_and_sales_C[~stock_and_sales_C.isin({'Store/Location Name': ['CARREFOUR MEGA (EXPRESS)']})['Store/Location Name']]"
   ]
  },
  {
   "cell_type": "code",
   "execution_count": 13,
   "id": "4a3c4a9b",
   "metadata": {},
   "outputs": [],
   "source": [
    "stock_and_sales_C=stock_and_sales_C[~stock_and_sales_C.isin({'Department': ['Giftware', 'Gftware', 'Packaging Materials', 'Assets & Consumables']})['Department']]"
   ]
  },
  {
   "cell_type": "markdown",
   "id": "414e18e3",
   "metadata": {},
   "source": [
    "We need to create a move to table, based on sales and GP\n",
    "If GP is above 0.23 and sell rate is 0.25 and shop can hold the incoming stock for the next two months. Shop transferring the item should be left with two months of sales stock.\n",
    "\n",
    "Rotate to shops first, then to warehouse if item is shared. How will we know shared items? Anyhting that has sold in both retail and main can be considered as shared. However, if it hasn't sold in main for the last 3 months, we can assume it has switched to retail only and vice versa."
   ]
  },
  {
   "cell_type": "code",
   "execution_count": 14,
   "id": "ae86d188",
   "metadata": {},
   "outputs": [],
   "source": [
    "stock_shops=stock_and_sales_C[['Item Description', 'Store/Location Name']].groupby('Item Description')['Store/Location Name'].agg(set)"
   ]
  },
  {
   "cell_type": "code",
   "execution_count": 15,
   "id": "7ad32044",
   "metadata": {},
   "outputs": [],
   "source": [
    "stock_shop_dict=stock_shops.to_dict()"
   ]
  },
  {
   "cell_type": "code",
   "execution_count": 16,
   "id": "7d2e7b7b",
   "metadata": {},
   "outputs": [],
   "source": [
    "shared=[]\n",
    "for i in stock_shop_dict:\n",
    "    if 'MAIN WAREHOUSE' in stock_shop_dict[i]:\n",
    "        shared.append(i)"
   ]
  },
  {
   "cell_type": "markdown",
   "id": "aca84dc2",
   "metadata": {},
   "source": [
    "shared has a list of all shared items"
   ]
  },
  {
   "cell_type": "code",
   "execution_count": 18,
   "id": "045fce7e",
   "metadata": {},
   "outputs": [],
   "source": [
    "Instock_import ['Item No.']= Instock_import ['Item No.'].astype(str)"
   ]
  },
  {
   "cell_type": "code",
   "execution_count": 19,
   "id": "a30733ee",
   "metadata": {},
   "outputs": [],
   "source": [
    "path_current_month=\"C:\\\\Users\\\\David.Clinton\\\\Desktop\\\\David\\\\Stock & Monthwise Current Month\"\n",
    "file_names_current_month=[]\n",
    "for i in os.listdir(path_current_month):\n",
    "    file_names_current_month.append(i.replace('.xlsx', \"\"))\n"
   ]
  },
  {
   "cell_type": "code",
   "execution_count": 20,
   "id": "3dc90e1d",
   "metadata": {},
   "outputs": [
    {
     "data": {
      "text/plain": [
       "['03_2024']"
      ]
     },
     "execution_count": 20,
     "metadata": {},
     "output_type": "execute_result"
    }
   ],
   "source": [
    "file_names_current_month"
   ]
  },
  {
   "cell_type": "code",
   "execution_count": 21,
   "id": "0c4e7ffa",
   "metadata": {},
   "outputs": [],
   "source": [
    "#DYMATIZE ISO-100 GOURMET VANILLA 2.3KG #D35321A"
   ]
  },
  {
   "cell_type": "code",
   "execution_count": 22,
   "id": "dda2700f",
   "metadata": {},
   "outputs": [],
   "source": [
    "#Lets calculate current month rate of sale. Will help to check if the sale is picking up. If it is picking up, then we don't\n",
    "# move the item. If it is constant or dropping, then transfer.\n",
    "\n",
    "index_start=0\n",
    "\n",
    "index_trace=[]\n",
    "holding_list=[]\n",
    "for i in file_names_current_month:\n",
    "    month = re.search('[0-9]+', i).group()\n",
    "    year=re.search('[^_]*$', i).group()\n",
    "    \n",
    "    file_name=\"C:\\\\Users\\\\David.Clinton\\\\Desktop\\\\David\\\\Stock & Monthwise Current Month\\\\{x}_{y}.xlsx\"\n",
    "    temp_table=pd.read_excel(file_name.format(x=month, y=year))\n",
    "    temp_table['Month']= int(month)\n",
    "    temp_table['Year']=int(year)\n",
    "    index_trace.append(len(temp_table))\n",
    "    temp_table.set_axis(range(index_start, sum(index_trace)), inplace=True)\n",
    "    temp_table['monthlystock'+month]= temp_table['Total Quantity Sold']+temp_table['Closing Stock']\n",
    "    temp_table['month'+month+year+'sales']=temp_table['Total Sales Amount']\n",
    "    #temp_table['month'+month+year+'GP']=temp_table['Gross Profit %']\n",
    "    temp_table ['month'+month+year+'COGS']=temp_table['COGS']\n",
    "    holding_list.append(temp_table)\n",
    "    #print (index_start, index_trace )\n",
    "    index_start=sum(index_trace)\n",
    "    \n",
    "table_current_month=pd.concat(holding_list)"
   ]
  },
  {
   "cell_type": "code",
   "execution_count": 23,
   "id": "b7edfc1a",
   "metadata": {},
   "outputs": [],
   "source": [
    "QtySold=table_current_month[[ i for i in table_current_month.columns if 'Qty' in i ]].sum(axis=1)\n",
    "table_current_month['Current_Month_QtySold']=QtySold\n",
    "table_current_month ['Sell_Rate_Current_Month']=table_current_month.Current_Month_QtySold/table_current_month.monthlystock03\n",
    "#The line above is changeable. monthlystock should change to current month\n",
    "current_stock=Instock_import[['Item Description', 'Item No.', 'Store/Location Name', 'InStock']]"
   ]
  },
  {
   "cell_type": "code",
   "execution_count": 24,
   "id": "88bea4f9",
   "metadata": {},
   "outputs": [],
   "source": [
    "sell_rate_table_current_month=table_current_month[['Item Description', 'Item No.', 'Store/Location Name', 'Sell_Rate_Current_Month']].copy()"
   ]
  },
  {
   "cell_type": "code",
   "execution_count": 25,
   "id": "8db21bc8",
   "metadata": {},
   "outputs": [],
   "source": [
    "array=stock_and_sales_C[[i for i in stock_and_sales_C.columns if 'Sold' in i]].values"
   ]
  },
  {
   "cell_type": "code",
   "execution_count": 26,
   "id": "28f91610",
   "metadata": {},
   "outputs": [],
   "source": [
    "medianlast6months=np.median(array[:,-6:], axis=1)\n",
    "medianlast3months=np.median(array[:,-3:], axis=1)\n",
    "medianbeforelast6months = np.median (array[:,-6::-1])"
   ]
  },
  {
   "cell_type": "code",
   "execution_count": 27,
   "id": "6b012c05",
   "metadata": {},
   "outputs": [],
   "source": [
    "stock_and_sales_D=stock_and_sales_C.copy()"
   ]
  },
  {
   "cell_type": "code",
   "execution_count": 28,
   "id": "298a1fdb",
   "metadata": {},
   "outputs": [],
   "source": [
    "stock_and_sales_D['units_sold_median_last6']=medianlast6months\n",
    "stock_and_sales_D['units_sold_median_last3']=medianlast3months\n",
    "stock_and_sales_D['units_sold_before_the_last6']=medianbeforelast6months"
   ]
  },
  {
   "cell_type": "markdown",
   "id": "be77239c",
   "metadata": {},
   "source": [
    "NOW THAT WE HAVE THE MIN MAX...WE CAN USE THE MEAN FROM MIN MAX AS HARMNONIZED MEAN"
   ]
  },
  {
   "cell_type": "code",
   "execution_count": 29,
   "id": "0306e239",
   "metadata": {},
   "outputs": [],
   "source": []
  },
  {
   "cell_type": "code",
   "execution_count": 30,
   "id": "7a7ba862",
   "metadata": {},
   "outputs": [],
   "source": [
    "read_min_max['Mean'] = read_min_max.Mean.apply(lambda x: 1 if x < 1 else x)"
   ]
  },
  {
   "cell_type": "code",
   "execution_count": 31,
   "id": "62fdb55d",
   "metadata": {},
   "outputs": [],
   "source": [
    "read_min_max['Item No.'] = read_min_max['Item No.'].astype(str)"
   ]
  },
  {
   "cell_type": "code",
   "execution_count": 32,
   "id": "3347bbf7",
   "metadata": {},
   "outputs": [],
   "source": [
    "# read_min_max [read_min_max ['Item No.']==40225010242]"
   ]
  },
  {
   "cell_type": "code",
   "execution_count": 33,
   "id": "de581262",
   "metadata": {
    "scrolled": false
   },
   "outputs": [],
   "source": [
    "read_min_max.drop_duplicates(inplace=True) "
   ]
  },
  {
   "cell_type": "code",
   "execution_count": 34,
   "id": "c3c21f11",
   "metadata": {},
   "outputs": [],
   "source": [
    "# nw=new_item_codes [['New Item No.', 'Existing Old Item Code']]\n",
    "# nw=nw.copy()"
   ]
  },
  {
   "cell_type": "code",
   "execution_count": 35,
   "id": "dec4e7d7",
   "metadata": {},
   "outputs": [],
   "source": [
    "# nw ['New Item No.'] = nw ['New Item No.'].astype(str) \n",
    "# nw ['Existing Old Item Code']  = nw ['Existing Old Item Code'].astype(str) "
   ]
  },
  {
   "cell_type": "code",
   "execution_count": 36,
   "id": "0ac7ce70",
   "metadata": {},
   "outputs": [],
   "source": [
    "def harmonizedmean(x):\n",
    "    if x.units_sold_median_last6 <= x.units_sold_median_last3:\n",
    "        return x.units_sold_median_last3\n",
    "    \n",
    "    elif x.units_sold_median_last6 <=0 and x.units_sold_median_last3 <=0:\n",
    "        return medianbeforelast6months\n",
    "        # in case we don't have last 6 months data, go back to before the last 6 months\n",
    "    \n",
    "    else:\n",
    "        return x.units_sold_median_last6\n",
    "    \n",
    "harmonized_mean=stock_and_sales_D.apply(harmonizedmean, axis=1)"
   ]
  },
  {
   "cell_type": "code",
   "execution_count": 37,
   "id": "922ff2c8",
   "metadata": {},
   "outputs": [],
   "source": [
    "stock_and_sales_D['harmonized_mean'] = harmonized_mean"
   ]
  },
  {
   "cell_type": "code",
   "execution_count": 38,
   "id": "9d0f0aea",
   "metadata": {},
   "outputs": [],
   "source": [
    "# stock_and_sales_D[stock_and_sales_D ['Item No.']=='30128680001'] [['Item No.', 'Store/Location Name', 'harmonized_mean']]"
   ]
  },
  {
   "cell_type": "code",
   "execution_count": 39,
   "id": "c7fb2f4c",
   "metadata": {},
   "outputs": [],
   "source": [
    "read_min_max.rename(columns= {'Branches': 'Store/Location Name'}, inplace=True)"
   ]
  },
  {
   "cell_type": "code",
   "execution_count": 40,
   "id": "5655bf87",
   "metadata": {
    "scrolled": false
   },
   "outputs": [],
   "source": [
    "stock_and_sales_D=pd.merge(left=stock_and_sales_D, right = read_min_max[['Item No.', 'Store/Location Name', 'Mean']], on = ['Item No.','Store/Location Name'], how='left')"
   ]
  },
  {
   "cell_type": "code",
   "execution_count": 41,
   "id": "0b973b0e",
   "metadata": {},
   "outputs": [],
   "source": [
    "stock_and_sales_D ['Item No.'] = stock_and_sales_D ['Item No.'].astype(str)"
   ]
  },
  {
   "cell_type": "code",
   "execution_count": 42,
   "id": "ba8bc0ef",
   "metadata": {},
   "outputs": [],
   "source": [
    "# stock_and_sales_D [stock_and_sales_D ['Item No.']==18200910012].to_csv('sfdf.csv')"
   ]
  },
  {
   "cell_type": "code",
   "execution_count": 43,
   "id": "0a5cd310",
   "metadata": {},
   "outputs": [],
   "source": [
    "stock_and_sales_D.rename(columns={'harmonized_mean': 'old_harmonized_mean', 'Mean': 'harmonized_mean'}, inplace=True)"
   ]
  },
  {
   "cell_type": "code",
   "execution_count": 44,
   "id": "cd826dc0",
   "metadata": {},
   "outputs": [],
   "source": [
    "stock_and_sales_D['MaxStock']=stock_and_sales_D.harmonized_mean * 1.5\n",
    "stock_and_sales_D['MinStock']=stock_and_sales_D.harmonized_mean * 0.9"
   ]
  },
  {
   "cell_type": "raw",
   "id": "05fbe3f1",
   "metadata": {},
   "source": [
    "stock_and_sales_D ['Item No.'] = stock_and_sales_D ['Item No.'].astype(str)\n",
    "\n",
    "current_stock['Item No.'] = current_stock ['Item No.'].astype(str)"
   ]
  },
  {
   "cell_type": "raw",
   "id": "7e631678",
   "metadata": {},
   "source": [
    "nw.rename(columns={\"Existing Old Item Code\": \"Item No.\"}, inplace=True)"
   ]
  },
  {
   "cell_type": "raw",
   "id": "c6354ba5",
   "metadata": {},
   "source": [
    "stock_temp1= pd.merge(left=stock_and_sales_D, right = nw, how='left', on = 'Item No.')"
   ]
  },
  {
   "cell_type": "raw",
   "id": "599b7197",
   "metadata": {},
   "source": [
    "stock_temp1 ['Item No.'] = stock_temp1 ['New Item No.']"
   ]
  },
  {
   "cell_type": "raw",
   "id": "d1b98ab9",
   "metadata": {},
   "source": [
    "stock_temp1.drop('New Item No.', inplace=True, axis=1)"
   ]
  },
  {
   "cell_type": "code",
   "execution_count": 45,
   "id": "2ed84f98",
   "metadata": {},
   "outputs": [
    {
     "name": "stderr",
     "output_type": "stream",
     "text": [
      "C:\\Users\\Geoffrey.Oute\\AppData\\Local\\Temp\\ipykernel_10432\\2614597672.py:1: SettingWithCopyWarning: \n",
      "A value is trying to be set on a copy of a slice from a DataFrame.\n",
      "Try using .loc[row_indexer,col_indexer] = value instead\n",
      "\n",
      "See the caveats in the documentation: https://pandas.pydata.org/pandas-docs/stable/user_guide/indexing.html#returning-a-view-versus-a-copy\n",
      "  current_stock ['Item No.'] = current_stock ['Item No.'].astype(str)\n"
     ]
    }
   ],
   "source": [
    "current_stock ['Item No.'] = current_stock ['Item No.'].astype(str)"
   ]
  },
  {
   "cell_type": "code",
   "execution_count": 46,
   "id": "1181f05b",
   "metadata": {},
   "outputs": [],
   "source": [
    "stock_and_sales_E=pd.merge(left=stock_and_sales_D, right=current_stock, on=['Item No.','Store/Location Name'], how='left')"
   ]
  },
  {
   "cell_type": "code",
   "execution_count": 47,
   "id": "e5b9a494",
   "metadata": {},
   "outputs": [],
   "source": [
    "# nw['Item No.'].info()"
   ]
  },
  {
   "cell_type": "code",
   "execution_count": 48,
   "id": "fe5eafac",
   "metadata": {},
   "outputs": [],
   "source": [
    "stock_and_sales_E=pd.merge(left=stock_and_sales_E, right=Tier1Shops, on=['Store/Location Name'], how='left')"
   ]
  },
  {
   "cell_type": "code",
   "execution_count": 49,
   "id": "c36b177a",
   "metadata": {},
   "outputs": [],
   "source": [
    "stock_and_sales_E.InStock = stock_and_sales_E.InStock.fillna(0)"
   ]
  },
  {
   "cell_type": "code",
   "execution_count": 50,
   "id": "96692a7c",
   "metadata": {},
   "outputs": [],
   "source": [
    "median_sell_rate=np.median(stock_and_sales_E[[i for i in stock_and_sales_E.columns if 'Sell' in i][-3:]],axis=1)"
   ]
  },
  {
   "cell_type": "code",
   "execution_count": 51,
   "id": "4063f1ed",
   "metadata": {},
   "outputs": [],
   "source": [
    "stock_and_sales_E['median_sell_rate']=median_sell_rate"
   ]
  },
  {
   "cell_type": "code",
   "execution_count": 52,
   "id": "dac68f46",
   "metadata": {},
   "outputs": [],
   "source": [
    "sell_rate_table_current_month['Item No.'] = sell_rate_table_current_month['Item No.'].astype(str)\n",
    "stock_and_sales_E['Item No.'] = stock_and_sales_E['Item No.'].astype(str)"
   ]
  },
  {
   "cell_type": "code",
   "execution_count": 53,
   "id": "1e7c025e",
   "metadata": {},
   "outputs": [],
   "source": [
    "sell_rate_table_current_month ['Item No.'] = sell_rate_table_current_month ['Item No.'].astype(str)"
   ]
  },
  {
   "cell_type": "code",
   "execution_count": 54,
   "id": "58c8c3c6",
   "metadata": {},
   "outputs": [],
   "source": [
    "stock_and_sales_E=pd.merge(left=stock_and_sales_E, right=sell_rate_table_current_month, on=['Item No.', 'Store/Location Name'], how='left')"
   ]
  },
  {
   "cell_type": "code",
   "execution_count": 55,
   "id": "e287eb09",
   "metadata": {},
   "outputs": [],
   "source": [
    "median_sell_rate_arrays=stock_and_sales_E.median_sell_rate.values\n",
    "median_sell_rate_arrays[median_sell_rate_arrays==0]=0.01\n",
    "#changing all median sell rates that are at 0 to 0.01 so that we can be able to calculate the months it will take to clear\n",
    "#the stock"
   ]
  },
  {
   "cell_type": "code",
   "execution_count": 56,
   "id": "fa0332a1",
   "metadata": {},
   "outputs": [],
   "source": [
    "five_elements=stock_and_sales_E[stock_and_sales_E.isin({'Store/Location Name': ['RETAIL THE FIVE ELEMENTS', 'RETAIL FIVE ELEMENTS NYALI']})['Store/Location Name']]\n",
    "\n",
    "#lets remove giftware shops from suggestion list\n",
    "\n",
    "stock_and_sales_E.drop(five_elements.index, inplace=True)"
   ]
  },
  {
   "cell_type": "code",
   "execution_count": 57,
   "id": "5a7e1c34",
   "metadata": {},
   "outputs": [],
   "source": [
    "def excess_stock_func(x):\n",
    "    try:\n",
    "        if x.Tier=='Tier1':\n",
    "#             one_month_cover=x.InStock/(x.median_sell_rate*x.InStock)\n",
    "            three_months_cover=x.harmonized_mean*3\n",
    "            excess_stock=x.InStock-three_months_cover\n",
    "        else:\n",
    "#             one_month_cover=x.InStock/(x.median_sell_rate*x.InStock)\n",
    "            two_months_cover=x.harmonized_mean*2\n",
    "            excess_stock=x.InStock-two_months_cover\n",
    "            \n",
    "    except ZeroDivisionError:\n",
    "        excess_stock = None\n",
    "        \n",
    "        \n",
    "    return excess_stock    \n",
    "        \n",
    "        \n",
    "        \n",
    "        "
   ]
  },
  {
   "cell_type": "code",
   "execution_count": 58,
   "id": "41f18d9c",
   "metadata": {},
   "outputs": [],
   "source": [
    "def months_cover(x):\n",
    "    try:\n",
    "        if x.Tier=='Tier1':\n",
    "#             one_month_cover=x.InStock/(x.median_sell_rate*x.InStock)\n",
    "#lets use median qty sold only [harmonized]\n",
    "            months_cover_2_3=x.harmonized_mean*3\n",
    "           \n",
    "        else:\n",
    "#             one_month_cover=x.InStock/(x.median_sell_rate*x.InStock)\n",
    "            months_cover_2_3=x.harmonized_mean*2\n",
    "            \n",
    "            \n",
    "    except ZeroDivisionError:\n",
    "        months_cover_2_3 = None\n",
    "        \n",
    "    return months_cover_2_3"
   ]
  },
  {
   "cell_type": "code",
   "execution_count": 59,
   "id": "4e63b89f",
   "metadata": {},
   "outputs": [],
   "source": [
    "excess_stock2=stock_and_sales_E.apply(excess_stock_func, axis=1)\n",
    "months_cover=stock_and_sales_E.apply(months_cover, axis=1)"
   ]
  },
  {
   "cell_type": "code",
   "execution_count": 60,
   "id": "c827cd50",
   "metadata": {},
   "outputs": [],
   "source": [
    "stock_and_sales_E['Months_Cover_2_3']=months_cover\n",
    "stock_and_sales_E['Excess_stock']=excess_stock2"
   ]
  },
  {
   "cell_type": "code",
   "execution_count": 61,
   "id": "c2e8b70b",
   "metadata": {},
   "outputs": [
    {
     "data": {
      "text/plain": [
       "array([nan])"
      ]
     },
     "execution_count": 61,
     "metadata": {},
     "output_type": "execute_result"
    }
   ],
   "source": [
    "stock_and_sales_E[stock_and_sales_E ['Store/Location Name']=='RETAIL WAREHOUSE'].Excess_stock.unique()"
   ]
  },
  {
   "cell_type": "markdown",
   "id": "8e6276c9",
   "metadata": {},
   "source": [
    "CREATING THE MOVE TO TABLE\n",
    "There are products in main warehouse that sell with a rate of below 0.25. e.g 11/100 a month. So for main warehouse, we pull it from the list and join it later so that we don't limit options that can move into main warehouse"
   ]
  },
  {
   "cell_type": "code",
   "execution_count": 62,
   "id": "ec506fc2",
   "metadata": {},
   "outputs": [],
   "source": [
    "stock_and_sales_F=stock_and_sales_E.copy()"
   ]
  },
  {
   "cell_type": "code",
   "execution_count": 63,
   "id": "3a379b82",
   "metadata": {},
   "outputs": [],
   "source": [
    "main_warehouse_move_to=stock_and_sales_F[stock_and_sales_F['Store/Location Name'] == 'MAIN WAREHOUSE']"
   ]
  },
  {
   "cell_type": "code",
   "execution_count": 64,
   "id": "90480595",
   "metadata": {},
   "outputs": [],
   "source": [
    "stock_and_sales_F.drop(main_warehouse_move_to.index, inplace=True)"
   ]
  },
  {
   "cell_type": "code",
   "execution_count": 65,
   "id": "ad2b39c8",
   "metadata": {
    "scrolled": true
   },
   "outputs": [],
   "source": [
    "# stock_and_sales_F[stock_and_sales_F['Item No.']=='162000018'][stock_and_sales_F[stock_and_sales_F['Item No.']=='162000018']['Store/Location Name']=='RETAIL SARIT']"
   ]
  },
  {
   "cell_type": "code",
   "execution_count": 66,
   "id": "d5e8b2c8",
   "metadata": {},
   "outputs": [],
   "source": [
    "move_to_table=stock_and_sales_F.copy()"
   ]
  },
  {
   "cell_type": "code",
   "execution_count": 67,
   "id": "e7915f91",
   "metadata": {},
   "outputs": [],
   "source": [
    "#On a second thought, lets not concatenate main. This will be taken care of by rebalancing  "
   ]
  },
  {
   "cell_type": "code",
   "execution_count": 68,
   "id": "0803de4c",
   "metadata": {},
   "outputs": [],
   "source": [
    "move_to_table=pd.concat([move_to_table, \n",
    "#                          main_warehouse_move_to\n",
    "                        ], \n",
    "                        ignore_index=True)"
   ]
  },
  {
   "cell_type": "code",
   "execution_count": 69,
   "id": "1a6a04d1",
   "metadata": {},
   "outputs": [],
   "source": [
    "Golden_Life=move_to_table[move_to_table ['Store/Location Name'] ==  'RETAIL NAKURU GOLDENLIFE']"
   ]
  },
  {
   "cell_type": "code",
   "execution_count": 70,
   "id": "117f6165",
   "metadata": {},
   "outputs": [],
   "source": [
    "Elodret_Highlands = move_to_table[move_to_table ['Store/Location Name'] ==  'RETAIL ELDORET HIGHLANDS']"
   ]
  },
  {
   "cell_type": "code",
   "execution_count": 71,
   "id": "c63a4fa8",
   "metadata": {},
   "outputs": [],
   "source": [
    "move_to_table.drop(Golden_Life.index, inplace=True)"
   ]
  },
  {
   "cell_type": "code",
   "execution_count": 72,
   "id": "eff42403",
   "metadata": {},
   "outputs": [],
   "source": [
    "move_to_table.drop(Elodret_Highlands.index, inplace=True)"
   ]
  },
  {
   "cell_type": "code",
   "execution_count": 73,
   "id": "da44ea78",
   "metadata": {},
   "outputs": [],
   "source": [
    "move_to_table.loc[:, 'Capacity']=move_to_table.loc[:, 'MaxStock']-move_to_table.loc[:, 'InStock']"
   ]
  },
  {
   "cell_type": "code",
   "execution_count": 74,
   "id": "2ba0fa18",
   "metadata": {},
   "outputs": [],
   "source": [
    "def check_improvement(x):\n",
    "    if x.median_sell_rate <= 0.10 and x.Sell_Rate_Current_Month>=0.17:\n",
    "        return 'Increased_Velocity'\n",
    "    else:\n",
    "        return 'Constant_Velocity'\n",
    "    "
   ]
  },
  {
   "cell_type": "code",
   "execution_count": 75,
   "id": "b42c1047",
   "metadata": {},
   "outputs": [],
   "source": [
    "# we have to omit receiving and production warehouse first. We'll rotate/send to of these categories later. First we deal with \n",
    "#what is in the shops. Order is shops, retail warehouse, main, then receiving and production"
   ]
  },
  {
   "cell_type": "code",
   "execution_count": 76,
   "id": "3ff6c81f",
   "metadata": {},
   "outputs": [
    {
     "data": {
      "text/plain": [
       "637367.0299999999"
      ]
     },
     "execution_count": 76,
     "metadata": {},
     "output_type": "execute_result"
    }
   ],
   "source": [
    "stock_and_sales_E.InStock.sum()"
   ]
  },
  {
   "cell_type": "code",
   "execution_count": 77,
   "id": "a3ea0406",
   "metadata": {
    "scrolled": true
   },
   "outputs": [],
   "source": [
    "pull_from_table=stock_and_sales_E[stock_and_sales_E['median_sell_rate']<0.25].copy()\n",
    "\n",
    "#remember that table F does not have main warehouse. We dropped. But we can use table E\n",
    "pull_from_table.sort_values(by='Excess_stock', ascending=False, inplace=True)\n",
    "pull_from_table=pull_from_table[~pull_from_table.isin({'Store/Location Name': ['MAIN WAREHOUSE', 'PACKAGING MATERIALS WAREHOUSE','QUALITY CONTROL WAREHOUSE',\n",
    "                                                              'RECEIVING WAREHOUSE', 'DAMAGES & EXPIRY WAREHOUSE','IVEND INTRANSIT WAREHOUSE',\n",
    "                                                              'PRODUCTION WAREHOUSE', 'MAJID RETURNS WAREHOUSE', 'RETAIL OVERSTOCK WAREHOUSE',\n",
    "                                                              'FIXED ASSETS & CONSUMMABLES','VARIANCE MAIN WAREHOUSE', 'RETAIL WAREHOUSE',\n",
    "                                                             ]})['Store/Location Name']]\n",
    "\n",
    "# pull_from_table= pull_from_table[pull_from_table.InStock>0]\n",
    "# velocity_pl=pull_from_table.apply(check_improvement, axis=1)\n",
    "# pull_from_table['Velocity']=velocity_pl\n",
    "# pull_from_table=pull_from_table[pull_from_table ['Velocity'] == 'Constant_Velocity']\n",
    "# pull_from_table['Unique_Index']=pull_from_table['Item Description_x']+pull_from_table['Store/Location Name']"
   ]
  },
  {
   "cell_type": "code",
   "execution_count": 78,
   "id": "cfb3f3f5",
   "metadata": {},
   "outputs": [],
   "source": [
    "pull_from_table_retail_warehouse=stock_and_sales_E[stock_and_sales_E['median_sell_rate']<0.25].copy()\n",
    "#cant give retail warehouse median sell rate condition because it is not a selling warehouse\n",
    "pull_from_table_retail_warehouse.sort_values(by='Excess_stock', ascending=False, inplace=True)\n",
    "pull_from_table_retail_warehouse = pull_from_table_retail_warehouse[pull_from_table_retail_warehouse.isin({'Store/Location Name': ['RETAIL WAREHOUSE']})['Store/Location Name']]\n",
    "pull_from_table_retail_warehouse= pull_from_table_retail_warehouse[pull_from_table_retail_warehouse.InStock>0]\n",
    "velocity_pl_retail_warehouse=pull_from_table_retail_warehouse.apply(check_improvement, axis=1)\n",
    "pull_from_table_retail_warehouse['Velocity']=velocity_pl_retail_warehouse\n",
    "pull_from_table_retail_warehouse['Unique_Index'] = pull_from_table_retail_warehouse ['Item Description_x']+pull_from_table_retail_warehouse['Store/Location Name']"
   ]
  },
  {
   "cell_type": "code",
   "execution_count": 79,
   "id": "58bfa17e",
   "metadata": {},
   "outputs": [],
   "source": [
    "# pull_from_table_receiving_warehouse.Excess_stock.unique()"
   ]
  },
  {
   "cell_type": "code",
   "execution_count": 80,
   "id": "9bcf4e08",
   "metadata": {},
   "outputs": [],
   "source": [
    "# #========================================================================================================================================================================================\n",
    "pull_from_table_main_warehouse=stock_and_sales_E[stock_and_sales_E['median_sell_rate']<0.25].copy()\n",
    "pull_from_table_main_warehouse.sort_values(by='Excess_stock', ascending=False, inplace=True)\n",
    "pull_from_table_main_warehouse = pull_from_table_main_warehouse[pull_from_table_main_warehouse.isin({'Store/Location Name': ['MAIN WAREHOUSE']})['Store/Location Name']]\n",
    "pull_from_table_main_warehouse= pull_from_table_main_warehouse[pull_from_table_main_warehouse.InStock>0]\n",
    "velocity_pl_main_warehouse=pull_from_table_main_warehouse.apply(check_improvement, axis=1)\n",
    "pull_from_table_main_warehouse['Velocity']=velocity_pl_main_warehouse\n",
    "pull_from_table_main_warehouse ['Unique_Index'] = pull_from_table_main_warehouse ['Item Description_x']+ pull_from_table_main_warehouse ['Store/Location Name']\n",
    "# #========================================================================================================================================================================================\n",
    "pull_from_table_receiving_warehouse=stock_and_sales_E[stock_and_sales_E['median_sell_rate']<0.25].copy()\n",
    "pull_from_table_receiving_warehouse.sort_values(by='Excess_stock', ascending=False, inplace=True)\n",
    "pull_from_table_receiving_warehouse = pull_from_table_receiving_warehouse[pull_from_table_receiving_warehouse.isin({'Store/Location Name': ['RECEIVING WAREHOUSE']})['Store/Location Name']]\n",
    "pull_from_table_receiving_warehouse= pull_from_table_receiving_warehouse[pull_from_table_receiving_warehouse.InStock>0]\n",
    "velocity_pl_receiving_warehouse=pull_from_table_receiving_warehouse.apply(check_improvement, axis=1)\n",
    "pull_from_table_receiving_warehouse['Velocity']=velocity_pl_receiving_warehouse\n",
    "pull_from_table_receiving_warehouse ['Unique_Index'] = pull_from_table_receiving_warehouse ['Item Description_x'] + pull_from_table_receiving_warehouse ['Store/Location Name']\n",
    "# #========================================================================================================================================================================================\n",
    "\n",
    "pull_from_table_production_warehouse=stock_and_sales_E[stock_and_sales_E['median_sell_rate']<0.25].copy()\n",
    "pull_from_table_production_warehouse.sort_values(by='Excess_stock', ascending=False, inplace=True)\n",
    "pull_from_table_production_warehouse = pull_from_table_production_warehouse[pull_from_table_production_warehouse.isin({'Store/Location Name': ['PRODUCTION WAREHOUSE']})['Store/Location Name']]\n",
    "pull_from_table_production_warehouse= pull_from_table_production_warehouse[pull_from_table_production_warehouse.InStock>0]\n",
    "velocity_pl_production_warehouse=pull_from_table_production_warehouse.apply(check_improvement, axis=1)\n",
    "pull_from_table_production_warehouse['Velocity']=velocity_pl_production_warehouse\n",
    "pull_from_table_production_warehouse ['Unique_Index'] = pull_from_table_production_warehouse ['Item Description_x']+ pull_from_table_production_warehouse ['Store/Location Name']                                                  \n",
    "                                        "
   ]
  },
  {
   "cell_type": "code",
   "execution_count": 81,
   "id": "2f26da82",
   "metadata": {},
   "outputs": [],
   "source": [
    "#Ignore pull_from_table cos this will pull from other shops\n",
    "#Lets not pull production whse\n",
    "# We'll remove the two above from concat"
   ]
  },
  {
   "cell_type": "code",
   "execution_count": 82,
   "id": "52d40f29",
   "metadata": {},
   "outputs": [],
   "source": [
    "combined_table=pd.concat([pull_from_table_retail_warehouse, pull_from_table_main_warehouse, pull_from_table_receiving_warehouse])"
   ]
  },
  {
   "cell_type": "code",
   "execution_count": 83,
   "id": "dc48afbc",
   "metadata": {},
   "outputs": [],
   "source": [
    "def Capactiy2(x):\n",
    "    if x.Capacity > 0 and x.Capacity<1:\n",
    "        return 1\n",
    "    elif x.Capacity >= 1:\n",
    "        return round(x.Capacity)\n",
    "    else:\n",
    "        return x.Capacity"
   ]
  },
  {
   "cell_type": "code",
   "execution_count": 85,
   "id": "7eff42b2",
   "metadata": {},
   "outputs": [],
   "source": [
    "move_to_table.insert(6, 'Vendor Name', 'N/A')"
   ]
  },
  {
   "cell_type": "code",
   "execution_count": 86,
   "id": "647862e7",
   "metadata": {},
   "outputs": [],
   "source": [
    "move_to_table_B=move_to_table[[ 'Item No.','Item Description_x','Brand', 'Store/Location Name', 'Location Type',\n",
    "                                                     'Vendor Name', 'median_sell_rate','MaxStock', 'MinStock','Capacity','InStock'\n",
    "              \n",
    "                                                     ]].copy()\n",
    "\n",
    "\n",
    "\n",
    "move_to_table_B['CapacityRounded']=move_to_table_B.apply(Capactiy2, axis=1)"
   ]
  },
  {
   "cell_type": "code",
   "execution_count": 87,
   "id": "6ac840fc",
   "metadata": {},
   "outputs": [],
   "source": [
    "giftware=move_to_table_B[move_to_table_B.isin({'Store/Location Name': ['RETAIL THE FIVE ELEMENTS', 'RETAIL FIVE ELEMENTS NYALI']})['Store/Location Name']]\n",
    "\n",
    "#lets remove giftware shops from suggestion list\n",
    "\n",
    "move_to_table_B.drop(giftware.index, inplace=True)"
   ]
  },
  {
   "cell_type": "code",
   "execution_count": 88,
   "id": "b55c0fc3",
   "metadata": {},
   "outputs": [],
   "source": [
    "combined_table2=pd.concat([Instock_import[Instock_import ['Store/Location Name'] =='RETAIL WAREHOUSE'].copy(),\n",
    "                           Instock_import[Instock_import ['Store/Location Name'] =='MAIN WAREHOUSE'].copy(),\n",
    "                           \n",
    "                          ])"
   ]
  },
  {
   "cell_type": "code",
   "execution_count": 89,
   "id": "00ed079d",
   "metadata": {},
   "outputs": [],
   "source": [
    "combined_table2 ['Unique_Index'] = combined_table2 ['Item Description'] + combined_table2 ['Store/Location Name']"
   ]
  },
  {
   "cell_type": "code",
   "execution_count": 90,
   "id": "38a48102",
   "metadata": {},
   "outputs": [],
   "source": [
    "combined_table2.rename(columns={'InStock': 'Excess_stock', 'Item Description': 'Item Description_x'}, inplace=True)"
   ]
  },
  {
   "cell_type": "code",
   "execution_count": 91,
   "id": "2a02a595",
   "metadata": {},
   "outputs": [],
   "source": [
    "# move_to_table[move_to_table ['Item No.']=='155000324'].to_csv('sdsf.csv')"
   ]
  },
  {
   "cell_type": "code",
   "execution_count": 92,
   "id": "d96f24a4",
   "metadata": {},
   "outputs": [],
   "source": [
    "read_min_max ['Item No.'] = read_min_max ['Item No.'].astype(str)\n",
    "\n",
    "combined_table2 ['Item No.'] = combined_table2 ['Item No.'].astype(str)"
   ]
  },
  {
   "cell_type": "code",
   "execution_count": 93,
   "id": "895bb419",
   "metadata": {
    "scrolled": false
   },
   "outputs": [],
   "source": [
    "combined_table3=pd.merge(left=combined_table2, right = read_min_max [['Item No.', 'Store/Location Name', 'Mean']], on =['Item No.', 'Store/Location Name'], how='left')"
   ]
  },
  {
   "cell_type": "raw",
   "id": "d467a27f",
   "metadata": {},
   "source": [
    "def excess_in_main(x):\n",
    "    if x['Store/Location Name'] == 'MAIN WAREHOUSE' and x.Excess_stock < (x.Mean * 2):\n",
    "        return 0\n",
    "    else:\n",
    "        return x.Excess_stock - (x.Mean * 2)\n",
    "    \n",
    "  # excess stock is just instock. We'll change this later. The renaming was done a few blocks above  "
   ]
  },
  {
   "cell_type": "raw",
   "id": "648dec0d",
   "metadata": {},
   "source": [
    "excess_2=combined_table3.apply(excess_in_main, axis=1)"
   ]
  },
  {
   "cell_type": "raw",
   "id": "ab18cdd9",
   "metadata": {},
   "source": [
    "combined_table3 ['Excess_stock2'] = excess_2"
   ]
  },
  {
   "cell_type": "raw",
   "id": "abda1152",
   "metadata": {},
   "source": [
    "combined_table3.Excess_stock2.fillna(0, inplace=True)"
   ]
  },
  {
   "cell_type": "raw",
   "id": "00fe0208",
   "metadata": {},
   "source": [
    "def excess_stock_retail(x):\n",
    "    if x.Excess_stock2 == 0 and x.Excess_stock>0 and x ['Store/Location Name'] == 'RETAIL WAREHOUSE':\n",
    "        return x.Excess_stock\n",
    "    else:\n",
    "        return x.Excess_stock2"
   ]
  },
  {
   "cell_type": "raw",
   "id": "f60ff50b",
   "metadata": {},
   "source": [
    "excess_3=combined_table3.apply(excess_stock_retail, axis=1)"
   ]
  },
  {
   "cell_type": "raw",
   "id": "a8c14949",
   "metadata": {},
   "source": [
    "combined_table3 ['Excess_stock3'] = excess_3"
   ]
  },
  {
   "cell_type": "markdown",
   "id": "7886b286",
   "metadata": {},
   "source": [
    "if Item has recently picked sales, above or equal to 0.2, leave the stock as is. Else remove excess."
   ]
  },
  {
   "cell_type": "code",
   "execution_count": 94,
   "id": "20246215",
   "metadata": {},
   "outputs": [
    {
     "data": {
      "text/plain": [
       "Index(['#', 'Mode of Business', 'Core Type', 'Location Type', 'Item No.',\n",
       "       'Bar Code', 'Item Description_x', 'Department', 'Brand', 'Vendor Code',\n",
       "       'Vendor Name', 'Store/Location Code', 'Store/Location Name',\n",
       "       'Excess_stock', 'Opening Stock', 'Purchased Quantity',\n",
       "       'Purchase Return Quantity', 'Open PO Qty', 'Order Quantity',\n",
       "       'Jan Qty Sold', 'Feb Qty Sold', 'Mar Qty Sold', 'Apr Qty Sold',\n",
       "       'May Qty Sold', 'Jun Qty Sold', 'Jul Qty Sold', 'Aug Qty Sold',\n",
       "       'Sep Qty Sold', 'Oct Qty Sold', 'Nov Qty Sold', 'Dec Qty Sold',\n",
       "       'Total Quantity Sold', 'Closing Stock', 'Retail Price Ex. VAT',\n",
       "       'Retail Price Inc VAT', 'COGS', 'Total Sales Amount', 'Gross Profit',\n",
       "       'Gross Profit %', 'Unique_Index', 'Mean'],\n",
       "      dtype='object')"
      ]
     },
     "execution_count": 94,
     "metadata": {},
     "output_type": "execute_result"
    }
   ],
   "source": [
    "combined_table3.columns"
   ]
  },
  {
   "cell_type": "code",
   "execution_count": 99,
   "id": "23f529d1",
   "metadata": {},
   "outputs": [],
   "source": [
    "combined_table4 = combined_table3.copy()"
   ]
  },
  {
   "cell_type": "code",
   "execution_count": 100,
   "id": "4bc10e3b",
   "metadata": {},
   "outputs": [],
   "source": [
    "def Brand_Block(x):\n",
    "    if (x['Brand'] == 'ECOVER' or x ['Brand'] == 'METHOD') and (x ['Store/Location Name'] in ['RETAIL HILTON', 'RETAIL T-MALL', 'RETAIL CAPITAL CENTRE', 'RETAIL EASTLEIGH BRANCH', 'RETAIL MAIYAN MALL']):\n",
    "        return 'Block'\n",
    "    else:\n",
    "        return 'Proceed'"
   ]
  },
  {
   "cell_type": "code",
   "execution_count": 101,
   "id": "28be791a",
   "metadata": {},
   "outputs": [],
   "source": [
    "def Brand_Block2(x):\n",
    "    if (x['Brand'] == \"DR BRONNER'S\" or x ['Brand'] == 'HEMANI') and (x ['Store/Location Name'] in [\"CARREFOUR MEGA (EXPRESS)\"]):\n",
    "        return 'Block'\n",
    "    else:\n",
    "        return 'Proceed'"
   ]
  },
  {
   "cell_type": "code",
   "execution_count": 102,
   "id": "5d310cfc",
   "metadata": {},
   "outputs": [],
   "source": [
    "move_to_table_B ['Block_Status'] = move_to_table_B.apply(Brand_Block2, axis=1)"
   ]
  },
  {
   "cell_type": "code",
   "execution_count": 103,
   "id": "0cce2e80",
   "metadata": {
    "scrolled": true
   },
   "outputs": [],
   "source": [
    "move_to_table_B ['Block_Status'] = move_to_table_B.apply(Brand_Block, axis=1)"
   ]
  },
  {
   "cell_type": "code",
   "execution_count": 104,
   "id": "c4ad2d70",
   "metadata": {},
   "outputs": [],
   "source": [
    "department_dictionary=dict(read_min_max[['Item No.', 'Department']].values)"
   ]
  },
  {
   "cell_type": "code",
   "execution_count": 105,
   "id": "ef5575de",
   "metadata": {},
   "outputs": [],
   "source": [
    "move_to_table_B ['Department'] = move_to_table_B['Item No.'].apply(lambda x: department_dictionary[x] if x in department_dictionary else 'No Dep')"
   ]
  },
  {
   "cell_type": "code",
   "execution_count": 106,
   "id": "3ee3fa79",
   "metadata": {},
   "outputs": [],
   "source": [
    "def Department_Block(x):\n",
    "    if (x['Department'] == 'Baby foods') and (x ['Store/Location Name'] in ['RETAIL HILTON']):\n",
    "        return 'Block'\n",
    "    else:\n",
    "        return 'Proceed'\n",
    "    "
   ]
  },
  {
   "cell_type": "code",
   "execution_count": 107,
   "id": "bea9949c",
   "metadata": {},
   "outputs": [],
   "source": [
    "move_to_table_B ['Department_Block'] = move_to_table_B.apply(Department_Block, axis=1)"
   ]
  },
  {
   "cell_type": "code",
   "execution_count": 108,
   "id": "e672259f",
   "metadata": {},
   "outputs": [],
   "source": [
    "indices_omit=list(set(list(move_to_table_B [move_to_table_B ['Block_Status'] == 'Block'].index)+list(move_to_table_B [move_to_table_B ['Department_Block'] == 'Block'].index)))"
   ]
  },
  {
   "cell_type": "code",
   "execution_count": 109,
   "id": "801ed2ce",
   "metadata": {},
   "outputs": [],
   "source": [
    "move_to_table_B.drop(indices_omit, inplace=True)"
   ]
  },
  {
   "cell_type": "code",
   "execution_count": 110,
   "id": "39b1f092",
   "metadata": {},
   "outputs": [],
   "source": [
    "move_to_table_B.set_axis(range(0, len(move_to_table_B)), inplace=True)"
   ]
  },
  {
   "cell_type": "code",
   "execution_count": 111,
   "id": "6d8b898f",
   "metadata": {},
   "outputs": [],
   "source": [
    "move_to_table_B.drop(['Block_Status', 'Department', 'Department_Block'], axis=1, inplace=True)"
   ]
  },
  {
   "cell_type": "code",
   "execution_count": 112,
   "id": "9a5c92cf",
   "metadata": {
    "scrolled": true
   },
   "outputs": [
    {
     "data": {
      "text/html": [
       "<div>\n",
       "<style scoped>\n",
       "    .dataframe tbody tr th:only-of-type {\n",
       "        vertical-align: middle;\n",
       "    }\n",
       "\n",
       "    .dataframe tbody tr th {\n",
       "        vertical-align: top;\n",
       "    }\n",
       "\n",
       "    .dataframe thead th {\n",
       "        text-align: right;\n",
       "    }\n",
       "</style>\n",
       "<table border=\"1\" class=\"dataframe\">\n",
       "  <thead>\n",
       "    <tr style=\"text-align: right;\">\n",
       "      <th></th>\n",
       "      <th>Item No.</th>\n",
       "      <th>Item Description_x</th>\n",
       "      <th>Brand</th>\n",
       "      <th>Store/Location Name</th>\n",
       "      <th>Location Type</th>\n",
       "      <th>Vendor Name</th>\n",
       "      <th>median_sell_rate</th>\n",
       "      <th>MaxStock</th>\n",
       "      <th>MinStock</th>\n",
       "      <th>Capacity</th>\n",
       "      <th>InStock</th>\n",
       "      <th>CapacityRounded</th>\n",
       "    </tr>\n",
       "  </thead>\n",
       "  <tbody>\n",
       "    <tr>\n",
       "      <th>0</th>\n",
       "      <td>159000001</td>\n",
       "      <td>A.VOGEL AGNUS CASTUS 50ML</td>\n",
       "      <td>A.VOGEL</td>\n",
       "      <td>IVEND INTRANSIT WAREHOUSE</td>\n",
       "      <td>Warehouse</td>\n",
       "      <td>N/A</td>\n",
       "      <td>0.01</td>\n",
       "      <td>NaN</td>\n",
       "      <td>NaN</td>\n",
       "      <td>NaN</td>\n",
       "      <td>0.0</td>\n",
       "      <td>NaN</td>\n",
       "    </tr>\n",
       "    <tr>\n",
       "      <th>1</th>\n",
       "      <td>159000001</td>\n",
       "      <td>A.VOGEL AGNUS CASTUS 50ML</td>\n",
       "      <td>A.VOGEL</td>\n",
       "      <td>RETAIL ABC</td>\n",
       "      <td>Retail</td>\n",
       "      <td>N/A</td>\n",
       "      <td>0.01</td>\n",
       "      <td>1.5</td>\n",
       "      <td>0.9</td>\n",
       "      <td>-0.5</td>\n",
       "      <td>2.0</td>\n",
       "      <td>-0.5</td>\n",
       "    </tr>\n",
       "    <tr>\n",
       "      <th>2</th>\n",
       "      <td>159000001</td>\n",
       "      <td>A.VOGEL AGNUS CASTUS 50ML</td>\n",
       "      <td>A.VOGEL</td>\n",
       "      <td>RETAIL CAPITAL CENTRE</td>\n",
       "      <td>Retail</td>\n",
       "      <td>N/A</td>\n",
       "      <td>0.01</td>\n",
       "      <td>1.5</td>\n",
       "      <td>0.9</td>\n",
       "      <td>-0.5</td>\n",
       "      <td>2.0</td>\n",
       "      <td>-0.5</td>\n",
       "    </tr>\n",
       "    <tr>\n",
       "      <th>3</th>\n",
       "      <td>159000001</td>\n",
       "      <td>A.VOGEL AGNUS CASTUS 50ML</td>\n",
       "      <td>A.VOGEL</td>\n",
       "      <td>RETAIL EASTLEIGH BRANCH</td>\n",
       "      <td>Retail</td>\n",
       "      <td>N/A</td>\n",
       "      <td>0.25</td>\n",
       "      <td>1.5</td>\n",
       "      <td>0.9</td>\n",
       "      <td>-1.5</td>\n",
       "      <td>3.0</td>\n",
       "      <td>-1.5</td>\n",
       "    </tr>\n",
       "  </tbody>\n",
       "</table>\n",
       "</div>"
      ],
      "text/plain": [
       "    Item No.         Item Description_x    Brand        Store/Location Name  \\\n",
       "0  159000001  A.VOGEL AGNUS CASTUS 50ML  A.VOGEL  IVEND INTRANSIT WAREHOUSE   \n",
       "1  159000001  A.VOGEL AGNUS CASTUS 50ML  A.VOGEL                 RETAIL ABC   \n",
       "2  159000001  A.VOGEL AGNUS CASTUS 50ML  A.VOGEL      RETAIL CAPITAL CENTRE   \n",
       "3  159000001  A.VOGEL AGNUS CASTUS 50ML  A.VOGEL    RETAIL EASTLEIGH BRANCH   \n",
       "\n",
       "  Location Type Vendor Name  median_sell_rate  MaxStock  MinStock  Capacity  \\\n",
       "0     Warehouse         N/A              0.01       NaN       NaN       NaN   \n",
       "1        Retail         N/A              0.01       1.5       0.9      -0.5   \n",
       "2        Retail         N/A              0.01       1.5       0.9      -0.5   \n",
       "3        Retail         N/A              0.25       1.5       0.9      -1.5   \n",
       "\n",
       "   InStock  CapacityRounded  \n",
       "0      0.0              NaN  \n",
       "1      2.0             -0.5  \n",
       "2      2.0             -0.5  \n",
       "3      3.0             -1.5  "
      ]
     },
     "execution_count": 112,
     "metadata": {},
     "output_type": "execute_result"
    }
   ],
   "source": [
    "move_to_table_B.head(4)"
   ]
  },
  {
   "cell_type": "code",
   "execution_count": 113,
   "id": "1511aa76",
   "metadata": {},
   "outputs": [],
   "source": [
    "blocked_items ['Status'] = 'Block'"
   ]
  },
  {
   "cell_type": "code",
   "execution_count": 114,
   "id": "1fcc3275",
   "metadata": {
    "scrolled": true
   },
   "outputs": [],
   "source": [
    "blocked_items['Item No.'] = blocked_items['Item No.'].astype(str)"
   ]
  },
  {
   "cell_type": "code",
   "execution_count": 115,
   "id": "cffa5207",
   "metadata": {},
   "outputs": [],
   "source": [
    "move_to_table_B ['Item_Shop'] = move_to_table_B ['Item No.']+ move_to_table_B ['Store/Location Name']"
   ]
  },
  {
   "cell_type": "code",
   "execution_count": 116,
   "id": "43aee558",
   "metadata": {},
   "outputs": [],
   "source": [
    "blocked_items ['Item_Shop'] =blocked_items ['Item No.']+ blocked_items ['Retail Shop']"
   ]
  },
  {
   "cell_type": "code",
   "execution_count": 117,
   "id": "491b67e1",
   "metadata": {},
   "outputs": [],
   "source": [
    "blocked_items.rename(columns={'Item No.': 'Item Code'}, inplace=True)"
   ]
  },
  {
   "cell_type": "code",
   "execution_count": 118,
   "id": "b4e2dec2",
   "metadata": {},
   "outputs": [],
   "source": [
    "move_to_table_BBB = pd.merge(left = move_to_table_B, right = blocked_items, on=['Item_Shop'], how='left')"
   ]
  },
  {
   "cell_type": "code",
   "execution_count": 119,
   "id": "8117d3d1",
   "metadata": {},
   "outputs": [],
   "source": [
    "move_to_table_B = move_to_table_BBB [~move_to_table_BBB.isin({'Status': ['Block']})['Status']].copy()"
   ]
  },
  {
   "cell_type": "code",
   "execution_count": 120,
   "id": "11de3495",
   "metadata": {},
   "outputs": [],
   "source": [
    "# move_to_table_B.drop(['Item_Shop', 'Item '])"
   ]
  },
  {
   "cell_type": "code",
   "execution_count": 121,
   "id": "570208b5",
   "metadata": {},
   "outputs": [],
   "source": [
    "move_to_table_B.drop(move_to_table_B.iloc[:, 12:].columns, axis=1, inplace=True)"
   ]
  },
  {
   "cell_type": "code",
   "execution_count": 122,
   "id": "e040e3e1",
   "metadata": {},
   "outputs": [],
   "source": [
    "rotation =[]\n",
    "rotation2 =[]"
   ]
  },
  {
   "cell_type": "code",
   "execution_count": 123,
   "id": "dde2dede",
   "metadata": {},
   "outputs": [
    {
     "data": {
      "text/plain": [
       "0       42.0\n",
       "1        3.0\n",
       "2       35.0\n",
       "3        1.0\n",
       "4       85.0\n",
       "        ... \n",
       "2906     6.0\n",
       "2907     0.0\n",
       "2908    53.0\n",
       "2909    32.0\n",
       "2910     0.0\n",
       "Name: Excess_stock, Length: 2911, dtype: float64"
      ]
     },
     "execution_count": 123,
     "metadata": {},
     "output_type": "execute_result"
    }
   ],
   "source": [
    "combined_table4.Excess_stock"
   ]
  },
  {
   "cell_type": "code",
   "execution_count": 124,
   "id": "83715c6e",
   "metadata": {},
   "outputs": [],
   "source": [
    "def FilterTable():\n",
    "    for i in combined_table4.Unique_Index.values:\n",
    "        temp_table=combined_table4[combined_table4 ['Unique_Index'] == i]\n",
    "        brand=temp_table.Brand.values[0]\n",
    "        department = temp_table.Department.values[0]\n",
    "        \n",
    "        units_aged=temp_table.Excess_stock.values[0] #change this part..units_aged should be excess_stock. code is from ageing stock rotation\n",
    "        item_code = temp_table['Item No.'].values[0]\n",
    "        item_desc=temp_table['Item Description_x'].values[0]\n",
    "        from_shop=temp_table['Store/Location Name'].values[0]\n",
    "        \n",
    "        temp_table_move_to=move_to_table_B[move_to_table_B['Item No.']==item_code].sort_values(by='Capacity', \n",
    "                                                                                         ascending=False).sort_values(by='InStock',\n",
    "                                                                                                                      ascending=True)\n",
    "        #let go of item description. It changes. Use Item No.\n",
    "        try:\n",
    "            if temp_table_move_to.iloc[:1]['Store/Location Name'].values[0]=='MAIN WAREHOUSE':\n",
    "                delete=temp_table_move_to[:1]\n",
    "                temp_table_move_to.drop(delete.index, inplace=True)\n",
    "                temp_table_move_to=pd.concat([temp_table_move_to, delete])\n",
    "        except:\n",
    "            IndexError\n",
    " \n",
    "        \n",
    "        for i in temp_table_move_to.itertuples(name=None):\n",
    "            if i[12]>0 and units_aged>=i[12]:\n",
    "                can_take=i[12]\n",
    "                to_store=i[4]\n",
    "                in_stock_to = i[11]\n",
    "                max_stock_to=i[8]\n",
    "                \n",
    "                rotation.append([item_code,item_desc,from_shop,to_store,in_stock_to,max_stock_to,can_take,brand, department])\n",
    "                units_aged=units_aged - can_take\n",
    "            \n",
    "                move_to_table_B.loc[i[0]:i[0], 'CapacityRounded']=move_to_table_B.loc[i[0]:i[0], 'CapacityRounded'] - can_take\n",
    "            \n",
    "                if units_aged<=0:\n",
    "                    break;\n",
    "            elif i[12]>0 and units_aged<i[12]:\n",
    "                can_take=units_aged\n",
    "                to_store=i[4]\n",
    "                in_stock_to = i[11]\n",
    "                max_stock_to=i[8]\n",
    "                \n",
    "                rotation.append([item_code,item_desc,from_shop,to_store,in_stock_to,max_stock_to,can_take, brand, department])\n",
    "                \n",
    "                units_aged=units_aged - can_take\n",
    "                \n",
    "                move_to_table_B.loc[i[0]:i[0], 'CapacityRounded']=move_to_table_B.loc[i[0]:i[0], 'CapacityRounded'] - can_take\n",
    "                if units_aged<=0:\n",
    "                    break;\n",
    "                    \n",
    "        if units_aged>0:\n",
    "            other_options = 'other_options'\n",
    "            to_storeB=from_shop\n",
    "            rotation2.append([item_code,item_desc ,from_shop, to_storeB,units_aged,'N/A',other_options, brand, department])\n",
    "                \n",
    "    table1= pd.DataFrame(rotation+rotation2, columns=['Item Code','ItemDescription' ,'MoveFrom', 'MoveTo', 'Instock', 'MaxStock', 'Movable_Units', 'Brand', 'Department'])\n",
    "    return table1\n",
    "    "
   ]
  },
  {
   "cell_type": "code",
   "execution_count": 125,
   "id": "784e7727",
   "metadata": {},
   "outputs": [],
   "source": [
    "tableP=FilterTable()"
   ]
  },
  {
   "cell_type": "code",
   "execution_count": 126,
   "id": "84b852b3",
   "metadata": {},
   "outputs": [
    {
     "data": {
      "text/html": [
       "<div>\n",
       "<style scoped>\n",
       "    .dataframe tbody tr th:only-of-type {\n",
       "        vertical-align: middle;\n",
       "    }\n",
       "\n",
       "    .dataframe tbody tr th {\n",
       "        vertical-align: top;\n",
       "    }\n",
       "\n",
       "    .dataframe thead th {\n",
       "        text-align: right;\n",
       "    }\n",
       "</style>\n",
       "<table border=\"1\" class=\"dataframe\">\n",
       "  <thead>\n",
       "    <tr style=\"text-align: right;\">\n",
       "      <th></th>\n",
       "      <th>Item Code</th>\n",
       "      <th>ItemDescription</th>\n",
       "      <th>MoveFrom</th>\n",
       "      <th>MoveTo</th>\n",
       "      <th>Instock</th>\n",
       "      <th>MaxStock</th>\n",
       "      <th>Movable_Units</th>\n",
       "      <th>Brand</th>\n",
       "      <th>Department</th>\n",
       "    </tr>\n",
       "  </thead>\n",
       "  <tbody>\n",
       "    <tr>\n",
       "      <th>0</th>\n",
       "      <td>137000652</td>\n",
       "      <td>SUNWARRIOR ORG ACTIVE PROT VANILLA 1KG#133031011</td>\n",
       "      <td>RETAIL WAREHOUSE</td>\n",
       "      <td>RETAIL NANYUKI</td>\n",
       "      <td>0.0</td>\n",
       "      <td>1.5</td>\n",
       "      <td>2.0</td>\n",
       "      <td>SUNWARRIOR</td>\n",
       "      <td>Sports Nutrition</td>\n",
       "    </tr>\n",
       "    <tr>\n",
       "      <th>1</th>\n",
       "      <td>137000652</td>\n",
       "      <td>SUNWARRIOR ORG ACTIVE PROT VANILLA 1KG#133031011</td>\n",
       "      <td>RETAIL WAREHOUSE</td>\n",
       "      <td>RETAIL EASTLEIGH BRANCH</td>\n",
       "      <td>0.0</td>\n",
       "      <td>1.5</td>\n",
       "      <td>2.0</td>\n",
       "      <td>SUNWARRIOR</td>\n",
       "      <td>Sports Nutrition</td>\n",
       "    </tr>\n",
       "    <tr>\n",
       "      <th>2</th>\n",
       "      <td>137000652</td>\n",
       "      <td>SUNWARRIOR ORG ACTIVE PROT VANILLA 1KG#133031011</td>\n",
       "      <td>RETAIL WAREHOUSE</td>\n",
       "      <td>RETAIL GARDEN CITY</td>\n",
       "      <td>0.0</td>\n",
       "      <td>1.5</td>\n",
       "      <td>2.0</td>\n",
       "      <td>SUNWARRIOR</td>\n",
       "      <td>Sports Nutrition</td>\n",
       "    </tr>\n",
       "    <tr>\n",
       "      <th>3</th>\n",
       "      <td>137000652</td>\n",
       "      <td>SUNWARRIOR ORG ACTIVE PROT VANILLA 1KG#133031011</td>\n",
       "      <td>RETAIL WAREHOUSE</td>\n",
       "      <td>RETAIL KISUMU MEGA</td>\n",
       "      <td>0.0</td>\n",
       "      <td>1.5</td>\n",
       "      <td>2.0</td>\n",
       "      <td>SUNWARRIOR</td>\n",
       "      <td>Sports Nutrition</td>\n",
       "    </tr>\n",
       "    <tr>\n",
       "      <th>4</th>\n",
       "      <td>137000652</td>\n",
       "      <td>SUNWARRIOR ORG ACTIVE PROT VANILLA 1KG#133031011</td>\n",
       "      <td>RETAIL WAREHOUSE</td>\n",
       "      <td>RETAIL LIKONI</td>\n",
       "      <td>0.0</td>\n",
       "      <td>1.5</td>\n",
       "      <td>2.0</td>\n",
       "      <td>SUNWARRIOR</td>\n",
       "      <td>Sports Nutrition</td>\n",
       "    </tr>\n",
       "  </tbody>\n",
       "</table>\n",
       "</div>"
      ],
      "text/plain": [
       "   Item Code                                   ItemDescription  \\\n",
       "0  137000652  SUNWARRIOR ORG ACTIVE PROT VANILLA 1KG#133031011   \n",
       "1  137000652  SUNWARRIOR ORG ACTIVE PROT VANILLA 1KG#133031011   \n",
       "2  137000652  SUNWARRIOR ORG ACTIVE PROT VANILLA 1KG#133031011   \n",
       "3  137000652  SUNWARRIOR ORG ACTIVE PROT VANILLA 1KG#133031011   \n",
       "4  137000652  SUNWARRIOR ORG ACTIVE PROT VANILLA 1KG#133031011   \n",
       "\n",
       "           MoveFrom                   MoveTo  Instock MaxStock Movable_Units  \\\n",
       "0  RETAIL WAREHOUSE           RETAIL NANYUKI      0.0      1.5           2.0   \n",
       "1  RETAIL WAREHOUSE  RETAIL EASTLEIGH BRANCH      0.0      1.5           2.0   \n",
       "2  RETAIL WAREHOUSE       RETAIL GARDEN CITY      0.0      1.5           2.0   \n",
       "3  RETAIL WAREHOUSE       RETAIL KISUMU MEGA      0.0      1.5           2.0   \n",
       "4  RETAIL WAREHOUSE            RETAIL LIKONI      0.0      1.5           2.0   \n",
       "\n",
       "        Brand        Department  \n",
       "0  SUNWARRIOR  Sports Nutrition  \n",
       "1  SUNWARRIOR  Sports Nutrition  \n",
       "2  SUNWARRIOR  Sports Nutrition  \n",
       "3  SUNWARRIOR  Sports Nutrition  \n",
       "4  SUNWARRIOR  Sports Nutrition  "
      ]
     },
     "execution_count": 126,
     "metadata": {},
     "output_type": "execute_result"
    }
   ],
   "source": [
    "tableP.head()"
   ]
  },
  {
   "cell_type": "code",
   "execution_count": 127,
   "id": "efa7fde8",
   "metadata": {},
   "outputs": [],
   "source": [
    "tableQ=tableP.copy()\n",
    "other_options=tableQ[tableQ.Movable_Units=='other_options']\n",
    "tableQ.drop(other_options.index, inplace=True)\n",
    "tableQ=tableQ[tableQ.Movable_Units>0]"
   ]
  },
  {
   "cell_type": "code",
   "execution_count": 128,
   "id": "d28a4131",
   "metadata": {},
   "outputs": [],
   "source": [
    "less_than_30 = tableQ[tableQ ['Instock'] < 200]"
   ]
  },
  {
   "cell_type": "code",
   "execution_count": 129,
   "id": "ed87427e",
   "metadata": {},
   "outputs": [],
   "source": [
    "less_than_30=less_than_30.sort_values(by='Instock')"
   ]
  },
  {
   "cell_type": "code",
   "execution_count": 130,
   "id": "03893cae",
   "metadata": {},
   "outputs": [],
   "source": [
    "# move_to_table_B [move_to_table_B ['Item No.']=='14200720001']"
   ]
  },
  {
   "cell_type": "code",
   "execution_count": 131,
   "id": "c5d5bc16",
   "metadata": {},
   "outputs": [],
   "source": [
    "# less_than_30 [less_than_30 ['Item Code']=='14200720001']"
   ]
  },
  {
   "cell_type": "code",
   "execution_count": 132,
   "id": "171c699a",
   "metadata": {},
   "outputs": [],
   "source": [
    "ivend2 = pd.read_excel(\"C:\\\\Users\\\\David.Clinton\\\\Desktop\\\\Automation Sandbox\\\\Positive Inventory\\\\Positive Inventory (Retail) 25.03.2024.xlsx\")\n",
    "ivend_comb=pd.concat([ivend2['Item No.'], ivend2[[i for i in ivend2.columns if 'IVEND' in i]]], axis=1)\n",
    "cols_extracted = ['RETAIL' + \" \" + i.replace('IVEND INTRANSIT', \"\").strip() for i in ivend_comb.columns if 'IVEND' in i]\n",
    "ivend_comb.columns = ['Item No.'] + cols_extracted\n",
    "ivend_temp1=ivend_comb [ivend_comb.iloc[:, 1:].sum(axis=1)>0].copy()"
   ]
  },
  {
   "cell_type": "code",
   "execution_count": 133,
   "id": "9c1eca9d",
   "metadata": {},
   "outputs": [],
   "source": [
    "holding_list=[]"
   ]
  },
  {
   "cell_type": "code",
   "execution_count": 134,
   "id": "ec5ee8e7",
   "metadata": {},
   "outputs": [],
   "source": [
    "for i in ivend_temp1.columns[1:]:\n",
    "    \n",
    "    inner_temp = ivend_temp1[['Item No.',i]][ivend_temp1[['Item No.',i]][i]>0]\n",
    "\n",
    "    inner_temp ['To Warehouse'] = inner_temp.columns[1]\n",
    "\n",
    "    inner_temp.groupby(['Item No.', 'To Warehouse']).sum().reset_index(inplace=True)\n",
    "\n",
    "    holding_list.append(inner_temp.values)"
   ]
  },
  {
   "cell_type": "code",
   "execution_count": 135,
   "id": "cc3f9931",
   "metadata": {},
   "outputs": [],
   "source": [
    "ivend_final = pd.concat([pd.DataFrame(i) for i in holding_list], ignore_index=True)\n",
    "\n",
    "ivend_final.columns = ['Product Code', 'UOM Quantity Open', 'To Warehouse']"
   ]
  },
  {
   "cell_type": "code",
   "execution_count": 136,
   "id": "80ffac23",
   "metadata": {},
   "outputs": [],
   "source": [
    "ivend_final['Product Code'] = ivend_final['Product Code'].astype(int)"
   ]
  },
  {
   "cell_type": "code",
   "execution_count": 137,
   "id": "a968256a",
   "metadata": {},
   "outputs": [],
   "source": [
    "ivend_final.columns = ['Item Code', 'Ivend_Open', 'MoveTo']"
   ]
  },
  {
   "cell_type": "code",
   "execution_count": 138,
   "id": "e16cffad",
   "metadata": {},
   "outputs": [],
   "source": [
    "ivend_current = ivend_final[['Item Code', 'MoveTo', 'Ivend_Open']].copy()"
   ]
  },
  {
   "cell_type": "code",
   "execution_count": 139,
   "id": "8b50c95f",
   "metadata": {},
   "outputs": [],
   "source": [
    "ivend_current['Item Code'] = ivend_current['Item Code'].astype(str)"
   ]
  },
  {
   "cell_type": "code",
   "execution_count": 141,
   "id": "ddce2168",
   "metadata": {},
   "outputs": [],
   "source": [
    "merged=pd.merge(left=less_than_30, right=ivend_current, on = ['Item Code', 'MoveTo'], how='left')\n",
    "\n",
    "merged.Ivend_Open.fillna(0, inplace=True)"
   ]
  },
  {
   "cell_type": "code",
   "execution_count": 142,
   "id": "67d0188a",
   "metadata": {},
   "outputs": [],
   "source": [
    "def subtract_ivend(x):\n",
    "    if x.Ivend_Open == 0:\n",
    "        return x.Movable_Units\n",
    "    \n",
    "    elif (x.Ivend_Open + x.Instock) > x.MaxStock:\n",
    "    \n",
    "        return 'Max Stock Exceeded'\n",
    "    \n",
    "    elif (x.Ivend_Open + x.Instock) < x.MaxStock:\n",
    "        \n",
    "        return x.MaxStock - (x.Ivend_Open + x.Instock)\n",
    "        \n",
    "    else:\n",
    "        return x.Movable_Units"
   ]
  },
  {
   "cell_type": "raw",
   "id": "72934cb9",
   "metadata": {},
   "source": [
    "iven_subtracted=merged.apply(subtract_ivend, axis=1)"
   ]
  },
  {
   "cell_type": "code",
   "execution_count": 143,
   "id": "e480ce7a",
   "metadata": {
    "scrolled": true
   },
   "outputs": [],
   "source": [
    "merged=less_than_30.copy()"
   ]
  },
  {
   "cell_type": "code",
   "execution_count": 144,
   "id": "4431d44a",
   "metadata": {
    "scrolled": true
   },
   "outputs": [],
   "source": [
    "merged.rename(columns={'Movable_Units': 'Units'}, inplace=True)"
   ]
  },
  {
   "cell_type": "code",
   "execution_count": 145,
   "id": "0b8e85a7",
   "metadata": {},
   "outputs": [],
   "source": [
    "# merged ['Units'] = iven_subtracted"
   ]
  },
  {
   "cell_type": "code",
   "execution_count": 146,
   "id": "75c5b09c",
   "metadata": {
    "scrolled": true
   },
   "outputs": [],
   "source": [
    "# merged[merged ['Item Code']==14304380005]"
   ]
  },
  {
   "cell_type": "raw",
   "id": "23dcc96c",
   "metadata": {},
   "source": [
    "rotations = pd.read_excel(\"C:\\\\Users\\\\David.Clinton\\\\Desktop\\\\Automation Sandbox\\\\Rotations\\\\Rotations 04_09_2023.xlsx\")\n",
    "\n",
    "rotations_grouped=rotations.groupby(['Item Code', 'TransferTo']).agg({'Units': np.sum})\n",
    "\n",
    "rotations_final=rotations_grouped.reset_index().copy()\n",
    "\n",
    "rotations_final.rename(columns={'TransferTo': 'MoveTo'}, inplace=True)\n",
    "\n",
    "finalXXX = pd.merge(left=less_than_30, right = rotations_final, how ='left', on = ['Item Code', 'MoveTo'])\n",
    "\n",
    "finalXXX.Units.fillna(0, inplace=True)\n",
    "\n",
    "finalXXX['Units_']=finalXXX ['Movable_Units']-finalXXX['Units']\n",
    "\n",
    "finalXXX.drop('Units', axis=1, inplace=True)"
   ]
  },
  {
   "cell_type": "raw",
   "id": "aa2c11a7",
   "metadata": {},
   "source": [
    "finalXXX=merged[['Item Code', 'ItemDescription', 'MoveFrom', 'MoveTo', 'Units', 'Instock',\n",
    "       'MaxStock', 'Brand', 'Department', 'Ivend_Open']].copy()"
   ]
  },
  {
   "cell_type": "code",
   "execution_count": 147,
   "id": "f0a7fa1f",
   "metadata": {},
   "outputs": [],
   "source": [
    "finalXXX=merged[['Item Code', 'ItemDescription', 'MoveFrom', 'MoveTo', 'Units', 'Instock',\n",
    "       'MaxStock', 'Brand', 'Department']].copy()"
   ]
  },
  {
   "cell_type": "code",
   "execution_count": 148,
   "id": "2dc96b47",
   "metadata": {},
   "outputs": [],
   "source": [
    "finalXXX.rename(columns= {'MoveFrom': 'TransferFrom', 'MoveTo': 'TransferTo'}, inplace=True)"
   ]
  },
  {
   "cell_type": "raw",
   "id": "841e2626",
   "metadata": {},
   "source": [
    "finalXXX.drop('Movable_Units', axis=1, inplace=True)\n",
    "finalXXX.rename(columns={'Units_': 'Units'}, inplace=True)"
   ]
  },
  {
   "cell_type": "code",
   "execution_count": 149,
   "id": "30f45a59",
   "metadata": {},
   "outputs": [
    {
     "data": {
      "text/html": [
       "<div>\n",
       "<style scoped>\n",
       "    .dataframe tbody tr th:only-of-type {\n",
       "        vertical-align: middle;\n",
       "    }\n",
       "\n",
       "    .dataframe tbody tr th {\n",
       "        vertical-align: top;\n",
       "    }\n",
       "\n",
       "    .dataframe thead th {\n",
       "        text-align: right;\n",
       "    }\n",
       "</style>\n",
       "<table border=\"1\" class=\"dataframe\">\n",
       "  <thead>\n",
       "    <tr style=\"text-align: right;\">\n",
       "      <th></th>\n",
       "      <th>Item Code</th>\n",
       "      <th>ItemDescription</th>\n",
       "      <th>TransferFrom</th>\n",
       "      <th>TransferTo</th>\n",
       "      <th>Units</th>\n",
       "      <th>Instock</th>\n",
       "      <th>MaxStock</th>\n",
       "      <th>Brand</th>\n",
       "      <th>Department</th>\n",
       "    </tr>\n",
       "  </thead>\n",
       "  <tbody>\n",
       "    <tr>\n",
       "      <th>0</th>\n",
       "      <td>137000652</td>\n",
       "      <td>SUNWARRIOR ORG ACTIVE PROT VANILLA 1KG#133031011</td>\n",
       "      <td>RETAIL WAREHOUSE</td>\n",
       "      <td>RETAIL NANYUKI</td>\n",
       "      <td>2.0</td>\n",
       "      <td>0.0</td>\n",
       "      <td>1.5</td>\n",
       "      <td>SUNWARRIOR</td>\n",
       "      <td>Sports Nutrition</td>\n",
       "    </tr>\n",
       "    <tr>\n",
       "      <th>7139</th>\n",
       "      <td>163000069</td>\n",
       "      <td>LIVE LIFE W ORG STONEGROUND W/MEAL SPELT FLOUR...</td>\n",
       "      <td>RETAIL WAREHOUSE</td>\n",
       "      <td>RETAIL WESTLANDS SQUARE</td>\n",
       "      <td>2.0</td>\n",
       "      <td>0.0</td>\n",
       "      <td>1.5</td>\n",
       "      <td>LIVE LIFE WELL FLOUR</td>\n",
       "      <td>Live Life Well</td>\n",
       "    </tr>\n",
       "  </tbody>\n",
       "</table>\n",
       "</div>"
      ],
      "text/plain": [
       "      Item Code                                    ItemDescription  \\\n",
       "0     137000652   SUNWARRIOR ORG ACTIVE PROT VANILLA 1KG#133031011   \n",
       "7139  163000069  LIVE LIFE W ORG STONEGROUND W/MEAL SPELT FLOUR...   \n",
       "\n",
       "          TransferFrom               TransferTo Units  Instock MaxStock  \\\n",
       "0     RETAIL WAREHOUSE           RETAIL NANYUKI   2.0      0.0      1.5   \n",
       "7139  RETAIL WAREHOUSE  RETAIL WESTLANDS SQUARE   2.0      0.0      1.5   \n",
       "\n",
       "                     Brand        Department  \n",
       "0               SUNWARRIOR  Sports Nutrition  \n",
       "7139  LIVE LIFE WELL FLOUR    Live Life Well  "
      ]
     },
     "execution_count": 149,
     "metadata": {},
     "output_type": "execute_result"
    }
   ],
   "source": [
    "finalXXX.head(2)"
   ]
  },
  {
   "cell_type": "code",
   "execution_count": 150,
   "id": "155e7182",
   "metadata": {},
   "outputs": [],
   "source": [
    "# def units_adj(x):\n",
    "#     if x.Units < 4:\n",
    "#         return 4\n",
    "#     else:\n",
    "#         return math.ceil(x.Units)"
   ]
  },
  {
   "cell_type": "code",
   "execution_count": 151,
   "id": "22cc8fe8",
   "metadata": {},
   "outputs": [],
   "source": [
    "#  dont_supply[dont_supply ['Item Code']==14304380001]"
   ]
  },
  {
   "cell_type": "code",
   "execution_count": 152,
   "id": "6e2abaac",
   "metadata": {},
   "outputs": [],
   "source": [
    "dont_supply=finalXXX[finalXXX.Units == 'Max Stock Exceeded'] "
   ]
  },
  {
   "cell_type": "code",
   "execution_count": 153,
   "id": "b3fd7a8c",
   "metadata": {},
   "outputs": [],
   "source": [
    "finalXXX.drop(dont_supply.index, inplace=True)"
   ]
  },
  {
   "cell_type": "code",
   "execution_count": 154,
   "id": "d36c2016",
   "metadata": {},
   "outputs": [],
   "source": [
    "# finalXXX['Units_'] = finalXXX.apply(units_adj, axis=1)"
   ]
  },
  {
   "cell_type": "code",
   "execution_count": 155,
   "id": "7b5f971a",
   "metadata": {},
   "outputs": [],
   "source": [
    "finalXXX.rename(columns={'Units': 'Units_'}, inplace=True)"
   ]
  },
  {
   "cell_type": "code",
   "execution_count": 156,
   "id": "90c4839f",
   "metadata": {},
   "outputs": [],
   "source": [
    "finalXXX = finalXXX [['Item Code', 'ItemDescription', 'TransferFrom', 'TransferTo', 'Units_',\n",
    "       'Instock', 'MaxStock', 'Brand', 'Department']]"
   ]
  },
  {
   "cell_type": "raw",
   "id": "a24692c8",
   "metadata": {},
   "source": [
    "finalXXX = finalXXX [['Item Code', 'ItemDescription', 'TransferFrom', 'TransferTo', 'Units_',\n",
    "       'Instock', 'MaxStock', 'Brand', 'Department', 'Ivend_Open']]"
   ]
  },
  {
   "cell_type": "code",
   "execution_count": 157,
   "id": "0c4e591c",
   "metadata": {},
   "outputs": [],
   "source": [
    "finalXXX = finalXXX [['Item Code', 'ItemDescription', 'TransferFrom', 'TransferTo', 'Units_',\n",
    "       'Instock', 'MaxStock', 'Brand', 'Department']]"
   ]
  },
  {
   "cell_type": "code",
   "execution_count": 158,
   "id": "c033cc40",
   "metadata": {},
   "outputs": [],
   "source": [
    "finalXXX [\"Manager's Feedback\"] = \" \""
   ]
  },
  {
   "cell_type": "code",
   "execution_count": 159,
   "id": "7e9dc779",
   "metadata": {
    "scrolled": true
   },
   "outputs": [],
   "source": [
    "finalXXX = finalXXX[finalXXX ['Units_']>0]"
   ]
  },
  {
   "cell_type": "markdown",
   "id": "2e14f8e0",
   "metadata": {},
   "source": [
    "#### Excluding recent shipments!!!\n",
    "\n",
    "Activate To Code When There is New Shipment\n"
   ]
  },
  {
   "cell_type": "raw",
   "id": "983c6545",
   "metadata": {},
   "source": [
    "Bobs = pd.read_excel(\"C:\\\\Users\\\\David.Clinton\\\\Desktop\\\\Recent Shipments\\\\CPL10_EURO7_NYCAIR.xlsx\")\n",
    "Bobs.rename(columns= {'Item No.': 'Item No'}, inplace=True)\n",
    "\n",
    "\n",
    "Bobs['Item No'] = Bobs ['Item No'].astype(str)\n",
    "\n",
    "finalXXX['Item Code']= finalXXX['Item Code'].astype(str)\n",
    "\n",
    "finalXXX['Item Code'] = finalXXX['Item Code'].astype(str)\n",
    "\n",
    "combined_list = list(Bobs ['Item No'])\n",
    "\n",
    "to_omit=finalXXX [finalXXX['Item Code'].apply(lambda x: x in combined_list)]\n",
    "\n",
    "push_final=finalXXX.drop(to_omit.index)\n",
    "\n",
    "finalYYY=push_final.copy()\n",
    "\n",
    "finalZZZ=finalYYY.copy()\n",
    "\n",
    "bulk = finalZZZ [finalZZZ.Department.str.contains('Bulk', re.IGNORECASE== True)]\n",
    "\n",
    "non_bulk=finalZZZ [~finalZZZ.Department.str.contains('Bulk', re.IGNORECASE== True)]\n",
    "\n",
    "finalAAA=finalZZZ[~finalZZZ.isin({'Department': ['Frozen Foods']}) ['Department']].copy()"
   ]
  },
  {
   "cell_type": "code",
   "execution_count": 160,
   "id": "379a36d0",
   "metadata": {},
   "outputs": [],
   "source": [
    "# bulk.to_csv('bulk.csv')"
   ]
  },
  {
   "cell_type": "code",
   "execution_count": 161,
   "id": "9bacb404",
   "metadata": {},
   "outputs": [],
   "source": [
    "# non_bulk.to_csv('non_bulk_10_07.csv')"
   ]
  },
  {
   "cell_type": "markdown",
   "id": "c2c92ab3",
   "metadata": {},
   "source": [
    "Mute the line below if there is shipment. If there are no shipments, activate the line."
   ]
  },
  {
   "cell_type": "code",
   "execution_count": 162,
   "id": "5f50d10d",
   "metadata": {},
   "outputs": [],
   "source": [
    "finalAAA=finalXXX[~finalXXX.isin({'Department': ['Frozen Foods']}) ['Department']].copy()"
   ]
  },
  {
   "cell_type": "code",
   "execution_count": 163,
   "id": "4b4d5a7a",
   "metadata": {},
   "outputs": [],
   "source": [
    "finalAAA.rename(columns={'Units': 'Units_'}, inplace=True)"
   ]
  },
  {
   "cell_type": "markdown",
   "id": "ef8d1223",
   "metadata": {},
   "source": [
    "THIS PART OF THE CODE SHOULD ALWAYS BE THERE!!!!"
   ]
  },
  {
   "cell_type": "code",
   "execution_count": 164,
   "id": "40477f68",
   "metadata": {},
   "outputs": [],
   "source": [
    "def reduction_large_containers(x):\n",
    "    if (x.Brand == 'MUSCLETECH' or x.Brand == 'OPTIMUM NUTRITION' or x.Brand == 'RULE 1') and x.Instock>=2:\n",
    "        return 0\n",
    "\n",
    "    elif (x.Brand == 'MUSCLETECH' or x.Brand == 'OPTIMUM NUTRITION' or x.Brand == 'RULE 1') and ('LB' in x.ItemDescription or 'KG' in x.ItemDescription) and x.Units_>5 and (x.TransferTo == 'RETAIL HILTON' or x.TransferTo == 'RETAIL SARIT' or x.TransferTo == 'RETAIL YAYA' or x.TransferTo == 'RETAIL WESTGATE' ):\n",
    "        return 2\n",
    "    \n",
    "    elif (x.Brand == 'MUSCLETECH' or x.Brand == 'OPTIMUM NUTRITION' or x.Brand == 'RULE 1') and ('LB' in x.ItemDescription or 'KG' in x.ItemDescription) and x.Units_>=3:\n",
    "        return 1\n",
    "    \n",
    "    elif (x.Brand == 'MUSCLETECH' or x.Brand == 'OPTIMUM NUTRITION' or x.Brand == 'RULE 1') and x.Units_>=3:\n",
    "        return 2\n",
    "    else:\n",
    "        return x.Units_"
   ]
  },
  {
   "cell_type": "code",
   "execution_count": 165,
   "id": "8be75e4e",
   "metadata": {},
   "outputs": [],
   "source": [
    "units_AAA=finalAAA.apply(reduction_large_containers, axis=1)"
   ]
  },
  {
   "cell_type": "code",
   "execution_count": 166,
   "id": "2814c58d",
   "metadata": {},
   "outputs": [],
   "source": [
    "finalAAA ['Units_']=units_AAA"
   ]
  },
  {
   "cell_type": "code",
   "execution_count": 167,
   "id": "628ae94c",
   "metadata": {},
   "outputs": [],
   "source": [
    "finalAAA.drop_duplicates(inplace=True)"
   ]
  },
  {
   "cell_type": "code",
   "execution_count": 168,
   "id": "26babef0",
   "metadata": {},
   "outputs": [
    {
     "data": {
      "text/plain": [
       "<AxesSubplot:xlabel='TransferTo'>"
      ]
     },
     "execution_count": 168,
     "metadata": {},
     "output_type": "execute_result"
    },
    {
     "data": {
      "image/png": "[encoded data removed]",
      "text/plain": [
       "<Figure size 640x480 with 1 Axes>"
      ]
     },
     "metadata": {},
     "output_type": "display_data"
    }
   ],
   "source": [
    "finalAAA.groupby('TransferTo').agg({'Units_': np.sum}).plot(kind='bar')"
   ]
  },
  {
   "cell_type": "code",
   "execution_count": 169,
   "id": "0f3fd718",
   "metadata": {},
   "outputs": [
    {
     "data": {
      "text/html": [
       "<div>\n",
       "<style scoped>\n",
       "    .dataframe tbody tr th:only-of-type {\n",
       "        vertical-align: middle;\n",
       "    }\n",
       "\n",
       "    .dataframe tbody tr th {\n",
       "        vertical-align: top;\n",
       "    }\n",
       "\n",
       "    .dataframe thead th {\n",
       "        text-align: right;\n",
       "    }\n",
       "</style>\n",
       "<table border=\"1\" class=\"dataframe\">\n",
       "  <thead>\n",
       "    <tr style=\"text-align: right;\">\n",
       "      <th></th>\n",
       "      <th>Item Code</th>\n",
       "      <th>ItemDescription</th>\n",
       "      <th>TransferFrom</th>\n",
       "      <th>TransferTo</th>\n",
       "      <th>Units_</th>\n",
       "      <th>Instock</th>\n",
       "      <th>MaxStock</th>\n",
       "      <th>Brand</th>\n",
       "      <th>Department</th>\n",
       "      <th>Manager's Feedback</th>\n",
       "    </tr>\n",
       "  </thead>\n",
       "  <tbody>\n",
       "    <tr>\n",
       "      <th>0</th>\n",
       "      <td>137000652</td>\n",
       "      <td>SUNWARRIOR ORG ACTIVE PROT VANILLA 1KG#133031011</td>\n",
       "      <td>RETAIL WAREHOUSE</td>\n",
       "      <td>RETAIL NANYUKI</td>\n",
       "      <td>2.0</td>\n",
       "      <td>0.0</td>\n",
       "      <td>1.5</td>\n",
       "      <td>SUNWARRIOR</td>\n",
       "      <td>Sports Nutrition</td>\n",
       "      <td></td>\n",
       "    </tr>\n",
       "    <tr>\n",
       "      <th>7139</th>\n",
       "      <td>163000069</td>\n",
       "      <td>LIVE LIFE W ORG STONEGROUND W/MEAL SPELT FLOUR...</td>\n",
       "      <td>RETAIL WAREHOUSE</td>\n",
       "      <td>RETAIL WESTLANDS SQUARE</td>\n",
       "      <td>2.0</td>\n",
       "      <td>0.0</td>\n",
       "      <td>1.5</td>\n",
       "      <td>LIVE LIFE WELL FLOUR</td>\n",
       "      <td>Live Life Well</td>\n",
       "      <td></td>\n",
       "    </tr>\n",
       "    <tr>\n",
       "      <th>7138</th>\n",
       "      <td>163000069</td>\n",
       "      <td>LIVE LIFE W ORG STONEGROUND W/MEAL SPELT FLOUR...</td>\n",
       "      <td>RETAIL WAREHOUSE</td>\n",
       "      <td>RETAIL WESTGATE</td>\n",
       "      <td>2.0</td>\n",
       "      <td>0.0</td>\n",
       "      <td>1.5</td>\n",
       "      <td>LIVE LIFE WELL FLOUR</td>\n",
       "      <td>Live Life Well</td>\n",
       "      <td></td>\n",
       "    </tr>\n",
       "    <tr>\n",
       "      <th>7137</th>\n",
       "      <td>163000069</td>\n",
       "      <td>LIVE LIFE W ORG STONEGROUND W/MEAL SPELT FLOUR...</td>\n",
       "      <td>RETAIL WAREHOUSE</td>\n",
       "      <td>RETAIL TWO RIVERS</td>\n",
       "      <td>2.0</td>\n",
       "      <td>0.0</td>\n",
       "      <td>1.5</td>\n",
       "      <td>LIVE LIFE WELL FLOUR</td>\n",
       "      <td>Live Life Well</td>\n",
       "      <td></td>\n",
       "    </tr>\n",
       "    <tr>\n",
       "      <th>7136</th>\n",
       "      <td>163000069</td>\n",
       "      <td>LIVE LIFE W ORG STONEGROUND W/MEAL SPELT FLOUR...</td>\n",
       "      <td>RETAIL WAREHOUSE</td>\n",
       "      <td>RETAIL THIKA ROAD MALL</td>\n",
       "      <td>2.0</td>\n",
       "      <td>0.0</td>\n",
       "      <td>1.5</td>\n",
       "      <td>LIVE LIFE WELL FLOUR</td>\n",
       "      <td>Live Life Well</td>\n",
       "      <td></td>\n",
       "    </tr>\n",
       "    <tr>\n",
       "      <th>7135</th>\n",
       "      <td>163000069</td>\n",
       "      <td>LIVE LIFE W ORG STONEGROUND W/MEAL SPELT FLOUR...</td>\n",
       "      <td>RETAIL WAREHOUSE</td>\n",
       "      <td>RETAIL RHAPTA ROAD</td>\n",
       "      <td>2.0</td>\n",
       "      <td>0.0</td>\n",
       "      <td>1.5</td>\n",
       "      <td>LIVE LIFE WELL FLOUR</td>\n",
       "      <td>Live Life Well</td>\n",
       "      <td></td>\n",
       "    </tr>\n",
       "  </tbody>\n",
       "</table>\n",
       "</div>"
      ],
      "text/plain": [
       "      Item Code                                    ItemDescription  \\\n",
       "0     137000652   SUNWARRIOR ORG ACTIVE PROT VANILLA 1KG#133031011   \n",
       "7139  163000069  LIVE LIFE W ORG STONEGROUND W/MEAL SPELT FLOUR...   \n",
       "7138  163000069  LIVE LIFE W ORG STONEGROUND W/MEAL SPELT FLOUR...   \n",
       "7137  163000069  LIVE LIFE W ORG STONEGROUND W/MEAL SPELT FLOUR...   \n",
       "7136  163000069  LIVE LIFE W ORG STONEGROUND W/MEAL SPELT FLOUR...   \n",
       "7135  163000069  LIVE LIFE W ORG STONEGROUND W/MEAL SPELT FLOUR...   \n",
       "\n",
       "          TransferFrom               TransferTo  Units_  Instock MaxStock  \\\n",
       "0     RETAIL WAREHOUSE           RETAIL NANYUKI     2.0      0.0      1.5   \n",
       "7139  RETAIL WAREHOUSE  RETAIL WESTLANDS SQUARE     2.0      0.0      1.5   \n",
       "7138  RETAIL WAREHOUSE          RETAIL WESTGATE     2.0      0.0      1.5   \n",
       "7137  RETAIL WAREHOUSE        RETAIL TWO RIVERS     2.0      0.0      1.5   \n",
       "7136  RETAIL WAREHOUSE   RETAIL THIKA ROAD MALL     2.0      0.0      1.5   \n",
       "7135  RETAIL WAREHOUSE       RETAIL RHAPTA ROAD     2.0      0.0      1.5   \n",
       "\n",
       "                     Brand        Department Manager's Feedback  \n",
       "0               SUNWARRIOR  Sports Nutrition                     \n",
       "7139  LIVE LIFE WELL FLOUR    Live Life Well                     \n",
       "7138  LIVE LIFE WELL FLOUR    Live Life Well                     \n",
       "7137  LIVE LIFE WELL FLOUR    Live Life Well                     \n",
       "7136  LIVE LIFE WELL FLOUR    Live Life Well                     \n",
       "7135  LIVE LIFE WELL FLOUR    Live Life Well                     "
      ]
     },
     "execution_count": 169,
     "metadata": {},
     "output_type": "execute_result"
    }
   ],
   "source": [
    "finalAAA.head(6)"
   ]
  },
  {
   "cell_type": "code",
   "execution_count": 170,
   "id": "d4f812f7",
   "metadata": {},
   "outputs": [],
   "source": [
    "finalCCC=finalAAA[finalAAA.isin({'Department': ['Bulk Foods', 'Live Life Well', 'Naturalli', 'Herbs & Spices']})['Department']].copy()"
   ]
  },
  {
   "cell_type": "code",
   "execution_count": 171,
   "id": "718b252b",
   "metadata": {},
   "outputs": [],
   "source": [
    "finalCCC = finalCCC[~finalCCC.isin({'Brand': [\"THOMPSON\", 'LURON MASSAGE OILS', 'JANI', 'PIKSTERS','ESSENZA', 'HYPODEA','BUKE', 'CINNABAR', 'NIMBLE', 'CLEO NATURE','HELIOCARE 360*', 'BIOFREEZE', 'DIETERS', \"O'BAO\", 'YVES ROCHER', 'FUSHI', 'ORGANIC SURGE', 'BOOCH', 'GROUNDED','CHIA ORGANIC', 'HGC', 'KAREMBOU SPA', 'KEOLA', 'COTONEVE', 'FAMACOTONE', 'KOKO COSMETICS', 'COTTONS', 'SEVEN SEAS','BIO BALANCE', 'SHEA MOISTURE', 'LULU', 'BREATH OF AFRICA', 'MARINI NATURALS', 'MUSK CARE', 'FLINTSHINE', 'NANO','NATURES WAY', 'UNWIND', 'OPES', 'BOOKS/CARDS', 'WHEY2GO', 'K2U', 'RCI', 'ENSURE', 'BIW', 'IGNITE', 'ANTHEM','BIO-OIL', 'USN', 'PENTA SURE', 'DUNGA SPIRULINA', 'TIWANI', 'UNCOVER', 'VAAJI', 'DIATOMACEOUS', 'SOYBIO', 'KAYA NUTS','ROYAL UMRELLA', 'BAKULI FOODS', 'CHOCODATE', 'BARAKA ISRAEL', 'BIO FOODS', 'BLACK JUICE', 'BERNARD', 'SWEETUNDA', 'BUTTYBOX', 'CAROLINE CUPCAKES', 'BORGES', 'SASANI', 'ELI ORGANIC', 'GABBY & KASS','GRACE CHOCOLATERIE', 'KAJUJU', 'AKAGI', 'IWAI', 'KIKKOMAN', 'NIPPN', 'KEVAN', 'APTMAIL', 'HUGGIES','MAYERS', 'MTOFU', 'MTINDI', 'NUTRI DELIGHTS', 'OFELOS', 'PLANTA', 'PURE & SURE', 'CADBURY', 'MOHAWK', 'SEVEN DAY', 'ZAWADI', 'SPRING VALLEY COFFEE', 'ASILI AFRICA', 'SUNLAM', 'OSTERBERG','MENTOS', 'MCVITIES', 'TAGO', 'MORE THAN']})['Brand']]"
   ]
  },
  {
   "cell_type": "code",
   "execution_count": 172,
   "id": "a7598d67",
   "metadata": {},
   "outputs": [],
   "source": [
    "finalDDD=finalCCC[finalCCC.Units_>0].copy()"
   ]
  },
  {
   "cell_type": "code",
   "execution_count": 173,
   "id": "23ee8fe8",
   "metadata": {},
   "outputs": [],
   "source": [
    "finalDDD = finalDDD[~finalDDD.isin({'Department': ['M/harvest']})['Department']]"
   ]
  },
  {
   "cell_type": "code",
   "execution_count": 174,
   "id": "6403434d",
   "metadata": {},
   "outputs": [],
   "source": [
    "finalDDD ['Units_']= round(finalDDD ['Units_'])"
   ]
  },
  {
   "cell_type": "code",
   "execution_count": 175,
   "id": "4854c968",
   "metadata": {},
   "outputs": [],
   "source": [
    "destination_path = \"C:\\\\Users\\\\David.Clinton\\\\Desktop\\\\Automation Sandbox\\\\Top Ups_1\\\\07_03_2024 Groups A SARIT Bulk\\\\\""
   ]
  },
  {
   "cell_type": "code",
   "execution_count": 176,
   "id": "2067852d",
   "metadata": {},
   "outputs": [],
   "source": [
    "# finalDDD.drop('MaxStock', axis=1, inplace=True)"
   ]
  },
  {
   "cell_type": "code",
   "execution_count": 177,
   "id": "827558f2",
   "metadata": {},
   "outputs": [],
   "source": [
    "todaysdate= '25_03_24'"
   ]
  },
  {
   "cell_type": "code",
   "execution_count": 178,
   "id": "4b0b9c9a",
   "metadata": {},
   "outputs": [],
   "source": [
    "# final"
   ]
  },
  {
   "cell_type": "code",
   "execution_count": 179,
   "id": "35f99089",
   "metadata": {},
   "outputs": [],
   "source": [
    "# finalDDD.drop('MaxStock', axis=1,inplace=True)"
   ]
  },
  {
   "cell_type": "code",
   "execution_count": 180,
   "id": "f8eae080",
   "metadata": {},
   "outputs": [],
   "source": [
    "finalEEE =finalDDD[~finalDDD.isin({'ItemDescription': ['GARDEN OF LIFE GRASS FED COLLAGEN PEPTIDES (SACHET) 20G#103535']})['ItemDescription']].copy()"
   ]
  },
  {
   "cell_type": "code",
   "execution_count": 181,
   "id": "bb2487ad",
   "metadata": {},
   "outputs": [],
   "source": [
    "finalFFF = finalEEE[finalEEE.Units_ > 0].copy()\n",
    "\n",
    "#This line gets rid of items in ivend. They will be reading 0"
   ]
  },
  {
   "cell_type": "code",
   "execution_count": null,
   "id": "ecc2fa1b",
   "metadata": {
    "scrolled": true
   },
   "outputs": [],
   "source": [
    "for i in finalFFF.TransferTo.unique():\n",
    "    temp=finalFFF[finalFFF.loc[:, 'TransferTo'] == i]\n",
    "# #     temp.reindex()\n",
    "#     temp2_bulk = bulk_movable[bulk_movable.loc[:, 'MoveFrom']==i]\n",
    "# #     temp2_bulk.reindex()\n",
    "    \n",
    "    with pd.ExcelWriter (destination_path+i+' '+todaysdate+'.xlsx') as writer:\n",
    "        temp.to_excel(writer, sheet_name='Top Up_Main Order', index=False)\n",
    "#         temp2_bulk.to_excel(writer, sheet_name = 'Bulk_Items' ,index=False)\n",
    "        \n",
    "        \n",
    "#     temp.to_excel(path+i+'.csv' ,index=False)|\n",
    "    \n",
    "#      with pd.ExcelWriter('output.xlsx') as writer:  # doctest: +SKIP\n",
    "# ...     df1.to_excel(writer, sheet_name='Sheet_name_1')\n",
    "# ...     df2.to_excel(writer, sheet_name='Sheet_name_2')\n",
    "    "
   ]
  },
  {
   "cell_type": "code",
   "execution_count": null,
   "id": "3f4af7ac",
   "metadata": {},
   "outputs": [],
   "source": [
    "finalFFF.to_csv(\"C:\\\\Users\\\\David.Clinton\\\\Desktop\\\\Automation Sandbox\\\\Top Ups_1\\\\12_02_2024 Groups B_C\\\\Groups B_C 12_02_2024.csv\", index=False)"
   ]
  },
  {
   "cell_type": "code",
   "execution_count": null,
   "id": "eadfbe93",
   "metadata": {},
   "outputs": [],
   "source": [
    "destination_path_bulk = \"C:\\\\Users\\\\David.Clinton\\\\Desktop\\\\Automation Sandbox\\\\Top Ups_1\\\\12_02_2024 Groups B_C Bulk, Live Life, Naturalli, Herbs_Spices\\\\\""
   ]
  },
  {
   "cell_type": "raw",
   "id": "31419441",
   "metadata": {},
   "source": [
    "Activate below when processing bulk"
   ]
  },
  {
   "cell_type": "code",
   "execution_count": null,
   "id": "9838120a",
   "metadata": {},
   "outputs": [],
   "source": [
    "# finalDDD.drop('MaxStock', axis=1, inplace=True)"
   ]
  },
  {
   "cell_type": "code",
   "execution_count": null,
   "id": "283ffb81",
   "metadata": {},
   "outputs": [],
   "source": [
    "# finalDDD.TransferTo.unique()"
   ]
  },
  {
   "cell_type": "code",
   "execution_count": null,
   "id": "110112f3",
   "metadata": {},
   "outputs": [],
   "source": [
    "for i in finalFFF.TransferTo.unique():\n",
    "    temp=finalFFF[finalFFF.loc[:, 'TransferTo'] == i]\n",
    "# #     temp.reindex()\n",
    "#     temp2_bulk = bulk_movable[bulk_movable.loc[:, 'MoveFrom']==i]\n",
    "# #     temp2_bulk.reindex()\n",
    "    \n",
    "    with pd.ExcelWriter (destination_path_bulk+i+' '+'BULK'+ ' ' +todaysdate+'.xlsx') as writer:\n",
    "        temp.to_excel(writer, sheet_name='Bulk Top Up_Main Order', index=False)\n",
    "#         temp2_bulk.to_excel(writer, sheet_name = 'Bulk_Items' ,index=False)\n",
    "        \n",
    "        \n",
    "#     temp.to_excel(path+i+'.csv' ,index=False)\n",
    "    \n",
    "#      with pd.ExcelWriter('output.xlsx') as writer:  # doctest: +SKIP\n",
    "# ...     df1.to_excel(writer, sheet_name='Sheet_name_1')\n",
    "# ...     df2.to_excel(writer, sheet_name='Sheet_name_2')"
   ]
  },
  {
   "cell_type": "code",
   "execution_count": null,
   "id": "e5448886",
   "metadata": {},
   "outputs": [],
   "source": [
    "finalFFF.to_csv(\"C:\\\\Users\\\\David.Clinton\\\\Desktop\\\\Automation Sandbox\\\\Top Ups_1\\\\12_02_2024 Groups B_C Bulk, Live Life, Naturalli, Herbs_Spices\\\\bulkmainorderGroupsB_C12_02_2024.csv\", index=False)"
   ]
  }
 ],
 "metadata": {
  "kernelspec": {
   "display_name": "Python 3 (ipykernel)",
   "language": "python",
   "name": "python3"
  },
  "language_info": {
   "codemirror_mode": {
    "name": "ipython",
    "version": 3
   },
   "file_extension": ".py",
   "mimetype": "text/x-python",
   "name": "python",
   "nbconvert_exporter": "python",
   "pygments_lexer": "ipython3",
   "version": "3.9.13"
  }
 },
 "nbformat": 4,
 "nbformat_minor": 5
}
