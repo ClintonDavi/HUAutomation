{
 "cells": [
  {
   "cell_type": "code",
   "execution_count": null,
   "id": "739627ad-c7bd-43d7-a606-ba63d00919c2",
   "metadata": {},
   "outputs": [],
   "source": [
    "# !pip install google-cloud-bigquery"
   ]
  },
  {
   "cell_type": "code",
   "execution_count": 1,
   "id": "f2bcbf39-5284-43d1-8c82-e613fcf8917e",
   "metadata": {},
   "outputs": [],
   "source": [
    "import pandas as pd\n",
    "import re\n",
    "import os\n",
    "import datetime\n",
    "import numpy as np\n",
    "from google.cloud import bigquery\n",
    "import uuid\n",
    "import decimal"
   ]
  },
  {
   "cell_type": "code",
   "execution_count": 2,
   "id": "53755b46-dcab-44c8-92f7-cd6317c90a15",
   "metadata": {},
   "outputs": [],
   "source": [
    "os.environ['GOOGLE_APPLICATION_CREDENTIALS'] = \"C:\\\\Users\\\\David.Wagura\\\\Desktop\\\\Automation Sandbox\\\\hu-cloud-data-storage-e81319c069ef.json\""
   ]
  },
  {
   "cell_type": "code",
   "execution_count": 3,
   "id": "4562e0d4-b26a-4256-91b6-9317c0f4f5f7",
   "metadata": {},
   "outputs": [],
   "source": [
    "client = bigquery.Client()"
   ]
  },
  {
   "cell_type": "code",
   "execution_count": 4,
   "id": "f414a410-ffa9-4bf5-85b4-7bd9620f9843",
   "metadata": {},
   "outputs": [],
   "source": [
    "dataset_id = 'Stockcards'\n",
    "table_id = 'Majid Stock Card 2'"
   ]
  },
  {
   "cell_type": "code",
   "execution_count": 5,
   "id": "6fa12054-7adc-44e1-8456-d5d6a9772c38",
   "metadata": {},
   "outputs": [],
   "source": [
    "table_ref = f'{client.project}.{dataset_id}.{table_id}'"
   ]
  },
  {
   "cell_type": "code",
   "execution_count": 6,
   "id": "f189e82d-d33d-4fdc-b865-47d598c4786e",
   "metadata": {},
   "outputs": [],
   "source": [
    "table = client.get_table(table_ref)\n",
    "schema = table.schema"
   ]
  },
  {
   "cell_type": "code",
   "execution_count": 7,
   "id": "ab7be94b-38eb-45de-9dab-d64596c1cd0a",
   "metadata": {},
   "outputs": [
    {
     "data": {
      "text/plain": [
       "[SchemaField('Date', 'DATE', 'NULLABLE', None, None, (), None),\n",
       " SchemaField('Status', 'STRING', 'NULLABLE', None, None, (), None),\n",
       " SchemaField('ItemNumberMajid', 'STRING', 'NULLABLE', None, None, (), None),\n",
       " SchemaField('Barcode', 'STRING', 'NULLABLE', None, None, (), None),\n",
       " SchemaField('ItemNumberHU', 'STRING', 'NULLABLE', None, None, (), None),\n",
       " SchemaField('ItemDescription', 'STRING', 'NULLABLE', None, None, (), None),\n",
       " SchemaField('Department', 'STRING', 'NULLABLE', None, None, (), None),\n",
       " SchemaField('Brand', 'STRING', 'NULLABLE', None, None, (), None),\n",
       " SchemaField('Customer', 'STRING', 'NULLABLE', None, None, (), None),\n",
       " SchemaField('CustomerCode', 'STRING', 'NULLABLE', None, None, (), None),\n",
       " SchemaField('InstockCustomer', 'NUMERIC', 'NULLABLE', None, None, (), None),\n",
       " SchemaField('MainWarehouse', 'NUMERIC', 'NULLABLE', None, None, (), None),\n",
       " SchemaField('ProductionWarehouse', 'NUMERIC', 'NULLABLE', None, None, (), None),\n",
       " SchemaField('RetailWarehouse', 'NUMERIC', 'NULLABLE', None, None, (), None),\n",
       " SchemaField('PackagingWarehouse', 'NUMERIC', 'NULLABLE', None, None, (), None),\n",
       " SchemaField('ReceivingWarehouse', 'NUMERIC', 'NULLABLE', None, None, (), None)]"
      ]
     },
     "execution_count": 7,
     "metadata": {},
     "output_type": "execute_result"
    }
   ],
   "source": [
    "schema"
   ]
  },
  {
   "cell_type": "code",
   "execution_count": 12,
   "id": "cfb7ec92-918d-46d8-9dbf-19d39c19ffbd",
   "metadata": {},
   "outputs": [],
   "source": [
    "path = \"C:\\\\Users\\\\David.Wagura\\\\Desktop\\\\Automation Sandbox\\\\Majid Stock Cards\""
   ]
  },
  {
   "cell_type": "code",
   "execution_count": 13,
   "id": "01a7ebec-411f-451c-8a60-2d0abe9c6bf5",
   "metadata": {},
   "outputs": [],
   "source": [
    "cols = ['STATUS','ItemNo_Majid','Bar Code',\t'Item No.',\t'Item Description',\n",
    "'Department', 'Brand', 'Healthy U Acc Name',\t'Healthy U Acc Code',\t'Instock_Majid', 'MAIN WAREHOUSE', 'PRODUCTION WAREHOUSE',\t\n",
    "'RETAIL WAREHOUSE', 'PACKAGING MATERIALS WAREHOUSE',\t'RECEIVING WAREHOUSE']"
   ]
  },
  {
   "cell_type": "code",
   "execution_count": 14,
   "id": "518bace4-4b94-4bb8-b428-3078aba50155",
   "metadata": {},
   "outputs": [],
   "source": [
    "file_names=[]\n",
    "for i in os.listdir(path):\n",
    "    file_names.append(i.replace('.xlsx', \"\"))"
   ]
  },
  {
   "cell_type": "code",
   "execution_count": 15,
   "id": "0a133435-8ddc-4e6f-9fe0-59283db8965f",
   "metadata": {},
   "outputs": [
    {
     "data": {
      "text/plain": [
       "['5_7_2024']"
      ]
     },
     "execution_count": 15,
     "metadata": {},
     "output_type": "execute_result"
    }
   ],
   "source": [
    "file_names"
   ]
  },
  {
   "cell_type": "code",
   "execution_count": 16,
   "id": "d3cf309c-07f6-4555-b400-a3d2c73216bb",
   "metadata": {},
   "outputs": [
    {
     "name": "stdout",
     "output_type": "stream",
     "text": [
      "5_7_2024\n"
     ]
    }
   ],
   "source": [
    "fin_table = pd.DataFrame()\n",
    "for i in file_names:\n",
    "    print(i)\n",
    "    day = int(re.findall('\\d+', i)[0])\n",
    "    month = int(re.findall('\\d+', i)[1])\n",
    "    year = int(re.findall('\\d+', i)[2])\n",
    "    \n",
    "    file_name=\"C:\\\\Users\\\\David.Wagura\\\\Desktop\\\\Automation Sandbox\\\\Majid Stock Cards\\\\{x}_{y}_{z}.xlsx\"\n",
    "    temp_table=pd.read_excel(file_name.format(x=day, y=month, z=year))\n",
    "    temp_table2 = temp_table.copy()\n",
    "    temp_table2 = temp_table2[cols]\n",
    "    temp_table2.insert(0, 'Date', datetime.date(year, month,day))\n",
    "    fin_table = pd.concat([fin_table, temp_table2])\n",
    "    "
   ]
  },
  {
   "cell_type": "code",
   "execution_count": 17,
   "id": "e9b27b3e-52fc-46ba-ab74-0d0e987f7b45",
   "metadata": {},
   "outputs": [],
   "source": [
    "fin_table= fin_table.set_axis(range(len(fin_table)))"
   ]
  },
  {
   "cell_type": "code",
   "execution_count": 18,
   "id": "a92c016d-469f-402d-9d35-39ae7cc25833",
   "metadata": {},
   "outputs": [],
   "source": [
    "fin_table['Bar Code'] = fin_table['Bar Code'].apply(lambda x: '{:.0f}'.format(x))"
   ]
  },
  {
   "cell_type": "code",
   "execution_count": 19,
   "id": "f87210c6-a1f1-48ed-85c5-667fb10ad1d6",
   "metadata": {},
   "outputs": [],
   "source": [
    "# fin_table2['Bar Code'].replace([np.inf, -np.inf], np.nan)\n",
    "\n",
    "# fin_table2['Bar Code'] = fin_table2['Bar Code'].fillna('XXX')"
   ]
  },
  {
   "cell_type": "code",
   "execution_count": 20,
   "id": "bda73615-df21-42bd-80cb-84a7e65b06ae",
   "metadata": {},
   "outputs": [],
   "source": [
    "fin_table2=fin_table.copy()"
   ]
  },
  {
   "cell_type": "code",
   "execution_count": 21,
   "id": "581e7dc3-b0d7-422d-89a0-ee2a6485d9c9",
   "metadata": {},
   "outputs": [],
   "source": [
    "fin_table2.drop(fin_table2[fin_table2['Bar Code']=='nan'].index, inplace=True)"
   ]
  },
  {
   "cell_type": "code",
   "execution_count": 22,
   "id": "9635ae3b-fdcb-4a55-bf28-1c1770e8c5d0",
   "metadata": {},
   "outputs": [],
   "source": [
    "fin_table2['Item No.'] = fin_table2['Item No.'].astype(int)"
   ]
  },
  {
   "cell_type": "code",
   "execution_count": 23,
   "id": "97ecaf09-1807-4d2c-bde7-38e1f477a5db",
   "metadata": {},
   "outputs": [],
   "source": [
    "fin_table2['Instock_Majid']=fin_table2['Instock_Majid'].fillna(0)"
   ]
  },
  {
   "cell_type": "code",
   "execution_count": 24,
   "id": "1b69b315-9321-4971-98c1-3d6d0eeab78e",
   "metadata": {},
   "outputs": [],
   "source": [
    "fin_table2.columns = ['Date', 'Status', 'ItemNumberMajid', 'Barcode', 'ItemNumberHU', 'ItemDescription', 'Department', 'Brand',\n",
    "                      'Customer', 'CustomerCode', 'InstockCustomer', 'MainWarehouse', 'ProductionWarehouse', 'RetailWarehouse',\n",
    "                      'PackagingWarehouse', 'ReceivingWarehouse']"
   ]
  },
  {
   "cell_type": "code",
   "execution_count": 25,
   "id": "3b95b39c-6d3a-479e-ab4c-8e700ce3f006",
   "metadata": {},
   "outputs": [],
   "source": [
    "fin_table2.loc[:, 'InstockCustomer': 'ReceivingWarehouse'] = fin_table2.loc[:, 'InstockCustomer': 'ReceivingWarehouse'].fillna(0)"
   ]
  },
  {
   "cell_type": "code",
   "execution_count": 26,
   "id": "2c87fb0f-a7bc-42f6-bc70-666e54894f97",
   "metadata": {},
   "outputs": [],
   "source": [
    "fin_table2['ItemNumberMajid']=fin_table2['ItemNumberMajid'].astype(str)\n",
    "fin_table2['ItemNumberHU']=fin_table2['ItemNumberHU'].astype(str)"
   ]
  },
  {
   "cell_type": "code",
   "execution_count": 27,
   "id": "aeeb3d13-88d3-4754-a2ad-d93cc2bf7902",
   "metadata": {},
   "outputs": [],
   "source": [
    "fin_table2.loc[:, 'InstockCustomer':]= fin_table2.loc[:, 'InstockCustomer':].astype(str).map(decimal.Decimal)"
   ]
  },
  {
   "cell_type": "code",
   "execution_count": 28,
   "id": "69e75bc9-b5d7-4080-a762-359fb03f017a",
   "metadata": {},
   "outputs": [
    {
     "name": "stdout",
     "output_type": "stream",
     "text": [
      "<class 'pandas.core.frame.DataFrame'>\n",
      "Index: 44252 entries, 0 to 63410\n",
      "Data columns (total 16 columns):\n",
      " #   Column               Non-Null Count  Dtype \n",
      "---  ------               --------------  ----- \n",
      " 0   Date                 44252 non-null  object\n",
      " 1   Status               44252 non-null  object\n",
      " 2   ItemNumberMajid      44252 non-null  object\n",
      " 3   Barcode              44252 non-null  object\n",
      " 4   ItemNumberHU         44252 non-null  object\n",
      " 5   ItemDescription      44252 non-null  object\n",
      " 6   Department           44252 non-null  object\n",
      " 7   Brand                44252 non-null  object\n",
      " 8   Customer             44252 non-null  object\n",
      " 9   CustomerCode         44252 non-null  object\n",
      " 10  InstockCustomer      44252 non-null  object\n",
      " 11  MainWarehouse        44252 non-null  object\n",
      " 12  ProductionWarehouse  44252 non-null  object\n",
      " 13  RetailWarehouse      44252 non-null  object\n",
      " 14  PackagingWarehouse   44252 non-null  object\n",
      " 15  ReceivingWarehouse   44252 non-null  object\n",
      "dtypes: object(16)\n",
      "memory usage: 5.7+ MB\n"
     ]
    }
   ],
   "source": [
    "fin_table2.info()"
   ]
  },
  {
   "cell_type": "markdown",
   "id": "ac8f8970-a44a-42ad-9b50-d7476a7b63eb",
   "metadata": {},
   "source": [
    "### LOADING"
   ]
  },
  {
   "cell_type": "code",
   "execution_count": 29,
   "id": "295b486e-de1e-402a-9b48-340351e5d39f",
   "metadata": {},
   "outputs": [],
   "source": [
    "fin_table3=fin_table2.drop_duplicates()"
   ]
  },
  {
   "cell_type": "code",
   "execution_count": 30,
   "id": "92151f4c-80cf-4bc3-b0c5-d03373a500e8",
   "metadata": {},
   "outputs": [
    {
     "name": "stdout",
     "output_type": "stream",
     "text": [
      "<class 'pandas.core.frame.DataFrame'>\n",
      "Index: 43401 entries, 0 to 63410\n",
      "Data columns (total 16 columns):\n",
      " #   Column               Non-Null Count  Dtype \n",
      "---  ------               --------------  ----- \n",
      " 0   Date                 43401 non-null  object\n",
      " 1   Status               43401 non-null  object\n",
      " 2   ItemNumberMajid      43401 non-null  object\n",
      " 3   Barcode              43401 non-null  object\n",
      " 4   ItemNumberHU         43401 non-null  object\n",
      " 5   ItemDescription      43401 non-null  object\n",
      " 6   Department           43401 non-null  object\n",
      " 7   Brand                43401 non-null  object\n",
      " 8   Customer             43401 non-null  object\n",
      " 9   CustomerCode         43401 non-null  object\n",
      " 10  InstockCustomer      43401 non-null  object\n",
      " 11  MainWarehouse        43401 non-null  object\n",
      " 12  ProductionWarehouse  43401 non-null  object\n",
      " 13  RetailWarehouse      43401 non-null  object\n",
      " 14  PackagingWarehouse   43401 non-null  object\n",
      " 15  ReceivingWarehouse   43401 non-null  object\n",
      "dtypes: object(16)\n",
      "memory usage: 5.6+ MB\n"
     ]
    }
   ],
   "source": [
    "fin_table3.info()"
   ]
  },
  {
   "cell_type": "code",
   "execution_count": 31,
   "id": "05c378d1-4bd2-4d7b-afef-b8b2b741f6e6",
   "metadata": {},
   "outputs": [
    {
     "name": "stdout",
     "output_type": "stream",
     "text": [
      "Loaded 43401 rows into Stockcards:Majid Stock Card 2.\n"
     ]
    }
   ],
   "source": [
    "job = client.load_table_from_dataframe(fin_table3, table_ref, job_config=bigquery.LoadJobConfig(schema=schema))\n",
    "job.result()\n",
    "\n",
    "print(f\"Loaded {job.output_rows} rows into {dataset_id}:{table_id}.\")"
   ]
  },
  {
   "cell_type": "markdown",
   "id": "7c91c00b-b995-49fd-87dc-f67ccc349db2",
   "metadata": {},
   "source": [
    "### ACTIVE ITEMS"
   ]
  },
  {
   "cell_type": "code",
   "execution_count": null,
   "id": "4785f5c4-dbf0-483b-8960-89d9d090fb3b",
   "metadata": {},
   "outputs": [],
   "source": [
    "active_items = pd.read_excel(\"C:\\\\Users\\\\David.Wagura\\\\Desktop\\\\Automation Sandbox\\\\Active Item List 24_05.xlsx\")"
   ]
  },
  {
   "cell_type": "code",
   "execution_count": null,
   "id": "4e24023f-49a0-4055-9fc4-ec7409a20a28",
   "metadata": {},
   "outputs": [],
   "source": [
    "positive_inventory = pd.read_excel(\"C:\\\\Users\\\\David.Wagura\\\\Desktop\\\\Automation Sandbox\\\\Positive Inventory\\\\Positive Inventory (Retail) 24.06.2024.xlsx\")"
   ]
  },
  {
   "cell_type": "code",
   "execution_count": null,
   "id": "d31dcf1e-4f14-4074-af2a-491bf1a1ce3e",
   "metadata": {},
   "outputs": [],
   "source": [
    "active_shortened = active_items [['Item No.', 'Item Description','Bar Code', 'Brand', 'Department', 'Last Purchase Price', 'Retail Price Inc VAT', 'Retail Price Ex. VAT']].copy()"
   ]
  },
  {
   "cell_type": "code",
   "execution_count": null,
   "id": "81417bb7-1725-4586-9715-67491893b7bd",
   "metadata": {},
   "outputs": [],
   "source": [
    "positive_shortened = positive_inventory [['Item No.', 'Barcode', 'Item Description', 'Department', 'Brand', 'RETAIL WAREHOUSE', 'MAIN WAREHOUSE', 'RECEIVING WAREHOUSE']].copy()"
   ]
  },
  {
   "cell_type": "code",
   "execution_count": null,
   "id": "da7ddca1-d2c5-400d-9182-bf54419d26b2",
   "metadata": {},
   "outputs": [],
   "source": [
    "active_shortened.loc[:, 'Last Purchase Price':]= active_shortened.loc[:, 'Last Purchase Price':].astype(str).map(decimal.Decimal)"
   ]
  },
  {
   "cell_type": "code",
   "execution_count": null,
   "id": "67d2546f-8e71-4475-87bf-be4d359f69a3",
   "metadata": {},
   "outputs": [],
   "source": [
    "table_id_activeitem = 'ActiveItemList'"
   ]
  },
  {
   "cell_type": "code",
   "execution_count": null,
   "id": "267928fe-0b37-4409-a960-fb0916f20eb8",
   "metadata": {},
   "outputs": [],
   "source": [
    "table_ref_activeitem = f'{client.project}.{dataset_id}.{table_id_activeitem}'"
   ]
  },
  {
   "cell_type": "code",
   "execution_count": null,
   "id": "fe0ca419-0ad0-465d-9625-75dfebb17421",
   "metadata": {},
   "outputs": [],
   "source": [
    "table_activeitem = client.get_table(table_ref_activeitem)\n",
    "schema_activeitem = table_activeitem.schema"
   ]
  },
  {
   "cell_type": "code",
   "execution_count": null,
   "id": "620326ef-0c11-4580-b790-de1e93405710",
   "metadata": {},
   "outputs": [],
   "source": [
    "schema_activeitem"
   ]
  },
  {
   "cell_type": "code",
   "execution_count": null,
   "id": "eac8b137-f492-4b87-b17f-3eb97ff06f8a",
   "metadata": {},
   "outputs": [],
   "source": [
    "newcolsactiveitem = []\n",
    "for i in range(len (schema_activeitem)):\n",
    "    newcolsactiveitem.append(str(schema_activeitem[i]).replace(\"(\",\"\").replace(\"SchemaField\", \"\").split(\",\")[0].replace(\"'\", \"\"))"
   ]
  },
  {
   "cell_type": "code",
   "execution_count": null,
   "id": "db4f6add-5768-492c-92b1-28b675bd8713",
   "metadata": {},
   "outputs": [],
   "source": [
    "active_shortened.columns=newcolsactiveitem"
   ]
  },
  {
   "cell_type": "code",
   "execution_count": null,
   "id": "ec688d2e-72fd-480c-b2ca-6e0c9ac41079",
   "metadata": {},
   "outputs": [],
   "source": [
    "job_activeitem = client.load_table_from_dataframe(active_shortened, table_ref_activeitem, job_config=bigquery.LoadJobConfig(schema=schema_activeitem))\n",
    "job_activeitem.result()\n",
    "\n",
    "print(f\"Loaded {job_activeitem.output_rows} rows into {dataset_id}:{table_id_activeitem}.\")"
   ]
  },
  {
   "cell_type": "code",
   "execution_count": null,
   "id": "9e709984-15b4-4f66-84f1-190d14dd0687",
   "metadata": {},
   "outputs": [],
   "source": []
  }
 ],
 "metadata": {
  "kernelspec": {
   "display_name": "Python 3 (ipykernel)",
   "language": "python",
   "name": "python3"
  },
  "language_info": {
   "codemirror_mode": {
    "name": "ipython",
    "version": 3
   },
   "file_extension": ".py",
   "mimetype": "text/x-python",
   "name": "python",
   "nbconvert_exporter": "python",
   "pygments_lexer": "ipython3",
   "version": "3.11.7"
  }
 },
 "nbformat": 4,
 "nbformat_minor": 5
}
