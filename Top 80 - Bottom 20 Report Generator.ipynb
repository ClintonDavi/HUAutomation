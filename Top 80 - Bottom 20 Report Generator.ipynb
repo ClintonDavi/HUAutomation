{
 "cells": [
  {
   "cell_type": "code",
   "execution_count": 1,
   "id": "0c288570",
   "metadata": {},
   "outputs": [],
   "source": [
    "import pandas as pd\n",
    "import datetime\n",
    "from pandas import Timedelta\n",
    "import numpy as np"
   ]
  },
  {
   "cell_type": "code",
   "execution_count": 2,
   "id": "03800c12",
   "metadata": {},
   "outputs": [
    {
     "name": "stderr",
     "output_type": "stream",
     "text": [
      "C:\\Users\\David.Wagura\\AppData\\Local\\Temp\\ipykernel_9332\\3801169709.py:1: DtypeWarning: Columns (1) have mixed types. Specify dtype option on import or set low_memory=False.\n",
      "  all_items_monthwise=pd.read_csv(\"C:\\\\Users\\\\David.Wagura\\\\Desktop\\\\Automation Sandbox\\\\Stock&Monthwise_2022TD_Stock+Sales.csv\")\n"
     ]
    }
   ],
   "source": [
    "all_items_monthwise=pd.read_csv(\"C:\\\\Users\\\\David.Wagura\\\\Desktop\\\\Automation Sandbox\\\\Stock&Monthwise_2022TD_Stock+Sales.csv\")"
   ]
  },
  {
   "cell_type": "code",
   "execution_count": 3,
   "id": "d18c5ce2",
   "metadata": {},
   "outputs": [],
   "source": [
    "all_items=pd.read_excel(\"C:\\\\Users\\\\David.Wagura\\\\Desktop\\\\Automation Sandbox\\\\All Item Master Data.xlsx\")"
   ]
  },
  {
   "cell_type": "code",
   "execution_count": 4,
   "id": "5714659f",
   "metadata": {},
   "outputs": [],
   "source": [
    "full_items2023=pd.read_excel(\"C:\\\\Users\\\\David.Wagura\\\\Desktop\\\\Automation Sandbox\\\\Full Item List 15_02.xlsx\")"
   ]
  },
  {
   "cell_type": "code",
   "execution_count": 5,
   "id": "acc82462",
   "metadata": {},
   "outputs": [],
   "source": [
    "Instock_import = pd.read_excel(\"C:\\\\Users\\\\David.Wagura\\\\Desktop\\\\Automation Sandbox\\\\Stock&Monthwise.xlsx\")"
   ]
  },
  {
   "cell_type": "code",
   "execution_count": 6,
   "id": "bd724311",
   "metadata": {},
   "outputs": [],
   "source": [
    "wholesale_list_of_items = pd.read_excel(\"C:\\\\Users\\\\David.Wagura\\\\Desktop\\\\Automation Sandbox\\\\Wholesale Line.xlsx\")"
   ]
  },
  {
   "cell_type": "code",
   "execution_count": 7,
   "id": "f1909b10",
   "metadata": {},
   "outputs": [],
   "source": [
    "nw = all_items[['Item No.', 'Item Description', 'Existing Item Code']].copy()"
   ]
  },
  {
   "cell_type": "code",
   "execution_count": 8,
   "id": "9b133cb7",
   "metadata": {},
   "outputs": [],
   "source": [
    "nw['Old Codes']=nw['Existing Item Code'].astype(str).str.split('.', expand=True)[0]\n",
    "nw.drop ('Existing Item Code', inplace=True, axis=1)"
   ]
  },
  {
   "cell_type": "code",
   "execution_count": 9,
   "id": "b8046b98",
   "metadata": {},
   "outputs": [],
   "source": [
    "nw.rename(columns={'Item No.': 'New Item No.', 'Old Codes': 'Item No.'}, inplace=True)"
   ]
  },
  {
   "cell_type": "code",
   "execution_count": 10,
   "id": "29e0a5ac",
   "metadata": {},
   "outputs": [],
   "source": [
    "nw2=nw[~nw.isin({'Item No.':['nan']})['Item No.']]\n",
    "olditems_newitems_dict=dict (nw2[['Item No.', 'New Item No.']].values)"
   ]
  },
  {
   "cell_type": "code",
   "execution_count": 11,
   "id": "17b82081",
   "metadata": {},
   "outputs": [],
   "source": [
    "full_items2023['Item No.'] = full_items2023 ['Item No.'].astype(str)"
   ]
  },
  {
   "cell_type": "code",
   "execution_count": 12,
   "id": "9d2e2972",
   "metadata": {},
   "outputs": [],
   "source": [
    "full_items2023['Item No.']= full_items2023['Item No.'].apply(lambda x: olditems_newitems_dict[x] if x in olditems_newitems_dict else x)"
   ]
  },
  {
   "cell_type": "code",
   "execution_count": 13,
   "id": "21f16218",
   "metadata": {},
   "outputs": [],
   "source": [
    "date_created = full_items2023 [['Item No.', 'Date Created']].copy()"
   ]
  },
  {
   "cell_type": "code",
   "execution_count": 14,
   "id": "658c365d",
   "metadata": {},
   "outputs": [],
   "source": [
    "date_created['PD_Date'] = date_created['Date Created'].apply(lambda x: pd.to_datetime(x, format=\"%d/%m/%Y\"))"
   ]
  },
  {
   "cell_type": "code",
   "execution_count": 15,
   "id": "05604a0e",
   "metadata": {},
   "outputs": [],
   "source": [
    "date_created['Todays_Date'] =pd.to_datetime(datetime.datetime.now().date())"
   ]
  },
  {
   "cell_type": "code",
   "execution_count": 16,
   "id": "aef8b2a4",
   "metadata": {},
   "outputs": [
    {
     "data": {
      "text/html": [
       "<div>\n",
       "<style scoped>\n",
       "    .dataframe tbody tr th:only-of-type {\n",
       "        vertical-align: middle;\n",
       "    }\n",
       "\n",
       "    .dataframe tbody tr th {\n",
       "        vertical-align: top;\n",
       "    }\n",
       "\n",
       "    .dataframe thead th {\n",
       "        text-align: right;\n",
       "    }\n",
       "</style>\n",
       "<table border=\"1\" class=\"dataframe\">\n",
       "  <thead>\n",
       "    <tr style=\"text-align: right;\">\n",
       "      <th></th>\n",
       "      <th>Item No.</th>\n",
       "      <th>Date Created</th>\n",
       "      <th>PD_Date</th>\n",
       "      <th>Todays_Date</th>\n",
       "    </tr>\n",
       "  </thead>\n",
       "  <tbody>\n",
       "    <tr>\n",
       "      <th>0</th>\n",
       "      <td>14400410001</td>\n",
       "      <td>18/06/2014</td>\n",
       "      <td>2014-06-18</td>\n",
       "      <td>2024-06-10</td>\n",
       "    </tr>\n",
       "    <tr>\n",
       "      <th>1</th>\n",
       "      <td>14400410003</td>\n",
       "      <td>18/06/2014</td>\n",
       "      <td>2014-06-18</td>\n",
       "      <td>2024-06-10</td>\n",
       "    </tr>\n",
       "    <tr>\n",
       "      <th>2</th>\n",
       "      <td>14400410004</td>\n",
       "      <td>18/06/2014</td>\n",
       "      <td>2014-06-18</td>\n",
       "      <td>2024-06-10</td>\n",
       "    </tr>\n",
       "    <tr>\n",
       "      <th>3</th>\n",
       "      <td>14400410007</td>\n",
       "      <td>18/06/2014</td>\n",
       "      <td>2014-06-18</td>\n",
       "      <td>2024-06-10</td>\n",
       "    </tr>\n",
       "    <tr>\n",
       "      <th>4</th>\n",
       "      <td>14400770005</td>\n",
       "      <td>18/06/2014</td>\n",
       "      <td>2014-06-18</td>\n",
       "      <td>2024-06-10</td>\n",
       "    </tr>\n",
       "    <tr>\n",
       "      <th>...</th>\n",
       "      <td>...</td>\n",
       "      <td>...</td>\n",
       "      <td>...</td>\n",
       "      <td>...</td>\n",
       "    </tr>\n",
       "    <tr>\n",
       "      <th>38112</th>\n",
       "      <td>157000187</td>\n",
       "      <td>09/12/2015</td>\n",
       "      <td>2015-12-09</td>\n",
       "      <td>2024-06-10</td>\n",
       "    </tr>\n",
       "    <tr>\n",
       "      <th>38113</th>\n",
       "      <td>163000007</td>\n",
       "      <td>02/08/2017</td>\n",
       "      <td>2017-08-02</td>\n",
       "      <td>2024-06-10</td>\n",
       "    </tr>\n",
       "    <tr>\n",
       "      <th>38114</th>\n",
       "      <td>175000010</td>\n",
       "      <td>18/06/2014</td>\n",
       "      <td>2014-06-18</td>\n",
       "      <td>2024-06-10</td>\n",
       "    </tr>\n",
       "    <tr>\n",
       "      <th>38115</th>\n",
       "      <td>160000139</td>\n",
       "      <td>11/05/2017</td>\n",
       "      <td>2017-05-11</td>\n",
       "      <td>2024-06-10</td>\n",
       "    </tr>\n",
       "    <tr>\n",
       "      <th>38116</th>\n",
       "      <td>160000079</td>\n",
       "      <td>18/06/2014</td>\n",
       "      <td>2014-06-18</td>\n",
       "      <td>2024-06-10</td>\n",
       "    </tr>\n",
       "  </tbody>\n",
       "</table>\n",
       "<p>38117 rows × 4 columns</p>\n",
       "</div>"
      ],
      "text/plain": [
       "          Item No. Date Created    PD_Date Todays_Date\n",
       "0      14400410001   18/06/2014 2014-06-18  2024-06-10\n",
       "1      14400410003   18/06/2014 2014-06-18  2024-06-10\n",
       "2      14400410004   18/06/2014 2014-06-18  2024-06-10\n",
       "3      14400410007   18/06/2014 2014-06-18  2024-06-10\n",
       "4      14400770005   18/06/2014 2014-06-18  2024-06-10\n",
       "...            ...          ...        ...         ...\n",
       "38112    157000187   09/12/2015 2015-12-09  2024-06-10\n",
       "38113    163000007   02/08/2017 2017-08-02  2024-06-10\n",
       "38114    175000010   18/06/2014 2014-06-18  2024-06-10\n",
       "38115    160000139   11/05/2017 2017-05-11  2024-06-10\n",
       "38116    160000079   18/06/2014 2014-06-18  2024-06-10\n",
       "\n",
       "[38117 rows x 4 columns]"
      ]
     },
     "execution_count": 16,
     "metadata": {},
     "output_type": "execute_result"
    }
   ],
   "source": [
    "date_created"
   ]
  },
  {
   "cell_type": "code",
   "execution_count": 17,
   "id": "47f3f007",
   "metadata": {},
   "outputs": [],
   "source": [
    "date_created['Tenure'] = date_created['Todays_Date'] - date_created['PD_Date']"
   ]
  },
  {
   "cell_type": "code",
   "execution_count": 18,
   "id": "544377d4",
   "metadata": {},
   "outputs": [],
   "source": [
    "# date_created.to_excel('ItemTenure.xlsx', index=False)"
   ]
  },
  {
   "cell_type": "code",
   "execution_count": 19,
   "id": "25502127",
   "metadata": {},
   "outputs": [],
   "source": [
    "all_items_monthwise['Item No.'] = all_items_monthwise ['Item No.'].astype(str)"
   ]
  },
  {
   "cell_type": "code",
   "execution_count": 20,
   "id": "64209a7b",
   "metadata": {},
   "outputs": [],
   "source": [
    "all_stores=all_items_monthwise ['Store/Location Name'].unique()"
   ]
  },
  {
   "cell_type": "raw",
   "id": "3ef26933",
   "metadata": {},
   "source": [
    "def item_rank(x):\n",
    "    if x.Cumulative <= 0.3:\n",
    "        return 'Top 30 Seller'\n",
    "    elif x.Cumulative >0.3 and x.Cumulative<=0.6:\n",
    "        return 'Top 31-60 Seller'\n",
    "    elif x.Cumulative > 0.6 and x.Cumulative <=0.8:\n",
    "        return 'Top 61-80 Seller'\n",
    "    elif x.Cumulative> 0.8:\n",
    "        return 'Bottom Seller'"
   ]
  },
  {
   "cell_type": "code",
   "execution_count": 21,
   "id": "b83cbb6d",
   "metadata": {},
   "outputs": [],
   "source": [
    "def item_rank(x):\n",
    "    if x.Cumulative_Sum <= 0.8:\n",
    "        return 'Top 80% Seller'\n",
    "    elif x.Cumulative_Sum> 0.8:\n",
    "        return 'Bottom 20% Seller'"
   ]
  },
  {
   "cell_type": "raw",
   "id": "500721c0",
   "metadata": {},
   "source": [
    "def item_rank(x):\n",
    "    if x.Sales_Sum_Proportion <= 0.2:\n",
    "        return 'Bottom 20% Seller'\n",
    "    else:\n",
    "        return 'Top 80% Seller'"
   ]
  },
  {
   "cell_type": "code",
   "execution_count": 22,
   "id": "873fa310",
   "metadata": {},
   "outputs": [],
   "source": [
    "def Rationalize(x):\n",
    "    days_threshold = Timedelta('180 days')\n",
    "    if x.Tenure>days_threshold and x.Sales<100000:\n",
    "        return 'Rationalize'\n",
    "    elif x.Tenure>days_threshold and x.Sales>=100000 and x.Sales<500000 :\n",
    "        return 'At Risk'\n",
    "    else:\n",
    "        return 'Safe'"
   ]
  },
  {
   "cell_type": "code",
   "execution_count": 23,
   "id": "54f50e43",
   "metadata": {
    "scrolled": true
   },
   "outputs": [],
   "source": [
    "# shop[[i for i in shop.columns if 'sales' in i]].loc[:, 'month32023sales':].head(3)"
   ]
  },
  {
   "cell_type": "code",
   "execution_count": 26,
   "id": "cb60fa2e",
   "metadata": {},
   "outputs": [],
   "source": [
    "shop_sales_empty_list=[]"
   ]
  },
  {
   "cell_type": "code",
   "execution_count": 27,
   "id": "d6e9bad6",
   "metadata": {},
   "outputs": [],
   "source": [
    "for i in all_stores:\n",
    "    shop=all_items_monthwise[all_items_monthwise['Store/Location Name']== i]\n",
    "    shop_sales=pd.concat([shop.iloc[:, 0:8], shop[[i for i in shop.columns if 'sales' in i]].loc[:, 'month32023sales':].sum(axis=1)], axis=1)\n",
    "    shop_sales.rename(columns={0: 'Sales'}, inplace=True)\n",
    "    shop_sales=shop_sales.sort_values('Sales', ascending=False)\n",
    "    total_sales=shop_sales.Sales.sum()\n",
    "    \n",
    "#     proportion_of_sales=shop_sales.Sales/total_sales\n",
    "#     shop_sales['Proprtion'] = proportion_of_sales\n",
    "#     cumulative_sum_proportion=shop_sales.Proprtion.cumsum()\n",
    "#     shop_sales['Cumulative']=cumulative_sum_proportion\n",
    "    \n",
    "#     item_selling_status=shop_sales.apply(item_rank, axis=1)\n",
    "#     shop_sales['Item_selling_status']=item_selling_status\n",
    "#     status_table_only=shop_sales[['Item No.', 'Brand', 'Item Description', 'Store/Location Name', 'Item_selling_status']]\n",
    "    status_table_only=shop_sales[['Item No.', 'Item Description', 'Brand', 'Store/Location Name', 'Sales']]\n",
    "    \n",
    "\n",
    "    shop_sales_empty_list.append(status_table_only)"
   ]
  },
  {
   "cell_type": "code",
   "execution_count": 28,
   "id": "9b28cd80",
   "metadata": {},
   "outputs": [],
   "source": [
    "trs=pd.concat(shop_sales_empty_list)"
   ]
  },
  {
   "cell_type": "code",
   "execution_count": 29,
   "id": "68194116",
   "metadata": {},
   "outputs": [],
   "source": [
    "trs2 = pd.merge(left=trs, right = date_created[['Item No.','Tenure']], how='left', on=['Item No.'])"
   ]
  },
  {
   "cell_type": "code",
   "execution_count": 30,
   "id": "2c3a5977",
   "metadata": {},
   "outputs": [],
   "source": [
    "current_stock=Instock_import[['Item No.', 'Store/Location Name','InStock']].copy()"
   ]
  },
  {
   "cell_type": "code",
   "execution_count": 31,
   "id": "ac442868",
   "metadata": {},
   "outputs": [],
   "source": [
    "main_whse_instock=current_stock[current_stock['Store/Location Name'] == 'MAIN WAREHOUSE'].copy()"
   ]
  },
  {
   "cell_type": "code",
   "execution_count": 32,
   "id": "bb0383a6",
   "metadata": {},
   "outputs": [],
   "source": [
    "main_whse_instock.drop('Store/Location Name', axis=1, inplace=True)"
   ]
  },
  {
   "cell_type": "code",
   "execution_count": 33,
   "id": "1ed03160",
   "metadata": {},
   "outputs": [],
   "source": [
    "main_whse = trs2[trs2['Store/Location Name'] == 'MAIN WAREHOUSE'].copy()"
   ]
  },
  {
   "cell_type": "code",
   "execution_count": 34,
   "id": "f70c100e",
   "metadata": {},
   "outputs": [],
   "source": [
    "main_whse_with_instock=pd.merge(left=main_whse, right=main_whse_instock, on='Item No.', how='left')"
   ]
  },
  {
   "cell_type": "code",
   "execution_count": 35,
   "id": "2ba3e974",
   "metadata": {},
   "outputs": [],
   "source": [
    "comb=[]"
   ]
  },
  {
   "cell_type": "code",
   "execution_count": 36,
   "id": "96c2efb5",
   "metadata": {},
   "outputs": [],
   "source": [
    "for i in main_whse.Brand.unique():   \n",
    "    tt=main_whse_with_instock[main_whse_with_instock['Brand'] == i].copy()\n",
    "    tt_sales_proportion=main_whse_with_instock[main_whse_with_instock['Brand'] == i].Sales/main_whse_with_instock[main_whse_with_instock['Brand'] == i].Sales.sum()\n",
    "    tt ['Sales_Sum_Proportion'] = tt_sales_proportion\n",
    "    tt['Cumulative_Sum'] = tt.Sales_Sum_Proportion.cumsum()\n",
    "    tt ['Selling_Status'] = tt.apply(item_rank, axis=1)\n",
    "    tt['Rationalize_Status'] = tt.apply(Rationalize, axis=1)\n",
    "    comb.append(tt)\n",
    "    "
   ]
  },
  {
   "cell_type": "code",
   "execution_count": 37,
   "id": "5cbc8f25",
   "metadata": {},
   "outputs": [],
   "source": [
    "final_table=pd.concat(comb)"
   ]
  },
  {
   "cell_type": "code",
   "execution_count": 38,
   "id": "377c0da4",
   "metadata": {},
   "outputs": [],
   "source": [
    "final_table['InStock'].fillna(0, inplace=True)"
   ]
  },
  {
   "cell_type": "code",
   "execution_count": 39,
   "id": "ebfc22c7",
   "metadata": {},
   "outputs": [],
   "source": [
    "wholesale_items =wholesale_list_of_items.copy()"
   ]
  },
  {
   "cell_type": "code",
   "execution_count": 40,
   "id": "cedb1cbf",
   "metadata": {},
   "outputs": [
    {
     "data": {
      "text/html": [
       "<div>\n",
       "<style scoped>\n",
       "    .dataframe tbody tr th:only-of-type {\n",
       "        vertical-align: middle;\n",
       "    }\n",
       "\n",
       "    .dataframe tbody tr th {\n",
       "        vertical-align: top;\n",
       "    }\n",
       "\n",
       "    .dataframe thead th {\n",
       "        text-align: right;\n",
       "    }\n",
       "</style>\n",
       "<table border=\"1\" class=\"dataframe\">\n",
       "  <thead>\n",
       "    <tr style=\"text-align: right;\">\n",
       "      <th></th>\n",
       "      <th>#</th>\n",
       "      <th>Item No.</th>\n",
       "      <th>Item Description</th>\n",
       "      <th>In Stock</th>\n",
       "      <th>Bar Code</th>\n",
       "      <th>Item Group</th>\n",
       "      <th>Manufacturer</th>\n",
       "      <th>Inventory UoM</th>\n",
       "      <th>Last Eval. Price</th>\n",
       "      <th>Last Purchase Price</th>\n",
       "      <th>...</th>\n",
       "      <th>Exports Ex. VAT</th>\n",
       "      <th>Hotels Inc VAT</th>\n",
       "      <th>Key Account Inc VAT</th>\n",
       "      <th>Naivas Wholesale Inc VAT</th>\n",
       "      <th>Carrefour Inc VAT</th>\n",
       "      <th>Chandarana Inc VAT</th>\n",
       "      <th>QuickMart Inc VAT</th>\n",
       "      <th>Shoprite Inc VAT</th>\n",
       "      <th>Rubis Energy Inc VAT</th>\n",
       "      <th>Mega Wholesaler Inc VAT</th>\n",
       "    </tr>\n",
       "  </thead>\n",
       "  <tbody>\n",
       "    <tr>\n",
       "      <th>0</th>\n",
       "      <td>1</td>\n",
       "      <td>100000036</td>\n",
       "      <td>DR BRON M SOAP ORG LIQ BABY MILD 8OZ/237ML OLBA08</td>\n",
       "      <td>119.0</td>\n",
       "      <td>18787772089</td>\n",
       "      <td>Baby Care</td>\n",
       "      <td>DR BRONNER'S</td>\n",
       "      <td>EACH</td>\n",
       "      <td>NaN</td>\n",
       "      <td>1188.26</td>\n",
       "      <td>...</td>\n",
       "      <td>1292.24</td>\n",
       "      <td>1199.2</td>\n",
       "      <td>1124.25</td>\n",
       "      <td>1124.25</td>\n",
       "      <td>1379.08</td>\n",
       "      <td>1124.25</td>\n",
       "      <td>1139.24</td>\n",
       "      <td>1199.2</td>\n",
       "      <td>1274.15</td>\n",
       "      <td>1499</td>\n",
       "    </tr>\n",
       "    <tr>\n",
       "      <th>1</th>\n",
       "      <td>2</td>\n",
       "      <td>100000037</td>\n",
       "      <td>ECOVER DELICATE DET. WOOL &amp; SILK LAUNDRY 750ML...</td>\n",
       "      <td>NaN</td>\n",
       "      <td>5412533419566</td>\n",
       "      <td>Baby Care</td>\n",
       "      <td>ECOVER</td>\n",
       "      <td>EACH</td>\n",
       "      <td>NaN</td>\n",
       "      <td>NaN</td>\n",
       "      <td>...</td>\n",
       "      <td>NaN</td>\n",
       "      <td>799.2</td>\n",
       "      <td>749.25</td>\n",
       "      <td>749.25</td>\n",
       "      <td>919.08</td>\n",
       "      <td>749.25</td>\n",
       "      <td>759.24</td>\n",
       "      <td>799.2</td>\n",
       "      <td>849.15</td>\n",
       "      <td>999</td>\n",
       "    </tr>\n",
       "    <tr>\n",
       "      <th>2</th>\n",
       "      <td>3</td>\n",
       "      <td>100000038</td>\n",
       "      <td>ECOVER LAUNDRY LIQUID UNIVERSAL 1LTR#4005379</td>\n",
       "      <td>99.0</td>\n",
       "      <td>5412533420302</td>\n",
       "      <td>Baby Care</td>\n",
       "      <td>ECOVER</td>\n",
       "      <td>EACH</td>\n",
       "      <td>NaN</td>\n",
       "      <td>2060.25</td>\n",
       "      <td>...</td>\n",
       "      <td>2240.52</td>\n",
       "      <td>2079.2</td>\n",
       "      <td>1949.25</td>\n",
       "      <td>1949.25</td>\n",
       "      <td>2391.08</td>\n",
       "      <td>1949.25</td>\n",
       "      <td>1975.24</td>\n",
       "      <td>2079.2</td>\n",
       "      <td>2209.15</td>\n",
       "      <td>2599</td>\n",
       "    </tr>\n",
       "    <tr>\n",
       "      <th>3</th>\n",
       "      <td>4</td>\n",
       "      <td>101000037</td>\n",
       "      <td>ELLA'S KITCHEN ORG APPLES+BANANAS 120G#EK016</td>\n",
       "      <td>114.0</td>\n",
       "      <td>5060107330276</td>\n",
       "      <td>Baby foods</td>\n",
       "      <td>ELLA'S KITCHEN</td>\n",
       "      <td>EACH</td>\n",
       "      <td>NaN</td>\n",
       "      <td>193.90</td>\n",
       "      <td>...</td>\n",
       "      <td>430.17</td>\n",
       "      <td>399.2</td>\n",
       "      <td>374.25</td>\n",
       "      <td>374.25</td>\n",
       "      <td>459.08</td>\n",
       "      <td>374.25</td>\n",
       "      <td>379.24</td>\n",
       "      <td>399.2</td>\n",
       "      <td>424.15</td>\n",
       "      <td>499</td>\n",
       "    </tr>\n",
       "    <tr>\n",
       "      <th>4</th>\n",
       "      <td>5</td>\n",
       "      <td>101000038</td>\n",
       "      <td>ELLA'S KITCHEN ORG BANANA APPLE + BLUEBERRY BA...</td>\n",
       "      <td>131.0</td>\n",
       "      <td>5060503502260</td>\n",
       "      <td>Baby foods</td>\n",
       "      <td>ELLA'S KITCHEN</td>\n",
       "      <td>EACH</td>\n",
       "      <td>NaN</td>\n",
       "      <td>395.56</td>\n",
       "      <td>...</td>\n",
       "      <td>NaN</td>\n",
       "      <td>399.2</td>\n",
       "      <td>374.25</td>\n",
       "      <td>374.25</td>\n",
       "      <td>459.08</td>\n",
       "      <td>374.25</td>\n",
       "      <td>379.24</td>\n",
       "      <td>399.2</td>\n",
       "      <td>424.15</td>\n",
       "      <td>499</td>\n",
       "    </tr>\n",
       "    <tr>\n",
       "      <th>...</th>\n",
       "      <td>...</td>\n",
       "      <td>...</td>\n",
       "      <td>...</td>\n",
       "      <td>...</td>\n",
       "      <td>...</td>\n",
       "      <td>...</td>\n",
       "      <td>...</td>\n",
       "      <td>...</td>\n",
       "      <td>...</td>\n",
       "      <td>...</td>\n",
       "      <td>...</td>\n",
       "      <td>...</td>\n",
       "      <td>...</td>\n",
       "      <td>...</td>\n",
       "      <td>...</td>\n",
       "      <td>...</td>\n",
       "      <td>...</td>\n",
       "      <td>...</td>\n",
       "      <td>...</td>\n",
       "      <td>...</td>\n",
       "      <td>...</td>\n",
       "    </tr>\n",
       "    <tr>\n",
       "      <th>1139</th>\n",
       "      <td>1140</td>\n",
       "      <td>175000072</td>\n",
       "      <td>DIABLO SF MINT &amp; CREAM SWEETS 75G #SWT-075-MNT...</td>\n",
       "      <td>74.0</td>\n",
       "      <td>5060309490242</td>\n",
       "      <td>Sugar free</td>\n",
       "      <td>DIABLO</td>\n",
       "      <td>EACH</td>\n",
       "      <td>NaN</td>\n",
       "      <td>232.97</td>\n",
       "      <td>...</td>\n",
       "      <td>516.38</td>\n",
       "      <td>479.2</td>\n",
       "      <td>449.25</td>\n",
       "      <td>449.25</td>\n",
       "      <td>551.08</td>\n",
       "      <td>449.25</td>\n",
       "      <td>455.24</td>\n",
       "      <td>479.2</td>\n",
       "      <td>509.15</td>\n",
       "      <td>599</td>\n",
       "    </tr>\n",
       "    <tr>\n",
       "      <th>1140</th>\n",
       "      <td>1141</td>\n",
       "      <td>175000089</td>\n",
       "      <td>DIABLO SF GUMMY BEARS 75G #05006AA</td>\n",
       "      <td>31.0</td>\n",
       "      <td>5060309490761</td>\n",
       "      <td>Sugar free</td>\n",
       "      <td>DIABLO</td>\n",
       "      <td>EACH</td>\n",
       "      <td>NaN</td>\n",
       "      <td>256.14</td>\n",
       "      <td>...</td>\n",
       "      <td>NaN</td>\n",
       "      <td>439.2</td>\n",
       "      <td>411.75</td>\n",
       "      <td>411.75</td>\n",
       "      <td>505.08</td>\n",
       "      <td>411.75</td>\n",
       "      <td>417.24</td>\n",
       "      <td>439.2</td>\n",
       "      <td>466.65</td>\n",
       "      <td>549</td>\n",
       "    </tr>\n",
       "    <tr>\n",
       "      <th>1141</th>\n",
       "      <td>1142</td>\n",
       "      <td>175000090</td>\n",
       "      <td>DIABLO SF COLA BOTTLES 75G #05007AA</td>\n",
       "      <td>399.0</td>\n",
       "      <td>5060309490778</td>\n",
       "      <td>Sugar free</td>\n",
       "      <td>DIABLO</td>\n",
       "      <td>EACH</td>\n",
       "      <td>NaN</td>\n",
       "      <td>395.56</td>\n",
       "      <td>...</td>\n",
       "      <td>NaN</td>\n",
       "      <td>439.2</td>\n",
       "      <td>411.75</td>\n",
       "      <td>411.75</td>\n",
       "      <td>505.08</td>\n",
       "      <td>411.75</td>\n",
       "      <td>417.24</td>\n",
       "      <td>439.2</td>\n",
       "      <td>466.65</td>\n",
       "      <td>549</td>\n",
       "    </tr>\n",
       "    <tr>\n",
       "      <th>1142</th>\n",
       "      <td>1143</td>\n",
       "      <td>175000091</td>\n",
       "      <td>DIABLO SF GUMMY DROPS 75G #05008AA</td>\n",
       "      <td>309.0</td>\n",
       "      <td>5060309490785</td>\n",
       "      <td>Sugar free</td>\n",
       "      <td>DIABLO</td>\n",
       "      <td>EACH</td>\n",
       "      <td>NaN</td>\n",
       "      <td>264.10</td>\n",
       "      <td>...</td>\n",
       "      <td>NaN</td>\n",
       "      <td>439.2</td>\n",
       "      <td>411.75</td>\n",
       "      <td>411.75</td>\n",
       "      <td>505.08</td>\n",
       "      <td>411.75</td>\n",
       "      <td>417.24</td>\n",
       "      <td>439.2</td>\n",
       "      <td>466.65</td>\n",
       "      <td>549</td>\n",
       "    </tr>\n",
       "    <tr>\n",
       "      <th>1143</th>\n",
       "      <td>1144</td>\n",
       "      <td>175000101</td>\n",
       "      <td>DEBRON MARSH MALLOWS 75GM #2060</td>\n",
       "      <td>128.0</td>\n",
       "      <td>8712514920607</td>\n",
       "      <td>Sugar free</td>\n",
       "      <td>DEBRON</td>\n",
       "      <td>EACH</td>\n",
       "      <td>NaN</td>\n",
       "      <td>435.20</td>\n",
       "      <td>...</td>\n",
       "      <td>499.14</td>\n",
       "      <td>463.2</td>\n",
       "      <td>434.25</td>\n",
       "      <td>434.25</td>\n",
       "      <td>532.68</td>\n",
       "      <td>434.25</td>\n",
       "      <td>440.04</td>\n",
       "      <td>463.2</td>\n",
       "      <td>492.15</td>\n",
       "      <td>579</td>\n",
       "    </tr>\n",
       "  </tbody>\n",
       "</table>\n",
       "<p>1144 rows × 25 columns</p>\n",
       "</div>"
      ],
      "text/plain": [
       "         #   Item No.                                   Item Description  \\\n",
       "0        1  100000036  DR BRON M SOAP ORG LIQ BABY MILD 8OZ/237ML OLBA08   \n",
       "1        2  100000037  ECOVER DELICATE DET. WOOL & SILK LAUNDRY 750ML...   \n",
       "2        3  100000038       ECOVER LAUNDRY LIQUID UNIVERSAL 1LTR#4005379   \n",
       "3        4  101000037       ELLA'S KITCHEN ORG APPLES+BANANAS 120G#EK016   \n",
       "4        5  101000038  ELLA'S KITCHEN ORG BANANA APPLE + BLUEBERRY BA...   \n",
       "...    ...        ...                                                ...   \n",
       "1139  1140  175000072  DIABLO SF MINT & CREAM SWEETS 75G #SWT-075-MNT...   \n",
       "1140  1141  175000089                 DIABLO SF GUMMY BEARS 75G #05006AA   \n",
       "1141  1142  175000090                DIABLO SF COLA BOTTLES 75G #05007AA   \n",
       "1142  1143  175000091                 DIABLO SF GUMMY DROPS 75G #05008AA   \n",
       "1143  1144  175000101                    DEBRON MARSH MALLOWS 75GM #2060   \n",
       "\n",
       "      In Stock       Bar Code  Item Group    Manufacturer Inventory UoM  \\\n",
       "0        119.0    18787772089   Baby Care    DR BRONNER'S          EACH   \n",
       "1          NaN  5412533419566   Baby Care          ECOVER          EACH   \n",
       "2         99.0  5412533420302   Baby Care          ECOVER          EACH   \n",
       "3        114.0  5060107330276  Baby foods  ELLA'S KITCHEN          EACH   \n",
       "4        131.0  5060503502260  Baby foods  ELLA'S KITCHEN          EACH   \n",
       "...        ...            ...         ...             ...           ...   \n",
       "1139      74.0  5060309490242  Sugar free          DIABLO          EACH   \n",
       "1140      31.0  5060309490761  Sugar free          DIABLO          EACH   \n",
       "1141     399.0  5060309490778  Sugar free          DIABLO          EACH   \n",
       "1142     309.0  5060309490785  Sugar free          DIABLO          EACH   \n",
       "1143     128.0  8712514920607  Sugar free          DEBRON          EACH   \n",
       "\n",
       "      Last Eval. Price  Last Purchase Price  ...  Exports Ex. VAT  \\\n",
       "0                  NaN              1188.26  ...          1292.24   \n",
       "1                  NaN                  NaN  ...              NaN   \n",
       "2                  NaN              2060.25  ...          2240.52   \n",
       "3                  NaN               193.90  ...           430.17   \n",
       "4                  NaN               395.56  ...              NaN   \n",
       "...                ...                  ...  ...              ...   \n",
       "1139               NaN               232.97  ...           516.38   \n",
       "1140               NaN               256.14  ...              NaN   \n",
       "1141               NaN               395.56  ...              NaN   \n",
       "1142               NaN               264.10  ...              NaN   \n",
       "1143               NaN               435.20  ...           499.14   \n",
       "\n",
       "      Hotels Inc VAT  Key Account Inc VAT  Naivas Wholesale Inc VAT  \\\n",
       "0             1199.2              1124.25                   1124.25   \n",
       "1              799.2               749.25                    749.25   \n",
       "2             2079.2              1949.25                   1949.25   \n",
       "3              399.2               374.25                    374.25   \n",
       "4              399.2               374.25                    374.25   \n",
       "...              ...                  ...                       ...   \n",
       "1139           479.2               449.25                    449.25   \n",
       "1140           439.2               411.75                    411.75   \n",
       "1141           439.2               411.75                    411.75   \n",
       "1142           439.2               411.75                    411.75   \n",
       "1143           463.2               434.25                    434.25   \n",
       "\n",
       "      Carrefour Inc VAT  Chandarana Inc VAT  QuickMart Inc VAT  \\\n",
       "0               1379.08             1124.25            1139.24   \n",
       "1                919.08              749.25             759.24   \n",
       "2               2391.08             1949.25            1975.24   \n",
       "3                459.08              374.25             379.24   \n",
       "4                459.08              374.25             379.24   \n",
       "...                 ...                 ...                ...   \n",
       "1139             551.08              449.25             455.24   \n",
       "1140             505.08              411.75             417.24   \n",
       "1141             505.08              411.75             417.24   \n",
       "1142             505.08              411.75             417.24   \n",
       "1143             532.68              434.25             440.04   \n",
       "\n",
       "      Shoprite Inc VAT  Rubis Energy Inc VAT  Mega Wholesaler Inc VAT  \n",
       "0               1199.2               1274.15                     1499  \n",
       "1                799.2                849.15                      999  \n",
       "2               2079.2               2209.15                     2599  \n",
       "3                399.2                424.15                      499  \n",
       "4                399.2                424.15                      499  \n",
       "...                ...                   ...                      ...  \n",
       "1139             479.2                509.15                      599  \n",
       "1140             439.2                466.65                      549  \n",
       "1141             439.2                466.65                      549  \n",
       "1142             439.2                466.65                      549  \n",
       "1143             463.2                492.15                      579  \n",
       "\n",
       "[1144 rows x 25 columns]"
      ]
     },
     "execution_count": 40,
     "metadata": {},
     "output_type": "execute_result"
    }
   ],
   "source": [
    "wholesale_items"
   ]
  },
  {
   "cell_type": "code",
   "execution_count": 41,
   "id": "d4dccf15",
   "metadata": {},
   "outputs": [],
   "source": [
    "wholesale_items['Type'] ='Wholesale'"
   ]
  },
  {
   "cell_type": "code",
   "execution_count": 42,
   "id": "a04a306f",
   "metadata": {},
   "outputs": [],
   "source": [
    "wholesale_items2=wholesale_items[['Item No.', 'Type']].copy()"
   ]
  },
  {
   "cell_type": "code",
   "execution_count": 43,
   "id": "f598c12d",
   "metadata": {},
   "outputs": [],
   "source": [
    "wholesale_items2['Item No.'] = wholesale_items2['Item No.'].astype(str)"
   ]
  },
  {
   "cell_type": "code",
   "execution_count": 44,
   "id": "cc123479",
   "metadata": {},
   "outputs": [],
   "source": [
    "final2=pd.merge(left=final_table, right = wholesale_items2, on=['Item No.'], how='left')"
   ]
  },
  {
   "cell_type": "code",
   "execution_count": 45,
   "id": "92ad469b",
   "metadata": {},
   "outputs": [],
   "source": [
    "final3=final2[final2.Type=='Wholesale']"
   ]
  },
  {
   "cell_type": "code",
   "execution_count": null,
   "id": "bb033315",
   "metadata": {
    "scrolled": true
   },
   "outputs": [],
   "source": [
    "final3.to_excel('Rationalization_Wholesale2.xlsx', index=False)"
   ]
  },
  {
   "cell_type": "markdown",
   "id": "4288c2d1",
   "metadata": {},
   "source": [
    "### TOP 80 BOTTOM 20"
   ]
  },
  {
   "cell_type": "code",
   "execution_count": 46,
   "id": "9e57d73e",
   "metadata": {},
   "outputs": [],
   "source": [
    "top80bottom20=pd.concat([all_items_monthwise.iloc[:, :6], all_items_monthwise.loc[:, 'month32023sales':]], axis=1)"
   ]
  },
  {
   "cell_type": "code",
   "execution_count": 47,
   "id": "0e6076ad",
   "metadata": {},
   "outputs": [],
   "source": [
    "top80bottom20['TotalSales'] = top80bottom20[[i for i in top80bottom20.columns if 'sales' in i]].fillna(0).sum(axis=1)"
   ]
  },
  {
   "cell_type": "code",
   "execution_count": 53,
   "id": "18bcdd1a",
   "metadata": {},
   "outputs": [],
   "source": [
    "short=top80bottom20[['Item No.', 'Brand', 'Department', 'TotalSales']]"
   ]
  },
  {
   "cell_type": "code",
   "execution_count": 54,
   "id": "085862cc",
   "metadata": {},
   "outputs": [],
   "source": [
    "short2=short.groupby(['Item No.', 'Brand', 'Department']).sum()"
   ]
  },
  {
   "cell_type": "code",
   "execution_count": 55,
   "id": "656ff13e",
   "metadata": {},
   "outputs": [
    {
     "data": {
      "text/plain": [
       "3766858398.91"
      ]
     },
     "execution_count": 55,
     "metadata": {},
     "output_type": "execute_result"
    }
   ],
   "source": [
    "short2.TotalSales.sum()"
   ]
  },
  {
   "cell_type": "code",
   "execution_count": 56,
   "id": "12434209",
   "metadata": {},
   "outputs": [
    {
     "data": {
      "text/plain": [
       "3766858398.909999"
      ]
     },
     "execution_count": 56,
     "metadata": {},
     "output_type": "execute_result"
    }
   ],
   "source": [
    "short['TotalSales'].sum()"
   ]
  },
  {
   "cell_type": "code",
   "execution_count": 57,
   "id": "c104ecf8",
   "metadata": {},
   "outputs": [],
   "source": [
    "short2.reset_index(inplace=True)"
   ]
  },
  {
   "cell_type": "code",
   "execution_count": 58,
   "id": "77e52e1b",
   "metadata": {},
   "outputs": [],
   "source": [
    "# short2short2.TotalSales>0"
   ]
  },
  {
   "cell_type": "code",
   "execution_count": 59,
   "id": "295c03f0",
   "metadata": {},
   "outputs": [],
   "source": [
    "short3=short2.sort_values(by='TotalSales', ascending =False).copy()"
   ]
  },
  {
   "cell_type": "code",
   "execution_count": 60,
   "id": "11546756",
   "metadata": {},
   "outputs": [
    {
     "ename": "SyntaxError",
     "evalue": "incomplete input (3741784543.py, line 3)",
     "output_type": "error",
     "traceback": [
      "\u001b[1;36m  Cell \u001b[1;32mIn[60], line 3\u001b[1;36m\u001b[0m\n\u001b[1;33m    \u001b[0m\n\u001b[1;37m    ^\u001b[0m\n\u001b[1;31mSyntaxError\u001b[0m\u001b[1;31m:\u001b[0m incomplete input\n"
     ]
    }
   ],
   "source": [
    "def item_rank_top80_bottom20(x):\n",
    "    \n",
    "    "
   ]
  },
  {
   "cell_type": "code",
   "execution_count": 61,
   "id": "dbab4768",
   "metadata": {},
   "outputs": [],
   "source": [
    "short3['Rank'] = short3['TotalSales'].rank(ascending=False)"
   ]
  },
  {
   "cell_type": "code",
   "execution_count": 62,
   "id": "39a9c341",
   "metadata": {},
   "outputs": [],
   "source": [
    "item_desc=top80bottom20[['Item No.', 'Item Description']].drop_duplicates()"
   ]
  },
  {
   "cell_type": "code",
   "execution_count": 63,
   "id": "650c5b09",
   "metadata": {},
   "outputs": [],
   "source": [
    "item_desc_dict=dict(zip(item_desc['Item No.'].values, item_desc['Item Description'].values))"
   ]
  },
  {
   "cell_type": "code",
   "execution_count": 64,
   "id": "7ceef659",
   "metadata": {},
   "outputs": [],
   "source": [
    "short3['Top 80_Bottom 20']=short3['Rank'].apply(lambda x: 'Top 80' if x< 0.8*len(short3) else 'Bottom 20')"
   ]
  },
  {
   "cell_type": "code",
   "execution_count": 65,
   "id": "be03c633",
   "metadata": {},
   "outputs": [],
   "source": [
    "short3.insert(1, 'Item Description', short3['Item No.'].apply(lambda x: item_desc_dict[x]))"
   ]
  },
  {
   "cell_type": "code",
   "execution_count": 66,
   "id": "c37143b2",
   "metadata": {},
   "outputs": [
    {
     "data": {
      "text/html": [
       "<div>\n",
       "<style scoped>\n",
       "    .dataframe tbody tr th:only-of-type {\n",
       "        vertical-align: middle;\n",
       "    }\n",
       "\n",
       "    .dataframe tbody tr th {\n",
       "        vertical-align: top;\n",
       "    }\n",
       "\n",
       "    .dataframe thead th {\n",
       "        text-align: right;\n",
       "    }\n",
       "</style>\n",
       "<table border=\"1\" class=\"dataframe\">\n",
       "  <thead>\n",
       "    <tr style=\"text-align: right;\">\n",
       "      <th></th>\n",
       "      <th>Item No.</th>\n",
       "      <th>Item Description</th>\n",
       "      <th>Brand</th>\n",
       "      <th>Department</th>\n",
       "      <th>TotalSales</th>\n",
       "      <th>Rank</th>\n",
       "      <th>Top 80_Bottom 20</th>\n",
       "    </tr>\n",
       "  </thead>\n",
       "  <tbody>\n",
       "    <tr>\n",
       "      <th>4595</th>\n",
       "      <td>153000137</td>\n",
       "      <td>SALAMA WHITE OATS(JMBO/SFST) 1KG</td>\n",
       "      <td>SALAMA</td>\n",
       "      <td>Packed Cereals</td>\n",
       "      <td>88292425.99</td>\n",
       "      <td>1.0</td>\n",
       "      <td>Top 80</td>\n",
       "    </tr>\n",
       "    <tr>\n",
       "      <th>7635</th>\n",
       "      <td>164000019</td>\n",
       "      <td>M/HARVEST CORNFLAKES 500G (VPBAG)</td>\n",
       "      <td>M/HARVEST CEREALS</td>\n",
       "      <td>M/harvest</td>\n",
       "      <td>52394960.37</td>\n",
       "      <td>2.0</td>\n",
       "      <td>Top 80</td>\n",
       "    </tr>\n",
       "    <tr>\n",
       "      <th>1561</th>\n",
       "      <td>143000008</td>\n",
       "      <td>ALPRO ALMOND UNSWEETENED 1LTR</td>\n",
       "      <td>ALPRO</td>\n",
       "      <td>Dairy Alternatives</td>\n",
       "      <td>41047758.50</td>\n",
       "      <td>3.0</td>\n",
       "      <td>Top 80</td>\n",
       "    </tr>\n",
       "    <tr>\n",
       "      <th>6046</th>\n",
       "      <td>159000554</td>\n",
       "      <td>NATURES PLUS COLLAGEN PEPTIDES 294G</td>\n",
       "      <td>NATURES PLUS</td>\n",
       "      <td>Supplements&amp;Vitamins</td>\n",
       "      <td>31823721.85</td>\n",
       "      <td>4.0</td>\n",
       "      <td>Top 80</td>\n",
       "    </tr>\n",
       "    <tr>\n",
       "      <th>1560</th>\n",
       "      <td>143000007</td>\n",
       "      <td>ALPRO ALMOND ORIGINAL MILK 1LTR_#80005347</td>\n",
       "      <td>ALPRO</td>\n",
       "      <td>Dairy Alternatives</td>\n",
       "      <td>27537430.17</td>\n",
       "      <td>5.0</td>\n",
       "      <td>Top 80</td>\n",
       "    </tr>\n",
       "    <tr>\n",
       "      <th>...</th>\n",
       "      <td>...</td>\n",
       "      <td>...</td>\n",
       "      <td>...</td>\n",
       "      <td>...</td>\n",
       "      <td>...</td>\n",
       "      <td>...</td>\n",
       "      <td>...</td>\n",
       "    </tr>\n",
       "    <tr>\n",
       "      <th>6677</th>\n",
       "      <td>159001197</td>\n",
       "      <td>THOMPSON OMEGA 3 1000MG 100CT#THO19320</td>\n",
       "      <td>THOMPSON</td>\n",
       "      <td>Supplements&amp;Vitamins</td>\n",
       "      <td>-30082.03</td>\n",
       "      <td>14540.0</td>\n",
       "      <td>Bottom 20</td>\n",
       "    </tr>\n",
       "    <tr>\n",
       "      <th>6682</th>\n",
       "      <td>159001202</td>\n",
       "      <td>THOMPSON VIT E 265MG(400 IU) 30CT#THO19610</td>\n",
       "      <td>THOMPSON</td>\n",
       "      <td>Supplements&amp;Vitamins</td>\n",
       "      <td>-37601.92</td>\n",
       "      <td>14541.0</td>\n",
       "      <td>Bottom 20</td>\n",
       "    </tr>\n",
       "    <tr>\n",
       "      <th>4865</th>\n",
       "      <td>155000020</td>\n",
       "      <td>WHITE HOUSE ORG APPLE CIDER VINEGAR RENEW L-G-...</td>\n",
       "      <td>WHITE HOUSE</td>\n",
       "      <td>Processed Products</td>\n",
       "      <td>-47874.72</td>\n",
       "      <td>14542.0</td>\n",
       "      <td>Bottom 20</td>\n",
       "    </tr>\n",
       "    <tr>\n",
       "      <th>6676</th>\n",
       "      <td>159001196</td>\n",
       "      <td>THOMPSON MULT FORMULA FOR WOMEN 60CT#THO19546</td>\n",
       "      <td>THOMPSON</td>\n",
       "      <td>Supplements&amp;Vitamins</td>\n",
       "      <td>-77700.25</td>\n",
       "      <td>14543.0</td>\n",
       "      <td>Bottom 20</td>\n",
       "    </tr>\n",
       "    <tr>\n",
       "      <th>6671</th>\n",
       "      <td>159001191</td>\n",
       "      <td>THOMPSON IRON FREE ALL-IN-ONE MULTVIT 60CT#THO...</td>\n",
       "      <td>THOMPSON</td>\n",
       "      <td>Supplements&amp;Vitamins</td>\n",
       "      <td>-98800.42</td>\n",
       "      <td>14544.0</td>\n",
       "      <td>Bottom 20</td>\n",
       "    </tr>\n",
       "  </tbody>\n",
       "</table>\n",
       "<p>14544 rows × 7 columns</p>\n",
       "</div>"
      ],
      "text/plain": [
       "       Item No.                                   Item Description  \\\n",
       "4595  153000137                   SALAMA WHITE OATS(JMBO/SFST) 1KG   \n",
       "7635  164000019                  M/HARVEST CORNFLAKES 500G (VPBAG)   \n",
       "1561  143000008                      ALPRO ALMOND UNSWEETENED 1LTR   \n",
       "6046  159000554                NATURES PLUS COLLAGEN PEPTIDES 294G   \n",
       "1560  143000007          ALPRO ALMOND ORIGINAL MILK 1LTR_#80005347   \n",
       "...         ...                                                ...   \n",
       "6677  159001197             THOMPSON OMEGA 3 1000MG 100CT#THO19320   \n",
       "6682  159001202         THOMPSON VIT E 265MG(400 IU) 30CT#THO19610   \n",
       "4865  155000020  WHITE HOUSE ORG APPLE CIDER VINEGAR RENEW L-G-...   \n",
       "6676  159001196      THOMPSON MULT FORMULA FOR WOMEN 60CT#THO19546   \n",
       "6671  159001191  THOMPSON IRON FREE ALL-IN-ONE MULTVIT 60CT#THO...   \n",
       "\n",
       "                  Brand            Department   TotalSales     Rank  \\\n",
       "4595             SALAMA        Packed Cereals  88292425.99      1.0   \n",
       "7635  M/HARVEST CEREALS             M/harvest  52394960.37      2.0   \n",
       "1561              ALPRO    Dairy Alternatives  41047758.50      3.0   \n",
       "6046       NATURES PLUS  Supplements&Vitamins  31823721.85      4.0   \n",
       "1560              ALPRO    Dairy Alternatives  27537430.17      5.0   \n",
       "...                 ...                   ...          ...      ...   \n",
       "6677           THOMPSON  Supplements&Vitamins    -30082.03  14540.0   \n",
       "6682           THOMPSON  Supplements&Vitamins    -37601.92  14541.0   \n",
       "4865        WHITE HOUSE    Processed Products    -47874.72  14542.0   \n",
       "6676           THOMPSON  Supplements&Vitamins    -77700.25  14543.0   \n",
       "6671           THOMPSON  Supplements&Vitamins    -98800.42  14544.0   \n",
       "\n",
       "     Top 80_Bottom 20  \n",
       "4595           Top 80  \n",
       "7635           Top 80  \n",
       "1561           Top 80  \n",
       "6046           Top 80  \n",
       "1560           Top 80  \n",
       "...               ...  \n",
       "6677        Bottom 20  \n",
       "6682        Bottom 20  \n",
       "4865        Bottom 20  \n",
       "6676        Bottom 20  \n",
       "6671        Bottom 20  \n",
       "\n",
       "[14544 rows x 7 columns]"
      ]
     },
     "execution_count": 66,
     "metadata": {},
     "output_type": "execute_result"
    }
   ],
   "source": [
    "short3"
   ]
  },
  {
   "cell_type": "code",
   "execution_count": 67,
   "id": "d4ca965a",
   "metadata": {},
   "outputs": [],
   "source": [
    "short4=short3.copy()"
   ]
  },
  {
   "cell_type": "code",
   "execution_count": 68,
   "id": "2765ca41",
   "metadata": {},
   "outputs": [],
   "source": [
    "short4.drop('Rank', axis=1, inplace=True)"
   ]
  },
  {
   "cell_type": "code",
   "execution_count": 69,
   "id": "32817614",
   "metadata": {},
   "outputs": [],
   "source": [
    "short5=short4[~short4.isin({ 'Department': ['Services', 'Assets & Consumables', 'Fixed Assets & Sundr']})['Department']]"
   ]
  },
  {
   "cell_type": "code",
   "execution_count": 70,
   "id": "4b0401ed",
   "metadata": {},
   "outputs": [],
   "source": [
    "# short5.to_excel('Top80_April.xlsx', index=False)"
   ]
  },
  {
   "cell_type": "code",
   "execution_count": 72,
   "id": "c32615d7",
   "metadata": {},
   "outputs": [],
   "source": [
    "positive=pd.read_excel(\"C:\\\\Users\\\\David.Wagura\\\\Desktop\\\\Automation Sandbox\\\\Positive Inventory\\\\Positive Inventory (Retail) 10.06.2024.xlsx\")"
   ]
  },
  {
   "cell_type": "code",
   "execution_count": 73,
   "id": "3817855c-7fed-482b-aaf9-f8694ff4bcb1",
   "metadata": {},
   "outputs": [],
   "source": [
    "positive2=positive.copy()"
   ]
  },
  {
   "cell_type": "code",
   "execution_count": 74,
   "id": "5b88e0e7-e55e-4a2d-8c26-fbfe59bf10dc",
   "metadata": {},
   "outputs": [
    {
     "data": {
      "text/html": [
       "<div>\n",
       "<style scoped>\n",
       "    .dataframe tbody tr th:only-of-type {\n",
       "        vertical-align: middle;\n",
       "    }\n",
       "\n",
       "    .dataframe tbody tr th {\n",
       "        vertical-align: top;\n",
       "    }\n",
       "\n",
       "    .dataframe thead th {\n",
       "        text-align: right;\n",
       "    }\n",
       "</style>\n",
       "<table border=\"1\" class=\"dataframe\">\n",
       "  <thead>\n",
       "    <tr style=\"text-align: right;\">\n",
       "      <th></th>\n",
       "      <th>Item No.</th>\n",
       "      <th>Item Description</th>\n",
       "      <th>Brand</th>\n",
       "      <th>Department</th>\n",
       "      <th>TotalSales</th>\n",
       "      <th>Top 80_Bottom 20</th>\n",
       "    </tr>\n",
       "  </thead>\n",
       "  <tbody>\n",
       "    <tr>\n",
       "      <th>4595</th>\n",
       "      <td>153000137</td>\n",
       "      <td>SALAMA WHITE OATS(JMBO/SFST) 1KG</td>\n",
       "      <td>SALAMA</td>\n",
       "      <td>Packed Cereals</td>\n",
       "      <td>88292425.99</td>\n",
       "      <td>Top 80</td>\n",
       "    </tr>\n",
       "    <tr>\n",
       "      <th>7635</th>\n",
       "      <td>164000019</td>\n",
       "      <td>M/HARVEST CORNFLAKES 500G (VPBAG)</td>\n",
       "      <td>M/HARVEST CEREALS</td>\n",
       "      <td>M/harvest</td>\n",
       "      <td>52394960.37</td>\n",
       "      <td>Top 80</td>\n",
       "    </tr>\n",
       "    <tr>\n",
       "      <th>1561</th>\n",
       "      <td>143000008</td>\n",
       "      <td>ALPRO ALMOND UNSWEETENED 1LTR</td>\n",
       "      <td>ALPRO</td>\n",
       "      <td>Dairy Alternatives</td>\n",
       "      <td>41047758.50</td>\n",
       "      <td>Top 80</td>\n",
       "    </tr>\n",
       "  </tbody>\n",
       "</table>\n",
       "</div>"
      ],
      "text/plain": [
       "       Item No.                   Item Description              Brand  \\\n",
       "4595  153000137   SALAMA WHITE OATS(JMBO/SFST) 1KG             SALAMA   \n",
       "7635  164000019  M/HARVEST CORNFLAKES 500G (VPBAG)  M/HARVEST CEREALS   \n",
       "1561  143000008      ALPRO ALMOND UNSWEETENED 1LTR              ALPRO   \n",
       "\n",
       "              Department   TotalSales Top 80_Bottom 20  \n",
       "4595      Packed Cereals  88292425.99           Top 80  \n",
       "7635           M/harvest  52394960.37           Top 80  \n",
       "1561  Dairy Alternatives  41047758.50           Top 80  "
      ]
     },
     "execution_count": 74,
     "metadata": {},
     "output_type": "execute_result"
    }
   ],
   "source": [
    "short5.head(3)"
   ]
  },
  {
   "cell_type": "code",
   "execution_count": 75,
   "id": "f6da9740-78bf-44a1-b286-a566c5d6b5a0",
   "metadata": {},
   "outputs": [],
   "source": [
    "cols_=['Item No.', 'Item Description', 'Department', 'Brand']+[i for i in positive2.columns if 'RETAIL' in i and 'OVERSTOCK' not in i and 'UPCOUNTRY' not in i]+ [i for i in positive2.columns if 'MAIN' in i]+ [i for i in positive2.columns if 'RECEIVING' in i]"
   ]
  },
  {
   "cell_type": "code",
   "execution_count": 76,
   "id": "4e80995e-67c4-4c8a-b50e-32916e011623",
   "metadata": {},
   "outputs": [],
   "source": [
    "instock_shops = positive2[cols_].loc[:, 'RETAIL NYALI': 'RETAIL KISUMU MEGA'].sum(axis=1)"
   ]
  },
  {
   "cell_type": "code",
   "execution_count": 77,
   "id": "7a506c94-37ea-42d8-aec1-b963575541ed",
   "metadata": {},
   "outputs": [],
   "source": [
    "count_of_spread=(positive2[cols_].loc[:, 'RETAIL NYALI': 'RETAIL KISUMU MEGA']>0).sum(axis=1)"
   ]
  },
  {
   "cell_type": "code",
   "execution_count": 78,
   "id": "bce763e5-d1ba-4db6-81b1-2cf32079ae00",
   "metadata": {},
   "outputs": [],
   "source": [
    "positive2['Instock Retail Shops'] = instock_shops\n",
    "positive2['Count Of Shops With Stocks'] = count_of_spread"
   ]
  },
  {
   "cell_type": "code",
   "execution_count": 79,
   "id": "9a400586-7335-49cc-a84d-1a4f3dcd3207",
   "metadata": {},
   "outputs": [],
   "source": [
    "positive3 = positive2[['Item No.', 'Item Description', 'Department', 'Brand', 'Instock Retail Shops', 'Count Of Shops With Stocks', 'RETAIL WAREHOUSE', 'MAIN WAREHOUSE', 'RECEIVING WAREHOUSE']].copy()"
   ]
  },
  {
   "cell_type": "code",
   "execution_count": 80,
   "id": "83bcc062-2fd0-4bcd-a0ca-7e370b8f060a",
   "metadata": {},
   "outputs": [],
   "source": [
    "positive3.rename({'RETAIL WAREHOUSE': 'Retail Warehouse', 'MAIN WAREHOUSE': 'Main Warehouse', 'RECEIVING WAREHOUSE': 'Receiving Warehouse'}, axis=1, inplace=True)"
   ]
  },
  {
   "cell_type": "code",
   "execution_count": 81,
   "id": "76774073-273b-4de0-8987-3c3d1059065e",
   "metadata": {},
   "outputs": [
    {
     "data": {
      "text/html": [
       "<div>\n",
       "<style scoped>\n",
       "    .dataframe tbody tr th:only-of-type {\n",
       "        vertical-align: middle;\n",
       "    }\n",
       "\n",
       "    .dataframe tbody tr th {\n",
       "        vertical-align: top;\n",
       "    }\n",
       "\n",
       "    .dataframe thead th {\n",
       "        text-align: right;\n",
       "    }\n",
       "</style>\n",
       "<table border=\"1\" class=\"dataframe\">\n",
       "  <thead>\n",
       "    <tr style=\"text-align: right;\">\n",
       "      <th></th>\n",
       "      <th>Item No.</th>\n",
       "      <th>Item Description</th>\n",
       "      <th>Department</th>\n",
       "      <th>Brand</th>\n",
       "      <th>Instock Retail Shops</th>\n",
       "      <th>Count Of Shops With Stocks</th>\n",
       "      <th>Retail Warehouse</th>\n",
       "      <th>Main Warehouse</th>\n",
       "      <th>Receiving Warehouse</th>\n",
       "    </tr>\n",
       "  </thead>\n",
       "  <tbody>\n",
       "    <tr>\n",
       "      <th>0</th>\n",
       "      <td>137000434</td>\n",
       "      <td>ON AMINO ENERGY BLUE RASPBERRY 270G #1132800</td>\n",
       "      <td>Sports Nutrition</td>\n",
       "      <td>OPTIMUM NUTRITION</td>\n",
       "      <td>32.0</td>\n",
       "      <td>19</td>\n",
       "      <td>0.0</td>\n",
       "      <td>0.0</td>\n",
       "      <td>0.0</td>\n",
       "    </tr>\n",
       "    <tr>\n",
       "      <th>1</th>\n",
       "      <td>100000047</td>\n",
       "      <td>HIPP ORG FOAMING HANDWASH 250ML #C003945</td>\n",
       "      <td>Baby Care</td>\n",
       "      <td>HIPP</td>\n",
       "      <td>23.0</td>\n",
       "      <td>12</td>\n",
       "      <td>0.0</td>\n",
       "      <td>0.0</td>\n",
       "      <td>0.0</td>\n",
       "    </tr>\n",
       "    <tr>\n",
       "      <th>2</th>\n",
       "      <td>167001748</td>\n",
       "      <td>YW MIRROR #AKA4862</td>\n",
       "      <td>Giftware</td>\n",
       "      <td>YIWU</td>\n",
       "      <td>0.0</td>\n",
       "      <td>0</td>\n",
       "      <td>0.0</td>\n",
       "      <td>0.0</td>\n",
       "      <td>0.0</td>\n",
       "    </tr>\n",
       "    <tr>\n",
       "      <th>3</th>\n",
       "      <td>167002556</td>\n",
       "      <td>SIL 6X7CM BUDDHA CANDLEPOT W/LID #FR1121</td>\n",
       "      <td>Giftware</td>\n",
       "      <td>SIL</td>\n",
       "      <td>4.0</td>\n",
       "      <td>2</td>\n",
       "      <td>0.0</td>\n",
       "      <td>0.0</td>\n",
       "      <td>0.0</td>\n",
       "    </tr>\n",
       "    <tr>\n",
       "      <th>4</th>\n",
       "      <td>175000079</td>\n",
       "      <td>VIAHEALTH CHOC HAZEL SPREAD WITH STEVIA-NAS 35...</td>\n",
       "      <td>Sugar free</td>\n",
       "      <td>VIAHEALTH</td>\n",
       "      <td>44.0</td>\n",
       "      <td>19</td>\n",
       "      <td>35.0</td>\n",
       "      <td>0.0</td>\n",
       "      <td>0.0</td>\n",
       "    </tr>\n",
       "    <tr>\n",
       "      <th>...</th>\n",
       "      <td>...</td>\n",
       "      <td>...</td>\n",
       "      <td>...</td>\n",
       "      <td>...</td>\n",
       "      <td>...</td>\n",
       "      <td>...</td>\n",
       "      <td>...</td>\n",
       "      <td>...</td>\n",
       "      <td>...</td>\n",
       "    </tr>\n",
       "    <tr>\n",
       "      <th>9317</th>\n",
       "      <td>167003447</td>\n",
       "      <td>YW  TRAY #KA6469</td>\n",
       "      <td>Giftware</td>\n",
       "      <td>ONEIN</td>\n",
       "      <td>6.0</td>\n",
       "      <td>1</td>\n",
       "      <td>0.0</td>\n",
       "      <td>0.0</td>\n",
       "      <td>0.0</td>\n",
       "    </tr>\n",
       "    <tr>\n",
       "      <th>9318</th>\n",
       "      <td>167002832</td>\n",
       "      <td>YW  GOLD RIM CLEAR FLOWER VASE  LARGE #KA-5741</td>\n",
       "      <td>Giftware</td>\n",
       "      <td>ONEIN</td>\n",
       "      <td>0.0</td>\n",
       "      <td>0</td>\n",
       "      <td>0.0</td>\n",
       "      <td>0.0</td>\n",
       "      <td>0.0</td>\n",
       "    </tr>\n",
       "    <tr>\n",
       "      <th>9319</th>\n",
       "      <td>159000383</td>\n",
       "      <td>IRWIN STEEL LIBIDO FOR MEN 75CT#IN056238</td>\n",
       "      <td>Supplements&amp;Vitamins</td>\n",
       "      <td>IRWIN NATURALS</td>\n",
       "      <td>96.0</td>\n",
       "      <td>32</td>\n",
       "      <td>56.0</td>\n",
       "      <td>0.0</td>\n",
       "      <td>0.0</td>\n",
       "    </tr>\n",
       "    <tr>\n",
       "      <th>9320</th>\n",
       "      <td>151001527</td>\n",
       "      <td>SOMERSET CLASSIC MILK COTTON LUXURY HAND WASH ...</td>\n",
       "      <td>Natural Cosmetics</td>\n",
       "      <td>SOMERSET</td>\n",
       "      <td>38.0</td>\n",
       "      <td>15</td>\n",
       "      <td>2.0</td>\n",
       "      <td>0.0</td>\n",
       "      <td>0.0</td>\n",
       "    </tr>\n",
       "    <tr>\n",
       "      <th>9321</th>\n",
       "      <td>167002092</td>\n",
       "      <td>YWGOLD CANDLE HOLDER KA-1423</td>\n",
       "      <td>Giftware</td>\n",
       "      <td>YIWU</td>\n",
       "      <td>1.0</td>\n",
       "      <td>1</td>\n",
       "      <td>0.0</td>\n",
       "      <td>0.0</td>\n",
       "      <td>0.0</td>\n",
       "    </tr>\n",
       "  </tbody>\n",
       "</table>\n",
       "<p>9322 rows × 9 columns</p>\n",
       "</div>"
      ],
      "text/plain": [
       "       Item No.                                   Item Description  \\\n",
       "0     137000434       ON AMINO ENERGY BLUE RASPBERRY 270G #1132800   \n",
       "1     100000047           HIPP ORG FOAMING HANDWASH 250ML #C003945   \n",
       "2     167001748                                 YW MIRROR #AKA4862   \n",
       "3     167002556           SIL 6X7CM BUDDHA CANDLEPOT W/LID #FR1121   \n",
       "4     175000079  VIAHEALTH CHOC HAZEL SPREAD WITH STEVIA-NAS 35...   \n",
       "...         ...                                                ...   \n",
       "9317  167003447                                   YW  TRAY #KA6469   \n",
       "9318  167002832     YW  GOLD RIM CLEAR FLOWER VASE  LARGE #KA-5741   \n",
       "9319  159000383           IRWIN STEEL LIBIDO FOR MEN 75CT#IN056238   \n",
       "9320  151001527  SOMERSET CLASSIC MILK COTTON LUXURY HAND WASH ...   \n",
       "9321  167002092                       YWGOLD CANDLE HOLDER KA-1423   \n",
       "\n",
       "                Department              Brand  Instock Retail Shops  \\\n",
       "0         Sports Nutrition  OPTIMUM NUTRITION                  32.0   \n",
       "1                Baby Care               HIPP                  23.0   \n",
       "2                 Giftware               YIWU                   0.0   \n",
       "3                 Giftware                SIL                   4.0   \n",
       "4               Sugar free          VIAHEALTH                  44.0   \n",
       "...                    ...                ...                   ...   \n",
       "9317              Giftware              ONEIN                   6.0   \n",
       "9318              Giftware              ONEIN                   0.0   \n",
       "9319  Supplements&Vitamins     IRWIN NATURALS                  96.0   \n",
       "9320     Natural Cosmetics           SOMERSET                  38.0   \n",
       "9321              Giftware               YIWU                   1.0   \n",
       "\n",
       "      Count Of Shops With Stocks  Retail Warehouse  Main Warehouse  \\\n",
       "0                             19               0.0             0.0   \n",
       "1                             12               0.0             0.0   \n",
       "2                              0               0.0             0.0   \n",
       "3                              2               0.0             0.0   \n",
       "4                             19              35.0             0.0   \n",
       "...                          ...               ...             ...   \n",
       "9317                           1               0.0             0.0   \n",
       "9318                           0               0.0             0.0   \n",
       "9319                          32              56.0             0.0   \n",
       "9320                          15               2.0             0.0   \n",
       "9321                           1               0.0             0.0   \n",
       "\n",
       "      Receiving Warehouse  \n",
       "0                     0.0  \n",
       "1                     0.0  \n",
       "2                     0.0  \n",
       "3                     0.0  \n",
       "4                     0.0  \n",
       "...                   ...  \n",
       "9317                  0.0  \n",
       "9318                  0.0  \n",
       "9319                  0.0  \n",
       "9320                  0.0  \n",
       "9321                  0.0  \n",
       "\n",
       "[9322 rows x 9 columns]"
      ]
     },
     "execution_count": 81,
     "metadata": {},
     "output_type": "execute_result"
    }
   ],
   "source": [
    "positive3"
   ]
  },
  {
   "cell_type": "code",
   "execution_count": 82,
   "id": "bdca0dec-29a0-47ba-8734-6590500f4b75",
   "metadata": {},
   "outputs": [],
   "source": [
    "positive3['Item No.'] = positive3 ['Item No.'].astype(str)"
   ]
  },
  {
   "cell_type": "code",
   "execution_count": 83,
   "id": "6011f53e-c45b-45d4-91fa-b5b9677c04ef",
   "metadata": {},
   "outputs": [],
   "source": [
    "short6 = pd.merge (left = short5, right = positive3 [['Item No.', 'Instock Retail Shops', 'Count Of Shops With Stocks', 'Retail Warehouse', 'Main Warehouse', 'Receiving Warehouse']], how = 'left', on=['Item No.'])"
   ]
  },
  {
   "cell_type": "code",
   "execution_count": 84,
   "id": "b4128cbc-1c8d-45ad-a2a0-8a40e0351cde",
   "metadata": {},
   "outputs": [],
   "source": [
    "short6.to_excel('Top 80 June.xlsx', index=False)"
   ]
  },
  {
   "cell_type": "code",
   "execution_count": null,
   "id": "7a605186-f7f2-47cd-9372-093882c582c6",
   "metadata": {},
   "outputs": [],
   "source": [
    "short6"
   ]
  },
  {
   "cell_type": "code",
   "execution_count": null,
   "id": "98efe50c-eca2-4e69-86c8-210df6b001cb",
   "metadata": {},
   "outputs": [],
   "source": []
  }
 ],
 "metadata": {
  "kernelspec": {
   "display_name": "Python 3 (ipykernel)",
   "language": "python",
   "name": "python3"
  },
  "language_info": {
   "codemirror_mode": {
    "name": "ipython",
    "version": 3
   },
   "file_extension": ".py",
   "mimetype": "text/x-python",
   "name": "python",
   "nbconvert_exporter": "python",
   "pygments_lexer": "ipython3",
   "version": "3.11.7"
  }
 },
 "nbformat": 4,
 "nbformat_minor": 5
}
